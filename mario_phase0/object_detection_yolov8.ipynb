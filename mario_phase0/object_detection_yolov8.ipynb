{
 "cells": [
  {
   "cell_type": "code",
   "execution_count": null,
   "id": "initial_id",
   "metadata": {
    "collapsed": true
   },
   "outputs": [],
   "source": [
    "# !nvidia-smi"
   ]
  },
  {
   "cell_type": "code",
   "outputs": [
    {
     "name": "stdout",
     "output_type": "stream",
     "text": [
      "True\n"
     ]
    }
   ],
   "source": [
    "import torch\n",
    "print(torch.backends.mps.is_available())"
   ],
   "metadata": {
    "collapsed": false,
    "ExecuteTime": {
     "end_time": "2024-01-18T08:56:15.346744Z",
     "start_time": "2024-01-18T08:56:14.188723Z"
    }
   },
   "id": "e0bc2bb405f9e473",
   "execution_count": 3
  },
  {
   "cell_type": "code",
   "outputs": [
    {
     "name": "stdout",
     "output_type": "stream",
     "text": [
      "Collecting ultralytics\r\n",
      "  Downloading ultralytics-8.1.2-py3-none-any.whl.metadata (40 kB)\r\n",
      "\u001B[2K     \u001B[90m━━━━━━━━━━━━━━━━━━━━━━━━━━━━━━━━━━━━━━━━\u001B[0m \u001B[32m40.2/40.2 kB\u001B[0m \u001B[31m1.5 MB/s\u001B[0m eta \u001B[36m0:00:00\u001B[0m\r\n",
      "\u001B[?25hRequirement already satisfied: matplotlib>=3.3.0 in /Users/maximvandecasteele/anaconda3/envs/marioTest/lib/python3.11/site-packages (from ultralytics) (3.7.2)\r\n",
      "Requirement already satisfied: numpy>=1.22.2 in /Users/maximvandecasteele/anaconda3/envs/marioTest/lib/python3.11/site-packages (from ultralytics) (1.23.5)\r\n",
      "Requirement already satisfied: opencv-python>=4.6.0 in /Users/maximvandecasteele/anaconda3/envs/marioTest/lib/python3.11/site-packages (from ultralytics) (4.8.1.78)\r\n",
      "Requirement already satisfied: pillow>=7.1.2 in /Users/maximvandecasteele/anaconda3/envs/marioTest/lib/python3.11/site-packages (from ultralytics) (10.0.1)\r\n",
      "Requirement already satisfied: pyyaml>=5.3.1 in /Users/maximvandecasteele/anaconda3/envs/marioTest/lib/python3.11/site-packages (from ultralytics) (6.0.1)\r\n",
      "Requirement already satisfied: requests>=2.23.0 in /Users/maximvandecasteele/anaconda3/envs/marioTest/lib/python3.11/site-packages (from ultralytics) (2.28.1)\r\n",
      "Requirement already satisfied: scipy>=1.4.1 in /Users/maximvandecasteele/anaconda3/envs/marioTest/lib/python3.11/site-packages (from ultralytics) (1.11.4)\r\n",
      "Requirement already satisfied: torch>=1.8.0 in /Users/maximvandecasteele/anaconda3/envs/marioTest/lib/python3.11/site-packages (from ultralytics) (2.1.2)\r\n",
      "Collecting torchvision>=0.9.0 (from ultralytics)\r\n",
      "  Downloading torchvision-0.16.2-cp311-cp311-macosx_11_0_arm64.whl.metadata (6.6 kB)\r\n",
      "Requirement already satisfied: tqdm>=4.64.0 in /Users/maximvandecasteele/anaconda3/envs/marioTest/lib/python3.11/site-packages (from ultralytics) (4.66.1)\r\n",
      "Requirement already satisfied: psutil in /Users/maximvandecasteele/anaconda3/envs/marioTest/lib/python3.11/site-packages (from ultralytics) (5.9.0)\r\n",
      "Collecting py-cpuinfo (from ultralytics)\r\n",
      "  Downloading py_cpuinfo-9.0.0-py3-none-any.whl (22 kB)\r\n",
      "Collecting thop>=0.1.1 (from ultralytics)\r\n",
      "  Downloading thop-0.1.1.post2209072238-py3-none-any.whl (15 kB)\r\n",
      "Requirement already satisfied: pandas>=1.1.4 in /Users/maximvandecasteele/anaconda3/envs/marioTest/lib/python3.11/site-packages (from ultralytics) (2.1.4)\r\n",
      "Collecting seaborn>=0.11.0 (from ultralytics)\r\n",
      "  Downloading seaborn-0.13.1-py3-none-any.whl.metadata (5.4 kB)\r\n",
      "Requirement already satisfied: contourpy>=1.0.1 in /Users/maximvandecasteele/anaconda3/envs/marioTest/lib/python3.11/site-packages (from matplotlib>=3.3.0->ultralytics) (1.2.0)\r\n",
      "Requirement already satisfied: cycler>=0.10 in /Users/maximvandecasteele/anaconda3/envs/marioTest/lib/python3.11/site-packages (from matplotlib>=3.3.0->ultralytics) (0.11.0)\r\n",
      "Requirement already satisfied: fonttools>=4.22.0 in /Users/maximvandecasteele/anaconda3/envs/marioTest/lib/python3.11/site-packages (from matplotlib>=3.3.0->ultralytics) (4.25.0)\r\n",
      "Requirement already satisfied: kiwisolver>=1.0.1 in /Users/maximvandecasteele/anaconda3/envs/marioTest/lib/python3.11/site-packages (from matplotlib>=3.3.0->ultralytics) (1.4.4)\r\n",
      "Requirement already satisfied: packaging>=20.0 in /Users/maximvandecasteele/anaconda3/envs/marioTest/lib/python3.11/site-packages (from matplotlib>=3.3.0->ultralytics) (23.1)\r\n",
      "Requirement already satisfied: pyparsing<3.1,>=2.3.1 in /Users/maximvandecasteele/anaconda3/envs/marioTest/lib/python3.11/site-packages (from matplotlib>=3.3.0->ultralytics) (3.0.9)\r\n",
      "Requirement already satisfied: python-dateutil>=2.7 in /Users/maximvandecasteele/anaconda3/envs/marioTest/lib/python3.11/site-packages (from matplotlib>=3.3.0->ultralytics) (2.8.2)\r\n",
      "Requirement already satisfied: pytz>=2020.1 in /Users/maximvandecasteele/anaconda3/envs/marioTest/lib/python3.11/site-packages (from pandas>=1.1.4->ultralytics) (2023.3.post1)\r\n",
      "Requirement already satisfied: tzdata>=2022.1 in /Users/maximvandecasteele/anaconda3/envs/marioTest/lib/python3.11/site-packages (from pandas>=1.1.4->ultralytics) (2023.3)\r\n",
      "Requirement already satisfied: charset-normalizer<3,>=2 in /Users/maximvandecasteele/anaconda3/envs/marioTest/lib/python3.11/site-packages (from requests>=2.23.0->ultralytics) (2.0.4)\r\n",
      "Requirement already satisfied: idna<4,>=2.5 in /Users/maximvandecasteele/anaconda3/envs/marioTest/lib/python3.11/site-packages (from requests>=2.23.0->ultralytics) (3.4)\r\n",
      "Requirement already satisfied: urllib3<1.27,>=1.21.1 in /Users/maximvandecasteele/anaconda3/envs/marioTest/lib/python3.11/site-packages (from requests>=2.23.0->ultralytics) (1.26.18)\r\n",
      "Requirement already satisfied: certifi>=2017.4.17 in /Users/maximvandecasteele/anaconda3/envs/marioTest/lib/python3.11/site-packages (from requests>=2.23.0->ultralytics) (2023.11.17)\r\n",
      "Requirement already satisfied: filelock in /Users/maximvandecasteele/anaconda3/envs/marioTest/lib/python3.11/site-packages (from torch>=1.8.0->ultralytics) (3.9.0)\r\n",
      "Requirement already satisfied: typing-extensions in /Users/maximvandecasteele/anaconda3/envs/marioTest/lib/python3.11/site-packages (from torch>=1.8.0->ultralytics) (4.4.0)\r\n",
      "Requirement already satisfied: sympy in /Users/maximvandecasteele/anaconda3/envs/marioTest/lib/python3.11/site-packages (from torch>=1.8.0->ultralytics) (1.11.1)\r\n",
      "Requirement already satisfied: networkx in /Users/maximvandecasteele/anaconda3/envs/marioTest/lib/python3.11/site-packages (from torch>=1.8.0->ultralytics) (3.2.1)\r\n",
      "Requirement already satisfied: jinja2 in /Users/maximvandecasteele/anaconda3/envs/marioTest/lib/python3.11/site-packages (from torch>=1.8.0->ultralytics) (3.1.2)\r\n",
      "Requirement already satisfied: fsspec in /Users/maximvandecasteele/anaconda3/envs/marioTest/lib/python3.11/site-packages (from torch>=1.8.0->ultralytics) (2023.4.0)\r\n",
      "Requirement already satisfied: six>=1.5 in /Users/maximvandecasteele/anaconda3/envs/marioTest/lib/python3.11/site-packages (from python-dateutil>=2.7->matplotlib>=3.3.0->ultralytics) (1.16.0)\r\n",
      "Requirement already satisfied: MarkupSafe>=2.0 in /Users/maximvandecasteele/anaconda3/envs/marioTest/lib/python3.11/site-packages (from jinja2->torch>=1.8.0->ultralytics) (2.1.1)\r\n",
      "Requirement already satisfied: mpmath>=0.19 in /Users/maximvandecasteele/anaconda3/envs/marioTest/lib/python3.11/site-packages (from sympy->torch>=1.8.0->ultralytics) (1.2.1)\r\n",
      "Downloading ultralytics-8.1.2-py3-none-any.whl (699 kB)\r\n",
      "\u001B[2K   \u001B[90m━━━━━━━━━━━━━━━━━━━━━━━━━━━━━━━━━━━━━━━━\u001B[0m \u001B[32m699.7/699.7 kB\u001B[0m \u001B[31m7.0 MB/s\u001B[0m eta \u001B[36m0:00:00\u001B[0ma \u001B[36m0:00:01\u001B[0m\r\n",
      "\u001B[?25hDownloading seaborn-0.13.1-py3-none-any.whl (294 kB)\r\n",
      "\u001B[2K   \u001B[90m━━━━━━━━━━━━━━━━━━━━━━━━━━━━━━━━━━━━━━━━\u001B[0m \u001B[32m294.8/294.8 kB\u001B[0m \u001B[31m8.0 MB/s\u001B[0m eta \u001B[36m0:00:00\u001B[0m\r\n",
      "\u001B[?25hDownloading torchvision-0.16.2-cp311-cp311-macosx_11_0_arm64.whl (1.5 MB)\r\n",
      "\u001B[2K   \u001B[90m━━━━━━━━━━━━━━━━━━━━━━━━━━━━━━━━━━━━━━━━\u001B[0m \u001B[32m1.5/1.5 MB\u001B[0m \u001B[31m10.4 MB/s\u001B[0m eta \u001B[36m0:00:00\u001B[0m00:01\u001B[0m00:01\u001B[0m\r\n",
      "\u001B[?25hInstalling collected packages: py-cpuinfo, torchvision, thop, seaborn, ultralytics\r\n",
      "Successfully installed py-cpuinfo-9.0.0 seaborn-0.13.1 thop-0.1.1.post2209072238 torchvision-0.16.2 ultralytics-8.1.2\r\n"
     ]
    }
   ],
   "source": [
    "# !pip install ultralytics"
   ],
   "metadata": {
    "collapsed": false,
    "ExecuteTime": {
     "end_time": "2024-01-18T07:52:01.788328Z",
     "start_time": "2024-01-18T07:51:59.022370Z"
    }
   },
   "id": "89fba2181b323973",
   "execution_count": 1
  },
  {
   "cell_type": "markdown",
   "source": [
    "# Install YOLO"
   ],
   "metadata": {
    "collapsed": false
   },
   "id": "8bbafcb42e29a5be"
  },
  {
   "cell_type": "code",
   "outputs": [],
   "source": [
    "from ultralytics import YOLO\n",
    "import os\n",
    "from IPython.display import display, Image\n",
    "from IPython import display\n",
    "display.clear_output()"
   ],
   "metadata": {
    "collapsed": false
   },
   "id": "9f41e1d295f87b96",
   "execution_count": 5
  },
  {
   "cell_type": "markdown",
   "source": [
    "# Train YOLOv8 Model on Custom Dataset"
   ],
   "metadata": {
    "collapsed": false
   },
   "id": "a626433b5a4b6229"
  },
  {
   "cell_type": "code",
   "outputs": [
    {
     "name": "stdout",
     "output_type": "stream",
     "text": [
      "Requirement already satisfied: roboflow in /Users/maximvandecasteele/anaconda3/envs/marioTest/lib/python3.11/site-packages (1.1.16)\r\n",
      "Requirement already satisfied: certifi==2023.7.22 in /Users/maximvandecasteele/anaconda3/envs/marioTest/lib/python3.11/site-packages (from roboflow) (2023.7.22)\r\n",
      "Requirement already satisfied: chardet==4.0.0 in /Users/maximvandecasteele/anaconda3/envs/marioTest/lib/python3.11/site-packages (from roboflow) (4.0.0)\r\n",
      "Requirement already satisfied: cycler==0.10.0 in /Users/maximvandecasteele/anaconda3/envs/marioTest/lib/python3.11/site-packages (from roboflow) (0.10.0)\r\n",
      "Requirement already satisfied: idna==2.10 in /Users/maximvandecasteele/anaconda3/envs/marioTest/lib/python3.11/site-packages (from roboflow) (2.10)\r\n",
      "Requirement already satisfied: kiwisolver>=1.3.1 in /Users/maximvandecasteele/anaconda3/envs/marioTest/lib/python3.11/site-packages (from roboflow) (1.4.4)\r\n",
      "Requirement already satisfied: matplotlib in /Users/maximvandecasteele/anaconda3/envs/marioTest/lib/python3.11/site-packages (from roboflow) (3.7.2)\r\n",
      "Requirement already satisfied: numpy>=1.18.5 in /Users/maximvandecasteele/anaconda3/envs/marioTest/lib/python3.11/site-packages (from roboflow) (1.23.5)\r\n",
      "Requirement already satisfied: opencv-python-headless==4.8.0.74 in /Users/maximvandecasteele/anaconda3/envs/marioTest/lib/python3.11/site-packages (from roboflow) (4.8.0.74)\r\n",
      "Requirement already satisfied: Pillow>=7.1.2 in /Users/maximvandecasteele/anaconda3/envs/marioTest/lib/python3.11/site-packages (from roboflow) (10.0.1)\r\n",
      "Requirement already satisfied: python-dateutil in /Users/maximvandecasteele/anaconda3/envs/marioTest/lib/python3.11/site-packages (from roboflow) (2.8.2)\r\n",
      "Requirement already satisfied: python-dotenv in /Users/maximvandecasteele/anaconda3/envs/marioTest/lib/python3.11/site-packages (from roboflow) (1.0.0)\r\n",
      "Requirement already satisfied: requests in /Users/maximvandecasteele/anaconda3/envs/marioTest/lib/python3.11/site-packages (from roboflow) (2.28.1)\r\n",
      "Requirement already satisfied: six in /Users/maximvandecasteele/anaconda3/envs/marioTest/lib/python3.11/site-packages (from roboflow) (1.16.0)\r\n",
      "Requirement already satisfied: supervision in /Users/maximvandecasteele/anaconda3/envs/marioTest/lib/python3.11/site-packages (from roboflow) (0.17.1)\r\n",
      "Requirement already satisfied: urllib3>=1.26.6 in /Users/maximvandecasteele/anaconda3/envs/marioTest/lib/python3.11/site-packages (from roboflow) (1.26.18)\r\n",
      "Requirement already satisfied: tqdm>=4.41.0 in /Users/maximvandecasteele/anaconda3/envs/marioTest/lib/python3.11/site-packages (from roboflow) (4.66.1)\r\n",
      "Requirement already satisfied: PyYAML>=5.3.1 in /Users/maximvandecasteele/anaconda3/envs/marioTest/lib/python3.11/site-packages (from roboflow) (6.0.1)\r\n",
      "Requirement already satisfied: requests-toolbelt in /Users/maximvandecasteele/anaconda3/envs/marioTest/lib/python3.11/site-packages (from roboflow) (1.0.0)\r\n",
      "Requirement already satisfied: python-magic in /Users/maximvandecasteele/anaconda3/envs/marioTest/lib/python3.11/site-packages (from roboflow) (0.4.27)\r\n",
      "Requirement already satisfied: contourpy>=1.0.1 in /Users/maximvandecasteele/anaconda3/envs/marioTest/lib/python3.11/site-packages (from matplotlib->roboflow) (1.2.0)\r\n",
      "Requirement already satisfied: fonttools>=4.22.0 in /Users/maximvandecasteele/anaconda3/envs/marioTest/lib/python3.11/site-packages (from matplotlib->roboflow) (4.25.0)\r\n",
      "Requirement already satisfied: packaging>=20.0 in /Users/maximvandecasteele/anaconda3/envs/marioTest/lib/python3.11/site-packages (from matplotlib->roboflow) (23.1)\r\n",
      "Requirement already satisfied: pyparsing<3.1,>=2.3.1 in /Users/maximvandecasteele/anaconda3/envs/marioTest/lib/python3.11/site-packages (from matplotlib->roboflow) (3.0.9)\r\n",
      "Requirement already satisfied: charset-normalizer<3,>=2 in /Users/maximvandecasteele/anaconda3/envs/marioTest/lib/python3.11/site-packages (from requests->roboflow) (2.0.4)\r\n",
      "Requirement already satisfied: scipy>=1.9.0 in /Users/maximvandecasteele/anaconda3/envs/marioTest/lib/python3.11/site-packages (from supervision->roboflow) (1.11.4)\r\n"
     ]
    }
   ],
   "source": [
    "# !pip install roboflow"
   ],
   "metadata": {
    "collapsed": false,
    "ExecuteTime": {
     "end_time": "2024-01-18T08:57:21.425153Z",
     "start_time": "2024-01-18T08:57:20.397711Z"
    }
   },
   "id": "cd652350ec0ba4ec",
   "execution_count": 6
  },
  {
   "cell_type": "code",
   "outputs": [
    {
     "name": "stdout",
     "output_type": "stream",
     "text": [
      "loading Roboflow workspace...\n",
      "loading Roboflow project...\n",
      "Dependency ultralytics==8.0.196 is required but found version=8.1.2, to fix: `pip install ultralytics==8.0.196`\n"
     ]
    },
    {
     "name": "stderr",
     "output_type": "stream",
     "text": [
      "Downloading Dataset Version Zip in Mario_detection_simple-1 to yolov8:: 100%|██████████| 3332/3332 [00:00<00:00, 5084.71it/s]"
     ]
    },
    {
     "name": "stdout",
     "output_type": "stream",
     "text": []
    },
    {
     "name": "stderr",
     "output_type": "stream",
     "text": [
      "\n",
      "Extracting Dataset Version Zip to Mario_detection_simple-1 in yolov8:: 100%|██████████| 178/178 [00:00<00:00, 6782.77it/s]\n"
     ]
    }
   ],
   "source": [
    "from roboflow import Roboflow\n",
    "rf = Roboflow(api_key=\"BjsTUwG8DMvVTG2rcnyz\")\n",
    "project = rf.workspace(\"mario-28fvy\").project(\"mario_detection_simple\")\n",
    "dataset = project.version(1).download(\"yolov8\")"
   ],
   "metadata": {
    "collapsed": false,
    "ExecuteTime": {
     "end_time": "2024-01-18T08:57:35.590955Z",
     "start_time": "2024-01-18T08:57:29.115506Z"
    }
   },
   "id": "3695b66050850390",
   "execution_count": 7
  },
  {
   "cell_type": "code",
   "outputs": [
    {
     "name": "stdout",
     "output_type": "stream",
     "text": [
      "Ultralytics YOLOv8.1.2 🚀 Python-3.11.5 torch-2.1.2 MPS (Apple M3 Pro)\r\n",
      "\u001B[34m\u001B[1mengine/trainer: \u001B[0mtask=detect, mode=train, model=yolov8m.pt, data=/Users/maximvandecasteele/PycharmProjects/master2/mario_phase1/Mario_detection_simple-1/data.yaml, epochs=20, time=None, patience=50, batch=16, imgsz=640, save=True, save_period=-1, cache=False, device=mps, workers=8, project=None, name=train2, exist_ok=False, pretrained=True, optimizer=auto, verbose=True, seed=0, deterministic=True, single_cls=False, rect=False, cos_lr=False, close_mosaic=10, resume=False, amp=True, fraction=1.0, profile=False, freeze=None, multi_scale=False, overlap_mask=True, mask_ratio=4, dropout=0.0, val=True, split=val, save_json=False, save_hybrid=False, conf=None, iou=0.7, max_det=300, half=False, dnn=False, plots=True, source=None, vid_stride=1, stream_buffer=False, visualize=False, augment=False, agnostic_nms=False, classes=None, retina_masks=False, embed=None, show=False, save_frames=False, save_txt=False, save_conf=False, save_crop=False, show_labels=True, show_conf=True, show_boxes=True, line_width=None, format=torchscript, keras=False, optimize=False, int8=False, dynamic=False, simplify=False, opset=None, workspace=4, nms=False, lr0=0.01, lrf=0.01, momentum=0.937, weight_decay=0.0005, warmup_epochs=3.0, warmup_momentum=0.8, warmup_bias_lr=0.1, box=7.5, cls=0.5, dfl=1.5, pose=12.0, kobj=1.0, label_smoothing=0.0, nbs=64, hsv_h=0.015, hsv_s=0.7, hsv_v=0.4, degrees=0.0, translate=0.1, scale=0.5, shear=0.0, perspective=0.0, flipud=0.0, fliplr=0.5, mosaic=1.0, mixup=0.0, copy_paste=0.0, auto_augment=randaugment, erasing=0.4, crop_fraction=1.0, cfg=None, tracker=botsort.yaml, save_dir=runs/detect/train2\r\n",
      "Overriding model.yaml nc=80 with nc=8\r\n",
      "\r\n",
      "                   from  n    params  module                                       arguments                     \r\n",
      "  0                  -1  1      1392  ultralytics.nn.modules.conv.Conv             [3, 48, 3, 2]                 \r\n",
      "  1                  -1  1     41664  ultralytics.nn.modules.conv.Conv             [48, 96, 3, 2]                \r\n",
      "  2                  -1  2    111360  ultralytics.nn.modules.block.C2f             [96, 96, 2, True]             \r\n",
      "  3                  -1  1    166272  ultralytics.nn.modules.conv.Conv             [96, 192, 3, 2]               \r\n",
      "  4                  -1  4    813312  ultralytics.nn.modules.block.C2f             [192, 192, 4, True]           \r\n",
      "  5                  -1  1    664320  ultralytics.nn.modules.conv.Conv             [192, 384, 3, 2]              \r\n",
      "  6                  -1  4   3248640  ultralytics.nn.modules.block.C2f             [384, 384, 4, True]           \r\n",
      "  7                  -1  1   1991808  ultralytics.nn.modules.conv.Conv             [384, 576, 3, 2]              \r\n",
      "  8                  -1  2   3985920  ultralytics.nn.modules.block.C2f             [576, 576, 2, True]           \r\n",
      "  9                  -1  1    831168  ultralytics.nn.modules.block.SPPF            [576, 576, 5]                 \r\n",
      " 10                  -1  1         0  torch.nn.modules.upsampling.Upsample         [None, 2, 'nearest']          \r\n",
      " 11             [-1, 6]  1         0  ultralytics.nn.modules.conv.Concat           [1]                           \r\n",
      " 12                  -1  2   1993728  ultralytics.nn.modules.block.C2f             [960, 384, 2]                 \r\n",
      " 13                  -1  1         0  torch.nn.modules.upsampling.Upsample         [None, 2, 'nearest']          \r\n",
      " 14             [-1, 4]  1         0  ultralytics.nn.modules.conv.Concat           [1]                           \r\n",
      " 15                  -1  2    517632  ultralytics.nn.modules.block.C2f             [576, 192, 2]                 \r\n",
      " 16                  -1  1    332160  ultralytics.nn.modules.conv.Conv             [192, 192, 3, 2]              \r\n",
      " 17            [-1, 12]  1         0  ultralytics.nn.modules.conv.Concat           [1]                           \r\n",
      " 18                  -1  2   1846272  ultralytics.nn.modules.block.C2f             [576, 384, 2]                 \r\n",
      " 19                  -1  1   1327872  ultralytics.nn.modules.conv.Conv             [384, 384, 3, 2]              \r\n",
      " 20             [-1, 9]  1         0  ultralytics.nn.modules.conv.Concat           [1]                           \r\n",
      " 21                  -1  2   4207104  ultralytics.nn.modules.block.C2f             [960, 576, 2]                 \r\n",
      " 22        [15, 18, 21]  1   3780328  ultralytics.nn.modules.head.Detect           [8, [192, 384, 576]]          \r\n",
      "Model summary: 295 layers, 25860952 parameters, 25860936 gradients, 79.1 GFLOPs\r\n",
      "\r\n",
      "Transferred 469/475 items from pretrained weights\r\n",
      "\u001B[31m\u001B[1mrequirements:\u001B[0m Ultralytics requirement ['hub-sdk>=0.0.2'] not found, attempting AutoUpdate...\r\n",
      "Collecting hub-sdk>=0.0.2\r\n",
      "  Downloading hub_sdk-0.0.3-py3-none-any.whl.metadata (8.8 kB)\r\n",
      "Requirement already satisfied: requests in /Users/maximvandecasteele/anaconda3/envs/marioTest/lib/python3.11/site-packages (from hub-sdk>=0.0.2) (2.28.1)\r\n",
      "Requirement already satisfied: charset-normalizer<3,>=2 in /Users/maximvandecasteele/anaconda3/envs/marioTest/lib/python3.11/site-packages (from requests->hub-sdk>=0.0.2) (2.0.4)\r\n",
      "Requirement already satisfied: idna<4,>=2.5 in /Users/maximvandecasteele/anaconda3/envs/marioTest/lib/python3.11/site-packages (from requests->hub-sdk>=0.0.2) (2.10)\r\n",
      "Requirement already satisfied: urllib3<1.27,>=1.21.1 in /Users/maximvandecasteele/anaconda3/envs/marioTest/lib/python3.11/site-packages (from requests->hub-sdk>=0.0.2) (1.26.18)\r\n",
      "Requirement already satisfied: certifi>=2017.4.17 in /Users/maximvandecasteele/anaconda3/envs/marioTest/lib/python3.11/site-packages (from requests->hub-sdk>=0.0.2) (2023.7.22)\r\n",
      "Downloading hub_sdk-0.0.3-py3-none-any.whl (37 kB)\r\n",
      "Installing collected packages: hub-sdk\r\n",
      "Successfully installed hub-sdk-0.0.3\r\n",
      "\r\n",
      "\u001B[31m\u001B[1mrequirements:\u001B[0m AutoUpdate success ✅ 1.4s, installed 1 package: ['hub-sdk>=0.0.2']\r\n",
      "\u001B[31m\u001B[1mrequirements:\u001B[0m ⚠️ \u001B[1mRestart runtime or rerun command for updates to take effect\u001B[0m\r\n",
      "\r\n",
      "\u001B[34m\u001B[1mTensorBoard: \u001B[0mStart with 'tensorboard --logdir runs/detect/train2', view at http://localhost:6006/\r\n",
      "Freezing layer 'model.22.dfl.conv.weight'\r\n",
      "\u001B[34m\u001B[1mtrain: \u001B[0mScanning /Users/maximvandecasteele/PycharmProjects/master2/mario_phase1/M\u001B[0m\r\n",
      "\u001B[34m\u001B[1mtrain: \u001B[0mNew cache created: /Users/maximvandecasteele/PycharmProjects/master2/mario_phase1/Mario_detection_simple-1/train/labels.cache\r\n",
      "\u001B[34m\u001B[1mval: \u001B[0mScanning /Users/maximvandecasteele/PycharmProjects/master2/mario_phase1/Mar\u001B[0m\r\n",
      "\u001B[34m\u001B[1mval: \u001B[0mNew cache created: /Users/maximvandecasteele/PycharmProjects/master2/mario_phase1/Mario_detection_simple-1/valid/labels.cache\r\n",
      "Plotting labels to runs/detect/train2/labels.jpg... \r\n",
      "\u001B[34m\u001B[1moptimizer:\u001B[0m 'optimizer=auto' found, ignoring 'lr0=0.01' and 'momentum=0.937' and determining best 'optimizer', 'lr0' and 'momentum' automatically... \r\n",
      "\u001B[34m\u001B[1moptimizer:\u001B[0m AdamW(lr=0.000833, momentum=0.9) with parameter groups 77 weight(decay=0.0), 84 weight(decay=0.0005), 83 bias(decay=0.0)\r\n",
      "20 epochs...\r\n",
      "\r\n",
      "      Epoch    GPU_mem   box_loss   cls_loss   dfl_loss  Instances       Size\r\n",
      "       1/20         0G      1.184      4.942      1.087          4        640: 1\r\n",
      "                 Class     Images  Instances      Box(P          R      mAP50  mWARNING ⚠️ NMS time limit 0.950s exceeded\r\n",
      "                 Class     Images  Instances      Box(P          R      mAP50  m\r\n",
      "                   all          9         76          0          0          0          0\r\n",
      "\r\n",
      "      Epoch    GPU_mem   box_loss   cls_loss   dfl_loss  Instances       Size\r\n",
      "       2/20         0G     0.9311      2.556     0.9692         10        640: 1\r\n",
      "                 Class     Images  Instances      Box(P          R      mAP50  mWARNING ⚠️ NMS time limit 0.950s exceeded\r\n",
      "                 Class     Images  Instances      Box(P          R      mAP50  m\r\n",
      "                   all          9         76      0.703      0.312      0.347      0.283\r\n",
      "\r\n",
      "      Epoch    GPU_mem   box_loss   cls_loss   dfl_loss  Instances       Size\r\n",
      "       3/20         0G     0.6852      1.086     0.8737         16        640: 1\r\n",
      "                 Class     Images  Instances      Box(P          R      mAP50  mWARNING ⚠️ NMS time limit 0.950s exceeded\r\n",
      "                 Class     Images  Instances      Box(P          R      mAP50  m\r\n",
      "                   all          9         76      0.823      0.225       0.23      0.202\r\n",
      "\r\n",
      "      Epoch    GPU_mem   box_loss   cls_loss   dfl_loss  Instances       Size\r\n",
      "       4/20         0G     0.6074     0.7118     0.8631         20        640: 1\r\n",
      "                 Class     Images  Instances      Box(P          R      mAP50  mWARNING ⚠️ NMS time limit 0.950s exceeded\r\n",
      "                 Class     Images  Instances      Box(P          R      mAP50  m\r\n",
      "                   all          9         76        0.8      0.387      0.413      0.343\r\n",
      "\r\n",
      "      Epoch    GPU_mem   box_loss   cls_loss   dfl_loss  Instances       Size\r\n",
      "       5/20         0G     0.6157     0.6536     0.8492         20        640: 1\r\n",
      "                 Class     Images  Instances      Box(P          R      mAP50  mWARNING ⚠️ NMS time limit 0.950s exceeded\r\n",
      "                 Class     Images  Instances      Box(P          R      mAP50  m\r\n",
      "                   all          9         76      0.692      0.167      0.169      0.156\r\n",
      "\r\n",
      "      Epoch    GPU_mem   box_loss   cls_loss   dfl_loss  Instances       Size\r\n",
      "       6/20         0G     0.6293     0.6629     0.8643         10        640: 1\r\n",
      "                 Class     Images  Instances      Box(P          R      mAP50  mWARNING ⚠️ NMS time limit 0.950s exceeded\r\n",
      "                 Class     Images  Instances      Box(P          R      mAP50  m\r\n",
      "                   all          9         76          1      0.128      0.168      0.154\r\n",
      "\r\n",
      "      Epoch    GPU_mem   box_loss   cls_loss   dfl_loss  Instances       Size\r\n",
      "       7/20         0G     0.6841     0.5997     0.9077         17        640: 1\r\n",
      "                 Class     Images  Instances      Box(P          R      mAP50  mWARNING ⚠️ NMS time limit 0.950s exceeded\r\n",
      "                 Class     Images  Instances      Box(P          R      mAP50  m\r\n",
      "                   all          9         76      0.458      0.121      0.107     0.0977\r\n",
      "\r\n",
      "      Epoch    GPU_mem   box_loss   cls_loss   dfl_loss  Instances       Size\r\n",
      "       8/20         0G      0.589      0.556     0.8922         44        640: 1\r\n",
      "                 Class     Images  Instances      Box(P          R      mAP50  mWARNING ⚠️ NMS time limit 0.950s exceeded\r\n",
      "                 Class     Images  Instances      Box(P          R      mAP50  m\r\n",
      "                   all          9         76      0.547      0.121      0.108      0.103\r\n",
      "\r\n",
      "      Epoch    GPU_mem   box_loss   cls_loss   dfl_loss  Instances       Size\r\n",
      "       9/20         0G     0.5897     0.6075     0.8819          3        640: 1\r\n",
      "                 Class     Images  Instances      Box(P          R      mAP50  mWARNING ⚠️ NMS time limit 0.950s exceeded\r\n",
      "                 Class     Images  Instances      Box(P          R      mAP50  m\r\n",
      "                   all          9         76      0.392      0.121     0.0914     0.0846\r\n",
      "\r\n",
      "      Epoch    GPU_mem   box_loss   cls_loss   dfl_loss  Instances       Size\r\n",
      "      10/20         0G     0.5818     0.4731     0.8906         30        640: 1\r\n",
      "                 Class     Images  Instances      Box(P          R      mAP50  mWARNING ⚠️ NMS time limit 0.950s exceeded\r\n",
      "                 Class     Images  Instances      Box(P          R      mAP50  m\r\n",
      "                   all          9         76      0.679     0.0538     0.0453     0.0432\r\n",
      "Closing dataloader mosaic\r\n",
      "\r\n",
      "      Epoch    GPU_mem   box_loss   cls_loss   dfl_loss  Instances       Size\r\n",
      "      11/20         0G     0.6074     0.5298     0.8522         11        640: 1\r\n",
      "                 Class     Images  Instances      Box(P          R      mAP50  mWARNING ⚠️ NMS time limit 0.950s exceeded\r\n",
      "                 Class     Images  Instances      Box(P          R      mAP50  m\r\n",
      "                   all          9         76      0.723      0.121     0.0958      0.086\r\n",
      "\r\n",
      "      Epoch    GPU_mem   box_loss   cls_loss   dfl_loss  Instances       Size\r\n",
      "      12/20         0G     0.6075     0.4797     0.9021          6        640: 1\r\n",
      "                 Class     Images  Instances      Box(P          R      mAP50  mWARNING ⚠️ NMS time limit 0.950s exceeded\r\n",
      "                 Class     Images  Instances      Box(P          R      mAP50  m\r\n",
      "                   all          9         76      0.798      0.121      0.124      0.115\r\n",
      "\r\n",
      "      Epoch    GPU_mem   box_loss   cls_loss   dfl_loss  Instances       Size\r\n",
      "      13/20         0G     0.5753     0.5002     0.8646          4        640: 1\r\n",
      "                 Class     Images  Instances      Box(P          R      mAP50  mWARNING ⚠️ NMS time limit 0.950s exceeded\r\n",
      "                 Class     Images  Instances      Box(P          R      mAP50  m\r\n",
      "                   all          9         76       0.99      0.121      0.124      0.121\r\n",
      "\r\n",
      "      Epoch    GPU_mem   box_loss   cls_loss   dfl_loss  Instances       Size\r\n",
      "      14/20         0G     0.5718     0.4546      0.897          7        640: 1\r\n",
      "                 Class     Images  Instances      Box(P          R      mAP50  mWARNING ⚠️ NMS time limit 0.950s exceeded\r\n",
      "                 Class     Images  Instances      Box(P          R      mAP50  m\r\n",
      "                   all          9         76      0.853      0.121      0.126      0.121\r\n",
      "\r\n",
      "      Epoch    GPU_mem   box_loss   cls_loss   dfl_loss  Instances       Size\r\n",
      "      15/20         0G     0.5675     0.4096      0.876         13        640: 1\r\n",
      "                 Class     Images  Instances      Box(P          R      mAP50  mWARNING ⚠️ NMS time limit 0.950s exceeded\r\n",
      "                 Class     Images  Instances      Box(P          R      mAP50  m\r\n",
      "                   all          9         76      0.996      0.121       0.13      0.126\r\n",
      "\r\n",
      "      Epoch    GPU_mem   box_loss   cls_loss   dfl_loss  Instances       Size\r\n",
      "      16/20         0G     0.5674     0.4179      0.868          8        640: 1\r\n",
      "                 Class     Images  Instances      Box(P          R      mAP50  mWARNING ⚠️ NMS time limit 0.950s exceeded\r\n",
      "                 Class     Images  Instances      Box(P          R      mAP50  m\r\n",
      "                   all          9         76      0.993     0.0538      0.081     0.0795\r\n",
      "\r\n",
      "      Epoch    GPU_mem   box_loss   cls_loss   dfl_loss  Instances       Size\r\n",
      "      17/20         0G     0.5742     0.4109     0.8337         23        640: 1\r\n",
      "                 Class     Images  Instances      Box(P          R      mAP50  mWARNING ⚠️ NMS time limit 0.950s exceeded\r\n",
      "                 Class     Images  Instances      Box(P          R      mAP50  m\r\n",
      "                   all          9         76      0.992     0.0538      0.076     0.0731\r\n",
      "\r\n",
      "      Epoch    GPU_mem   box_loss   cls_loss   dfl_loss  Instances       Size\r\n",
      "      18/20         0G     0.6034     0.4527     0.8997          3        640: 1\r\n",
      "                 Class     Images  Instances      Box(P          R      mAP50  mWARNING ⚠️ NMS time limit 0.950s exceeded\r\n",
      "                 Class     Images  Instances      Box(P          R      mAP50  m\r\n",
      "                   all          9         76      0.989     0.0538     0.0812     0.0783\r\n",
      "\r\n",
      "      Epoch    GPU_mem   box_loss   cls_loss   dfl_loss  Instances       Size\r\n",
      "      19/20         0G     0.5979     0.4138      0.864         13        640: 1\r\n",
      "                 Class     Images  Instances      Box(P          R      mAP50  mWARNING ⚠️ NMS time limit 0.950s exceeded\r\n",
      "                 Class     Images  Instances      Box(P          R      mAP50  m\r\n",
      "                   all          9         76      0.988     0.0538     0.0763     0.0733\r\n",
      "\r\n",
      "      Epoch    GPU_mem   box_loss   cls_loss   dfl_loss  Instances       Size\r\n",
      "      20/20         0G     0.5646     0.4056     0.8919         14        640: 1\r\n",
      "                 Class     Images  Instances      Box(P          R      mAP50  mWARNING ⚠️ NMS time limit 0.950s exceeded\r\n",
      "                 Class     Images  Instances      Box(P          R      mAP50  m\r\n",
      "                   all          9         76       0.99     0.0538     0.0737     0.0721\r\n",
      "\r\n",
      "20 epochs completed in 0.378 hours.\r\n",
      "Optimizer stripped from runs/detect/train2/weights/last.pt, 52.0MB\r\n",
      "Optimizer stripped from runs/detect/train2/weights/best.pt, 52.0MB\r\n",
      "\r\n",
      "Validating runs/detect/train2/weights/best.pt...\r\n",
      "Ultralytics YOLOv8.1.2 🚀 Python-3.11.5 torch-2.1.2 MPS (Apple M3 Pro)\r\n",
      "Model summary (fused): 218 layers, 25844392 parameters, 0 gradients, 78.7 GFLOPs\r\n",
      "                 Class     Images  Instances      Box(P          R      mAP50  m\r\n",
      "                   all          9         76       0.99     0.0538     0.0737     0.0721\r\n",
      "                bricks          9         14          1          0          0          0\r\n",
      "                goomba          9         11      0.972     0.0909      0.112      0.101\r\n",
      "                  pipe          9          7      0.957      0.286      0.404      0.404\r\n",
      "                 shell          9          1          1          0          0          0\r\n",
      "                 stone          9         30          1          0          0          0\r\n",
      "          surprise_box          9         12          1          0          0          0\r\n",
      "    surprise_box_empty          9          1          1          0          0          0\r\n",
      "Speed: 4.1ms preprocess, 537.0ms inference, 0.0ms loss, 1.6ms postprocess per image\r\n",
      "Results saved to \u001B[1mruns/detect/train2\u001B[0m\r\n",
      "💡 Learn more at https://docs.ultralytics.com/modes/train\r\n"
     ]
    }
   ],
   "source": [
    "!yolo task=detect mode=train model=yolov8m.pt data={dataset.location}/data.yaml epochs=20 imgsz=640 device=mps"
   ],
   "metadata": {
    "collapsed": false,
    "ExecuteTime": {
     "end_time": "2024-01-18T09:31:37.088664Z",
     "start_time": "2024-01-18T09:07:45.434849Z"
    }
   },
   "id": "ebaa50080b733c1a",
   "execution_count": 11
  },
  {
   "cell_type": "markdown",
   "source": [
    "# Prediction (playground)"
   ],
   "metadata": {
    "collapsed": false
   },
   "id": "2ac42821d335caf9"
  },
  {
   "cell_type": "code",
   "outputs": [
    {
     "name": "stdout",
     "output_type": "stream",
     "text": [
      "Ultralytics YOLOv8.1.2 🚀 Python-3.11.5 torch-2.1.2 CPU (Apple M3 Pro)\r\n",
      "Model summary (fused): 218 layers, 25844392 parameters, 0 gradients, 78.7 GFLOPs\r\n",
      "\r\n",
      "image 1/2 /Users/maximvandecasteele/PycharmProjects/master2/mario_phase0/demo/img_SuperMarioBros-1-1-v0_2024-01-17-16_06_44.png: 608x640 1 goomba, 182.8ms\r\n",
      "image 2/2 /Users/maximvandecasteele/PycharmProjects/master2/mario_phase0/demo/img_SuperMarioBros-1-1-v0_2024-01-17-16_08_35.png: 608x640 4 brickss, 2 goombas, 2 surprise_boxs, 173.2ms\r\n",
      "Speed: 1.2ms preprocess, 178.0ms inference, 0.5ms postprocess per image at shape (1, 3, 608, 640)\r\n",
      "Results saved to \u001B[1mruns/detect/predict\u001B[0m\r\n",
      "💡 Learn more at https://docs.ultralytics.com/modes/predict\r\n"
     ]
    }
   ],
   "source": [
    "# run this if you want to see bounding boxes on images\n",
    "# !yolo task=detect mode=predict model=/Users/maximvandecasteele/PycharmProjects/master2/mario_phase0/models/Mario_OD_vanilla_best.pt conf=0.5 source=/Users/maximvandecasteele/PycharmProjects/master2/mario_phase0/demo/"
   ],
   "metadata": {
    "collapsed": false,
    "ExecuteTime": {
     "end_time": "2024-01-18T16:08:29.407447Z",
     "start_time": "2024-01-18T16:08:27.222018Z"
    }
   },
   "id": "feb1944eb5926990",
   "execution_count": 72
  },
  {
   "cell_type": "code",
   "outputs": [
    {
     "name": "stdout",
     "output_type": "stream",
     "text": [
      "image 1/1 /Users/maximvandecasteele/PycharmProjects/master2/mario_phase0/img_SuperMarioBros-1-1-v0_2024-01-17-16_06_44.png: 608x640 1 goomba, 1 surprise_box, 213.2ms\n",
      "Speed: 1.6ms preprocess, 213.2ms inference, 0.7ms postprocess per image at shape (1, 3, 608, 640)\n"
     ]
    }
   ],
   "source": [
    "import pandas as pd\n",
    "\n",
    "# return bounding boxes\n",
    "model = YOLO('/Users/maximvandecasteele/PycharmProjects/master2/mario_phase0/models/Mario_OD_vanilla_best.pt')\n",
    "\n",
    "\n",
    "# just load an image or list of images into the model for prediction\n",
    "# for result object   https://docs.ultralytics.com/modes/predict/#working-with-results\n",
    "results = model('/Users/maximvandecasteele/PycharmProjects/master2/mario_phase0/demo/img_SuperMarioBros-1-1-v0_2024-01-17-16_08_35.png')\n",
    "\n",
    "boxes = None\n",
    "for r in results:\n",
    "    boxes = r.boxes.numpy()\n",
    "    classes = pd.DataFrame(boxes.cls, columns=['class'])\n",
    "    xywh = pd.DataFrame(boxes.xywh, columns=['x', 'y', 'w', 'h'])\n",
    "    positions = pd.concat([classes,xywh], axis=1)\n",
    "\n",
    "positions = pd.DataFrame(data=None, columns=['name', 'xmin', 'xmax', 'ymin', 'ymax'])\n",
    "\n",
    "for r in results:\n",
    "    #     TODO convert classes into names\n",
    "    boxes = r.boxes.numpy()\n",
    "    classes = pd.DataFrame(boxes.cls, columns=['class'])\n",
    "    # other types of bounding box data can be chosen: xyxy, xywh, xyxyn, xywhn\n",
    "    xywh = pd.DataFrame(boxes.xywh, columns=['x', 'y', 'w', 'h'])\n",
    "    positions = pd.concat([classes, xywh], axis=1)\n"
   ],
   "metadata": {
    "collapsed": false,
    "ExecuteTime": {
     "end_time": "2024-01-18T16:01:47.770902Z",
     "start_time": "2024-01-18T16:01:47.277465Z"
    }
   },
   "id": "4802bacf31fdccd",
   "execution_count": 67
  },
  {
   "cell_type": "code",
   "outputs": [
    {
     "data": {
      "text/plain": "   class          x           y          w          h\n0    1.0  48.643257  200.134109  13.549282  17.219238\n1    6.0  39.913296  190.653275  79.343910  36.293121",
      "text/html": "<div>\n<style scoped>\n    .dataframe tbody tr th:only-of-type {\n        vertical-align: middle;\n    }\n\n    .dataframe tbody tr th {\n        vertical-align: top;\n    }\n\n    .dataframe thead th {\n        text-align: right;\n    }\n</style>\n<table border=\"1\" class=\"dataframe\">\n  <thead>\n    <tr style=\"text-align: right;\">\n      <th></th>\n      <th>class</th>\n      <th>x</th>\n      <th>y</th>\n      <th>w</th>\n      <th>h</th>\n    </tr>\n  </thead>\n  <tbody>\n    <tr>\n      <th>0</th>\n      <td>1.0</td>\n      <td>48.643257</td>\n      <td>200.134109</td>\n      <td>13.549282</td>\n      <td>17.219238</td>\n    </tr>\n    <tr>\n      <th>1</th>\n      <td>6.0</td>\n      <td>39.913296</td>\n      <td>190.653275</td>\n      <td>79.343910</td>\n      <td>36.293121</td>\n    </tr>\n  </tbody>\n</table>\n</div>"
     },
     "execution_count": 68,
     "metadata": {},
     "output_type": "execute_result"
    }
   ],
   "source": [
    "positions"
   ],
   "metadata": {
    "collapsed": false,
    "ExecuteTime": {
     "end_time": "2024-01-18T16:01:48.667440Z",
     "start_time": "2024-01-18T16:01:48.662538Z"
    }
   },
   "id": "e616149ea8fd57d",
   "execution_count": 68
  },
  {
   "cell_type": "markdown",
   "source": [],
   "metadata": {
    "collapsed": false
   },
   "id": "a7c0174f4c657993"
  }
 ],
 "metadata": {
  "kernelspec": {
   "display_name": "Python 3",
   "language": "python",
   "name": "python3"
  },
  "language_info": {
   "codemirror_mode": {
    "name": "ipython",
    "version": 2
   },
   "file_extension": ".py",
   "mimetype": "text/x-python",
   "name": "python",
   "nbconvert_exporter": "python",
   "pygments_lexer": "ipython2",
   "version": "2.7.6"
  }
 },
 "nbformat": 4,
 "nbformat_minor": 5
}
