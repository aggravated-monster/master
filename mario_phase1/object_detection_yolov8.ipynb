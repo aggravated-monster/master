{
 "cells": [
  {
   "cell_type": "code",
   "execution_count": null,
   "id": "initial_id",
   "metadata": {
    "collapsed": true
   },
   "outputs": [],
   "source": [
    "!nvidia-smi"
   ]
  },
  {
   "cell_type": "code",
   "outputs": [
    {
     "name": "stdout",
     "output_type": "stream",
     "text": [
      "Collecting ultralytics\r\n",
      "  Downloading ultralytics-8.1.2-py3-none-any.whl.metadata (40 kB)\r\n",
      "\u001B[2K     \u001B[90m━━━━━━━━━━━━━━━━━━━━━━━━━━━━━━━━━━━━━━━━\u001B[0m \u001B[32m40.2/40.2 kB\u001B[0m \u001B[31m1.5 MB/s\u001B[0m eta \u001B[36m0:00:00\u001B[0m\r\n",
      "\u001B[?25hRequirement already satisfied: matplotlib>=3.3.0 in /Users/maximvandecasteele/anaconda3/envs/marioTest/lib/python3.11/site-packages (from ultralytics) (3.7.2)\r\n",
      "Requirement already satisfied: numpy>=1.22.2 in /Users/maximvandecasteele/anaconda3/envs/marioTest/lib/python3.11/site-packages (from ultralytics) (1.23.5)\r\n",
      "Requirement already satisfied: opencv-python>=4.6.0 in /Users/maximvandecasteele/anaconda3/envs/marioTest/lib/python3.11/site-packages (from ultralytics) (4.8.1.78)\r\n",
      "Requirement already satisfied: pillow>=7.1.2 in /Users/maximvandecasteele/anaconda3/envs/marioTest/lib/python3.11/site-packages (from ultralytics) (10.0.1)\r\n",
      "Requirement already satisfied: pyyaml>=5.3.1 in /Users/maximvandecasteele/anaconda3/envs/marioTest/lib/python3.11/site-packages (from ultralytics) (6.0.1)\r\n",
      "Requirement already satisfied: requests>=2.23.0 in /Users/maximvandecasteele/anaconda3/envs/marioTest/lib/python3.11/site-packages (from ultralytics) (2.28.1)\r\n",
      "Requirement already satisfied: scipy>=1.4.1 in /Users/maximvandecasteele/anaconda3/envs/marioTest/lib/python3.11/site-packages (from ultralytics) (1.11.4)\r\n",
      "Requirement already satisfied: torch>=1.8.0 in /Users/maximvandecasteele/anaconda3/envs/marioTest/lib/python3.11/site-packages (from ultralytics) (2.1.2)\r\n",
      "Collecting torchvision>=0.9.0 (from ultralytics)\r\n",
      "  Downloading torchvision-0.16.2-cp311-cp311-macosx_11_0_arm64.whl.metadata (6.6 kB)\r\n",
      "Requirement already satisfied: tqdm>=4.64.0 in /Users/maximvandecasteele/anaconda3/envs/marioTest/lib/python3.11/site-packages (from ultralytics) (4.66.1)\r\n",
      "Requirement already satisfied: psutil in /Users/maximvandecasteele/anaconda3/envs/marioTest/lib/python3.11/site-packages (from ultralytics) (5.9.0)\r\n",
      "Collecting py-cpuinfo (from ultralytics)\r\n",
      "  Downloading py_cpuinfo-9.0.0-py3-none-any.whl (22 kB)\r\n",
      "Collecting thop>=0.1.1 (from ultralytics)\r\n",
      "  Downloading thop-0.1.1.post2209072238-py3-none-any.whl (15 kB)\r\n",
      "Requirement already satisfied: pandas>=1.1.4 in /Users/maximvandecasteele/anaconda3/envs/marioTest/lib/python3.11/site-packages (from ultralytics) (2.1.4)\r\n",
      "Collecting seaborn>=0.11.0 (from ultralytics)\r\n",
      "  Downloading seaborn-0.13.1-py3-none-any.whl.metadata (5.4 kB)\r\n",
      "Requirement already satisfied: contourpy>=1.0.1 in /Users/maximvandecasteele/anaconda3/envs/marioTest/lib/python3.11/site-packages (from matplotlib>=3.3.0->ultralytics) (1.2.0)\r\n",
      "Requirement already satisfied: cycler>=0.10 in /Users/maximvandecasteele/anaconda3/envs/marioTest/lib/python3.11/site-packages (from matplotlib>=3.3.0->ultralytics) (0.11.0)\r\n",
      "Requirement already satisfied: fonttools>=4.22.0 in /Users/maximvandecasteele/anaconda3/envs/marioTest/lib/python3.11/site-packages (from matplotlib>=3.3.0->ultralytics) (4.25.0)\r\n",
      "Requirement already satisfied: kiwisolver>=1.0.1 in /Users/maximvandecasteele/anaconda3/envs/marioTest/lib/python3.11/site-packages (from matplotlib>=3.3.0->ultralytics) (1.4.4)\r\n",
      "Requirement already satisfied: packaging>=20.0 in /Users/maximvandecasteele/anaconda3/envs/marioTest/lib/python3.11/site-packages (from matplotlib>=3.3.0->ultralytics) (23.1)\r\n",
      "Requirement already satisfied: pyparsing<3.1,>=2.3.1 in /Users/maximvandecasteele/anaconda3/envs/marioTest/lib/python3.11/site-packages (from matplotlib>=3.3.0->ultralytics) (3.0.9)\r\n",
      "Requirement already satisfied: python-dateutil>=2.7 in /Users/maximvandecasteele/anaconda3/envs/marioTest/lib/python3.11/site-packages (from matplotlib>=3.3.0->ultralytics) (2.8.2)\r\n",
      "Requirement already satisfied: pytz>=2020.1 in /Users/maximvandecasteele/anaconda3/envs/marioTest/lib/python3.11/site-packages (from pandas>=1.1.4->ultralytics) (2023.3.post1)\r\n",
      "Requirement already satisfied: tzdata>=2022.1 in /Users/maximvandecasteele/anaconda3/envs/marioTest/lib/python3.11/site-packages (from pandas>=1.1.4->ultralytics) (2023.3)\r\n",
      "Requirement already satisfied: charset-normalizer<3,>=2 in /Users/maximvandecasteele/anaconda3/envs/marioTest/lib/python3.11/site-packages (from requests>=2.23.0->ultralytics) (2.0.4)\r\n",
      "Requirement already satisfied: idna<4,>=2.5 in /Users/maximvandecasteele/anaconda3/envs/marioTest/lib/python3.11/site-packages (from requests>=2.23.0->ultralytics) (3.4)\r\n",
      "Requirement already satisfied: urllib3<1.27,>=1.21.1 in /Users/maximvandecasteele/anaconda3/envs/marioTest/lib/python3.11/site-packages (from requests>=2.23.0->ultralytics) (1.26.18)\r\n",
      "Requirement already satisfied: certifi>=2017.4.17 in /Users/maximvandecasteele/anaconda3/envs/marioTest/lib/python3.11/site-packages (from requests>=2.23.0->ultralytics) (2023.11.17)\r\n",
      "Requirement already satisfied: filelock in /Users/maximvandecasteele/anaconda3/envs/marioTest/lib/python3.11/site-packages (from torch>=1.8.0->ultralytics) (3.9.0)\r\n",
      "Requirement already satisfied: typing-extensions in /Users/maximvandecasteele/anaconda3/envs/marioTest/lib/python3.11/site-packages (from torch>=1.8.0->ultralytics) (4.4.0)\r\n",
      "Requirement already satisfied: sympy in /Users/maximvandecasteele/anaconda3/envs/marioTest/lib/python3.11/site-packages (from torch>=1.8.0->ultralytics) (1.11.1)\r\n",
      "Requirement already satisfied: networkx in /Users/maximvandecasteele/anaconda3/envs/marioTest/lib/python3.11/site-packages (from torch>=1.8.0->ultralytics) (3.2.1)\r\n",
      "Requirement already satisfied: jinja2 in /Users/maximvandecasteele/anaconda3/envs/marioTest/lib/python3.11/site-packages (from torch>=1.8.0->ultralytics) (3.1.2)\r\n",
      "Requirement already satisfied: fsspec in /Users/maximvandecasteele/anaconda3/envs/marioTest/lib/python3.11/site-packages (from torch>=1.8.0->ultralytics) (2023.4.0)\r\n",
      "Requirement already satisfied: six>=1.5 in /Users/maximvandecasteele/anaconda3/envs/marioTest/lib/python3.11/site-packages (from python-dateutil>=2.7->matplotlib>=3.3.0->ultralytics) (1.16.0)\r\n",
      "Requirement already satisfied: MarkupSafe>=2.0 in /Users/maximvandecasteele/anaconda3/envs/marioTest/lib/python3.11/site-packages (from jinja2->torch>=1.8.0->ultralytics) (2.1.1)\r\n",
      "Requirement already satisfied: mpmath>=0.19 in /Users/maximvandecasteele/anaconda3/envs/marioTest/lib/python3.11/site-packages (from sympy->torch>=1.8.0->ultralytics) (1.2.1)\r\n",
      "Downloading ultralytics-8.1.2-py3-none-any.whl (699 kB)\r\n",
      "\u001B[2K   \u001B[90m━━━━━━━━━━━━━━━━━━━━━━━━━━━━━━━━━━━━━━━━\u001B[0m \u001B[32m699.7/699.7 kB\u001B[0m \u001B[31m7.0 MB/s\u001B[0m eta \u001B[36m0:00:00\u001B[0ma \u001B[36m0:00:01\u001B[0m\r\n",
      "\u001B[?25hDownloading seaborn-0.13.1-py3-none-any.whl (294 kB)\r\n",
      "\u001B[2K   \u001B[90m━━━━━━━━━━━━━━━━━━━━━━━━━━━━━━━━━━━━━━━━\u001B[0m \u001B[32m294.8/294.8 kB\u001B[0m \u001B[31m8.0 MB/s\u001B[0m eta \u001B[36m0:00:00\u001B[0m\r\n",
      "\u001B[?25hDownloading torchvision-0.16.2-cp311-cp311-macosx_11_0_arm64.whl (1.5 MB)\r\n",
      "\u001B[2K   \u001B[90m━━━━━━━━━━━━━━━━━━━━━━━━━━━━━━━━━━━━━━━━\u001B[0m \u001B[32m1.5/1.5 MB\u001B[0m \u001B[31m10.4 MB/s\u001B[0m eta \u001B[36m0:00:00\u001B[0m00:01\u001B[0m00:01\u001B[0m\r\n",
      "\u001B[?25hInstalling collected packages: py-cpuinfo, torchvision, thop, seaborn, ultralytics\r\n",
      "Successfully installed py-cpuinfo-9.0.0 seaborn-0.13.1 thop-0.1.1.post2209072238 torchvision-0.16.2 ultralytics-8.1.2\r\n"
     ]
    }
   ],
   "source": [
    "!pip install ultralytics"
   ],
   "metadata": {
    "collapsed": false,
    "ExecuteTime": {
     "end_time": "2024-01-18T07:52:01.788328Z",
     "start_time": "2024-01-18T07:51:59.022370Z"
    }
   },
   "id": "89fba2181b323973",
   "execution_count": 1
  },
  {
   "cell_type": "markdown",
   "source": [
    "Install YOLO"
   ],
   "metadata": {
    "collapsed": false
   },
   "id": "8bbafcb42e29a5be"
  },
  {
   "cell_type": "code",
   "outputs": [],
   "source": [
    "from ultralytics import YOLO\n",
    "import os\n",
    "from IPython.display import display, Image\n",
    "from IPython import display\n",
    "display.clear_output()\n",
    "!yolo mode-checks"
   ],
   "metadata": {
    "collapsed": false
   },
   "id": "9f41e1d295f87b96"
  },
  {
   "cell_type": "markdown",
   "source": [
    "Train YOLOv8 Model on Custom Dataset"
   ],
   "metadata": {
    "collapsed": false
   },
   "id": "a626433b5a4b6229"
  },
  {
   "cell_type": "code",
   "outputs": [
    {
     "name": "stdout",
     "output_type": "stream",
     "text": [
      "Collecting roboflow\r\n",
      "  Downloading roboflow-1.1.16-py3-none-any.whl.metadata (9.3 kB)\r\n",
      "Collecting certifi==2023.7.22 (from roboflow)\r\n",
      "  Downloading certifi-2023.7.22-py3-none-any.whl.metadata (2.2 kB)\r\n",
      "Collecting chardet==4.0.0 (from roboflow)\r\n",
      "  Downloading chardet-4.0.0-py2.py3-none-any.whl (178 kB)\r\n",
      "\u001B[2K     \u001B[90m━━━━━━━━━━━━━━━━━━━━━━━━━━━━━━━━━━━━━━━\u001B[0m \u001B[32m178.7/178.7 kB\u001B[0m \u001B[31m3.3 MB/s\u001B[0m eta \u001B[36m0:00:00\u001B[0ma \u001B[36m0:00:01\u001B[0m\r\n",
      "\u001B[?25hCollecting cycler==0.10.0 (from roboflow)\r\n",
      "  Downloading cycler-0.10.0-py2.py3-none-any.whl (6.5 kB)\r\n",
      "Collecting idna==2.10 (from roboflow)\r\n",
      "  Downloading idna-2.10-py2.py3-none-any.whl (58 kB)\r\n",
      "\u001B[2K     \u001B[90m━━━━━━━━━━━━━━━━━━━━━━━━━━━━━━━━━━━━━━━━\u001B[0m \u001B[32m58.8/58.8 kB\u001B[0m \u001B[31m5.4 MB/s\u001B[0m eta \u001B[36m0:00:00\u001B[0m\r\n",
      "\u001B[?25hRequirement already satisfied: kiwisolver>=1.3.1 in /Users/maximvandecasteele/anaconda3/envs/marioTest/lib/python3.11/site-packages (from roboflow) (1.4.4)\r\n",
      "Requirement already satisfied: matplotlib in /Users/maximvandecasteele/anaconda3/envs/marioTest/lib/python3.11/site-packages (from roboflow) (3.7.2)\r\n",
      "Requirement already satisfied: numpy>=1.18.5 in /Users/maximvandecasteele/anaconda3/envs/marioTest/lib/python3.11/site-packages (from roboflow) (1.23.5)\r\n",
      "Collecting opencv-python-headless==4.8.0.74 (from roboflow)\r\n",
      "  Downloading opencv_python_headless-4.8.0.74-cp37-abi3-macosx_11_0_arm64.whl.metadata (19 kB)\r\n",
      "Requirement already satisfied: Pillow>=7.1.2 in /Users/maximvandecasteele/anaconda3/envs/marioTest/lib/python3.11/site-packages (from roboflow) (10.0.1)\r\n",
      "Requirement already satisfied: python-dateutil in /Users/maximvandecasteele/anaconda3/envs/marioTest/lib/python3.11/site-packages (from roboflow) (2.8.2)\r\n",
      "Collecting python-dotenv (from roboflow)\r\n",
      "  Downloading python_dotenv-1.0.0-py3-none-any.whl (19 kB)\r\n",
      "Requirement already satisfied: requests in /Users/maximvandecasteele/anaconda3/envs/marioTest/lib/python3.11/site-packages (from roboflow) (2.28.1)\r\n",
      "Requirement already satisfied: six in /Users/maximvandecasteele/anaconda3/envs/marioTest/lib/python3.11/site-packages (from roboflow) (1.16.0)\r\n",
      "Collecting supervision (from roboflow)\r\n",
      "  Downloading supervision-0.17.1-py3-none-any.whl.metadata (12 kB)\r\n",
      "Requirement already satisfied: urllib3>=1.26.6 in /Users/maximvandecasteele/anaconda3/envs/marioTest/lib/python3.11/site-packages (from roboflow) (1.26.18)\r\n",
      "Requirement already satisfied: tqdm>=4.41.0 in /Users/maximvandecasteele/anaconda3/envs/marioTest/lib/python3.11/site-packages (from roboflow) (4.66.1)\r\n",
      "Requirement already satisfied: PyYAML>=5.3.1 in /Users/maximvandecasteele/anaconda3/envs/marioTest/lib/python3.11/site-packages (from roboflow) (6.0.1)\r\n",
      "Collecting requests-toolbelt (from roboflow)\r\n",
      "  Downloading requests_toolbelt-1.0.0-py2.py3-none-any.whl (54 kB)\r\n",
      "\u001B[2K     \u001B[90m━━━━━━━━━━━━━━━━━━━━━━━━━━━━━━━━━━━━━━━━\u001B[0m \u001B[32m54.5/54.5 kB\u001B[0m \u001B[31m4.6 MB/s\u001B[0m eta \u001B[36m0:00:00\u001B[0m\r\n",
      "\u001B[?25hCollecting python-magic (from roboflow)\r\n",
      "  Downloading python_magic-0.4.27-py2.py3-none-any.whl (13 kB)\r\n",
      "Requirement already satisfied: contourpy>=1.0.1 in /Users/maximvandecasteele/anaconda3/envs/marioTest/lib/python3.11/site-packages (from matplotlib->roboflow) (1.2.0)\r\n",
      "Requirement already satisfied: fonttools>=4.22.0 in /Users/maximvandecasteele/anaconda3/envs/marioTest/lib/python3.11/site-packages (from matplotlib->roboflow) (4.25.0)\r\n",
      "Requirement already satisfied: packaging>=20.0 in /Users/maximvandecasteele/anaconda3/envs/marioTest/lib/python3.11/site-packages (from matplotlib->roboflow) (23.1)\r\n",
      "Requirement already satisfied: pyparsing<3.1,>=2.3.1 in /Users/maximvandecasteele/anaconda3/envs/marioTest/lib/python3.11/site-packages (from matplotlib->roboflow) (3.0.9)\r\n",
      "Requirement already satisfied: charset-normalizer<3,>=2 in /Users/maximvandecasteele/anaconda3/envs/marioTest/lib/python3.11/site-packages (from requests->roboflow) (2.0.4)\r\n",
      "Requirement already satisfied: scipy>=1.9.0 in /Users/maximvandecasteele/anaconda3/envs/marioTest/lib/python3.11/site-packages (from supervision->roboflow) (1.11.4)\r\n",
      "Downloading roboflow-1.1.16-py3-none-any.whl (69 kB)\r\n",
      "\u001B[2K   \u001B[90m━━━━━━━━━━━━━━━━━━━━━━━━━━━━━━━━━━━━━━━━\u001B[0m \u001B[32m69.9/69.9 kB\u001B[0m \u001B[31m5.5 MB/s\u001B[0m eta \u001B[36m0:00:00\u001B[0m\r\n",
      "\u001B[?25hDownloading certifi-2023.7.22-py3-none-any.whl (158 kB)\r\n",
      "\u001B[2K   \u001B[90m━━━━━━━━━━━━━━━━━━━━━━━━━━━━━━━━━━━━━━━━\u001B[0m \u001B[32m158.3/158.3 kB\u001B[0m \u001B[31m7.4 MB/s\u001B[0m eta \u001B[36m0:00:00\u001B[0m\r\n",
      "\u001B[?25hDownloading opencv_python_headless-4.8.0.74-cp37-abi3-macosx_11_0_arm64.whl (33.1 MB)\r\n",
      "\u001B[2K   \u001B[90m━━━━━━━━━━━━━━━━━━━━━━━━━━━━━━━━━━━━━━━━\u001B[0m \u001B[32m33.1/33.1 MB\u001B[0m \u001B[31m6.3 MB/s\u001B[0m eta \u001B[36m0:00:00\u001B[0m00:01\u001B[0m00:01\u001B[0m\r\n",
      "\u001B[?25hDownloading supervision-0.17.1-py3-none-any.whl (77 kB)\r\n",
      "\u001B[2K   \u001B[90m━━━━━━━━━━━━━━━━━━━━━━━━━━━━━━━━━━━━━━━━\u001B[0m \u001B[32m77.5/77.5 kB\u001B[0m \u001B[31m5.2 MB/s\u001B[0m eta \u001B[36m0:00:00\u001B[0m\r\n",
      "\u001B[?25hInstalling collected packages: python-magic, python-dotenv, opencv-python-headless, idna, cycler, chardet, certifi, supervision, requests-toolbelt, roboflow\r\n",
      "  Attempting uninstall: idna\r\n",
      "    Found existing installation: idna 3.4\r\n",
      "    Uninstalling idna-3.4:\r\n",
      "      Successfully uninstalled idna-3.4\r\n",
      "  Attempting uninstall: cycler\r\n",
      "    Found existing installation: cycler 0.11.0\r\n",
      "    Uninstalling cycler-0.11.0:\r\n",
      "      Successfully uninstalled cycler-0.11.0\r\n",
      "  Attempting uninstall: certifi\r\n",
      "    Found existing installation: certifi 2023.11.17\r\n",
      "    Uninstalling certifi-2023.11.17:\r\n",
      "      Successfully uninstalled certifi-2023.11.17\r\n",
      "Successfully installed certifi-2023.7.22 chardet-4.0.0 cycler-0.10.0 idna-2.10 opencv-python-headless-4.8.0.74 python-dotenv-1.0.0 python-magic-0.4.27 requests-toolbelt-1.0.0 roboflow-1.1.16 supervision-0.17.1\r\n"
     ]
    }
   ],
   "source": [
    "!pip install roboflow"
   ],
   "metadata": {
    "collapsed": false,
    "ExecuteTime": {
     "end_time": "2024-01-18T07:59:07.782526Z",
     "start_time": "2024-01-18T07:58:59.864665Z"
    }
   },
   "id": "cd652350ec0ba4ec",
   "execution_count": 2
  },
  {
   "cell_type": "code",
   "outputs": [],
   "source": [
    "from roboflow import Roboflow\n",
    "rf = Roboflow(api_key=\"BjsTUwG8DMvVTG2rcnyz\")\n",
    "project = rf.workspace(\"mario-28fvy\").project(\"mario_detection_simple\")\n",
    "dataset = project.version(1).download(\"yolov8\")"
   ],
   "metadata": {
    "collapsed": false
   },
   "id": "3695b66050850390"
  },
  {
   "cell_type": "code",
   "outputs": [],
   "source": [
    "!yolo task-detect mode-train model-yolov8m.pt data-{dataset.location}/data.yaml epochs-20 imgsz-640"
   ],
   "metadata": {
    "collapsed": false
   },
   "id": "ebaa50080b733c1a"
  },
  {
   "cell_type": "code",
   "outputs": [],
   "source": [
    "Image(filename=f'/content/runs/detect/train/confusion_matrix.png', width=600)"
   ],
   "metadata": {
    "collapsed": false
   },
   "id": "4b421a5719662f19"
  },
  {
   "cell_type": "code",
   "outputs": [],
   "source": [
    "Image(filename=f'/content/runs/detect/train/results.png', width=600)"
   ],
   "metadata": {
    "collapsed": false
   },
   "id": "dcde32333e2edc2d"
  },
  {
   "cell_type": "code",
   "outputs": [],
   "source": [
    "!yolo task-detect mode-val model-/content/runs/detect/train/weights/best.pt data-{dataset.location}/data.yaml"
   ],
   "metadata": {
    "collapsed": false
   },
   "id": "3e1277217d62b3c4"
  },
  {
   "cell_type": "code",
   "outputs": [],
   "source": [
    "!yolo task-detect mode-predict model-/content/runs/detect/train/weights/best.pt conf-0.5 source-{dataset.location}/t"
   ],
   "metadata": {
    "collapsed": false
   },
   "id": "feb1944eb5926990"
  },
  {
   "cell_type": "code",
   "outputs": [],
   "source": [
    "import glob\n",
    "from IPython.display import Image, display\n",
    "\n",
    "for image_path in glob.glob(f'/content/runs/detect/predict/*.png'):\n",
    "    display(Image(filename=image_path, height=600))\n",
    "    print(\"\\n\")"
   ],
   "metadata": {
    "collapsed": false
   },
   "id": "41fb9db5e854b28e"
  },
  {
   "cell_type": "markdown",
   "source": [],
   "metadata": {
    "collapsed": false
   },
   "id": "a7c0174f4c657993"
  }
 ],
 "metadata": {
  "kernelspec": {
   "display_name": "Python 3",
   "language": "python",
   "name": "python3"
  },
  "language_info": {
   "codemirror_mode": {
    "name": "ipython",
    "version": 2
   },
   "file_extension": ".py",
   "mimetype": "text/x-python",
   "name": "python",
   "nbconvert_exporter": "python",
   "pygments_lexer": "ipython2",
   "version": "2.7.6"
  }
 },
 "nbformat": 4,
 "nbformat_minor": 5
}
