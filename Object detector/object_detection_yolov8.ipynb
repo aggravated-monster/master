{
 "cells": [
  {
   "cell_type": "code",
   "execution_count": null,
   "id": "initial_id",
   "metadata": {
    "collapsed": true
   },
   "outputs": [],
   "source": [
    "# !nvidia-smi"
   ]
  },
  {
   "cell_type": "code",
   "outputs": [
    {
     "name": "stdout",
     "output_type": "stream",
     "text": [
      "True\n"
     ]
    }
   ],
   "source": [
    "import torch\n",
    "print(torch.backends.mps.is_available())"
   ],
   "metadata": {
    "collapsed": false,
    "ExecuteTime": {
     "end_time": "2024-02-04T15:40:44.051945Z",
     "start_time": "2024-02-04T15:40:44.046781Z"
    }
   },
   "id": "e0bc2bb405f9e473",
   "execution_count": 6
  },
  {
   "cell_type": "code",
   "outputs": [
    {
     "name": "stdout",
     "output_type": "stream",
     "text": [
      "Collecting ultralytics\r\n",
      "  Downloading ultralytics-8.1.2-py3-none-any.whl.metadata (40 kB)\r\n",
      "\u001B[2K     \u001B[90m━━━━━━━━━━━━━━━━━━━━━━━━━━━━━━━━━━━━━━━━\u001B[0m \u001B[32m40.2/40.2 kB\u001B[0m \u001B[31m1.5 MB/s\u001B[0m eta \u001B[36m0:00:00\u001B[0m\r\n",
      "\u001B[?25hRequirement already satisfied: matplotlib>=3.3.0 in /Users/maximvandecasteele/anaconda3/envs/marioTest/lib/python3.11/site-packages (from ultralytics) (3.7.2)\r\n",
      "Requirement already satisfied: numpy>=1.22.2 in /Users/maximvandecasteele/anaconda3/envs/marioTest/lib/python3.11/site-packages (from ultralytics) (1.23.5)\r\n",
      "Requirement already satisfied: opencv-python>=4.6.0 in /Users/maximvandecasteele/anaconda3/envs/marioTest/lib/python3.11/site-packages (from ultralytics) (4.8.1.78)\r\n",
      "Requirement already satisfied: pillow>=7.1.2 in /Users/maximvandecasteele/anaconda3/envs/marioTest/lib/python3.11/site-packages (from ultralytics) (10.0.1)\r\n",
      "Requirement already satisfied: pyyaml>=5.3.1 in /Users/maximvandecasteele/anaconda3/envs/marioTest/lib/python3.11/site-packages (from ultralytics) (6.0.1)\r\n",
      "Requirement already satisfied: requests>=2.23.0 in /Users/maximvandecasteele/anaconda3/envs/marioTest/lib/python3.11/site-packages (from ultralytics) (2.28.1)\r\n",
      "Requirement already satisfied: scipy>=1.4.1 in /Users/maximvandecasteele/anaconda3/envs/marioTest/lib/python3.11/site-packages (from ultralytics) (1.11.4)\r\n",
      "Requirement already satisfied: torch>=1.8.0 in /Users/maximvandecasteele/anaconda3/envs/marioTest/lib/python3.11/site-packages (from ultralytics) (2.1.2)\r\n",
      "Collecting torchvision>=0.9.0 (from ultralytics)\r\n",
      "  Downloading torchvision-0.16.2-cp311-cp311-macosx_11_0_arm64.whl.metadata (6.6 kB)\r\n",
      "Requirement already satisfied: tqdm>=4.64.0 in /Users/maximvandecasteele/anaconda3/envs/marioTest/lib/python3.11/site-packages (from ultralytics) (4.66.1)\r\n",
      "Requirement already satisfied: psutil in /Users/maximvandecasteele/anaconda3/envs/marioTest/lib/python3.11/site-packages (from ultralytics) (5.9.0)\r\n",
      "Collecting py-cpuinfo (from ultralytics)\r\n",
      "  Downloading py_cpuinfo-9.0.0-py3-none-any.whl (22 kB)\r\n",
      "Collecting thop>=0.1.1 (from ultralytics)\r\n",
      "  Downloading thop-0.1.1.post2209072238-py3-none-any.whl (15 kB)\r\n",
      "Requirement already satisfied: pandas>=1.1.4 in /Users/maximvandecasteele/anaconda3/envs/marioTest/lib/python3.11/site-packages (from ultralytics) (2.1.4)\r\n",
      "Collecting seaborn>=0.11.0 (from ultralytics)\r\n",
      "  Downloading seaborn-0.13.1-py3-none-any.whl.metadata (5.4 kB)\r\n",
      "Requirement already satisfied: contourpy>=1.0.1 in /Users/maximvandecasteele/anaconda3/envs/marioTest/lib/python3.11/site-packages (from matplotlib>=3.3.0->ultralytics) (1.2.0)\r\n",
      "Requirement already satisfied: cycler>=0.10 in /Users/maximvandecasteele/anaconda3/envs/marioTest/lib/python3.11/site-packages (from matplotlib>=3.3.0->ultralytics) (0.11.0)\r\n",
      "Requirement already satisfied: fonttools>=4.22.0 in /Users/maximvandecasteele/anaconda3/envs/marioTest/lib/python3.11/site-packages (from matplotlib>=3.3.0->ultralytics) (4.25.0)\r\n",
      "Requirement already satisfied: kiwisolver>=1.0.1 in /Users/maximvandecasteele/anaconda3/envs/marioTest/lib/python3.11/site-packages (from matplotlib>=3.3.0->ultralytics) (1.4.4)\r\n",
      "Requirement already satisfied: packaging>=20.0 in /Users/maximvandecasteele/anaconda3/envs/marioTest/lib/python3.11/site-packages (from matplotlib>=3.3.0->ultralytics) (23.1)\r\n",
      "Requirement already satisfied: pyparsing<3.1,>=2.3.1 in /Users/maximvandecasteele/anaconda3/envs/marioTest/lib/python3.11/site-packages (from matplotlib>=3.3.0->ultralytics) (3.0.9)\r\n",
      "Requirement already satisfied: python-dateutil>=2.7 in /Users/maximvandecasteele/anaconda3/envs/marioTest/lib/python3.11/site-packages (from matplotlib>=3.3.0->ultralytics) (2.8.2)\r\n",
      "Requirement already satisfied: pytz>=2020.1 in /Users/maximvandecasteele/anaconda3/envs/marioTest/lib/python3.11/site-packages (from pandas>=1.1.4->ultralytics) (2023.3.post1)\r\n",
      "Requirement already satisfied: tzdata>=2022.1 in /Users/maximvandecasteele/anaconda3/envs/marioTest/lib/python3.11/site-packages (from pandas>=1.1.4->ultralytics) (2023.3)\r\n",
      "Requirement already satisfied: charset-normalizer<3,>=2 in /Users/maximvandecasteele/anaconda3/envs/marioTest/lib/python3.11/site-packages (from requests>=2.23.0->ultralytics) (2.0.4)\r\n",
      "Requirement already satisfied: idna<4,>=2.5 in /Users/maximvandecasteele/anaconda3/envs/marioTest/lib/python3.11/site-packages (from requests>=2.23.0->ultralytics) (3.4)\r\n",
      "Requirement already satisfied: urllib3<1.27,>=1.21.1 in /Users/maximvandecasteele/anaconda3/envs/marioTest/lib/python3.11/site-packages (from requests>=2.23.0->ultralytics) (1.26.18)\r\n",
      "Requirement already satisfied: certifi>=2017.4.17 in /Users/maximvandecasteele/anaconda3/envs/marioTest/lib/python3.11/site-packages (from requests>=2.23.0->ultralytics) (2023.11.17)\r\n",
      "Requirement already satisfied: filelock in /Users/maximvandecasteele/anaconda3/envs/marioTest/lib/python3.11/site-packages (from torch>=1.8.0->ultralytics) (3.9.0)\r\n",
      "Requirement already satisfied: typing-extensions in /Users/maximvandecasteele/anaconda3/envs/marioTest/lib/python3.11/site-packages (from torch>=1.8.0->ultralytics) (4.4.0)\r\n",
      "Requirement already satisfied: sympy in /Users/maximvandecasteele/anaconda3/envs/marioTest/lib/python3.11/site-packages (from torch>=1.8.0->ultralytics) (1.11.1)\r\n",
      "Requirement already satisfied: networkx in /Users/maximvandecasteele/anaconda3/envs/marioTest/lib/python3.11/site-packages (from torch>=1.8.0->ultralytics) (3.2.1)\r\n",
      "Requirement already satisfied: jinja2 in /Users/maximvandecasteele/anaconda3/envs/marioTest/lib/python3.11/site-packages (from torch>=1.8.0->ultralytics) (3.1.2)\r\n",
      "Requirement already satisfied: fsspec in /Users/maximvandecasteele/anaconda3/envs/marioTest/lib/python3.11/site-packages (from torch>=1.8.0->ultralytics) (2023.4.0)\r\n",
      "Requirement already satisfied: six>=1.5 in /Users/maximvandecasteele/anaconda3/envs/marioTest/lib/python3.11/site-packages (from python-dateutil>=2.7->matplotlib>=3.3.0->ultralytics) (1.16.0)\r\n",
      "Requirement already satisfied: MarkupSafe>=2.0 in /Users/maximvandecasteele/anaconda3/envs/marioTest/lib/python3.11/site-packages (from jinja2->torch>=1.8.0->ultralytics) (2.1.1)\r\n",
      "Requirement already satisfied: mpmath>=0.19 in /Users/maximvandecasteele/anaconda3/envs/marioTest/lib/python3.11/site-packages (from sympy->torch>=1.8.0->ultralytics) (1.2.1)\r\n",
      "Downloading ultralytics-8.1.2-py3-none-any.whl (699 kB)\r\n",
      "\u001B[2K   \u001B[90m━━━━━━━━━━━━━━━━━━━━━━━━━━━━━━━━━━━━━━━━\u001B[0m \u001B[32m699.7/699.7 kB\u001B[0m \u001B[31m7.0 MB/s\u001B[0m eta \u001B[36m0:00:00\u001B[0ma \u001B[36m0:00:01\u001B[0m\r\n",
      "\u001B[?25hDownloading seaborn-0.13.1-py3-none-any.whl (294 kB)\r\n",
      "\u001B[2K   \u001B[90m━━━━━━━━━━━━━━━━━━━━━━━━━━━━━━━━━━━━━━━━\u001B[0m \u001B[32m294.8/294.8 kB\u001B[0m \u001B[31m8.0 MB/s\u001B[0m eta \u001B[36m0:00:00\u001B[0m\r\n",
      "\u001B[?25hDownloading torchvision-0.16.2-cp311-cp311-macosx_11_0_arm64.whl (1.5 MB)\r\n",
      "\u001B[2K   \u001B[90m━━━━━━━━━━━━━━━━━━━━━━━━━━━━━━━━━━━━━━━━\u001B[0m \u001B[32m1.5/1.5 MB\u001B[0m \u001B[31m10.4 MB/s\u001B[0m eta \u001B[36m0:00:00\u001B[0m00:01\u001B[0m00:01\u001B[0m\r\n",
      "\u001B[?25hInstalling collected packages: py-cpuinfo, torchvision, thop, seaborn, ultralytics\r\n",
      "Successfully installed py-cpuinfo-9.0.0 seaborn-0.13.1 thop-0.1.1.post2209072238 torchvision-0.16.2 ultralytics-8.1.2\r\n"
     ]
    }
   ],
   "source": [
    "# !pip install ultralytics"
   ],
   "metadata": {
    "collapsed": false,
    "ExecuteTime": {
     "end_time": "2024-01-18T07:52:01.788328Z",
     "start_time": "2024-01-18T07:51:59.022370Z"
    }
   },
   "id": "89fba2181b323973",
   "execution_count": 1
  },
  {
   "cell_type": "markdown",
   "source": [
    "# Install YOLO"
   ],
   "metadata": {
    "collapsed": false
   },
   "id": "8bbafcb42e29a5be"
  },
  {
   "cell_type": "code",
   "outputs": [],
   "source": [
    "from ultralytics import YOLO\n",
    "import os\n",
    "from IPython.display import display, Image\n",
    "from IPython import display\n",
    "display.clear_output()"
   ],
   "metadata": {
    "collapsed": false
   },
   "id": "9f41e1d295f87b96",
   "execution_count": 7
  },
  {
   "cell_type": "markdown",
   "source": [
    "# Train YOLOv8 Model on Custom Dataset"
   ],
   "metadata": {
    "collapsed": false
   },
   "id": "a626433b5a4b6229"
  },
  {
   "cell_type": "code",
   "outputs": [
    {
     "name": "stdout",
     "output_type": "stream",
     "text": [
      "Requirement already satisfied: roboflow in /Users/maximvandecasteele/anaconda3/envs/marioTest/lib/python3.11/site-packages (1.1.16)\r\n",
      "Requirement already satisfied: certifi==2023.7.22 in /Users/maximvandecasteele/anaconda3/envs/marioTest/lib/python3.11/site-packages (from roboflow) (2023.7.22)\r\n",
      "Requirement already satisfied: chardet==4.0.0 in /Users/maximvandecasteele/anaconda3/envs/marioTest/lib/python3.11/site-packages (from roboflow) (4.0.0)\r\n",
      "Requirement already satisfied: cycler==0.10.0 in /Users/maximvandecasteele/anaconda3/envs/marioTest/lib/python3.11/site-packages (from roboflow) (0.10.0)\r\n",
      "Requirement already satisfied: idna==2.10 in /Users/maximvandecasteele/anaconda3/envs/marioTest/lib/python3.11/site-packages (from roboflow) (2.10)\r\n",
      "Requirement already satisfied: kiwisolver>=1.3.1 in /Users/maximvandecasteele/anaconda3/envs/marioTest/lib/python3.11/site-packages (from roboflow) (1.4.4)\r\n",
      "Requirement already satisfied: matplotlib in /Users/maximvandecasteele/anaconda3/envs/marioTest/lib/python3.11/site-packages (from roboflow) (3.7.2)\r\n",
      "Requirement already satisfied: numpy>=1.18.5 in /Users/maximvandecasteele/anaconda3/envs/marioTest/lib/python3.11/site-packages (from roboflow) (1.23.5)\r\n",
      "Requirement already satisfied: opencv-python-headless==4.8.0.74 in /Users/maximvandecasteele/anaconda3/envs/marioTest/lib/python3.11/site-packages (from roboflow) (4.8.0.74)\r\n",
      "Requirement already satisfied: Pillow>=7.1.2 in /Users/maximvandecasteele/anaconda3/envs/marioTest/lib/python3.11/site-packages (from roboflow) (10.0.1)\r\n",
      "Requirement already satisfied: python-dateutil in /Users/maximvandecasteele/anaconda3/envs/marioTest/lib/python3.11/site-packages (from roboflow) (2.8.2)\r\n",
      "Requirement already satisfied: python-dotenv in /Users/maximvandecasteele/anaconda3/envs/marioTest/lib/python3.11/site-packages (from roboflow) (1.0.0)\r\n",
      "Requirement already satisfied: requests in /Users/maximvandecasteele/anaconda3/envs/marioTest/lib/python3.11/site-packages (from roboflow) (2.28.1)\r\n",
      "Requirement already satisfied: six in /Users/maximvandecasteele/anaconda3/envs/marioTest/lib/python3.11/site-packages (from roboflow) (1.16.0)\r\n",
      "Requirement already satisfied: supervision in /Users/maximvandecasteele/anaconda3/envs/marioTest/lib/python3.11/site-packages (from roboflow) (0.17.1)\r\n",
      "Requirement already satisfied: urllib3>=1.26.6 in /Users/maximvandecasteele/anaconda3/envs/marioTest/lib/python3.11/site-packages (from roboflow) (1.26.18)\r\n",
      "Requirement already satisfied: tqdm>=4.41.0 in /Users/maximvandecasteele/anaconda3/envs/marioTest/lib/python3.11/site-packages (from roboflow) (4.66.1)\r\n",
      "Requirement already satisfied: PyYAML>=5.3.1 in /Users/maximvandecasteele/anaconda3/envs/marioTest/lib/python3.11/site-packages (from roboflow) (6.0.1)\r\n",
      "Requirement already satisfied: requests-toolbelt in /Users/maximvandecasteele/anaconda3/envs/marioTest/lib/python3.11/site-packages (from roboflow) (1.0.0)\r\n",
      "Requirement already satisfied: python-magic in /Users/maximvandecasteele/anaconda3/envs/marioTest/lib/python3.11/site-packages (from roboflow) (0.4.27)\r\n",
      "Requirement already satisfied: contourpy>=1.0.1 in /Users/maximvandecasteele/anaconda3/envs/marioTest/lib/python3.11/site-packages (from matplotlib->roboflow) (1.2.0)\r\n",
      "Requirement already satisfied: fonttools>=4.22.0 in /Users/maximvandecasteele/anaconda3/envs/marioTest/lib/python3.11/site-packages (from matplotlib->roboflow) (4.25.0)\r\n",
      "Requirement already satisfied: packaging>=20.0 in /Users/maximvandecasteele/anaconda3/envs/marioTest/lib/python3.11/site-packages (from matplotlib->roboflow) (23.1)\r\n",
      "Requirement already satisfied: pyparsing<3.1,>=2.3.1 in /Users/maximvandecasteele/anaconda3/envs/marioTest/lib/python3.11/site-packages (from matplotlib->roboflow) (3.0.9)\r\n",
      "Requirement already satisfied: charset-normalizer<3,>=2 in /Users/maximvandecasteele/anaconda3/envs/marioTest/lib/python3.11/site-packages (from requests->roboflow) (2.0.4)\r\n",
      "Requirement already satisfied: scipy>=1.9.0 in /Users/maximvandecasteele/anaconda3/envs/marioTest/lib/python3.11/site-packages (from supervision->roboflow) (1.11.4)\r\n"
     ]
    }
   ],
   "source": [
    "# !pip install roboflow"
   ],
   "metadata": {
    "collapsed": false,
    "ExecuteTime": {
     "end_time": "2024-01-18T08:57:21.425153Z",
     "start_time": "2024-01-18T08:57:20.397711Z"
    }
   },
   "id": "cd652350ec0ba4ec",
   "execution_count": 6
  },
  {
   "cell_type": "code",
   "outputs": [
    {
     "name": "stdout",
     "output_type": "stream",
     "text": [
      "loading Roboflow workspace...\n",
      "loading Roboflow project...\n",
      "Dependency ultralytics==8.0.196 is required but found version=8.1.2, to fix: `pip install ultralytics==8.0.196`\n"
     ]
    },
    {
     "name": "stderr",
     "output_type": "stream",
     "text": [
      "Downloading Dataset Version Zip in Mario-RL-1 to yolov8:: 100%|██████████| 43845/43845 [00:01<00:00, 24587.28it/s]"
     ]
    },
    {
     "name": "stdout",
     "output_type": "stream",
     "text": []
    },
    {
     "name": "stderr",
     "output_type": "stream",
     "text": [
      "\n",
      "Extracting Dataset Version Zip to Mario-RL-1 in yolov8:: 100%|██████████| 2106/2106 [00:00<00:00, 7632.54it/s]\n"
     ]
    }
   ],
   "source": [
    "from roboflow import Roboflow\n",
    "rf = Roboflow(api_key=\"BjsTUwG8DMvVTG2rcnyz\")\n",
    "project = rf.workspace(\"mario-28fvy\").project(\"mario-rl\")\n",
    "dataset = project.version(1).download(\"yolov8\")\n"
   ],
   "metadata": {
    "collapsed": false,
    "ExecuteTime": {
     "end_time": "2024-02-03T20:20:32.204986Z",
     "start_time": "2024-02-03T20:20:26.430712Z"
    }
   },
   "id": "3695b66050850390",
   "execution_count": 3
  },
  {
   "cell_type": "code",
   "outputs": [
    {
     "name": "stdout",
     "output_type": "stream",
     "text": [
      "New https://pypi.org/project/ultralytics/8.1.9 available 😃 Update with 'pip install -U ultralytics'\r\n",
      "Ultralytics YOLOv8.1.2 🚀 Python-3.11.5 torch-2.1.2 MPS (Apple M3 Pro)\r\n",
      "\u001B[34m\u001B[1mengine/trainer: \u001B[0mtask=detect, mode=train, model=/Users/maximvandecasteele/PycharmProjects/master2/mario_phase0/runs/detect/train5/weights/last.pt, data=/Users/maximvandecasteele/PycharmProjects/master2/mario_phase0/Mario-RL-1/data.yaml, epochs=20, time=None, patience=50, batch=16, imgsz=640, save=True, save_period=-1, cache=False, device=mps, workers=8, project=None, name=train6, exist_ok=False, pretrained=True, optimizer=auto, verbose=True, seed=0, deterministic=True, single_cls=False, rect=False, cos_lr=False, close_mosaic=10, resume=False, amp=True, fraction=1.0, profile=False, freeze=None, multi_scale=False, overlap_mask=True, mask_ratio=4, dropout=0.0, val=True, split=val, save_json=False, save_hybrid=False, conf=None, iou=0.7, max_det=300, half=False, dnn=False, plots=True, source=None, vid_stride=1, stream_buffer=False, visualize=False, augment=False, agnostic_nms=False, classes=None, retina_masks=False, embed=None, show=False, save_frames=False, save_txt=False, save_conf=False, save_crop=False, show_labels=True, show_conf=True, show_boxes=True, line_width=None, format=torchscript, keras=False, optimize=False, int8=False, dynamic=False, simplify=False, opset=None, workspace=4, nms=False, lr0=0.01, lrf=0.01, momentum=0.937, weight_decay=0.0005, warmup_epochs=3.0, warmup_momentum=0.8, warmup_bias_lr=0.1, box=7.5, cls=0.5, dfl=1.5, pose=12.0, kobj=1.0, label_smoothing=0.0, nbs=64, hsv_h=0.015, hsv_s=0.7, hsv_v=0.4, degrees=0.0, translate=0.1, scale=0.5, shear=0.0, perspective=0.0, flipud=0.0, fliplr=0.5, mosaic=1.0, mixup=0.0, copy_paste=0.0, auto_augment=randaugment, erasing=0.4, crop_fraction=1.0, cfg=None, tracker=botsort.yaml, save_dir=runs/detect/train6\r\n",
      "\r\n",
      "                   from  n    params  module                                       arguments                     \r\n",
      "  0                  -1  1      1392  ultralytics.nn.modules.conv.Conv             [3, 48, 3, 2]                 \r\n",
      "  1                  -1  1     41664  ultralytics.nn.modules.conv.Conv             [48, 96, 3, 2]                \r\n",
      "  2                  -1  2    111360  ultralytics.nn.modules.block.C2f             [96, 96, 2, True]             \r\n",
      "  3                  -1  1    166272  ultralytics.nn.modules.conv.Conv             [96, 192, 3, 2]               \r\n",
      "  4                  -1  4    813312  ultralytics.nn.modules.block.C2f             [192, 192, 4, True]           \r\n",
      "  5                  -1  1    664320  ultralytics.nn.modules.conv.Conv             [192, 384, 3, 2]              \r\n",
      "  6                  -1  4   3248640  ultralytics.nn.modules.block.C2f             [384, 384, 4, True]           \r\n",
      "  7                  -1  1   1991808  ultralytics.nn.modules.conv.Conv             [384, 576, 3, 2]              \r\n",
      "  8                  -1  2   3985920  ultralytics.nn.modules.block.C2f             [576, 576, 2, True]           \r\n",
      "  9                  -1  1    831168  ultralytics.nn.modules.block.SPPF            [576, 576, 5]                 \r\n",
      " 10                  -1  1         0  torch.nn.modules.upsampling.Upsample         [None, 2, 'nearest']          \r\n",
      " 11             [-1, 6]  1         0  ultralytics.nn.modules.conv.Concat           [1]                           \r\n",
      " 12                  -1  2   1993728  ultralytics.nn.modules.block.C2f             [960, 384, 2]                 \r\n",
      " 13                  -1  1         0  torch.nn.modules.upsampling.Upsample         [None, 2, 'nearest']          \r\n",
      " 14             [-1, 4]  1         0  ultralytics.nn.modules.conv.Concat           [1]                           \r\n",
      " 15                  -1  2    517632  ultralytics.nn.modules.block.C2f             [576, 192, 2]                 \r\n",
      " 16                  -1  1    332160  ultralytics.nn.modules.conv.Conv             [192, 192, 3, 2]              \r\n",
      " 17            [-1, 12]  1         0  ultralytics.nn.modules.conv.Concat           [1]                           \r\n",
      " 18                  -1  2   1846272  ultralytics.nn.modules.block.C2f             [576, 384, 2]                 \r\n",
      " 19                  -1  1   1327872  ultralytics.nn.modules.conv.Conv             [384, 384, 3, 2]              \r\n",
      " 20             [-1, 9]  1         0  ultralytics.nn.modules.conv.Concat           [1]                           \r\n",
      " 21                  -1  2   4207104  ultralytics.nn.modules.block.C2f             [960, 576, 2]                 \r\n",
      " 22        [15, 18, 21]  1   3786697  ultralytics.nn.modules.head.Detect           [19, [192, 384, 576]]         \r\n",
      "Model summary: 295 layers, 25867321 parameters, 25867305 gradients, 79.1 GFLOPs\r\n",
      "\r\n",
      "Transferred 475/475 items from pretrained weights\r\n",
      "\u001B[34m\u001B[1mTensorBoard: \u001B[0mStart with 'tensorboard --logdir runs/detect/train6', view at http://localhost:6006/\r\n",
      "Freezing layer 'model.22.dfl.conv.weight'\r\n",
      "\u001B[34m\u001B[1mtrain: \u001B[0mScanning /Users/maximvandecasteele/PycharmProjects/master2/mario_phase0/M\u001B[0m\r\n",
      "\u001B[34m\u001B[1mtrain: \u001B[0mWARNING ⚠️ /Users/maximvandecasteele/PycharmProjects/master2/mario_phase0/Mario-RL-1/train/images/SuperMarioBros-3-1-v0img_SuperMarioBros-3-1-v0_2024-01-20-12_04_54_png.rf.49b5d4dcff1fca332b5667f7a5ba62b3.jpg: 1 duplicate labels removed\r\n",
      "\u001B[34m\u001B[1mval: \u001B[0mScanning /Users/maximvandecasteele/PycharmProjects/master2/mario_phase0/Mar\u001B[0m\r\n",
      "\u001B[34m\u001B[1mval: \u001B[0mWARNING ⚠️ /Users/maximvandecasteele/PycharmProjects/master2/mario_phase0/Mario-RL-1/valid/images/SuperMarioBros-3-1-v0img_SuperMarioBros-3-1-v0_2024-01-20-12_04_52_png.rf.0dd035459ef5ba0d3b682f80144b7542.jpg: 1 duplicate labels removed\r\n",
      "Plotting labels to runs/detect/train6/labels.jpg... \r\n",
      "\u001B[34m\u001B[1moptimizer:\u001B[0m 'optimizer=auto' found, ignoring 'lr0=0.01' and 'momentum=0.937' and determining best 'optimizer', 'lr0' and 'momentum' automatically... \r\n",
      "\u001B[34m\u001B[1moptimizer:\u001B[0m AdamW(lr=0.000435, momentum=0.9) with parameter groups 77 weight(decay=0.0), 84 weight(decay=0.0005), 83 bias(decay=0.0)\r\n",
      "20 epochs...\r\n",
      "\r\n",
      "      Epoch    GPU_mem   box_loss   cls_loss   dfl_loss  Instances       Size\r\n",
      "       1/20         0G     0.3975     0.2862     0.8241        204        640: 1\r\n",
      "                 Class     Images  Instances      Box(P          R      mAP50  mWARNING ⚠️ NMS time limit 2.100s exceeded\r\n",
      "                 Class     Images  Instances      Box(P          R      mAP50  mWARNING ⚠️ NMS time limit 2.100s exceeded\r\n",
      "                 Class     Images  Instances      Box(P          R      mAP50  mWARNING ⚠️ NMS time limit 2.100s exceeded\r\n",
      "                 Class     Images  Instances      Box(P          R      mAP50  mWARNING ⚠️ NMS time limit 2.100s exceeded\r\n",
      "                 Class     Images  Instances      Box(P          R      mAP50  mWARNING ⚠️ NMS time limit 2.100s exceeded\r\n",
      "                 Class     Images  Instances      Box(P          R      mAP50  mWARNING ⚠️ NMS time limit 2.100s exceeded\r\n",
      "                 Class     Images  Instances      Box(P          R      mAP50  mWARNING ⚠️ NMS time limit 1.300s exceeded\r\n",
      "                 Class     Images  Instances      Box(P          R      mAP50  m\r\n",
      "                   all        208       2166      0.899      0.109      0.203      0.186\r\n",
      "\r\n",
      "      Epoch    GPU_mem   box_loss   cls_loss   dfl_loss  Instances       Size\r\n",
      "       2/20         0G     0.4348     0.3187     0.8339        184        640: 1\r\n",
      "                 Class     Images  Instances      Box(P          R      mAP50  mWARNING ⚠️ NMS time limit 2.100s exceeded\r\n",
      "                 Class     Images  Instances      Box(P          R      mAP50  mWARNING ⚠️ NMS time limit 2.100s exceeded\r\n",
      "                 Class     Images  Instances      Box(P          R      mAP50  mWARNING ⚠️ NMS time limit 2.100s exceeded\r\n",
      "                 Class     Images  Instances      Box(P          R      mAP50  mWARNING ⚠️ NMS time limit 2.100s exceeded\r\n",
      "                 Class     Images  Instances      Box(P          R      mAP50  mWARNING ⚠️ NMS time limit 2.100s exceeded\r\n",
      "                 Class     Images  Instances      Box(P          R      mAP50  mWARNING ⚠️ NMS time limit 2.100s exceeded\r\n",
      "                 Class     Images  Instances      Box(P          R      mAP50  mWARNING ⚠️ NMS time limit 1.300s exceeded\r\n",
      "                 Class     Images  Instances      Box(P          R      mAP50  m\r\n",
      "                   all        208       2166      0.914      0.052      0.148      0.136\r\n",
      "\r\n",
      "      Epoch    GPU_mem   box_loss   cls_loss   dfl_loss  Instances       Size\r\n",
      "       3/20         0G     0.4375     0.3287     0.8358        166        640: 1\r\n",
      "                 Class     Images  Instances      Box(P          R      mAP50  mWARNING ⚠️ NMS time limit 2.100s exceeded\r\n",
      "                 Class     Images  Instances      Box(P          R      mAP50  mWARNING ⚠️ NMS time limit 2.100s exceeded\r\n",
      "                 Class     Images  Instances      Box(P          R      mAP50  mWARNING ⚠️ NMS time limit 2.100s exceeded\r\n",
      "                 Class     Images  Instances      Box(P          R      mAP50  mWARNING ⚠️ NMS time limit 2.100s exceeded\r\n",
      "                 Class     Images  Instances      Box(P          R      mAP50  mWARNING ⚠️ NMS time limit 2.100s exceeded\r\n",
      "                 Class     Images  Instances      Box(P          R      mAP50  mWARNING ⚠️ NMS time limit 2.100s exceeded\r\n",
      "                 Class     Images  Instances      Box(P          R      mAP50  mWARNING ⚠️ NMS time limit 1.300s exceeded\r\n",
      "                 Class     Images  Instances      Box(P          R      mAP50  m\r\n",
      "                   all        208       2166      0.895     0.0431      0.135      0.123\r\n",
      "\r\n",
      "      Epoch    GPU_mem   box_loss   cls_loss   dfl_loss  Instances       Size\r\n",
      "       4/20         0G     0.4349     0.3197     0.8387        165        640: 1\r\n",
      "                 Class     Images  Instances      Box(P          R      mAP50  mWARNING ⚠️ NMS time limit 2.100s exceeded\r\n",
      "                 Class     Images  Instances      Box(P          R      mAP50  mWARNING ⚠️ NMS time limit 2.100s exceeded\r\n",
      "                 Class     Images  Instances      Box(P          R      mAP50  mWARNING ⚠️ NMS time limit 2.100s exceeded\r\n",
      "                 Class     Images  Instances      Box(P          R      mAP50  mWARNING ⚠️ NMS time limit 2.100s exceeded\r\n",
      "                 Class     Images  Instances      Box(P          R      mAP50  mWARNING ⚠️ NMS time limit 2.100s exceeded\r\n",
      "                 Class     Images  Instances      Box(P          R      mAP50  mWARNING ⚠️ NMS time limit 2.100s exceeded\r\n",
      "                 Class     Images  Instances      Box(P          R      mAP50  mWARNING ⚠️ NMS time limit 1.300s exceeded\r\n",
      "                 Class     Images  Instances      Box(P          R      mAP50  m\r\n",
      "                   all        208       2166      0.861     0.0273      0.111        0.1\r\n",
      "\r\n",
      "      Epoch    GPU_mem   box_loss   cls_loss   dfl_loss  Instances       Size\r\n",
      "       5/20         0G     0.4364     0.3176     0.8349        203        640: 1\r\n",
      "                 Class     Images  Instances      Box(P          R      mAP50  mWARNING ⚠️ NMS time limit 2.100s exceeded\r\n",
      "                 Class     Images  Instances      Box(P          R      mAP50  mWARNING ⚠️ NMS time limit 2.100s exceeded\r\n",
      "                 Class     Images  Instances      Box(P          R      mAP50  mWARNING ⚠️ NMS time limit 2.100s exceeded\r\n",
      "                 Class     Images  Instances      Box(P          R      mAP50  mWARNING ⚠️ NMS time limit 2.100s exceeded\r\n",
      "                 Class     Images  Instances      Box(P          R      mAP50  mWARNING ⚠️ NMS time limit 2.100s exceeded\r\n",
      "                 Class     Images  Instances      Box(P          R      mAP50  mWARNING ⚠️ NMS time limit 2.100s exceeded\r\n",
      "                 Class     Images  Instances      Box(P          R      mAP50  mWARNING ⚠️ NMS time limit 1.300s exceeded\r\n",
      "                 Class     Images  Instances      Box(P          R      mAP50  m\r\n",
      "                   all        208       2166      0.872     0.0412      0.161      0.142\r\n",
      "\r\n",
      "      Epoch    GPU_mem   box_loss   cls_loss   dfl_loss  Instances       Size\r\n",
      "       6/20         0G     0.4422     0.3465     0.8388        218        640: 1\r\n",
      "                 Class     Images  Instances      Box(P          R      mAP50  mWARNING ⚠️ NMS time limit 2.100s exceeded\r\n",
      "                 Class     Images  Instances      Box(P          R      mAP50  mWARNING ⚠️ NMS time limit 2.100s exceeded\r\n",
      "                 Class     Images  Instances      Box(P          R      mAP50  mWARNING ⚠️ NMS time limit 2.100s exceeded\r\n",
      "                 Class     Images  Instances      Box(P          R      mAP50  mWARNING ⚠️ NMS time limit 2.100s exceeded\r\n",
      "                 Class     Images  Instances      Box(P          R      mAP50  mWARNING ⚠️ NMS time limit 2.100s exceeded\r\n",
      "                 Class     Images  Instances      Box(P          R      mAP50  mWARNING ⚠️ NMS time limit 2.100s exceeded\r\n",
      "                 Class     Images  Instances      Box(P          R      mAP50  mWARNING ⚠️ NMS time limit 1.300s exceeded\r\n",
      "                 Class     Images  Instances      Box(P          R      mAP50  m\r\n",
      "                   all        208       2166      0.814     0.0346      0.139      0.126\r\n",
      "\r\n",
      "      Epoch    GPU_mem   box_loss   cls_loss   dfl_loss  Instances       Size\r\n",
      "       7/20         0G     0.4336     0.3373     0.8349        197        640:  "
     ]
    }
   ],
   "source": [
    "!yolo task=detect mode=train model='/Users/maximvandecasteele/PycharmProjects/master2/mario_phase0/runs/detect/train5/weights/last.pt' data={dataset.location}/data.yaml epochs=20 imgsz=640 device=mps"
   ],
   "metadata": {
    "collapsed": false,
    "is_executing": true,
    "ExecuteTime": {
     "start_time": "2024-02-03T20:51:03.840695Z"
    }
   },
   "id": "ebaa50080b733c1a",
   "execution_count": null
  },
  {
   "cell_type": "markdown",
   "source": [
    "# Prediction (playground)"
   ],
   "metadata": {
    "collapsed": false
   },
   "id": "2ac42821d335caf9"
  },
  {
   "cell_type": "code",
   "outputs": [],
   "source": [
    "import yaml\n",
    "import pandas as pd\n",
    "\n",
    "with open('models/data.yaml','r') as file:\n",
    "    data = yaml.safe_load(file)\n",
    "    names = data['names']\n",
    "    \n",
    "    "
   ],
   "metadata": {
    "collapsed": false,
    "ExecuteTime": {
     "end_time": "2024-01-19T13:53:06.712079Z",
     "start_time": "2024-01-19T13:53:06.705604Z"
    }
   },
   "id": "d80864d05bc05762",
   "execution_count": 48
  },
  {
   "cell_type": "code",
   "outputs": [
    {
     "name": "stdout",
     "output_type": "stream",
     "text": [
      "Ultralytics YOLOv8.1.2 🚀 Python-3.11.5 torch-2.1.2 CPU (Apple M3 Pro)\r\n",
      "Model summary (fused): 218 layers, 25850761 parameters, 0 gradients, 78.7 GFLOPs\r\n",
      "\r\n",
      "image 1/106 /Users/maximvandecasteele/PycharmProjects/master2/mario_phase0/Mario-RL-1/test/images/SuperMarioBros-1-1-v0img_SuperMarioBros-1-1-v0_2024-01-19-15_17_22_png.rf.1fc272d9b63ffe303b20ec9aeb91c0a3.jpg: 640x640 1 brick, 1 ground, 1 mario, 2 pipes, 1 suprise_box, 189.2ms\r\n",
      "image 2/106 /Users/maximvandecasteele/PycharmProjects/master2/mario_phase0/Mario-RL-1/test/images/SuperMarioBros-1-1-v0img_SuperMarioBros-1-1-v0_2024-01-19-15_17_27_png.rf.9f575ceccdced4b4a72192f6ee654f7e.jpg: 640x640 2 goombas, 1 ground, 1 mario, 2 pipes, 180.8ms\r\n",
      "image 3/106 /Users/maximvandecasteele/PycharmProjects/master2/mario_phase0/Mario-RL-1/test/images/SuperMarioBros-1-1-v0img_SuperMarioBros-1-1-v0_2024-01-19-15_17_28_png.rf.70256f447f63660592dadc41295024e3.jpg: 640x640 1 ground, 1 mario, 177.6ms\r\n",
      "image 4/106 /Users/maximvandecasteele/PycharmProjects/master2/mario_phase0/Mario-RL-1/test/images/SuperMarioBros-1-1-v0img_SuperMarioBros-1-1-v0_2024-01-19-15_17_40_png.rf.e336e15756b7920719baef074d786d42.jpg: 640x640 1 goomba, 1 ground, 1 mario, 1 pipe, 177.1ms\r\n",
      "image 5/106 /Users/maximvandecasteele/PycharmProjects/master2/mario_phase0/Mario-RL-1/test/images/SuperMarioBros-1-1-v0img_SuperMarioBros-1-1-v0_2024-01-19-15_17_48_png.rf.0699c1cc6ffb4f5d538a5520e1cb96dd.jpg: 640x640 2 goombas, 1 ground, 1 mario, 2 pipes, 176.5ms\r\n",
      "image 6/106 /Users/maximvandecasteele/PycharmProjects/master2/mario_phase0/Mario-RL-1/test/images/SuperMarioBros-1-1-v0img_SuperMarioBros-1-1-v0_2024-01-19-15_17_50_png.rf.771a5a21161a4e8b6316d4e8ef77c853.jpg: 640x640 2 goombas, 1 ground, 1 mario, 2 pipes, 175.4ms\r\n",
      "image 7/106 /Users/maximvandecasteele/PycharmProjects/master2/mario_phase0/Mario-RL-1/test/images/SuperMarioBros-1-1-v0img_SuperMarioBros-1-1-v0_2024-01-19-15_18_06_png.rf.23e35b396f43180fe37b65a15ed65cd4.jpg: 640x640 3 bricks, 1 goomba, 1 ground, 1 mario, 4 suprise_boxs, 169.6ms\r\n",
      "image 8/106 /Users/maximvandecasteele/PycharmProjects/master2/mario_phase0/Mario-RL-1/test/images/SuperMarioBros-1-1-v0img_SuperMarioBros-1-1-v0_2024-01-19-15_18_14_png.rf.8c76048a0ad45f657c4844177880f6ba.jpg: 640x640 3 goombas, 1 ground, 1 mario, 2 pipes, 175.8ms\r\n",
      "image 9/106 /Users/maximvandecasteele/PycharmProjects/master2/mario_phase0/Mario-RL-1/test/images/SuperMarioBros-1-1-v0img_SuperMarioBros-1-1-v0_2024-01-19-15_18_33_png.rf.b9b35d9d9f9a68377d1a53b985d98fb8.jpg: 640x640 3 bricks, 2 goombas, 2 grounds, 1 mario, 1 suprise_box, 175.1ms\r\n",
      "image 10/106 /Users/maximvandecasteele/PycharmProjects/master2/mario_phase0/Mario-RL-1/test/images/SuperMarioBros-1-1-v0img_SuperMarioBros-1-1-v0_2024-01-19-15_18_45_png.rf.30eb0acde21c3b129c0a74556c46193f.jpg: 640x640 1 brick, 1 ground, 1 mario, 3 suprise_boxs, 176.6ms\r\n",
      "image 11/106 /Users/maximvandecasteele/PycharmProjects/master2/mario_phase0/Mario-RL-1/test/images/SuperMarioBros-1-1-v0img_SuperMarioBros-1-1-v0_2024-01-19-15_18_46_png.rf.9e103cd55c82cc29dc8558b7cc86cc33.jpg: 640x640 1 brick, 1 goomba, 1 ground, 1 mario, 4 suprise_boxs, 178.5ms\r\n",
      "image 12/106 /Users/maximvandecasteele/PycharmProjects/master2/mario_phase0/Mario-RL-1/test/images/SuperMarioBros-1-1-v0img_SuperMarioBros-1-1-v0_2024-01-19-15_18_54_png.rf.8a482162e287cc68c2eb6a2a7655c6b2.jpg: 640x640 1 ground, 1 mario, 1 suprise_box, 175.2ms\r\n",
      "image 13/106 /Users/maximvandecasteele/PycharmProjects/master2/mario_phase0/Mario-RL-1/test/images/SuperMarioBros-1-1-v0img_SuperMarioBros-1-1-v0_2024-01-19-15_18_59_png.rf.c650c787d9a615b1ae32b404b712a10d.jpg: 640x640 1 goomba, 1 ground, 1 mario, 2 pipes, 176.6ms\r\n",
      "image 14/106 /Users/maximvandecasteele/PycharmProjects/master2/mario_phase0/Mario-RL-1/test/images/SuperMarioBros-1-1-v0img_SuperMarioBros-1-1-v0_2024-01-19-15_19_13_png.rf.cc5e49b3a368575ef20263241a722a49.jpg: 640x640 3 bricks, 1 goomba, 1 ground, 1 mario, 1 surprise_box_empty, 176.8ms\r\n",
      "image 15/106 /Users/maximvandecasteele/PycharmProjects/master2/mario_phase0/Mario-RL-1/test/images/SuperMarioBros-1-1-v0img_SuperMarioBros-1-1-v0_2024-01-19-15_19_16_png.rf.af188b272b88eb5e30c4ae24d6013b5a.jpg: 640x640 4 bricks, 2 grounds, 1 mario, 1 surprise_box_empty, 176.8ms\r\n",
      "image 16/106 /Users/maximvandecasteele/PycharmProjects/master2/mario_phase0/Mario-RL-1/test/images/SuperMarioBros-1-1-v0img_SuperMarioBros-1-1-v0_2024-01-19-15_19_18_png.rf.8e5c14f3bbfd8d4f41615d2ad2e0c8a5.jpg: 640x640 4 bricks, 2 goombas, 1 ground, 1 mario, 1 suprise_box, 175.6ms\r\n",
      "image 17/106 /Users/maximvandecasteele/PycharmProjects/master2/mario_phase0/Mario-RL-1/test/images/SuperMarioBros-1-1-v0img_SuperMarioBros-1-1-v0_2024-01-19-15_19_19_png.rf.29910b7aa58b73210d5673b75844f286.jpg: 640x640 3 bricks, 1 goomba, 1 ground, 1 mario, 1 suprise_box, 177.1ms\r\n",
      "image 18/106 /Users/maximvandecasteele/PycharmProjects/master2/mario_phase0/Mario-RL-1/test/images/SuperMarioBros-1-1-v0img_SuperMarioBros-1-1-v0_2024-01-19-15_19_22_png.rf.bb9a357d7bbd3310d26a93fc4cc884c0.jpg: 640x640 1 brick, 2 goombas, 1 ground, 1 koopa_troopa, 1 mario, 4 suprise_boxs, 183.1ms\r\n",
      "image 19/106 /Users/maximvandecasteele/PycharmProjects/master2/mario_phase0/Mario-RL-1/test/images/SuperMarioBros-1-1-v0img_SuperMarioBros-1-1-v0_2024-01-19-15_19_49_png.rf.126647905774c05e4ba1838f6741791f.jpg: 640x640 3 bricks, 1 goomba, 2 grounds, 1 mario, 1 surprise_box_empty, 177.4ms\r\n",
      "image 20/106 /Users/maximvandecasteele/PycharmProjects/master2/mario_phase0/Mario-RL-1/test/images/SuperMarioBros-1-1-v0img_SuperMarioBros-1-1-v0_2024-01-19-15_20_09_png.rf.d3e2ffd904942f2d5e202ec2d8287c1e.jpg: 640x640 1 goomba, 1 ground, 1 mario, 2 pipes, 176.0ms\r\n",
      "image 21/106 /Users/maximvandecasteele/PycharmProjects/master2/mario_phase0/Mario-RL-1/test/images/SuperMarioBros-1-1-v0img_SuperMarioBros-1-1-v0_2024-01-19-15_20_38_png.rf.b3c4fe38e033245f811e9eb03f98ad43.jpg: 640x640 3 bricks, 1 goomba, 2 grounds, 1 mario, 1 surprise_box_empty, 175.4ms\r\n",
      "image 22/106 /Users/maximvandecasteele/PycharmProjects/master2/mario_phase0/Mario-RL-1/test/images/SuperMarioBros-1-1-v0img_SuperMarioBros-1-1-v0_2024-01-19-15_20_40_png.rf.6becc0b390d95df0057ced9d9636cc79.jpg: 640x640 3 bricks, 1 goomba, 2 grounds, 1 mario, 1 surprise_box_empty, 177.2ms\r\n",
      "image 23/106 /Users/maximvandecasteele/PycharmProjects/master2/mario_phase0/Mario-RL-1/test/images/SuperMarioBros-1-1-v0img_SuperMarioBros-1-1-v0_2024-01-19-15_20_44_png.rf.d70c2d4629e7559a742e46738fa95f75.jpg: 640x640 4 bricks, 2 grounds, 1 mario, 1 surprise_box_empty, 176.5ms\r\n",
      "image 24/106 /Users/maximvandecasteele/PycharmProjects/master2/mario_phase0/Mario-RL-1/test/images/SuperMarioBros-1-1-v0img_SuperMarioBros-1-1-v0_2024-01-19-15_20_50_png.rf.2b68df92f8b842a46753bada0f38b31e.jpg: 640x640 3 bricks, 1 goomba, 1 ground, 1 mario, 4 suprise_boxs, 174.5ms\r\n",
      "image 25/106 /Users/maximvandecasteele/PycharmProjects/master2/mario_phase0/Mario-RL-1/test/images/SuperMarioBros-1-1-v0img_SuperMarioBros-1-1-v0_2024-01-19-15_20_59_png.rf.b4f8617ce28ea15f86c32a92b68c12aa.jpg: 640x640 3 bricks, 1 goomba, 1 ground, 1 mario, 4 suprise_boxs, 180.2ms\r\n",
      "image 26/106 /Users/maximvandecasteele/PycharmProjects/master2/mario_phase0/Mario-RL-1/test/images/SuperMarioBros-1-1-v0img_SuperMarioBros-1-1-v0_2024-01-19-15_21_13_png.rf.e32d76544cf797a2043449a57b8d0996.jpg: 640x640 2 grounds, 1 mario, 1 pipe, 176.2ms\r\n",
      "image 27/106 /Users/maximvandecasteele/PycharmProjects/master2/mario_phase0/Mario-RL-1/test/images/SuperMarioBros-1-1-v0img_SuperMarioBros-1-1-v0_2024-01-19-15_21_19_png.rf.2fe7691e09a5aba4731f3e3d7c35ad45.jpg: 640x640 4 bricks, 2 goombas, 1 ground, 1 mario, 1 suprise_box, 175.2ms\r\n",
      "image 28/106 /Users/maximvandecasteele/PycharmProjects/master2/mario_phase0/Mario-RL-1/test/images/SuperMarioBros-1-1-v0img_SuperMarioBros-1-1-v0_2024-01-19-15_21_23_png.rf.78538a4d06b49e2f80fcbb16d6070084.jpg: 640x640 3 bricks, 1 goomba, 1 ground, 1 koopa_troopa, 1 mario, 2 suprise_boxs, 176.2ms\r\n",
      "image 29/106 /Users/maximvandecasteele/PycharmProjects/master2/mario_phase0/Mario-RL-1/test/images/SuperMarioBros-1-1-v0img_SuperMarioBros-1-1-v0_2024-01-19-15_22_00_png.rf.483ffed258942aa17ce9a2cd563432b3.jpg: 640x640 3 bricks, 1 goomba, 1 ground, 1 mario, 1 pipe, 4 suprise_boxs, 177.4ms\r\n",
      "image 30/106 /Users/maximvandecasteele/PycharmProjects/master2/mario_phase0/Mario-RL-1/test/images/SuperMarioBros-1-1-v0img_SuperMarioBros-1-1-v0_2024-01-19-15_22_12_png.rf.7c75e489efbdb3f61a28156477380358.jpg: 640x640 1 goomba, 1 ground, 1 mario, 2 pipes, 176.3ms\r\n",
      "image 31/106 /Users/maximvandecasteele/PycharmProjects/master2/mario_phase0/Mario-RL-1/test/images/SuperMarioBros-1-1-v0img_SuperMarioBros-1-1-v0_2024-01-19-15_22_53_png.rf.fc4ee09f72d0b9a1640105f93ad5225a.jpg: 640x640 3 bricks, 1 goomba, 2 grounds, 1 mario, 1 suprise_box, 177.7ms\r\n",
      "image 32/106 /Users/maximvandecasteele/PycharmProjects/master2/mario_phase0/Mario-RL-1/test/images/SuperMarioBros-1-1-v0img_SuperMarioBros-1-1-v0_2024-01-19-15_22_55_png.rf.5fb29967486c85907d0664ffe222db25.jpg: 640x640 3 bricks, 1 goomba, 1 ground, 1 koopa_troopa, 1 mario, 2 suprise_boxs, 172.3ms\r\n",
      "image 33/106 /Users/maximvandecasteele/PycharmProjects/master2/mario_phase0/Mario-RL-1/test/images/SuperMarioBros-1-1-v0img_SuperMarioBros-1-1-v0_2024-01-19-15_22_57_png.rf.a9691bf8f6c7a398966dc203735fd3e3.jpg: 640x640 3 bricks, 1 goomba, 1 ground, 1 koopa_troopa, 1 mario, 2 suprise_boxs, 176.0ms\r\n",
      "image 34/106 /Users/maximvandecasteele/PycharmProjects/master2/mario_phase0/Mario-RL-1/test/images/SuperMarioBros-1-1-v0img_SuperMarioBros-1-1-v0_2024-01-19-15_23_10_png.rf.fcf2dc4e2fb136c002b4fff721654025.jpg: 640x640 1 ground, 1 mario, 1 suprise_box, 177.3ms\r\n",
      "image 35/106 /Users/maximvandecasteele/PycharmProjects/master2/mario_phase0/Mario-RL-1/test/images/SuperMarioBros-1-1-v0img_SuperMarioBros-1-1-v0_2024-01-19-15_23_11_png.rf.f406ca32f89ae5a3a7a57d4a3f3b4348.jpg: 640x640 1 brick, 1 ground, 1 mario, 2 suprise_boxs, 178.2ms\r\n",
      "image 36/106 /Users/maximvandecasteele/PycharmProjects/master2/mario_phase0/Mario-RL-1/test/images/SuperMarioBros-1-1-v0img_SuperMarioBros-1-1-v0_2024-01-19-15_23_21_png.rf.7f5ad39b82ac101a9ea086287735fb35.jpg: 640x640 2 goombas, 1 ground, 1 mario, 2 pipes, 176.8ms\r\n",
      "image 37/106 /Users/maximvandecasteele/PycharmProjects/master2/mario_phase0/Mario-RL-1/test/images/SuperMarioBros-1-1-v0img_SuperMarioBros-1-1-v0_2024-01-19-15_23_22_png.rf.5acda90504ebef961c19ece8e245a376.jpg: 640x640 1 ground, 1 mario, 1 pipe, 175.4ms\r\n",
      "image 38/106 /Users/maximvandecasteele/PycharmProjects/master2/mario_phase0/Mario-RL-1/test/images/SuperMarioBros-1-1-v0img_SuperMarioBros-1-1-v0_2024-01-19-15_23_25_png.rf.ecac0787283c0c0c4d8307728683aad5.jpg: 640x640 3 bricks, 2 goombas, 1 ground, 1 mario, 1 surprise_box_empty, 177.5ms\r\n",
      "image 39/106 /Users/maximvandecasteele/PycharmProjects/master2/mario_phase0/Mario-RL-1/test/images/SuperMarioBros-1-1-v0img_SuperMarioBros-1-1-v0_2024-01-19-15_23_28_png.rf.f48ce60d37adbe0f61e962d79ba50c91.jpg: 640x640 4 bricks, 2 goombas, 1 ground, 1 mario, 1 suprise_box, 178.4ms\r\n",
      "image 40/106 /Users/maximvandecasteele/PycharmProjects/master2/mario_phase0/Mario-RL-1/test/images/SuperMarioBros-1-1-v0img_SuperMarioBros-1-1-v0_2024-01-19-15_23_58_png.rf.64d25a0d7729dd6312db443fd673f940.jpg: 640x640 3 bricks, 1 goomba, 1 ground, 1 mario, 3 suprise_boxs, 187.3ms\r\n",
      "image 41/106 /Users/maximvandecasteele/PycharmProjects/master2/mario_phase0/Mario-RL-1/test/images/SuperMarioBros-1-1-v0img_SuperMarioBros-1-1-v0_2024-01-19-15_24_00_png.rf.2ce4012f3ab337210c882d23d7758be3.jpg: 640x640 3 bricks, 1 ground, 1 mario, 1 pipe, 3 suprise_boxs, 1 surprise_box_empty, 176.7ms\r\n",
      "image 42/106 /Users/maximvandecasteele/PycharmProjects/master2/mario_phase0/Mario-RL-1/test/images/SuperMarioBros-1-1-v0img_SuperMarioBros-1-1-v0_2024-01-19-15_24_03_png.rf.5d7d3b789b4d42d82d566831381acaf6.jpg: 640x640 1 goomba, 1 ground, 1 mario, 2 pipes, 177.5ms\r\n",
      "image 43/106 /Users/maximvandecasteele/PycharmProjects/master2/mario_phase0/Mario-RL-1/test/images/SuperMarioBros-1-1-v0img_SuperMarioBros-1-1-v0_2024-01-19-15_24_12_png.rf.b4b8c8edada0a1b71f369046ef8200e6.jpg: 640x640 3 bricks, 1 goomba, 2 grounds, 1 mario, 1 surprise_box_empty, 173.7ms\r\n",
      "image 44/106 /Users/maximvandecasteele/PycharmProjects/master2/mario_phase0/Mario-RL-1/test/images/SuperMarioBros-1-1-v0img_SuperMarioBros-1-1-v0_2024-01-19-15_24_16_png.rf.1112e069bfc5385bfd9b42331b21d294.jpg: 640x640 1 brick, 1 ground, 1 koopa_troopa, 1 mario, 4 suprise_boxs, 178.2ms\r\n",
      "image 45/106 /Users/maximvandecasteele/PycharmProjects/master2/mario_phase0/Mario-RL-1/test/images/SuperMarioBros-1-1-v0img_SuperMarioBros-1-1-v0_2024-01-19-15_24_40_png.rf.cb42e7f6c435ed6d153ac4026b9b3607.jpg: 640x640 1 brick, 1 ground, 1 mario, 1 shield, 4 suprise_boxs, 178.3ms\r\n",
      "image 46/106 /Users/maximvandecasteele/PycharmProjects/master2/mario_phase0/Mario-RL-1/test/images/SuperMarioBros-1-1-v0img_SuperMarioBros-1-1-v0_2024-01-19-15_24_44_png.rf.a66210705c45a9e428b5d6cf423c6786.jpg: 640x640 1 brick, 2 goombas, 1 ground, 1 mario, 3 suprise_boxs, 1 surprise_box_empty, 177.3ms\r\n",
      "image 47/106 /Users/maximvandecasteele/PycharmProjects/master2/mario_phase0/Mario-RL-1/test/images/SuperMarioBros-1-1-v0img_SuperMarioBros-1-1-v0_2024-01-19-15_25_00_png.rf.71c6e07c5a9316f556fbc4c4086cbcae.jpg: 640x640 3 bricks, 1 goomba, 1 ground, 1 mario, 1 pipe, 3 suprise_boxs, 1 surprise_box_empty, 178.2ms\r\n",
      "image 48/106 /Users/maximvandecasteele/PycharmProjects/master2/mario_phase0/Mario-RL-1/test/images/SuperMarioBros-1-1-v0img_SuperMarioBros-1-1-v0_2024-01-19-15_25_09_png.rf.0cb9c2a801243c55dfdcaed775a00c22.jpg: 640x640 3 goombas, 1 ground, 1 mario, 2 pipes, 178.2ms\r\n",
      "image 49/106 /Users/maximvandecasteele/PycharmProjects/master2/mario_phase0/Mario-RL-1/test/images/SuperMarioBros-1-1-v0img_SuperMarioBros-1-1-v0_2024-01-19-15_25_16_png.rf.ac795cd490b9036f1f77331e29a9a4bb.jpg: 640x640 3 bricks, 1 goomba, 2 grounds, 1 mario, 1 surprise_box_empty, 177.7ms\r\n",
      "image 50/106 /Users/maximvandecasteele/PycharmProjects/master2/mario_phase0/Mario-RL-1/test/images/SuperMarioBros-1-1-v0img_SuperMarioBros-1-1-v0_2024-01-19-15_25_18_png.rf.d5b94f7354e53b1427c7868db4e1c376.jpg: 640x640 4 bricks, 2 goombas, 2 grounds, 1 mario, 1 suprise_box, 176.6ms\r\n",
      "image 51/106 /Users/maximvandecasteele/PycharmProjects/master2/mario_phase0/Mario-RL-1/test/images/SuperMarioBros-1-1-v0img_SuperMarioBros-1-1-v0_2024-01-19-15_25_22_png.rf.51be6d2b2a853d943c1ff29aa3604cbb.jpg: 640x640 1 brick, 2 goombas, 1 ground, 1 mario, 1 shield, 4 suprise_boxs, 178.2ms\r\n",
      "image 52/106 /Users/maximvandecasteele/PycharmProjects/master2/mario_phase0/Mario-RL-1/test/images/SuperMarioBros-1-1-v0img_SuperMarioBros-1-1-v0_2024-01-19-15_25_23_png.rf.cc92509c360654a7900047a5f0c9f51d.jpg: 640x640 1 brick, 2 goombas, 1 ground, 1 mario, 1 shield, 4 suprise_boxs, 178.0ms\r\n",
      "image 53/106 /Users/maximvandecasteele/PycharmProjects/master2/mario_phase0/Mario-RL-1/test/images/SuperMarioBros-1-1-v0img_SuperMarioBros-1-1-v0_2024-01-19-15_25_25_png.rf.4715d2e2ce73aaac08122f8fcdc94a16.jpg: 640x640 1 brick, 1 goomba, 1 ground, 1 mario, 1 shield, 4 suprise_boxs, 175.1ms\r\n",
      "image 54/106 /Users/maximvandecasteele/PycharmProjects/master2/mario_phase0/Mario-RL-1/test/images/SuperMarioBros-1-1-v0img_SuperMarioBros-1-1-v0_2024-01-19-15_25_32_png.rf.3e71691d1d54f00706546e411e3c20c1.jpg: 640x640 2 bricks, 1 ground, 1 mario, 20 stones, 1 suprise_box, 179.5ms\r\n",
      "image 55/106 /Users/maximvandecasteele/PycharmProjects/master2/mario_phase0/Mario-RL-1/test/images/SuperMarioBros-1-1-v0img_SuperMarioBros-1-1-v0_2024-01-19-15_25_34_png.rf.a981499ef39fe7c0520f96a3c178dcf7.jpg: 640x640 2 grounds, 1 mario, 31 stones, 175.8ms\r\n",
      "image 56/106 /Users/maximvandecasteele/PycharmProjects/master2/mario_phase0/Mario-RL-1/test/images/SuperMarioBros-1-1-v0img_SuperMarioBros-1-1-v0_2024-01-19-15_25_59_png.rf.7c246d0fa06eea6d82a22fa952bca9f0.jpg: 640x640 3 bricks, 1 goomba, 1 ground, 1 mario, 4 suprise_boxs, 177.2ms\r\n",
      "image 57/106 /Users/maximvandecasteele/PycharmProjects/master2/mario_phase0/Mario-RL-1/test/images/SuperMarioBros-1-1-v0img_SuperMarioBros-1-1-v0_2024-01-19-15_26_04_png.rf.42151824a5828da01a87a774c7d43977.jpg: 640x640 2 goombas, 1 ground, 1 mario, 2 pipes, 178.0ms\r\n",
      "image 58/106 /Users/maximvandecasteele/PycharmProjects/master2/mario_phase0/Mario-RL-1/test/images/SuperMarioBros-1-1-v0img_SuperMarioBros-1-1-v0_2024-01-19-15_26_23_png.rf.23c61e81d03803ee8b5fc784f50e61af.jpg: 640x640 1 brick, 1 goomba, 1 ground, 1 mario, 2 suprise_boxs, 177.1ms\r\n",
      "image 59/106 /Users/maximvandecasteele/PycharmProjects/master2/mario_phase0/Mario-RL-1/test/images/SuperMarioBros-1-1-v0img_SuperMarioBros-1-1-v0_2024-01-19-15_26_50_png.rf.824568bbe7cb0808e427359e1d97c978.jpg: 640x640 2 bricks, 1 ground, 1 mario, 2 pipes, 2 suprise_boxs, 176.9ms\r\n",
      "image 60/106 /Users/maximvandecasteele/PycharmProjects/master2/mario_phase0/Mario-RL-1/test/images/SuperMarioBros-1-1-v0img_SuperMarioBros-1-1-v0_2024-01-19-15_26_54_png.rf.56426c40e93d5aa808085d1aac5b8c2f.jpg: 640x640 2 goombas, 1 ground, 1 mario, 2 pipes, 169.5ms\r\n",
      "image 61/106 /Users/maximvandecasteele/PycharmProjects/master2/mario_phase0/Mario-RL-1/test/images/SuperMarioBros-1-1-v0img_SuperMarioBros-1-1-v0_2024-01-19-15_26_55_png.rf.59fba916bdb518f042230a397dd203b3.jpg: 640x640 2 goombas, 1 ground, 1 mario, 2 pipes, 169.6ms\r\n",
      "image 62/106 /Users/maximvandecasteele/PycharmProjects/master2/mario_phase0/Mario-RL-1/test/images/SuperMarioBros-1-1-v0img_SuperMarioBros-1-1-v0_2024-01-19-15_27_22_png.rf.020e5031caf82680ad25f4d5979308a9.jpg: 640x640 2 grounds, 1 mario, 167.9ms\r\n",
      "image 63/106 /Users/maximvandecasteele/PycharmProjects/master2/mario_phase0/Mario-RL-1/test/images/SuperMarioBros-1-1-v0img_SuperMarioBros-1-1-v0_2024-01-19-15_27_23_png.rf.2eeffe57e3e7a67df288dbb5d31b1987.jpg: 640x640 3 bricks, 2 goombas, 2 grounds, 1 mario, 1 suprise_box, 169.1ms\r\n",
      "image 64/106 /Users/maximvandecasteele/PycharmProjects/master2/mario_phase0/Mario-RL-1/test/images/SuperMarioBros-1-1-v0img_SuperMarioBros-1-1-v0_2024-01-19-15_27_26_png.rf.39603207c0b85570b6587d4599c49b3b.jpg: 640x640 3 bricks, 2 goombas, 2 grounds, 1 mario, 1 suprise_box, 167.2ms\r\n",
      "image 65/106 /Users/maximvandecasteele/PycharmProjects/master2/mario_phase0/Mario-RL-1/test/images/SuperMarioBros-1-1-v0img_SuperMarioBros-1-1-v0_2024-01-19-15_27_31_png.rf.57f4fe68032b0e78b061f87cd674e3d9.jpg: 640x640 2 bricks, 3 goombas, 1 ground, 1 mario, 1 suprise_box, 171.9ms\r\n",
      "image 66/106 /Users/maximvandecasteele/PycharmProjects/master2/mario_phase0/Mario-RL-1/test/images/SuperMarioBros-1-1-v0img_SuperMarioBros-1-1-v0_2024-01-19-15_27_42_png.rf.38495706cceff02edf1d7d19fe65eedb.jpg: 640x640 2 bricks, 2 goombas, 1 ground, 1 mario, 1 pipe, 1 suprise_box, 173.0ms\r\n",
      "image 67/106 /Users/maximvandecasteele/PycharmProjects/master2/mario_phase0/Mario-RL-1/test/images/SuperMarioBros-2-1-v0img_SuperMarioBros-2-1-v0_2024-01-20-11_40_58_png.rf.57e4530c84ffe692052e9802a3180f04.jpg: 640x640 1 brick, 1 ground, 1 koopa_troopa, 1 mario, 1 shield, 18 stones, 1 surprise_box_empty, 172.5ms\r\n",
      "image 68/106 /Users/maximvandecasteele/PycharmProjects/master2/mario_phase0/Mario-RL-1/test/images/SuperMarioBros-2-1-v0img_SuperMarioBros-2-1-v0_2024-01-20-11_41_01_png.rf.e01674ea347e967fd5ec66c85e3d0045.jpg: 640x640 1 brick, 1 ground, 1 koopa_troopa, 1 mario, 1 shield, 11 stones, 1 surprise_box_empty, 176.8ms\r\n",
      "image 69/106 /Users/maximvandecasteele/PycharmProjects/master2/mario_phase0/Mario-RL-1/test/images/SuperMarioBros-2-1-v0img_SuperMarioBros-2-1-v0_2024-01-20-11_41_26_png.rf.0e82b86a62aec238c25e8e05608db5d1.jpg: 640x640 2 bricks, 1 ground, 1 mario, 1 pipe, 1 piranha_plant, 1 shield, 170.4ms\r\n",
      "image 70/106 /Users/maximvandecasteele/PycharmProjects/master2/mario_phase0/Mario-RL-1/test/images/SuperMarioBros-2-1-v0img_SuperMarioBros-2-1-v0_2024-01-20-11_41_54_png.rf.7733f32ac0cd05ca3591a11b82219e9a.jpg: 640x640 1 goomba, 1 ground, 1 mario, 1 pipe, 1 piranha_plant, 6 stones, 170.7ms\r\n",
      "image 71/106 /Users/maximvandecasteele/PycharmProjects/master2/mario_phase0/Mario-RL-1/test/images/SuperMarioBros-2-1-v0img_SuperMarioBros-2-1-v0_2024-01-20-11_42_13_png.rf.f95043629bc3562a06aa0ed6246534cd.jpg: 640x640 3 bricks, 1 goomba, 1 ground, 1 mario, 1 pipe, 3 suprise_boxs, 170.4ms\r\n",
      "image 72/106 /Users/maximvandecasteele/PycharmProjects/master2/mario_phase0/Mario-RL-1/test/images/SuperMarioBros-2-1-v0img_SuperMarioBros-2-1-v0_2024-01-20-11_42_35_png.rf.740aab63e27faa5b6c43f9ce18b3c701.jpg: 640x640 2 goombas, 1 ground, 1 mario, 1 pipe, 1 piranha_plant, 6 stones, 173.3ms\r\n",
      "image 73/106 /Users/maximvandecasteele/PycharmProjects/master2/mario_phase0/Mario-RL-1/test/images/SuperMarioBros-2-1-v0img_SuperMarioBros-2-1-v0_2024-01-20-11_43_10_png.rf.50bb7dfbb1656bf88ce431f08ef764d3.jpg: 640x640 1 brick, 2 grounds, 1 mario, 1 pipe, 168.1ms\r\n",
      "image 74/106 /Users/maximvandecasteele/PycharmProjects/master2/mario_phase0/Mario-RL-1/test/images/SuperMarioBros-2-1-v0img_SuperMarioBros-2-1-v0_2024-01-20-11_43_18_png.rf.0bb555f0d002b2715f34755ccb93ab97.jpg: 640x640 1 brick, 1 goomba, 1 ground, 1 mario, 2 pipes, 179.0ms\r\n",
      "image 75/106 /Users/maximvandecasteele/PycharmProjects/master2/mario_phase0/Mario-RL-1/test/images/SuperMarioBros-2-1-v0img_SuperMarioBros-2-1-v0_2024-01-20-11_43_31_png.rf.af994a53f2cba457af69bf52d3d77407.jpg: 640x640 2 grounds, 1 koopa_troopa, 1 mario, 3 stones, 170.6ms\r\n",
      "image 76/106 /Users/maximvandecasteele/PycharmProjects/master2/mario_phase0/Mario-RL-1/test/images/SuperMarioBros-2-1-v0img_SuperMarioBros-2-1-v0_2024-01-20-11_43_58_png.rf.bfd68009be51b94680e175390f96a9c1.jpg: 640x640 2 bricks, 1 ground, 2 koopa_troopas, 1 mario, 1 pipe, 1 suprise_box, 175.8ms\r\n",
      "image 77/106 /Users/maximvandecasteele/PycharmProjects/master2/mario_phase0/Mario-RL-1/test/images/SuperMarioBros-2-1-v0img_SuperMarioBros-2-1-v0_2024-01-20-11_44_18_png.rf.519fa2cd3b3dfd3b27f04606b0ba7141.jpg: 640x640 1 brick, 1 ground, 1 jumping_platform, 1 koopa_troopa, 1 mario, 20 stones, 1 surprise_box_empty, 179.9ms\r\n",
      "image 78/106 /Users/maximvandecasteele/PycharmProjects/master2/mario_phase0/Mario-RL-1/test/images/SuperMarioBros-2-1-v0img_SuperMarioBros-2-1-v0_2024-01-20-11_46_45_png.rf.17ab78b95dc5c852f98b74edb4780cee.jpg: 640x640 1 brick, 1 castle, 1 ground, 1 mario, 173.4ms\r\n",
      "image 79/106 /Users/maximvandecasteele/PycharmProjects/master2/mario_phase0/Mario-RL-1/test/images/SuperMarioBros-2-1-v0img_SuperMarioBros-2-1-v0_2024-01-20-11_47_33_png.rf.f0e5e52c09db55284bdc484f55202879.jpg: 640x640 1 brick, 1 castle, 1 ground, 1 mario, 174.4ms\r\n",
      "image 80/106 /Users/maximvandecasteele/PycharmProjects/master2/mario_phase0/Mario-RL-1/test/images/SuperMarioBros-2-1-v0img_SuperMarioBros-2-1-v0_2024-01-20-11_48_24_png.rf.b00fa959acdb8c37bbee5fc59f112276.jpg: 640x640 1 brick, 1 castle, 1 ground, 1 mario, 2 stones, 176.3ms\r\n",
      "image 81/106 /Users/maximvandecasteele/PycharmProjects/master2/mario_phase0/Mario-RL-1/test/images/SuperMarioBros-3-1-v0img_SuperMarioBros-3-1-v0_2024-01-20-11_57_45_png.rf.d7a9377193a14708c61d006947155721.jpg: 640x640 1 castle, 1 ground, 1 mario, 176.4ms\r\n",
      "image 82/106 /Users/maximvandecasteele/PycharmProjects/master2/mario_phase0/Mario-RL-1/test/images/SuperMarioBros-3-1-v0img_SuperMarioBros-3-1-v0_2024-01-20-11_58_16_png.rf.c05f13c64bea09ddc0a98997a3358855.jpg: 640x640 1 castle, 1 ground, 1 mario, 1 suprise_box, 180.2ms\r\n",
      "image 83/106 /Users/maximvandecasteele/PycharmProjects/master2/mario_phase0/Mario-RL-1/test/images/SuperMarioBros-3-1-v0img_SuperMarioBros-3-1-v0_2024-01-20-11_58_29_png.rf.84323a47fe6d36e9c136a6e219d5bf8a.jpg: 640x640 1 brick, 3 goombas, 1 ground, 1 mario, 1 pipe, 1 piranha_plant, 171.3ms\r\n",
      "image 84/106 /Users/maximvandecasteele/PycharmProjects/master2/mario_phase0/Mario-RL-1/test/images/SuperMarioBros-3-1-v0img_SuperMarioBros-3-1-v0_2024-01-20-11_58_32_png.rf.58e729ee5f2f5e859018cfdf78b60ea6.jpg: 640x640 1 brick, 2 goombas, 1 ground, 1 mario, 1 pipe, 1 piranha_plant, 172.6ms\r\n",
      "image 85/106 /Users/maximvandecasteele/PycharmProjects/master2/mario_phase0/Mario-RL-1/test/images/SuperMarioBros-3-1-v0img_SuperMarioBros-3-1-v0_2024-01-20-11_58_39_png.rf.542493768e5a31128321ee4007595837.jpg: 640x640 1 brick, 1 bridge, 3 goombas, 3 grounds, 1 mario, 10 stones, 178.7ms\r\n",
      "image 86/106 /Users/maximvandecasteele/PycharmProjects/master2/mario_phase0/Mario-RL-1/test/images/SuperMarioBros-3-1-v0img_SuperMarioBros-3-1-v0_2024-01-20-11_58_40_png.rf.19d127b155546651b1e4a59b46b24ca4.jpg: 640x640 1 brick, 1 bridge, 3 goombas, 2 grounds, 1 mario, 10 stones, 175.3ms\r\n",
      "image 87/106 /Users/maximvandecasteele/PycharmProjects/master2/mario_phase0/Mario-RL-1/test/images/SuperMarioBros-3-1-v0img_SuperMarioBros-3-1-v0_2024-01-20-11_58_50_png.rf.9fa8538dd778dd7b48ba559e2f200caa.jpg: 640x640 1 goomba, 1 ground, 1 mario, 2 pipes, 2 piranha_plants, 174.7ms\r\n",
      "image 88/106 /Users/maximvandecasteele/PycharmProjects/master2/mario_phase0/Mario-RL-1/test/images/SuperMarioBros-3-1-v0img_SuperMarioBros-3-1-v0_2024-01-20-11_58_51_png.rf.645a4644bc796988350783be2e867158.jpg: 640x640 1 goomba, 1 ground, 1 mario, 2 pipes, 1 piranha_plant, 178.4ms\r\n",
      "image 89/106 /Users/maximvandecasteele/PycharmProjects/master2/mario_phase0/Mario-RL-1/test/images/SuperMarioBros-3-1-v0img_SuperMarioBros-3-1-v0_2024-01-20-11_58_59_png.rf.37aa549c3ad91b39f6401c24b73d3458.jpg: 640x640 2 goombas, 2 grounds, 1 mario, 1 pipe, 1 piranha_plant, 174.4ms\r\n",
      "image 90/106 /Users/maximvandecasteele/PycharmProjects/master2/mario_phase0/Mario-RL-1/test/images/SuperMarioBros-3-1-v0img_SuperMarioBros-3-1-v0_2024-01-20-11_59_06_png.rf.4266c0274cfcee5f9ff47712b6971d2c.jpg: 640x640 1 brick, 1 ground, 1 koopa_troopa, 1 mario, 2 pipes, 1 piranha_plant, 175.2ms\r\n",
      "image 91/106 /Users/maximvandecasteele/PycharmProjects/master2/mario_phase0/Mario-RL-1/test/images/SuperMarioBros-3-1-v0img_SuperMarioBros-3-1-v0_2024-01-20-11_59_10_png.rf.9b113dd9d7c7d517ec0830b60cd191a8.jpg: 640x640 1 brick, 1 ground, 1 koopa_troopa, 1 mario, 1 pipe, 1 piranha_plant, 3 stones, 175.9ms\r\n",
      "image 92/106 /Users/maximvandecasteele/PycharmProjects/master2/mario_phase0/Mario-RL-1/test/images/SuperMarioBros-3-1-v0img_SuperMarioBros-3-1-v0_2024-01-20-11_59_26_png.rf.043a6f15b9cce016c3c94affe5be8258.jpg: 640x640 4 bricks, 1 ground, 1 hammer_brother, 1 mario, 1 pipe, 1 piranha_plant, 2 suprise_boxs, 177.3ms\r\n",
      "image 93/106 /Users/maximvandecasteele/PycharmProjects/master2/mario_phase0/Mario-RL-1/test/images/SuperMarioBros-3-1-v0img_SuperMarioBros-3-1-v0_2024-01-20-11_59_54_png.rf.2d3b8a26c747f1291b07c6fce6896f4f.jpg: 640x640 1 brick, 1 goomba, 1 ground, 1 koopa_paratroopa, 1 koopa_troopa, 1 mario, 1 pipe, 1 piranha_plant, 1 suprise_box, 178.9ms\r\n",
      "image 94/106 /Users/maximvandecasteele/PycharmProjects/master2/mario_phase0/Mario-RL-1/test/images/SuperMarioBros-3-1-v0img_SuperMarioBros-3-1-v0_2024-01-20-12_00_36_png.rf.5bc31df2e5e305f24d04b58089c20e13.jpg: 640x640 4 bricks, 1 ground, 1 hammer_brother, 1 jumping_platform, 1 mario, 2 suprise_boxs, 175.7ms\r\n",
      "image 95/106 /Users/maximvandecasteele/PycharmProjects/master2/mario_phase0/Mario-RL-1/test/images/SuperMarioBros-3-1-v0img_SuperMarioBros-3-1-v0_2024-01-20-12_00_40_png.rf.b1c83dabdbeb67de478f0106df56ac23.jpg: 640x640 1 castle, 1 ground, 1 mario, 2 suprise_boxs, 177.8ms\r\n",
      "image 96/106 /Users/maximvandecasteele/PycharmProjects/master2/mario_phase0/Mario-RL-1/test/images/SuperMarioBros-3-1-v0img_SuperMarioBros-3-1-v0_2024-01-20-12_00_45_png.rf.a3d0c4e12c5669ffc5465a9ec39f7807.jpg: 640x640 1 castle, 1 ground, 1 mario, 181.8ms\r\n",
      "image 97/106 /Users/maximvandecasteele/PycharmProjects/master2/mario_phase0/Mario-RL-1/test/images/SuperMarioBros-3-1-v0img_SuperMarioBros-3-1-v0_2024-01-20-12_00_49_png.rf.8106dd5f7370857c0442e0bb69be774b.jpg: 640x640 1 brick, 1 ground, 2 koopa_paratroopas, 1 mario, 3 suprise_boxs, 176.7ms\r\n",
      "image 98/106 /Users/maximvandecasteele/PycharmProjects/master2/mario_phase0/Mario-RL-1/test/images/SuperMarioBros-3-1-v0img_SuperMarioBros-3-1-v0_2024-01-20-12_00_53_png.rf.ecb28f368e071801957b6e476cd23a26.jpg: 640x640 1 castle, 1 ground, 1 mario, 176.7ms\r\n",
      "image 99/106 /Users/maximvandecasteele/PycharmProjects/master2/mario_phase0/Mario-RL-1/test/images/SuperMarioBros-3-1-v0img_SuperMarioBros-3-1-v0_2024-01-20-12_01_26_png.rf.7390bdb426e9dda66ab8afdb1621c85e.jpg: 640x640 1 goomba, 1 ground, 1 mario, 2 pipes, 1 piranha_plant, 176.3ms\r\n",
      "image 100/106 /Users/maximvandecasteele/PycharmProjects/master2/mario_phase0/Mario-RL-1/test/images/SuperMarioBros-3-1-v0img_SuperMarioBros-3-1-v0_2024-01-20-12_02_40_png.rf.c8516580e1a36562ff52fad29de63a50.jpg: 640x640 1 brick, 1 ground, 1 koopa_paratroopa, 1 koopa_troopa, 1 mario, 1 pipe, 1 piranha_plant, 2 suprise_boxs, 178.2ms\r\n",
      "image 101/106 /Users/maximvandecasteele/PycharmProjects/master2/mario_phase0/Mario-RL-1/test/images/SuperMarioBros-3-1-v0img_SuperMarioBros-3-1-v0_2024-01-20-12_02_41_png.rf.542826e96df16cfa6b29eb9d56b94387.jpg: 640x640 1 brick, 1 ground, 1 koopa_paratroopa, 1 koopa_troopa, 1 mario, 1 pipe, 1 piranha_plant, 2 suprise_boxs, 176.0ms\r\n",
      "image 102/106 /Users/maximvandecasteele/PycharmProjects/master2/mario_phase0/Mario-RL-1/test/images/SuperMarioBros-3-1-v0img_SuperMarioBros-3-1-v0_2024-01-20-12_03_42_png.rf.f3b98cd09b89511213ab159f781a88b8.jpg: 640x640 1 castle, 1 ground, 1 mario, 1 suprise_box, 174.4ms\r\n",
      "image 103/106 /Users/maximvandecasteele/PycharmProjects/master2/mario_phase0/Mario-RL-1/test/images/SuperMarioBros-3-1-v0img_SuperMarioBros-3-1-v0_2024-01-20-12_03_56_png.rf.520abc0e97c4d83c30c81e1a7a3a1e64.jpg: 640x640 1 brick, 1 goomba, 1 ground, 1 koopa_troopa, 1 mario, 1 pipe, 1 piranha_plant, 175.3ms\r\n",
      "image 104/106 /Users/maximvandecasteele/PycharmProjects/master2/mario_phase0/Mario-RL-1/test/images/SuperMarioBros-3-1-v0img_SuperMarioBros-3-1-v0_2024-01-20-12_04_06_png.rf.acf994192e74591d362303a327eeba31.jpg: 640x640 1 castle, 1 ground, 1 mario, 177.0ms\r\n",
      "image 105/106 /Users/maximvandecasteele/PycharmProjects/master2/mario_phase0/Mario-RL-1/test/images/SuperMarioBros-3-1-v0img_SuperMarioBros-3-1-v0_2024-01-22-18_16_47_png.rf.dd49826c5b2f9d0a371a041b05860255.jpg: 640x640 1 brick, 1 ground, 1 koopa_troopa, 1 mario, 2 pipes, 1 piranha_plant, 178.8ms\r\n",
      "image 106/106 /Users/maximvandecasteele/PycharmProjects/master2/mario_phase0/Mario-RL-1/test/images/SuperMarioBros-3-1-v0img_SuperMarioBros-3-1-v0_2024-01-22-18_19_33_png.rf.a4b3b7e515154eadbabf9db03d96676e.jpg: 640x640 1 goomba, 1 ground, 1 mario, 2 pipes, 2 piranha_plants, 177.0ms\r\n",
      "Speed: 0.8ms preprocess, 176.1ms inference, 0.5ms postprocess per image at shape (1, 3, 640, 640)\r\n",
      "Results saved to \u001B[1mruns/detect/predict2\u001B[0m\r\n",
      "💡 Learn more at https://docs.ultralytics.com/modes/predict\r\n"
     ]
    }
   ],
   "source": [
    "# run this if you want to see bounding boxes on images\n",
    "!yolo task=detect mode=predict model='/Users/maximvandecasteele/PycharmProjects/master2/mario_phase0/runs/detect/train6/weights/best.pt' conf=0.5 source='/Users/maximvandecasteele/PycharmProjects/master2/mario_phase0/Mario-RL-1/test/images/'"
   ],
   "metadata": {
    "collapsed": false,
    "ExecuteTime": {
     "end_time": "2024-02-04T15:41:40.175018Z",
     "start_time": "2024-02-04T15:41:19.135262Z"
    }
   },
   "id": "feb1944eb5926990",
   "execution_count": 9
  },
  {
   "cell_type": "code",
   "outputs": [
    {
     "name": "stdout",
     "output_type": "stream",
     "text": [
      "image 1/1 /Users/maximvandecasteele/PycharmProjects/master2/mario_phase0/demo_frames/img_SuperMarioBros-1-1-v0_2024-01-17-16_08_35.png: 608x640 4 brickss, 3 goombas, 2 surprise_boxs, 168.2ms\n",
      "Speed: 1.3ms preprocess, 168.2ms inference, 0.5ms postprocess per image at shape (1, 3, 608, 640)\n"
     ]
    }
   ],
   "source": [
    "import pandas as pd\n",
    "\n",
    "# return bounding boxes\n",
    "model = YOLO('models/Mario_OD_vanilla_best.pt')\n",
    "\n",
    "\n",
    "# just load an image or list of images into the model for prediction\n",
    "# for result object   https://docs.ultralytics.com/modes/predict/#working-with-results\n",
    "results = model('demo_frames/img_SuperMarioBros-1-1-v0_2024-01-17-16_08_35.png')\n",
    "\n",
    "for r in results:\n",
    "    boxes = r.boxes.numpy()\n",
    "    classes = pd.DataFrame(boxes.cls, columns=['class'])\n",
    "    xywh = pd.DataFrame(boxes.xywh, columns=['x', 'y', 'w', 'h'])\n",
    "    positions = pd.concat([classes,xywh], axis=1)\n",
    "\n",
    "positions = pd.DataFrame(data=None, columns=['name', 'class', 'x', 'y', 'w', 'h'])\n",
    "\n",
    "for r in results:\n",
    "            boxes = r.boxes.cpu().numpy()\n",
    "            classes = pd.DataFrame(boxes.cls, columns=['class'])\n",
    "            # other types of bounding box data can be chosen: xyxy, xywh, xyxyn, xywhn\n",
    "            xywh = pd.DataFrame(boxes.xywh, columns=['x', 'y', 'w', 'h'])\n",
    "            names_pd = classes['class'].apply(lambda x: names[int(x)])\n",
    "            positions = pd.concat([classes, names_pd, xywh], axis=1)\n"
   ],
   "metadata": {
    "collapsed": false,
    "ExecuteTime": {
     "end_time": "2024-01-19T13:55:29.542647Z",
     "start_time": "2024-01-19T13:55:29.156083Z"
    }
   },
   "id": "4802bacf31fdccd",
   "execution_count": 51
  }
 ],
 "metadata": {
  "kernelspec": {
   "display_name": "Python 3",
   "language": "python",
   "name": "python3"
  },
  "language_info": {
   "codemirror_mode": {
    "name": "ipython",
    "version": 2
   },
   "file_extension": ".py",
   "mimetype": "text/x-python",
   "name": "python",
   "nbconvert_exporter": "python",
   "pygments_lexer": "ipython2",
   "version": "2.7.6"
  }
 },
 "nbformat": 4,
 "nbformat_minor": 5
}
