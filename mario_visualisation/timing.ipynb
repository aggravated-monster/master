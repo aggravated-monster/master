{
 "cells": [
  {
   "cell_type": "code",
   "id": "490b101f-81c2-4180-ad12-b2fb06360687",
   "metadata": {
    "ExecuteTime": {
     "end_time": "2024-06-22T13:23:50.402235Z",
     "start_time": "2024-06-22T13:23:50.399117Z"
    }
   },
   "source": [
    "import pandas as pd\n",
    "import matplotlib.pyplot as plt \n",
    "import seaborn as sns\n",
    "from scipy import stats\n",
    "\n",
    "sns.set_style(\"white\")"
   ],
   "outputs": [],
   "execution_count": 9
  },
  {
   "metadata": {
    "ExecuteTime": {
     "end_time": "2024-06-22T13:23:51.529697Z",
     "start_time": "2024-06-22T13:23:51.525924Z"
    }
   },
   "cell_type": "code",
   "source": [
    "def sort_criterion(row):\n",
    "   if row['name'] == 'baseline':\n",
    "      return 1\n",
    "   if row['name'] == 'detector':\n",
    "      return 2\n",
    "   if row['name'] == 'positioner':\n",
    "      return 3\n",
    "   if row['name'] == 'collector':\n",
    "      return 4\n",
    "   if row['name'] == 'inducer':\n",
    "      return 5\n",
    "   if row['name'] == 'integrated':\n",
    "      return 6   \n",
    "   return 7"
   ],
   "id": "dca7683120cec701",
   "outputs": [],
   "execution_count": 10
  },
  {
   "cell_type": "code",
   "id": "a12fbda3-25bd-47bf-aa1c-8944357c4a74",
   "metadata": {
    "ExecuteTime": {
     "end_time": "2024-06-22T13:23:52.310656Z",
     "start_time": "2024-06-22T13:23:52.299687Z"
    }
   },
   "source": [
    "df_train = pd.read_csv(\"./timing_train.csv\")\n",
    "# add a sort criterion\n",
    "df_train['sort_ordinal'] = df_train.apply(sort_criterion, axis=1)\n",
    "df_train.sort_values('sort_ordinal', inplace=True)\n",
    "df_train.head(10)"
   ],
   "outputs": [
    {
     "data": {
      "text/plain": [
       "                  timestamp   task      name  seed    duration  sort_ordinal\n",
       "15  2024-06-03 13:46:53.534  train  baseline     7  106.812375             1\n",
       "18  2024-06-03 13:52:37.852  train  baseline    10  114.384663             1\n",
       "17  2024-06-03 13:50:43.178  train  baseline     9  115.305400             1\n",
       "16  2024-06-03 13:48:47.572  train  baseline     8  113.722071             1\n",
       "19  2024-06-03 13:54:27.146  train  baseline    11  108.987823             1\n",
       "6   2024-06-03 14:04:44.358  train  detector     8  280.605259             2\n",
       "5   2024-06-03 14:00:03.418  train  detector     7  272.205814             2\n",
       "7   2024-06-03 14:09:25.743  train  detector     9  281.046618             2\n",
       "8   2024-06-03 14:14:09.885  train  detector    10  283.804271             2\n",
       "9   2024-06-03 14:18:49.629  train  detector    11  279.281429             2"
      ],
      "text/html": [
       "<div>\n",
       "<style scoped>\n",
       "    .dataframe tbody tr th:only-of-type {\n",
       "        vertical-align: middle;\n",
       "    }\n",
       "\n",
       "    .dataframe tbody tr th {\n",
       "        vertical-align: top;\n",
       "    }\n",
       "\n",
       "    .dataframe thead th {\n",
       "        text-align: right;\n",
       "    }\n",
       "</style>\n",
       "<table border=\"1\" class=\"dataframe\">\n",
       "  <thead>\n",
       "    <tr style=\"text-align: right;\">\n",
       "      <th></th>\n",
       "      <th>timestamp</th>\n",
       "      <th>task</th>\n",
       "      <th>name</th>\n",
       "      <th>seed</th>\n",
       "      <th>duration</th>\n",
       "      <th>sort_ordinal</th>\n",
       "    </tr>\n",
       "  </thead>\n",
       "  <tbody>\n",
       "    <tr>\n",
       "      <th>15</th>\n",
       "      <td>2024-06-03 13:46:53.534</td>\n",
       "      <td>train</td>\n",
       "      <td>baseline</td>\n",
       "      <td>7</td>\n",
       "      <td>106.812375</td>\n",
       "      <td>1</td>\n",
       "    </tr>\n",
       "    <tr>\n",
       "      <th>18</th>\n",
       "      <td>2024-06-03 13:52:37.852</td>\n",
       "      <td>train</td>\n",
       "      <td>baseline</td>\n",
       "      <td>10</td>\n",
       "      <td>114.384663</td>\n",
       "      <td>1</td>\n",
       "    </tr>\n",
       "    <tr>\n",
       "      <th>17</th>\n",
       "      <td>2024-06-03 13:50:43.178</td>\n",
       "      <td>train</td>\n",
       "      <td>baseline</td>\n",
       "      <td>9</td>\n",
       "      <td>115.305400</td>\n",
       "      <td>1</td>\n",
       "    </tr>\n",
       "    <tr>\n",
       "      <th>16</th>\n",
       "      <td>2024-06-03 13:48:47.572</td>\n",
       "      <td>train</td>\n",
       "      <td>baseline</td>\n",
       "      <td>8</td>\n",
       "      <td>113.722071</td>\n",
       "      <td>1</td>\n",
       "    </tr>\n",
       "    <tr>\n",
       "      <th>19</th>\n",
       "      <td>2024-06-03 13:54:27.146</td>\n",
       "      <td>train</td>\n",
       "      <td>baseline</td>\n",
       "      <td>11</td>\n",
       "      <td>108.987823</td>\n",
       "      <td>1</td>\n",
       "    </tr>\n",
       "    <tr>\n",
       "      <th>6</th>\n",
       "      <td>2024-06-03 14:04:44.358</td>\n",
       "      <td>train</td>\n",
       "      <td>detector</td>\n",
       "      <td>8</td>\n",
       "      <td>280.605259</td>\n",
       "      <td>2</td>\n",
       "    </tr>\n",
       "    <tr>\n",
       "      <th>5</th>\n",
       "      <td>2024-06-03 14:00:03.418</td>\n",
       "      <td>train</td>\n",
       "      <td>detector</td>\n",
       "      <td>7</td>\n",
       "      <td>272.205814</td>\n",
       "      <td>2</td>\n",
       "    </tr>\n",
       "    <tr>\n",
       "      <th>7</th>\n",
       "      <td>2024-06-03 14:09:25.743</td>\n",
       "      <td>train</td>\n",
       "      <td>detector</td>\n",
       "      <td>9</td>\n",
       "      <td>281.046618</td>\n",
       "      <td>2</td>\n",
       "    </tr>\n",
       "    <tr>\n",
       "      <th>8</th>\n",
       "      <td>2024-06-03 14:14:09.885</td>\n",
       "      <td>train</td>\n",
       "      <td>detector</td>\n",
       "      <td>10</td>\n",
       "      <td>283.804271</td>\n",
       "      <td>2</td>\n",
       "    </tr>\n",
       "    <tr>\n",
       "      <th>9</th>\n",
       "      <td>2024-06-03 14:18:49.629</td>\n",
       "      <td>train</td>\n",
       "      <td>detector</td>\n",
       "      <td>11</td>\n",
       "      <td>279.281429</td>\n",
       "      <td>2</td>\n",
       "    </tr>\n",
       "  </tbody>\n",
       "</table>\n",
       "</div>"
      ]
     },
     "execution_count": 11,
     "metadata": {},
     "output_type": "execute_result"
    }
   ],
   "execution_count": 11
  },
  {
   "cell_type": "code",
   "id": "7216a1f6-657b-4782-8b05-f77926355eeb",
   "metadata": {
    "ExecuteTime": {
     "end_time": "2024-06-22T13:32:49.544026Z",
     "start_time": "2024-06-22T13:32:49.307930Z"
    }
   },
   "source": [
    "sns.set_style(\"white\")\n",
    "sns.catplot(data=df_train, kind=\"bar\", x=\"name\", y=\"duration\", errorbar=None, hue='name', palette='GnBu', height=6).set(xlabel=\"Agent\", ylabel=\"Training duration (in seconds)\")\n",
    "\n",
    "sns.set(font_scale=1.1)\n",
    "plt.xticks(rotation=90)\n",
    "#plt.title(label=\"Training duration of first 10K steps per incremental agent (n=5)\", loc='center', wrap=True)\n",
    "plt.savefig(\"./timing_train_duration.png\", bbox_inches='tight')\n",
    "#plt.savefig(\"./timing_train_duration.pdf\", format='pdf', bbox_inches='tight')"
   ],
   "outputs": [
    {
     "data": {
      "text/plain": [
       "<Figure size 600x600 with 1 Axes>"
      ],
      "image/png": "[encoded data removed]"
     },
     "metadata": {},
     "output_type": "display_data"
    }
   ],
   "execution_count": 62
  },
  {
   "cell_type": "code",
   "id": "875b60df-738e-4b26-bbfc-1976a1d9588b",
   "metadata": {
    "ExecuteTime": {
     "end_time": "2024-06-22T13:29:16.986687Z",
     "start_time": "2024-06-22T13:29:14.606272Z"
    }
   },
   "source": [
    "df_steps = pd.read_csv(\"./timing_step.csv\")\n",
    "df_steps['sort_ordinal'] = df_steps.apply(sort_criterion, axis=1)\n",
    "df_steps.sort_values('sort_ordinal', inplace=True)\n",
    "df_steps.head(5)"
   ],
   "outputs": [
    {
     "data": {
      "text/plain": [
       "                  timestamp   task      name  seed  duration  sort_ordinal\n",
       "40  2024-06-03 13:45:07.307  steps  baseline     7  0.010218             1\n",
       "41  2024-06-03 13:45:07.318  steps  baseline     7  0.010507             1\n",
       "42  2024-06-03 13:45:07.328  steps  baseline     7  0.010144             1\n",
       "43  2024-06-03 13:45:07.338  steps  baseline     7  0.010145             1\n",
       "44  2024-06-03 13:45:07.349  steps  baseline     7  0.010400             1"
      ],
      "text/html": [
       "<div>\n",
       "<style scoped>\n",
       "    .dataframe tbody tr th:only-of-type {\n",
       "        vertical-align: middle;\n",
       "    }\n",
       "\n",
       "    .dataframe tbody tr th {\n",
       "        vertical-align: top;\n",
       "    }\n",
       "\n",
       "    .dataframe thead th {\n",
       "        text-align: right;\n",
       "    }\n",
       "</style>\n",
       "<table border=\"1\" class=\"dataframe\">\n",
       "  <thead>\n",
       "    <tr style=\"text-align: right;\">\n",
       "      <th></th>\n",
       "      <th>timestamp</th>\n",
       "      <th>task</th>\n",
       "      <th>name</th>\n",
       "      <th>seed</th>\n",
       "      <th>duration</th>\n",
       "      <th>sort_ordinal</th>\n",
       "    </tr>\n",
       "  </thead>\n",
       "  <tbody>\n",
       "    <tr>\n",
       "      <th>40</th>\n",
       "      <td>2024-06-03 13:45:07.307</td>\n",
       "      <td>steps</td>\n",
       "      <td>baseline</td>\n",
       "      <td>7</td>\n",
       "      <td>0.010218</td>\n",
       "      <td>1</td>\n",
       "    </tr>\n",
       "    <tr>\n",
       "      <th>41</th>\n",
       "      <td>2024-06-03 13:45:07.318</td>\n",
       "      <td>steps</td>\n",
       "      <td>baseline</td>\n",
       "      <td>7</td>\n",
       "      <td>0.010507</td>\n",
       "      <td>1</td>\n",
       "    </tr>\n",
       "    <tr>\n",
       "      <th>42</th>\n",
       "      <td>2024-06-03 13:45:07.328</td>\n",
       "      <td>steps</td>\n",
       "      <td>baseline</td>\n",
       "      <td>7</td>\n",
       "      <td>0.010144</td>\n",
       "      <td>1</td>\n",
       "    </tr>\n",
       "    <tr>\n",
       "      <th>43</th>\n",
       "      <td>2024-06-03 13:45:07.338</td>\n",
       "      <td>steps</td>\n",
       "      <td>baseline</td>\n",
       "      <td>7</td>\n",
       "      <td>0.010145</td>\n",
       "      <td>1</td>\n",
       "    </tr>\n",
       "    <tr>\n",
       "      <th>44</th>\n",
       "      <td>2024-06-03 13:45:07.349</td>\n",
       "      <td>steps</td>\n",
       "      <td>baseline</td>\n",
       "      <td>7</td>\n",
       "      <td>0.010400</td>\n",
       "      <td>1</td>\n",
       "    </tr>\n",
       "  </tbody>\n",
       "</table>\n",
       "</div>"
      ]
     },
     "execution_count": 18,
     "metadata": {},
     "output_type": "execute_result"
    }
   ],
   "execution_count": 18
  },
  {
   "cell_type": "code",
   "id": "678ba2a5-d78f-429f-a9b1-d589fbf9e69b",
   "metadata": {
    "scrolled": true,
    "ExecuteTime": {
     "end_time": "2024-06-22T13:32:59.261440Z",
     "start_time": "2024-06-22T13:32:58.537284Z"
    }
   },
   "source": [
    "df_steps[\"duration_millis\"] = df_steps[\"duration\"] * 1000\n",
    "plt.figure(figsize=(14, 10))\n",
    "sns.set_style(\"white\")\n",
    "sns.set_palette(palette='GnBu', n_colors=7)\n",
    "ax = sns.boxplot(x =\"name\", y=\"duration_millis\", data = df_steps, hue=\"name\", legend=False).set(xlabel=\"Agent\", ylabel=\"Duration (in milliseconds)\")\n",
    "\n",
    "#plt.title(label=\"Step duration distribution per incremental agent\", loc='center', wrap=True)\n",
    "plt.savefig('./timing_step_duration.png', bbox_inches='tight')\n",
    "#plt.savefig(\"./timing_step_duration.pdf\", format='pdf', bbox_inches='tight')"
   ],
   "outputs": [
    {
     "data": {
      "text/plain": [
       "<Figure size 1400x1000 with 1 Axes>"
      ],
      "image/png": "[encoded data removed]"
     },
     "metadata": {},
     "output_type": "display_data"
    }
   ],
   "execution_count": 63
  },
  {
   "metadata": {
    "ExecuteTime": {
     "end_time": "2024-06-22T13:33:04.357500Z",
     "start_time": "2024-06-22T13:33:03.587938Z"
    }
   },
   "cell_type": "code",
   "source": [
    "df_steps_no_induction = df_steps[df_steps.duration_millis < 40].copy()\n",
    "df_steps_no_induction[\"duration_millis\"] = df_steps_no_induction[\"duration\"] * 1000\n",
    "plt.figure(figsize=(14, 10))\n",
    "sns.set_style(\"white\")\n",
    "sns.set_palette(palette='GnBu', n_colors=7)\n",
    "sns.boxplot(x =\"name\", y=\"duration_millis\", data = df_steps_no_induction, hue=\"name\", legend=False).set(xlabel=\"Agent\", ylabel=\"Duration (in milliseconds)\")\n",
    "\n",
    "#plt.title(label=\"Step duration distribution per incremental agent w/o induction\", loc='center', wrap=True)\n",
    "plt.savefig(\"./timing_step_duration_no_induction.png\", bbox_inches='tight')\n",
    "#plt.savefig(\"./timing_step_duration_no_induction.pdf\", format='pdf', bbox_inches='tight')"
   ],
   "id": "8f112962bea069de",
   "outputs": [
    {
     "data": {
      "text/plain": [
       "<Figure size 1400x1000 with 1 Axes>"
      ],
      "image/png": "[encoded data removed]"
     },
     "metadata": {},
     "output_type": "display_data"
    }
   ],
   "execution_count": 64
  },
  {
   "cell_type": "markdown",
   "id": "68e16fea-e61f-491f-8eee-9e0862f51379",
   "metadata": {},
   "source": [
    "Compare the agents with a one-sided t-test, in incremental order.\n",
    "Downsize sample if p-value hits 0.0 or 1.0"
   ]
  },
  {
   "metadata": {},
   "cell_type": "markdown",
   "source": "",
   "id": "4e5532b4567acf66"
  },
  {
   "metadata": {
    "ExecuteTime": {
     "end_time": "2024-06-22T13:31:44.774806Z",
     "start_time": "2024-06-22T13:31:44.772765Z"
    }
   },
   "cell_type": "code",
   "source": "",
   "id": "b9eebfd3382d91a2",
   "outputs": [],
   "execution_count": 43
  },
  {
   "cell_type": "code",
   "id": "6fdfa27c-58e6-4145-a094-846896e13339",
   "metadata": {
    "ExecuteTime": {
     "end_time": "2024-06-22T13:31:45.247348Z",
     "start_time": "2024-06-22T13:31:45.211473Z"
    }
   },
   "source": [
    "# take the last 100K steps, and then sample 1000 data points.\n",
    "df_steps_baseline = df_steps[df_steps[\"name\"] == \"baseline\"].sample(100, random_state=42)\n",
    "df_steps_detector = df_steps[df_steps[\"name\"] == \"detector\"].sample(100, random_state=3)\n",
    "df_steps_baseline.describe()"
   ],
   "outputs": [
    {
     "data": {
      "text/plain": [
       "             seed    duration  sort_ordinal  duration_millis\n",
       "count  100.000000  100.000000         100.0       100.000000\n",
       "mean     9.030000    0.010967           1.0        10.967195\n",
       "std      1.431641    0.000870           0.0         0.869978\n",
       "min      7.000000    0.008214           1.0         8.214100\n",
       "25%      8.000000    0.010532           1.0        10.531723\n",
       "50%      9.000000    0.010885           1.0        10.885325\n",
       "75%     10.000000    0.011193           1.0        11.193400\n",
       "max     11.000000    0.013256           1.0        13.255750"
      ],
      "text/html": [
       "<div>\n",
       "<style scoped>\n",
       "    .dataframe tbody tr th:only-of-type {\n",
       "        vertical-align: middle;\n",
       "    }\n",
       "\n",
       "    .dataframe tbody tr th {\n",
       "        vertical-align: top;\n",
       "    }\n",
       "\n",
       "    .dataframe thead th {\n",
       "        text-align: right;\n",
       "    }\n",
       "</style>\n",
       "<table border=\"1\" class=\"dataframe\">\n",
       "  <thead>\n",
       "    <tr style=\"text-align: right;\">\n",
       "      <th></th>\n",
       "      <th>seed</th>\n",
       "      <th>duration</th>\n",
       "      <th>sort_ordinal</th>\n",
       "      <th>duration_millis</th>\n",
       "    </tr>\n",
       "  </thead>\n",
       "  <tbody>\n",
       "    <tr>\n",
       "      <th>count</th>\n",
       "      <td>100.000000</td>\n",
       "      <td>100.000000</td>\n",
       "      <td>100.0</td>\n",
       "      <td>100.000000</td>\n",
       "    </tr>\n",
       "    <tr>\n",
       "      <th>mean</th>\n",
       "      <td>9.030000</td>\n",
       "      <td>0.010967</td>\n",
       "      <td>1.0</td>\n",
       "      <td>10.967195</td>\n",
       "    </tr>\n",
       "    <tr>\n",
       "      <th>std</th>\n",
       "      <td>1.431641</td>\n",
       "      <td>0.000870</td>\n",
       "      <td>0.0</td>\n",
       "      <td>0.869978</td>\n",
       "    </tr>\n",
       "    <tr>\n",
       "      <th>min</th>\n",
       "      <td>7.000000</td>\n",
       "      <td>0.008214</td>\n",
       "      <td>1.0</td>\n",
       "      <td>8.214100</td>\n",
       "    </tr>\n",
       "    <tr>\n",
       "      <th>25%</th>\n",
       "      <td>8.000000</td>\n",
       "      <td>0.010532</td>\n",
       "      <td>1.0</td>\n",
       "      <td>10.531723</td>\n",
       "    </tr>\n",
       "    <tr>\n",
       "      <th>50%</th>\n",
       "      <td>9.000000</td>\n",
       "      <td>0.010885</td>\n",
       "      <td>1.0</td>\n",
       "      <td>10.885325</td>\n",
       "    </tr>\n",
       "    <tr>\n",
       "      <th>75%</th>\n",
       "      <td>10.000000</td>\n",
       "      <td>0.011193</td>\n",
       "      <td>1.0</td>\n",
       "      <td>11.193400</td>\n",
       "    </tr>\n",
       "    <tr>\n",
       "      <th>max</th>\n",
       "      <td>11.000000</td>\n",
       "      <td>0.013256</td>\n",
       "      <td>1.0</td>\n",
       "      <td>13.255750</td>\n",
       "    </tr>\n",
       "  </tbody>\n",
       "</table>\n",
       "</div>"
      ]
     },
     "execution_count": 44,
     "metadata": {},
     "output_type": "execute_result"
    }
   ],
   "execution_count": 44
  },
  {
   "cell_type": "code",
   "id": "ef61e7be-ba10-4327-81c5-ec380a4ecd73",
   "metadata": {
    "ExecuteTime": {
     "end_time": "2024-06-22T13:31:46.064635Z",
     "start_time": "2024-06-22T13:31:46.052696Z"
    }
   },
   "source": "df_steps_detector.describe()",
   "outputs": [
    {
     "data": {
      "text/plain": [
       "             seed    duration  sort_ordinal  duration_millis\n",
       "count  100.000000  100.000000         100.0       100.000000\n",
       "mean     8.910000    0.027435           2.0        27.434895\n",
       "std      1.422013    0.001599           0.0         1.598861\n",
       "min      7.000000    0.022794           2.0        22.794090\n",
       "25%      8.000000    0.026780           2.0        26.780475\n",
       "50%      9.000000    0.027158           2.0        27.158240\n",
       "75%     10.000000    0.027881           2.0        27.881005\n",
       "max     11.000000    0.037202           2.0        37.201700"
      ],
      "text/html": [
       "<div>\n",
       "<style scoped>\n",
       "    .dataframe tbody tr th:only-of-type {\n",
       "        vertical-align: middle;\n",
       "    }\n",
       "\n",
       "    .dataframe tbody tr th {\n",
       "        vertical-align: top;\n",
       "    }\n",
       "\n",
       "    .dataframe thead th {\n",
       "        text-align: right;\n",
       "    }\n",
       "</style>\n",
       "<table border=\"1\" class=\"dataframe\">\n",
       "  <thead>\n",
       "    <tr style=\"text-align: right;\">\n",
       "      <th></th>\n",
       "      <th>seed</th>\n",
       "      <th>duration</th>\n",
       "      <th>sort_ordinal</th>\n",
       "      <th>duration_millis</th>\n",
       "    </tr>\n",
       "  </thead>\n",
       "  <tbody>\n",
       "    <tr>\n",
       "      <th>count</th>\n",
       "      <td>100.000000</td>\n",
       "      <td>100.000000</td>\n",
       "      <td>100.0</td>\n",
       "      <td>100.000000</td>\n",
       "    </tr>\n",
       "    <tr>\n",
       "      <th>mean</th>\n",
       "      <td>8.910000</td>\n",
       "      <td>0.027435</td>\n",
       "      <td>2.0</td>\n",
       "      <td>27.434895</td>\n",
       "    </tr>\n",
       "    <tr>\n",
       "      <th>std</th>\n",
       "      <td>1.422013</td>\n",
       "      <td>0.001599</td>\n",
       "      <td>0.0</td>\n",
       "      <td>1.598861</td>\n",
       "    </tr>\n",
       "    <tr>\n",
       "      <th>min</th>\n",
       "      <td>7.000000</td>\n",
       "      <td>0.022794</td>\n",
       "      <td>2.0</td>\n",
       "      <td>22.794090</td>\n",
       "    </tr>\n",
       "    <tr>\n",
       "      <th>25%</th>\n",
       "      <td>8.000000</td>\n",
       "      <td>0.026780</td>\n",
       "      <td>2.0</td>\n",
       "      <td>26.780475</td>\n",
       "    </tr>\n",
       "    <tr>\n",
       "      <th>50%</th>\n",
       "      <td>9.000000</td>\n",
       "      <td>0.027158</td>\n",
       "      <td>2.0</td>\n",
       "      <td>27.158240</td>\n",
       "    </tr>\n",
       "    <tr>\n",
       "      <th>75%</th>\n",
       "      <td>10.000000</td>\n",
       "      <td>0.027881</td>\n",
       "      <td>2.0</td>\n",
       "      <td>27.881005</td>\n",
       "    </tr>\n",
       "    <tr>\n",
       "      <th>max</th>\n",
       "      <td>11.000000</td>\n",
       "      <td>0.037202</td>\n",
       "      <td>2.0</td>\n",
       "      <td>37.201700</td>\n",
       "    </tr>\n",
       "  </tbody>\n",
       "</table>\n",
       "</div>"
      ]
     },
     "execution_count": 45,
     "metadata": {},
     "output_type": "execute_result"
    }
   ],
   "execution_count": 45
  },
  {
   "cell_type": "markdown",
   "id": "e9bc657c-2b5b-408f-b8c6-25ed3ae34fc1",
   "metadata": {},
   "source": [
    "200Perform a one-sided t-test using the following hypotheses:\n",
    "\n",
    "Null: the mean step duration of the detector agent is not larger than the mean step duration of the baseline.\n",
    "\n",
    "Alternative: the mean step duration of the detector agent is larger than the mean step duration of the baseline."
   ]
  },
  {
   "cell_type": "code",
   "id": "8cfbe42c-0d7c-4643-b42a-075ad70dc2e4",
   "metadata": {
    "ExecuteTime": {
     "end_time": "2024-06-22T13:31:47.625362Z",
     "start_time": "2024-06-22T13:31:47.618Z"
    }
   },
   "source": "stats.ttest_ind(df_steps_detector[\"duration_millis\"], df_steps_baseline[\"duration_millis\"], alternative='greater')",
   "outputs": [
    {
     "data": {
      "text/plain": [
       "TtestResult(statistic=90.47069096457287, pvalue=2.5748448745639043e-163, df=198.0)"
      ]
     },
     "execution_count": 46,
     "metadata": {},
     "output_type": "execute_result"
    }
   ],
   "execution_count": 46
  },
  {
   "metadata": {},
   "cell_type": "markdown",
   "source": "With a p-value < 0.05, we can reject the null-hypothesis and conclude that the mean step duration of the integrated agent is larger than the mean step duration of the baseline. This seems somewhat trivial in this case, but this may not be true in the subsequent comparisons.",
   "id": "597cfd1a47eed3ca"
  },
  {
   "metadata": {},
   "cell_type": "markdown",
   "source": [
    "Null: the mean step duration of the positioner agent is not larger than the mean step duration of the detector agent.\n",
    "\n",
    "Alternative: the mean step duration of the positioner agent is larger than the mean step duration of the detector agent."
   ],
   "id": "da9d230790e021e1"
  },
  {
   "metadata": {
    "ExecuteTime": {
     "end_time": "2024-06-22T13:31:49.061781Z",
     "start_time": "2024-06-22T13:31:49.030355Z"
    }
   },
   "cell_type": "code",
   "source": [
    "df_steps_detector = df_steps[df_steps[\"name\"] == \"detector\"].sample(10000, random_state=2)\n",
    "df_steps_positioner = df_steps[df_steps[\"name\"] == \"positioner\"].sample(10000, random_state=9)\n",
    "stats.ttest_ind(df_steps_positioner[\"duration_millis\"], df_steps_detector[\"duration_millis\"], alternative='greater')"
   ],
   "id": "491feba3516cbe3e",
   "outputs": [
    {
     "data": {
      "text/plain": [
       "TtestResult(statistic=23.144492519133387, pvalue=2.839558173483235e-117, df=19998.0)"
      ]
     },
     "execution_count": 47,
     "metadata": {},
     "output_type": "execute_result"
    }
   ],
   "execution_count": 47
  },
  {
   "metadata": {},
   "cell_type": "markdown",
   "source": [
    "Null: the mean step duration of the collector agent is not larger than the mean step duration of the positioner agent.\n",
    "\n",
    "Alternative: the mean step duration of the collector agent is larger than the mean step duration of the positioner agent."
   ],
   "id": "3b80840d79e1dfb7"
  },
  {
   "metadata": {
    "ExecuteTime": {
     "end_time": "2024-06-22T13:31:49.671956Z",
     "start_time": "2024-06-22T13:31:49.636235Z"
    }
   },
   "cell_type": "code",
   "source": [
    "df_steps_positioner = df_steps[df_steps[\"name\"] == \"positioner\"].sample(10000, random_state=4)\n",
    "df_steps_collector = df_steps[df_steps[\"name\"] == \"collector\"].sample(10000, random_state=11)\n",
    "stats.ttest_ind(df_steps_collector[\"duration_millis\"], df_steps_positioner[\"duration_millis\"], alternative='greater')"
   ],
   "id": "9825091edb1f8b66",
   "outputs": [
    {
     "data": {
      "text/plain": [
       "TtestResult(statistic=7.020216267913053, pvalue=1.143109706003373e-12, df=19998.0)"
      ]
     },
     "execution_count": 48,
     "metadata": {},
     "output_type": "execute_result"
    }
   ],
   "execution_count": 48
  },
  {
   "metadata": {},
   "cell_type": "markdown",
   "source": [
    "Null: the mean step duration of the inducer agent is not larger than the mean step duration of the collector agent.\n",
    "\n",
    "Alternative: the mean step duration of the inducer agent is larger than the mean step duration of the collector agent."
   ],
   "id": "3914e32c561668fd"
  },
  {
   "metadata": {
    "ExecuteTime": {
     "end_time": "2024-06-22T13:31:50.070543Z",
     "start_time": "2024-06-22T13:31:50.038583Z"
    }
   },
   "cell_type": "code",
   "source": [
    "df_steps_collector = df_steps[df_steps[\"name\"] == \"collector\"].sample(10000, random_state=12)\n",
    "df_steps_inducer = df_steps[df_steps[\"name\"] == \"inducer\"].sample(10000, random_state=21)\n",
    "stats.ttest_ind(df_steps_inducer[\"duration_millis\"], df_steps_collector[\"duration_millis\"], alternative='greater')"
   ],
   "id": "a5c2496f8e27dea3",
   "outputs": [
    {
     "data": {
      "text/plain": [
       "TtestResult(statistic=3.6361426294718955, pvalue=0.00013872293632545917, df=19998.0)"
      ]
     },
     "execution_count": 49,
     "metadata": {},
     "output_type": "execute_result"
    }
   ],
   "execution_count": 49
  },
  {
   "metadata": {},
   "cell_type": "markdown",
   "source": [
    "Null: the mean step duration of the integrated agent is not larger than the mean step duration of the inductive agent.\n",
    "\n",
    "Alternative: the mean step duration of the integrated agent is larger than the mean step duration of the inductive."
   ],
   "id": "855d2aee43b0f597"
  },
  {
   "metadata": {
    "ExecuteTime": {
     "end_time": "2024-06-22T13:31:50.470449Z",
     "start_time": "2024-06-22T13:31:50.435509Z"
    }
   },
   "cell_type": "code",
   "source": [
    "df_steps_inducer = df_steps[df_steps[\"name\"] == \"inducer\"].sample(10000, random_state=5)\n",
    "df_steps_integrated = df_steps[df_steps[\"name\"] == \"integrated\"].sample(10000, random_state=17)\n",
    "stats.ttest_ind(df_steps_integrated[\"duration_millis\"], df_steps_inducer[\"duration_millis\"], alternative='greater')"
   ],
   "id": "9d9c9b589a0188b8",
   "outputs": [
    {
     "data": {
      "text/plain": [
       "TtestResult(statistic=2.99450845547909, pvalue=0.0013761187771149065, df=19998.0)"
      ]
     },
     "execution_count": 50,
     "metadata": {},
     "output_type": "execute_result"
    }
   ],
   "execution_count": 50
  },
  {
   "metadata": {},
   "cell_type": "markdown",
   "source": [
    "Null: the mean step duration of the target agent is not larger than the mean step duration of the positioner agent.\n",
    "\n",
    "Alternative: the mean step duration of the target agent is larger than the mean step duration of the positioner agent."
   ],
   "id": "215d1e2ee2623f28"
  },
  {
   "metadata": {
    "ExecuteTime": {
     "end_time": "2024-06-22T13:31:50.829718Z",
     "start_time": "2024-06-22T13:31:50.797927Z"
    }
   },
   "cell_type": "code",
   "source": [
    "df_steps_positioner = df_steps[df_steps[\"name\"] == \"positioner\"].sample(10000, random_state=23)\n",
    "df_steps_target = df_steps[df_steps[\"name\"] == \"target\"].sample(10000, random_state=8)\n",
    "stats.ttest_ind(df_steps_target[\"duration_millis\"], df_steps_positioner[\"duration_millis\"], alternative='greater')"
   ],
   "id": "a712fa0068377b3e",
   "outputs": [
    {
     "data": {
      "text/plain": [
       "TtestResult(statistic=11.7207460128612, pvalue=6.331838538243158e-32, df=19998.0)"
      ]
     },
     "execution_count": 51,
     "metadata": {},
     "output_type": "execute_result"
    }
   ],
   "execution_count": 51
  },
  {
   "cell_type": "markdown",
   "id": "e4cd3409-96b3-4d62-926f-de3c309f2a4a",
   "metadata": {},
   "source": ""
  },
  {
   "cell_type": "code",
   "id": "b8272e85-5f0c-4124-a035-6e00f1de5eda",
   "metadata": {
    "ExecuteTime": {
     "end_time": "2024-06-22T13:31:51.578383Z",
     "start_time": "2024-06-22T13:31:51.186591Z"
    }
   },
   "source": [
    "df_anatomy = pd.read_csv(\"./timing_anatomy.csv\")\n",
    "df_anatomy_step = pd.read_csv(\"./timing_anatomy_step.csv\")\n",
    "df_anatomy.head(5)"
   ],
   "outputs": [
    {
     "data": {
      "text/plain": [
       "                 timestamp            task     name  seed  duration\n",
       "0  2024-06-03 11:36:34.880  detect_objects  inducer     7  0.953270\n",
       "1  2024-06-03 11:36:35.033  detect_objects  inducer     7  0.071570\n",
       "2  2024-06-03 11:36:35.058  detect_objects  inducer     7  0.015819\n",
       "3  2024-06-03 11:36:35.082  detect_objects  inducer     7  0.015724\n",
       "4  2024-06-03 11:36:35.106  detect_objects  inducer     7  0.015080"
      ],
      "text/html": [
       "<div>\n",
       "<style scoped>\n",
       "    .dataframe tbody tr th:only-of-type {\n",
       "        vertical-align: middle;\n",
       "    }\n",
       "\n",
       "    .dataframe tbody tr th {\n",
       "        vertical-align: top;\n",
       "    }\n",
       "\n",
       "    .dataframe thead th {\n",
       "        text-align: right;\n",
       "    }\n",
       "</style>\n",
       "<table border=\"1\" class=\"dataframe\">\n",
       "  <thead>\n",
       "    <tr style=\"text-align: right;\">\n",
       "      <th></th>\n",
       "      <th>timestamp</th>\n",
       "      <th>task</th>\n",
       "      <th>name</th>\n",
       "      <th>seed</th>\n",
       "      <th>duration</th>\n",
       "    </tr>\n",
       "  </thead>\n",
       "  <tbody>\n",
       "    <tr>\n",
       "      <th>0</th>\n",
       "      <td>2024-06-03 11:36:34.880</td>\n",
       "      <td>detect_objects</td>\n",
       "      <td>inducer</td>\n",
       "      <td>7</td>\n",
       "      <td>0.953270</td>\n",
       "    </tr>\n",
       "    <tr>\n",
       "      <th>1</th>\n",
       "      <td>2024-06-03 11:36:35.033</td>\n",
       "      <td>detect_objects</td>\n",
       "      <td>inducer</td>\n",
       "      <td>7</td>\n",
       "      <td>0.071570</td>\n",
       "    </tr>\n",
       "    <tr>\n",
       "      <th>2</th>\n",
       "      <td>2024-06-03 11:36:35.058</td>\n",
       "      <td>detect_objects</td>\n",
       "      <td>inducer</td>\n",
       "      <td>7</td>\n",
       "      <td>0.015819</td>\n",
       "    </tr>\n",
       "    <tr>\n",
       "      <th>3</th>\n",
       "      <td>2024-06-03 11:36:35.082</td>\n",
       "      <td>detect_objects</td>\n",
       "      <td>inducer</td>\n",
       "      <td>7</td>\n",
       "      <td>0.015724</td>\n",
       "    </tr>\n",
       "    <tr>\n",
       "      <th>4</th>\n",
       "      <td>2024-06-03 11:36:35.106</td>\n",
       "      <td>detect_objects</td>\n",
       "      <td>inducer</td>\n",
       "      <td>7</td>\n",
       "      <td>0.015080</td>\n",
       "    </tr>\n",
       "  </tbody>\n",
       "</table>\n",
       "</div>"
      ]
     },
     "execution_count": 52,
     "metadata": {},
     "output_type": "execute_result"
    }
   ],
   "execution_count": 52
  },
  {
   "cell_type": "code",
   "id": "cb8dc949-4b01-4ace-b9dc-a29bc68ff783",
   "metadata": {
    "ExecuteTime": {
     "end_time": "2024-06-22T13:31:51.610408Z",
     "start_time": "2024-06-22T13:31:51.579275Z"
    }
   },
   "source": [
    "# Take the integrated agent  for illustrative purposes\n",
    "df_anatomy = df_anatomy[df_anatomy[\"name\"] == \"integrated\"]\n",
    "# track_action is trivial. It isn't anatomy in the first place. Delete.\n",
    "df_anatomy.drop(df_anatomy[df_anatomy.task == \"track_action\"].index, inplace=True)\n",
    "df_anatomy.head(5)"
   ],
   "outputs": [
    {
     "data": {
      "text/plain": [
       "                      timestamp              task        name  seed  duration\n",
       "153241  2024-06-03 12:41:04.431  position_objects  integrated     7  0.002966\n",
       "153242  2024-06-03 12:41:04.581  position_objects  integrated     7  0.002395\n",
       "153243  2024-06-03 12:41:04.606  position_objects  integrated     7  0.002133\n",
       "153244  2024-06-03 12:41:04.630  position_objects  integrated     7  0.002173\n",
       "153245  2024-06-03 12:41:04.654  position_objects  integrated     7  0.002099"
      ],
      "text/html": [
       "<div>\n",
       "<style scoped>\n",
       "    .dataframe tbody tr th:only-of-type {\n",
       "        vertical-align: middle;\n",
       "    }\n",
       "\n",
       "    .dataframe tbody tr th {\n",
       "        vertical-align: top;\n",
       "    }\n",
       "\n",
       "    .dataframe thead th {\n",
       "        text-align: right;\n",
       "    }\n",
       "</style>\n",
       "<table border=\"1\" class=\"dataframe\">\n",
       "  <thead>\n",
       "    <tr style=\"text-align: right;\">\n",
       "      <th></th>\n",
       "      <th>timestamp</th>\n",
       "      <th>task</th>\n",
       "      <th>name</th>\n",
       "      <th>seed</th>\n",
       "      <th>duration</th>\n",
       "    </tr>\n",
       "  </thead>\n",
       "  <tbody>\n",
       "    <tr>\n",
       "      <th>153241</th>\n",
       "      <td>2024-06-03 12:41:04.431</td>\n",
       "      <td>position_objects</td>\n",
       "      <td>integrated</td>\n",
       "      <td>7</td>\n",
       "      <td>0.002966</td>\n",
       "    </tr>\n",
       "    <tr>\n",
       "      <th>153242</th>\n",
       "      <td>2024-06-03 12:41:04.581</td>\n",
       "      <td>position_objects</td>\n",
       "      <td>integrated</td>\n",
       "      <td>7</td>\n",
       "      <td>0.002395</td>\n",
       "    </tr>\n",
       "    <tr>\n",
       "      <th>153243</th>\n",
       "      <td>2024-06-03 12:41:04.606</td>\n",
       "      <td>position_objects</td>\n",
       "      <td>integrated</td>\n",
       "      <td>7</td>\n",
       "      <td>0.002133</td>\n",
       "    </tr>\n",
       "    <tr>\n",
       "      <th>153244</th>\n",
       "      <td>2024-06-03 12:41:04.630</td>\n",
       "      <td>position_objects</td>\n",
       "      <td>integrated</td>\n",
       "      <td>7</td>\n",
       "      <td>0.002173</td>\n",
       "    </tr>\n",
       "    <tr>\n",
       "      <th>153245</th>\n",
       "      <td>2024-06-03 12:41:04.654</td>\n",
       "      <td>position_objects</td>\n",
       "      <td>integrated</td>\n",
       "      <td>7</td>\n",
       "      <td>0.002099</td>\n",
       "    </tr>\n",
       "  </tbody>\n",
       "</table>\n",
       "</div>"
      ]
     },
     "execution_count": 53,
     "metadata": {},
     "output_type": "execute_result"
    }
   ],
   "execution_count": 53
  },
  {
   "cell_type": "code",
   "id": "daac4d36-1bee-42ad-a517-2279729f814d",
   "metadata": {
    "ExecuteTime": {
     "end_time": "2024-06-22T13:31:51.631801Z",
     "start_time": "2024-06-22T13:31:51.611161Z"
    }
   },
   "source": [
    "df_detect_objects = df_anatomy[df_anatomy[\"task\"] == \"detect_objects\"]\n",
    "df_position_objects = df_anatomy[df_anatomy[\"task\"] == \"position_objects\"]\n",
    "df_try_induction = df_anatomy[df_anatomy[\"task\"] == \"try_induction\"]\n",
    "df_choose_action = df_anatomy[df_anatomy[\"task\"] == \"choose_action_ddqn\"]"
   ],
   "outputs": [],
   "execution_count": 54
  },
  {
   "metadata": {
    "ExecuteTime": {
     "end_time": "2024-06-22T13:31:51.880106Z",
     "start_time": "2024-06-22T13:31:51.871409Z"
    }
   },
   "cell_type": "code",
   "source": "df_detect_objects.describe()",
   "id": "3bd110e02a67c80",
   "outputs": [
    {
     "data": {
      "text/plain": [
       "               seed      duration\n",
       "count  51187.000000  51187.000000\n",
       "mean       9.027409      0.014999\n",
       "std        1.421603      0.004298\n",
       "min        7.000000      0.012109\n",
       "25%        8.000000      0.014716\n",
       "50%        9.000000      0.015190\n",
       "75%       10.000000      0.015292\n",
       "max       11.000000      0.946524"
      ],
      "text/html": [
       "<div>\n",
       "<style scoped>\n",
       "    .dataframe tbody tr th:only-of-type {\n",
       "        vertical-align: middle;\n",
       "    }\n",
       "\n",
       "    .dataframe tbody tr th {\n",
       "        vertical-align: top;\n",
       "    }\n",
       "\n",
       "    .dataframe thead th {\n",
       "        text-align: right;\n",
       "    }\n",
       "</style>\n",
       "<table border=\"1\" class=\"dataframe\">\n",
       "  <thead>\n",
       "    <tr style=\"text-align: right;\">\n",
       "      <th></th>\n",
       "      <th>seed</th>\n",
       "      <th>duration</th>\n",
       "    </tr>\n",
       "  </thead>\n",
       "  <tbody>\n",
       "    <tr>\n",
       "      <th>count</th>\n",
       "      <td>51187.000000</td>\n",
       "      <td>51187.000000</td>\n",
       "    </tr>\n",
       "    <tr>\n",
       "      <th>mean</th>\n",
       "      <td>9.027409</td>\n",
       "      <td>0.014999</td>\n",
       "    </tr>\n",
       "    <tr>\n",
       "      <th>std</th>\n",
       "      <td>1.421603</td>\n",
       "      <td>0.004298</td>\n",
       "    </tr>\n",
       "    <tr>\n",
       "      <th>min</th>\n",
       "      <td>7.000000</td>\n",
       "      <td>0.012109</td>\n",
       "    </tr>\n",
       "    <tr>\n",
       "      <th>25%</th>\n",
       "      <td>8.000000</td>\n",
       "      <td>0.014716</td>\n",
       "    </tr>\n",
       "    <tr>\n",
       "      <th>50%</th>\n",
       "      <td>9.000000</td>\n",
       "      <td>0.015190</td>\n",
       "    </tr>\n",
       "    <tr>\n",
       "      <th>75%</th>\n",
       "      <td>10.000000</td>\n",
       "      <td>0.015292</td>\n",
       "    </tr>\n",
       "    <tr>\n",
       "      <th>max</th>\n",
       "      <td>11.000000</td>\n",
       "      <td>0.946524</td>\n",
       "    </tr>\n",
       "  </tbody>\n",
       "</table>\n",
       "</div>"
      ]
     },
     "execution_count": 55,
     "metadata": {},
     "output_type": "execute_result"
    }
   ],
   "execution_count": 55
  },
  {
   "metadata": {
    "ExecuteTime": {
     "end_time": "2024-06-22T13:31:52.835404Z",
     "start_time": "2024-06-22T13:31:52.825371Z"
    }
   },
   "cell_type": "code",
   "source": "df_position_objects.describe()",
   "id": "cfbed53a793b313",
   "outputs": [
    {
     "data": {
      "text/plain": [
       "               seed      duration\n",
       "count  19550.000000  19550.000000\n",
       "mean       9.029719      0.002630\n",
       "std        1.417063      0.000283\n",
       "min        7.000000      0.002054\n",
       "25%        8.000000      0.002527\n",
       "50%        9.000000      0.002602\n",
       "75%       10.000000      0.002685\n",
       "max       11.000000      0.009107"
      ],
      "text/html": [
       "<div>\n",
       "<style scoped>\n",
       "    .dataframe tbody tr th:only-of-type {\n",
       "        vertical-align: middle;\n",
       "    }\n",
       "\n",
       "    .dataframe tbody tr th {\n",
       "        vertical-align: top;\n",
       "    }\n",
       "\n",
       "    .dataframe thead th {\n",
       "        text-align: right;\n",
       "    }\n",
       "</style>\n",
       "<table border=\"1\" class=\"dataframe\">\n",
       "  <thead>\n",
       "    <tr style=\"text-align: right;\">\n",
       "      <th></th>\n",
       "      <th>seed</th>\n",
       "      <th>duration</th>\n",
       "    </tr>\n",
       "  </thead>\n",
       "  <tbody>\n",
       "    <tr>\n",
       "      <th>count</th>\n",
       "      <td>19550.000000</td>\n",
       "      <td>19550.000000</td>\n",
       "    </tr>\n",
       "    <tr>\n",
       "      <th>mean</th>\n",
       "      <td>9.029719</td>\n",
       "      <td>0.002630</td>\n",
       "    </tr>\n",
       "    <tr>\n",
       "      <th>std</th>\n",
       "      <td>1.417063</td>\n",
       "      <td>0.000283</td>\n",
       "    </tr>\n",
       "    <tr>\n",
       "      <th>min</th>\n",
       "      <td>7.000000</td>\n",
       "      <td>0.002054</td>\n",
       "    </tr>\n",
       "    <tr>\n",
       "      <th>25%</th>\n",
       "      <td>8.000000</td>\n",
       "      <td>0.002527</td>\n",
       "    </tr>\n",
       "    <tr>\n",
       "      <th>50%</th>\n",
       "      <td>9.000000</td>\n",
       "      <td>0.002602</td>\n",
       "    </tr>\n",
       "    <tr>\n",
       "      <th>75%</th>\n",
       "      <td>10.000000</td>\n",
       "      <td>0.002685</td>\n",
       "    </tr>\n",
       "    <tr>\n",
       "      <th>max</th>\n",
       "      <td>11.000000</td>\n",
       "      <td>0.009107</td>\n",
       "    </tr>\n",
       "  </tbody>\n",
       "</table>\n",
       "</div>"
      ]
     },
     "execution_count": 56,
     "metadata": {},
     "output_type": "execute_result"
    }
   ],
   "execution_count": 56
  },
  {
   "cell_type": "markdown",
   "id": "124b574c-d0ab-4145-8587-8ca7e38ad544",
   "metadata": {},
   "source": [
    "The core implementation portion of a P1 and C1 step is the total mean step duration minus all the symbolic mean durations.\n",
    "For readability, calculate them first. The unit of measurement is in seconds, so multiply by 1000 to obtain milliseconds;\n",
    "Note that the induction is only applied every 1OOO steps, meaning its proportion is 1/1000, canceling out the milliseconds conversion."
   ]
  },
  {
   "metadata": {
    "ExecuteTime": {
     "end_time": "2024-06-22T13:31:53.909590Z",
     "start_time": "2024-06-22T13:31:53.872445Z"
    }
   },
   "cell_type": "code",
   "source": [
    "# Take the integrated agent and baseline agent to calculate the average step duration\n",
    "df_anatomy_step_integrated = df_anatomy_step[df_anatomy_step[\"name\"] == \"integrated\"]\n",
    "df_anatomy_step_baseline = df_anatomy_step[df_anatomy_step[\"name\"] == \"baseline\"]"
   ],
   "id": "baaaacaa9c69a28b",
   "outputs": [],
   "execution_count": 57
  },
  {
   "cell_type": "code",
   "id": "ec54270a-6d77-4490-9e8e-38d104a7c23d",
   "metadata": {
    "ExecuteTime": {
     "end_time": "2024-06-22T13:31:54.348083Z",
     "start_time": "2024-06-22T13:31:54.344066Z"
    }
   },
   "source": [
    "# for the total step duration\n",
    "step_duration_integrated = df_anatomy_step_integrated[\"duration\"].mean() * 1000\n",
    "step_duration_baseline = df_anatomy_step_baseline[\"duration\"].mean() * 1000\n",
    "\n",
    "# for the symbolic parts\n",
    "object_detection_int = df_detect_objects[\"duration\"].mean() * 1000\n",
    "positioning_int = df_position_objects[\"duration\"].mean() * 1000\n",
    "induction_int = df_try_induction[\"duration\"].mean()\n",
    "choose_action_int = df_choose_action[\"duration\"].mean() * 1000\n",
    "\n",
    "# from these, calculate the non-symbolic duration of the step\n",
    "core_integrated_int = step_duration_integrated - (object_detection_int + positioning_int + induction_int + choose_action_int)\n"
   ],
   "outputs": [],
   "execution_count": 58
  },
  {
   "metadata": {
    "ExecuteTime": {
     "end_time": "2024-06-22T13:31:54.830106Z",
     "start_time": "2024-06-22T13:31:54.827575Z"
    }
   },
   "cell_type": "code",
   "source": "print(object_detection_int)",
   "id": "d8afccba836f47c7",
   "outputs": [
    {
     "name": "stdout",
     "output_type": "stream",
     "text": [
      "14.998812285736614\n"
     ]
    }
   ],
   "execution_count": 59
  },
  {
   "metadata": {
    "ExecuteTime": {
     "end_time": "2024-06-22T13:31:55.277326Z",
     "start_time": "2024-06-22T13:31:55.275085Z"
    }
   },
   "cell_type": "code",
   "source": "print(positioning_int)",
   "id": "94b5c1e3693f11d1",
   "outputs": [
    {
     "name": "stdout",
     "output_type": "stream",
     "text": [
      "2.6298476301790283\n"
     ]
    }
   ],
   "execution_count": 60
  },
  {
   "cell_type": "code",
   "id": "84c69285-8488-4bb0-b707-4f200208ffd9",
   "metadata": {
    "ExecuteTime": {
     "end_time": "2024-06-22T13:33:12.494270Z",
     "start_time": "2024-06-22T13:33:12.330692Z"
    }
   },
   "source": [
    "df = pd.DataFrame({'Core implementation': [step_duration_baseline, core_integrated_int],\n",
    "                   'Detect objects': [0, object_detection_int],\n",
    "                   'Position objects': [0, positioning_int],\n",
    "                   'Try induction': [0, induction_int],\n",
    "                   'Choose action': [0, choose_action_int]\n",
    "                   },\n",
    "                  index=['Baseline', 'Integrated'])\n",
    "\n",
    "# use the Tableau matte colours for high contrast and ease on the eyes\n",
    "df.plot(kind='bar', stacked=True, color=['tab:gray', 'tab:olive', 'tab:pink', 'tab:cyan', 'tab:brown'])\n",
    " \n",
    "# labels for x & y axis\n",
    "plt.xlabel('Agent')\n",
    "plt.ylabel('Average duration in milliseconds')\n",
    " \n",
    "# title of plot\n",
    "plt.xticks(rotation=0)\n",
    "#plt.title(label=\"Anatomy of a single neurosymbolic step by task\", loc='center', wrap=True)\n",
    "plt.savefig(\"./timing_step_anatomy.png\", bbox_inches='tight')\n",
    "#plt.savefig(\"./timing_step_anatomy.pdf\", format='pdf', bbox_inches='tight')"
   ],
   "outputs": [
    {
     "data": {
      "text/plain": [
       "<Figure size 640x480 with 1 Axes>"
      ],
      "image/png": "[encoded data removed]"
     },
     "metadata": {},
     "output_type": "display_data"
    }
   ],
   "execution_count": 65
  },
  {
   "cell_type": "code",
   "id": "f4b6ad95-f169-48a4-a6ca-0105275cb374",
   "metadata": {
    "ExecuteTime": {
     "end_time": "2024-06-15T09:00:19.622010Z",
     "start_time": "2024-06-15T09:00:19.620004Z"
    }
   },
   "source": [],
   "outputs": [],
   "execution_count": 50
  },
  {
   "metadata": {},
   "cell_type": "code",
   "source": "",
   "id": "3c4adef92032937b",
   "outputs": [],
   "execution_count": null
  }
 ],
 "metadata": {
  "kernelspec": {
   "display_name": "Python 3 (ipykernel)",
   "language": "python",
   "name": "python3"
  },
  "language_info": {
   "codemirror_mode": {
    "name": "ipython",
    "version": 3
   },
   "file_extension": ".py",
   "mimetype": "text/x-python",
   "name": "python",
   "nbconvert_exporter": "python",
   "pygments_lexer": "ipython3",
   "version": "3.10.13"
  }
 },
 "nbformat": 4,
 "nbformat_minor": 5
}
