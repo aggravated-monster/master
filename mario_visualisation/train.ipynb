{
 "cells": [
  {
   "metadata": {},
   "cell_type": "markdown",
   "source": "# Data preparation",
   "id": "63c06e7edf035e4f"
  },
  {
   "metadata": {
    "ExecuteTime": {
     "end_time": "2024-05-05T06:47:53.081715Z",
     "start_time": "2024-05-05T06:47:53.079504Z"
    }
   },
   "cell_type": "code",
   "source": [
    "import pandas as pd\n",
    "import numpy as np  \n",
    "import matplotlib.pyplot as plt \n",
    "import seaborn as sns\n",
    "\n",
    "sns.set_style(\"white\")"
   ],
   "id": "a5bc4cf6fc9e96f4",
   "outputs": [],
   "execution_count": 1
  },
  {
   "metadata": {},
   "cell_type": "markdown",
   "source": "#### Load the data",
   "id": "af02d51b781b7a8c"
  },
  {
   "metadata": {
    "ExecuteTime": {
     "end_time": "2024-05-05T06:47:56.258691Z",
     "start_time": "2024-05-05T06:47:56.247602Z"
    }
   },
   "cell_type": "code",
   "source": [
    "df_episodes1 = pd.read_csv(\"../results/20240428-17.08.30_baseline_original/logs/explain/20240428-17.08.30_baseline_original_episodes.csv\", header=None)\n",
    "# add column names\n",
    "df_episodes1.columns =['timestamp', 'name', 'seed', 'total_steps', 'episode', 'episode_steps', 'reward', 'distance', 'velocity', 'game_time', 'game_score', 'flag', 'loss', 'epsilon', 'dataset']"
   ],
   "id": "409249c5b86e834a",
   "outputs": [],
   "execution_count": 2
  },
  {
   "metadata": {
    "ExecuteTime": {
     "end_time": "2024-05-05T06:47:57.308601Z",
     "start_time": "2024-05-05T06:47:57.299176Z"
    }
   },
   "cell_type": "code",
   "source": [
    "df_episodes2 = pd.read_csv(\"../results/20240428-20.22.58_baseline_B2/logs/explain/20240428-20.22.58_baseline_B2_episodes.csv\", header=None)\n",
    "# add column names\n",
    "df_episodes2.columns =['timestamp', 'name', 'seed', 'total_steps', 'episode', 'episode_steps', 'reward', 'distance', 'velocity', 'game_time', 'game_score', 'flag', 'loss', 'epsilon', 'dataset']"
   ],
   "id": "e4b8a7a361a22c82",
   "outputs": [],
   "execution_count": 3
  },
  {
   "metadata": {
    "ExecuteTime": {
     "end_time": "2024-05-05T06:47:58.420418Z",
     "start_time": "2024-05-05T06:47:58.410525Z"
    }
   },
   "cell_type": "code",
   "source": [
    "df_episodes3 = pd.read_csv(\"../results/20240501-13.15.31_target_T1/logs/explain/20240501-13.15.31_target_T1_episodes.csv\", header=None)\n",
    "# add column names\n",
    "df_episodes3.columns =['timestamp', 'name', 'seed', 'total_steps', 'episode', 'episode_steps', 'reward', 'distance', 'velocity', 'game_time', 'game_score', 'flag', 'loss', 'epsilon', 'dataset']\n"
   ],
   "id": "3ec2f5c10ffa62a1",
   "outputs": [],
   "execution_count": 4
  },
  {
   "metadata": {
    "ExecuteTime": {
     "end_time": "2024-05-05T06:48:00.015012Z",
     "start_time": "2024-05-05T06:48:00.002846Z"
    }
   },
   "cell_type": "code",
   "source": [
    "df_episodes4 = pd.read_csv(\"../results/20240428-23.29.56_target_T2/logs/explain/20240428-23.29.56_target_T2_episodes.csv\", header=None)\n",
    "# add column names\n",
    "df_episodes4.columns =['timestamp', 'name', 'seed', 'total_steps', 'episode', 'episode_steps', 'reward', 'distance', 'velocity', 'game_time', 'game_score', 'flag', 'loss', 'epsilon', 'dataset']"
   ],
   "id": "23398b03f0b1c245",
   "outputs": [],
   "execution_count": 5
  },
  {
   "metadata": {
    "ExecuteTime": {
     "end_time": "2024-05-05T06:48:01.273908Z",
     "start_time": "2024-05-05T06:48:01.264499Z"
    }
   },
   "cell_type": "code",
   "source": [
    "df_episodes5 = pd.read_csv(\"../results/20240430-12.00.19_C1/logs/explain/20240430-12.00.19_C1_episodes.csv\", header=None)\n",
    "# add column names\n",
    "df_episodes5.columns =['timestamp', 'name', 'seed', 'total_steps', 'episode', 'episode_steps', 'reward', 'distance', 'velocity', 'game_time', 'game_score', 'flag', 'loss', 'epsilon', 'dataset']"
   ],
   "id": "15fd90231205592c",
   "outputs": [],
   "execution_count": 6
  },
  {
   "metadata": {
    "ExecuteTime": {
     "end_time": "2024-05-05T06:48:02.268470Z",
     "start_time": "2024-05-05T06:48:02.250929Z"
    }
   },
   "cell_type": "code",
   "source": [
    "df_episodes6 = pd.read_csv(\"../results/20240502-16.09.35_P1/logs/explain/20240502-16.09.35_P1_episodes.csv\", header=None)\n",
    "# add column names\n",
    "df_episodes6.columns =['timestamp', 'name', 'seed', 'total_steps', 'episode', 'episode_steps', 'reward', 'distance', 'velocity', 'game_time', 'game_score', 'flag', 'loss', 'epsilon', 'dataset']\n",
    "\n",
    "df_episodes6.head(5)"
   ],
   "id": "f306ed8792bafba2",
   "outputs": [
    {
     "data": {
      "text/plain": [
       "                 timestamp           name  seed  total_steps  episode  \\\n",
       "0  2024-05-02 16:09:37.525  game_episodes     1           36        1   \n",
       "1  2024-05-02 16:09:39.333  game_episodes     1          105        2   \n",
       "2  2024-05-02 16:09:40.232  game_episodes     1          140        3   \n",
       "3  2024-05-02 16:09:42.498  game_episodes     1          230        4   \n",
       "4  2024-05-02 16:09:49.835  game_episodes     1          523        5   \n",
       "\n",
       "   episode_steps  reward  distance   velocity  game_time  game_score   flag  \\\n",
       "0             36   241.0       305  43.571429        393           0  False   \n",
       "1             69   611.0       682  52.461538        387         200  False   \n",
       "2             35   233.0       297  42.428571        393           0  False   \n",
       "3             90   626.0       700  41.176471        383         100  False   \n",
       "4            293  1036.0      1152  19.862069        342         500  False   \n",
       "\n",
       "       loss   epsilon dataset  \n",
       "0  1.877728  0.999918      P1  \n",
       "1  2.921654  0.999649      P1  \n",
       "2  2.117202  0.999513      P1  \n",
       "3  2.618414  0.999162      P1  \n",
       "4  4.301074  0.998021      P1  "
      ],
      "text/html": [
       "<div>\n",
       "<style scoped>\n",
       "    .dataframe tbody tr th:only-of-type {\n",
       "        vertical-align: middle;\n",
       "    }\n",
       "\n",
       "    .dataframe tbody tr th {\n",
       "        vertical-align: top;\n",
       "    }\n",
       "\n",
       "    .dataframe thead th {\n",
       "        text-align: right;\n",
       "    }\n",
       "</style>\n",
       "<table border=\"1\" class=\"dataframe\">\n",
       "  <thead>\n",
       "    <tr style=\"text-align: right;\">\n",
       "      <th></th>\n",
       "      <th>timestamp</th>\n",
       "      <th>name</th>\n",
       "      <th>seed</th>\n",
       "      <th>total_steps</th>\n",
       "      <th>episode</th>\n",
       "      <th>episode_steps</th>\n",
       "      <th>reward</th>\n",
       "      <th>distance</th>\n",
       "      <th>velocity</th>\n",
       "      <th>game_time</th>\n",
       "      <th>game_score</th>\n",
       "      <th>flag</th>\n",
       "      <th>loss</th>\n",
       "      <th>epsilon</th>\n",
       "      <th>dataset</th>\n",
       "    </tr>\n",
       "  </thead>\n",
       "  <tbody>\n",
       "    <tr>\n",
       "      <th>0</th>\n",
       "      <td>2024-05-02 16:09:37.525</td>\n",
       "      <td>game_episodes</td>\n",
       "      <td>1</td>\n",
       "      <td>36</td>\n",
       "      <td>1</td>\n",
       "      <td>36</td>\n",
       "      <td>241.0</td>\n",
       "      <td>305</td>\n",
       "      <td>43.571429</td>\n",
       "      <td>393</td>\n",
       "      <td>0</td>\n",
       "      <td>False</td>\n",
       "      <td>1.877728</td>\n",
       "      <td>0.999918</td>\n",
       "      <td>P1</td>\n",
       "    </tr>\n",
       "    <tr>\n",
       "      <th>1</th>\n",
       "      <td>2024-05-02 16:09:39.333</td>\n",
       "      <td>game_episodes</td>\n",
       "      <td>1</td>\n",
       "      <td>105</td>\n",
       "      <td>2</td>\n",
       "      <td>69</td>\n",
       "      <td>611.0</td>\n",
       "      <td>682</td>\n",
       "      <td>52.461538</td>\n",
       "      <td>387</td>\n",
       "      <td>200</td>\n",
       "      <td>False</td>\n",
       "      <td>2.921654</td>\n",
       "      <td>0.999649</td>\n",
       "      <td>P1</td>\n",
       "    </tr>\n",
       "    <tr>\n",
       "      <th>2</th>\n",
       "      <td>2024-05-02 16:09:40.232</td>\n",
       "      <td>game_episodes</td>\n",
       "      <td>1</td>\n",
       "      <td>140</td>\n",
       "      <td>3</td>\n",
       "      <td>35</td>\n",
       "      <td>233.0</td>\n",
       "      <td>297</td>\n",
       "      <td>42.428571</td>\n",
       "      <td>393</td>\n",
       "      <td>0</td>\n",
       "      <td>False</td>\n",
       "      <td>2.117202</td>\n",
       "      <td>0.999513</td>\n",
       "      <td>P1</td>\n",
       "    </tr>\n",
       "    <tr>\n",
       "      <th>3</th>\n",
       "      <td>2024-05-02 16:09:42.498</td>\n",
       "      <td>game_episodes</td>\n",
       "      <td>1</td>\n",
       "      <td>230</td>\n",
       "      <td>4</td>\n",
       "      <td>90</td>\n",
       "      <td>626.0</td>\n",
       "      <td>700</td>\n",
       "      <td>41.176471</td>\n",
       "      <td>383</td>\n",
       "      <td>100</td>\n",
       "      <td>False</td>\n",
       "      <td>2.618414</td>\n",
       "      <td>0.999162</td>\n",
       "      <td>P1</td>\n",
       "    </tr>\n",
       "    <tr>\n",
       "      <th>4</th>\n",
       "      <td>2024-05-02 16:09:49.835</td>\n",
       "      <td>game_episodes</td>\n",
       "      <td>1</td>\n",
       "      <td>523</td>\n",
       "      <td>5</td>\n",
       "      <td>293</td>\n",
       "      <td>1036.0</td>\n",
       "      <td>1152</td>\n",
       "      <td>19.862069</td>\n",
       "      <td>342</td>\n",
       "      <td>500</td>\n",
       "      <td>False</td>\n",
       "      <td>4.301074</td>\n",
       "      <td>0.998021</td>\n",
       "      <td>P1</td>\n",
       "    </tr>\n",
       "  </tbody>\n",
       "</table>\n",
       "</div>"
      ]
     },
     "execution_count": 7,
     "metadata": {},
     "output_type": "execute_result"
    }
   ],
   "execution_count": 7
  },
  {
   "metadata": {
    "ExecuteTime": {
     "end_time": "2024-05-05T06:48:03.742626Z",
     "start_time": "2024-05-05T06:48:03.729098Z"
    }
   },
   "cell_type": "code",
   "source": [
    "df_episodes7 = pd.read_csv(\"../results/20240504-16.04.37_P1_compact/logs/explain/20240504-16.04.37_P1_compact_episodes.csv\", header=None)\n",
    "# add column names\n",
    "df_episodes7.columns =['timestamp', 'name', 'seed', 'total_steps', 'episode', 'episode_steps', 'reward', 'distance', 'velocity', 'game_time', 'game_score', 'flag', 'loss', 'epsilon', 'dataset']\n",
    "df_episodes7.head(5)"
   ],
   "id": "1cf92d848ac069f7",
   "outputs": [
    {
     "data": {
      "text/plain": [
       "                 timestamp           name  seed  total_steps  episode  \\\n",
       "0  2024-05-04 16:04:39.767  game_episodes     1           36        1   \n",
       "1  2024-05-04 16:04:41.612  game_episodes     1          105        2   \n",
       "2  2024-05-04 16:04:42.537  game_episodes     1          140        3   \n",
       "3  2024-05-04 16:04:44.851  game_episodes     1          230        4   \n",
       "4  2024-05-04 16:04:52.106  game_episodes     1          523        5   \n",
       "\n",
       "   episode_steps  reward  distance   velocity  game_time  game_score   flag  \\\n",
       "0             36   241.0       305  43.571429        393           0  False   \n",
       "1             69   611.0       682  52.461538        387         200  False   \n",
       "2             35   233.0       297  42.428571        393           0  False   \n",
       "3             90   626.0       700  41.176471        383         100  False   \n",
       "4            293  1036.0      1152  19.862069        342         500  False   \n",
       "\n",
       "       loss   epsilon     dataset  \n",
       "0  1.370977  0.999918  P1_compact  \n",
       "1  2.936046  0.999649  P1_compact  \n",
       "2  2.293124  0.999513  P1_compact  \n",
       "3  2.444456  0.999162  P1_compact  \n",
       "4  4.304650  0.998021  P1_compact  "
      ],
      "text/html": [
       "<div>\n",
       "<style scoped>\n",
       "    .dataframe tbody tr th:only-of-type {\n",
       "        vertical-align: middle;\n",
       "    }\n",
       "\n",
       "    .dataframe tbody tr th {\n",
       "        vertical-align: top;\n",
       "    }\n",
       "\n",
       "    .dataframe thead th {\n",
       "        text-align: right;\n",
       "    }\n",
       "</style>\n",
       "<table border=\"1\" class=\"dataframe\">\n",
       "  <thead>\n",
       "    <tr style=\"text-align: right;\">\n",
       "      <th></th>\n",
       "      <th>timestamp</th>\n",
       "      <th>name</th>\n",
       "      <th>seed</th>\n",
       "      <th>total_steps</th>\n",
       "      <th>episode</th>\n",
       "      <th>episode_steps</th>\n",
       "      <th>reward</th>\n",
       "      <th>distance</th>\n",
       "      <th>velocity</th>\n",
       "      <th>game_time</th>\n",
       "      <th>game_score</th>\n",
       "      <th>flag</th>\n",
       "      <th>loss</th>\n",
       "      <th>epsilon</th>\n",
       "      <th>dataset</th>\n",
       "    </tr>\n",
       "  </thead>\n",
       "  <tbody>\n",
       "    <tr>\n",
       "      <th>0</th>\n",
       "      <td>2024-05-04 16:04:39.767</td>\n",
       "      <td>game_episodes</td>\n",
       "      <td>1</td>\n",
       "      <td>36</td>\n",
       "      <td>1</td>\n",
       "      <td>36</td>\n",
       "      <td>241.0</td>\n",
       "      <td>305</td>\n",
       "      <td>43.571429</td>\n",
       "      <td>393</td>\n",
       "      <td>0</td>\n",
       "      <td>False</td>\n",
       "      <td>1.370977</td>\n",
       "      <td>0.999918</td>\n",
       "      <td>P1_compact</td>\n",
       "    </tr>\n",
       "    <tr>\n",
       "      <th>1</th>\n",
       "      <td>2024-05-04 16:04:41.612</td>\n",
       "      <td>game_episodes</td>\n",
       "      <td>1</td>\n",
       "      <td>105</td>\n",
       "      <td>2</td>\n",
       "      <td>69</td>\n",
       "      <td>611.0</td>\n",
       "      <td>682</td>\n",
       "      <td>52.461538</td>\n",
       "      <td>387</td>\n",
       "      <td>200</td>\n",
       "      <td>False</td>\n",
       "      <td>2.936046</td>\n",
       "      <td>0.999649</td>\n",
       "      <td>P1_compact</td>\n",
       "    </tr>\n",
       "    <tr>\n",
       "      <th>2</th>\n",
       "      <td>2024-05-04 16:04:42.537</td>\n",
       "      <td>game_episodes</td>\n",
       "      <td>1</td>\n",
       "      <td>140</td>\n",
       "      <td>3</td>\n",
       "      <td>35</td>\n",
       "      <td>233.0</td>\n",
       "      <td>297</td>\n",
       "      <td>42.428571</td>\n",
       "      <td>393</td>\n",
       "      <td>0</td>\n",
       "      <td>False</td>\n",
       "      <td>2.293124</td>\n",
       "      <td>0.999513</td>\n",
       "      <td>P1_compact</td>\n",
       "    </tr>\n",
       "    <tr>\n",
       "      <th>3</th>\n",
       "      <td>2024-05-04 16:04:44.851</td>\n",
       "      <td>game_episodes</td>\n",
       "      <td>1</td>\n",
       "      <td>230</td>\n",
       "      <td>4</td>\n",
       "      <td>90</td>\n",
       "      <td>626.0</td>\n",
       "      <td>700</td>\n",
       "      <td>41.176471</td>\n",
       "      <td>383</td>\n",
       "      <td>100</td>\n",
       "      <td>False</td>\n",
       "      <td>2.444456</td>\n",
       "      <td>0.999162</td>\n",
       "      <td>P1_compact</td>\n",
       "    </tr>\n",
       "    <tr>\n",
       "      <th>4</th>\n",
       "      <td>2024-05-04 16:04:52.106</td>\n",
       "      <td>game_episodes</td>\n",
       "      <td>1</td>\n",
       "      <td>523</td>\n",
       "      <td>5</td>\n",
       "      <td>293</td>\n",
       "      <td>1036.0</td>\n",
       "      <td>1152</td>\n",
       "      <td>19.862069</td>\n",
       "      <td>342</td>\n",
       "      <td>500</td>\n",
       "      <td>False</td>\n",
       "      <td>4.304650</td>\n",
       "      <td>0.998021</td>\n",
       "      <td>P1_compact</td>\n",
       "    </tr>\n",
       "  </tbody>\n",
       "</table>\n",
       "</div>"
      ]
     },
     "execution_count": 8,
     "metadata": {},
     "output_type": "execute_result"
    }
   ],
   "execution_count": 8
  },
  {
   "metadata": {
    "ExecuteTime": {
     "end_time": "2024-05-05T06:48:04.882870Z",
     "start_time": "2024-05-05T06:48:04.877452Z"
    }
   },
   "cell_type": "code",
   "source": "concatenated = pd.concat([df_episodes1, df_episodes2, df_episodes3, df_episodes4, df_episodes5, df_episodes6, df_episodes7])",
   "id": "d29dc5c221b0ffcd",
   "outputs": [],
   "execution_count": 9
  },
  {
   "metadata": {},
   "cell_type": "markdown",
   "source": [
    "- total_steps: the total of steps executed during the run\n",
    "- episode: the episode over which the data is aggregated\n",
    "- episode_steps: the number of steps in the episode\n",
    "- reward: the total reward accumulated during the episode\n",
    "- distance: the distance to the right achieved during the episode\n",
    "- velocity: distance / (400 - game_time). This is an indication of how long it took to reach the distance\n",
    "- game_time: the number of ticks on the game clock (countdown from 400)\n",
    "- game_score: the score achieved in the game\n",
    "- flag: indication whether Mario reached the flag during the episode\n",
    "- loss: the loss \n",
    "- epsilon: the epsilon applied to the episode\n"
   ],
   "id": "8437034b0e1fed47"
  },
  {
   "metadata": {},
   "cell_type": "markdown",
   "source": "#### plot the reward, distance and velocity per episode",
   "id": "f8fc40a9bdc1da80"
  },
  {
   "metadata": {
    "ExecuteTime": {
     "end_time": "2024-05-05T06:48:08.927300Z",
     "start_time": "2024-05-05T06:48:08.254579Z"
    }
   },
   "cell_type": "code",
   "source": "sns.lineplot(x='episode', y='reward', data=concatenated, hue='dataset')",
   "id": "df01fa84f12ad09e",
   "outputs": [
    {
     "data": {
      "text/plain": [
       "<Axes: xlabel='episode', ylabel='reward'>"
      ]
     },
     "execution_count": 10,
     "metadata": {},
     "output_type": "execute_result"
    },
    {
     "data": {
      "text/plain": [
       "<Figure size 640x480 with 1 Axes>"
      ],
      "image/png": "[encoded data removed]"
     },
     "metadata": {},
     "output_type": "display_data"
    }
   ],
   "execution_count": 10
  },
  {
   "metadata": {},
   "cell_type": "markdown",
   "source": [
    "Because of the epsilon during the reinforcement learning process, Mario can still die early late in the process, causing the rewards go all over the place.\n",
    "Group the data in bins of 1000 and calculate the aggregates"
   ],
   "id": "ed28f2d80ddee8c0"
  },
  {
   "metadata": {
    "ExecuteTime": {
     "end_time": "2024-05-05T06:48:15.490832Z",
     "start_time": "2024-05-05T06:48:15.476627Z"
    }
   },
   "cell_type": "code",
   "source": [
    "bins_rewards1 = range(0, 5000, 100)\n",
    "df_agg_rewards1 = df_episodes1.groupby(pd.cut(df_episodes1['episode'], bins=bins_rewards1), observed=True)['reward'].agg(['mean', 'std', 'size'])\n",
    "bins_rewards1 = [*bins_rewards1]\n",
    "bins_rewards1.pop(0)\n",
    "df_agg_rewards1[\"bin\"] = bins_rewards1\n",
    "df_agg_rewards1.head(5)\n"
   ],
   "id": "b7ddc317a3b1841e",
   "outputs": [
    {
     "data": {
      "text/plain": [
       "              mean         std  size  bin\n",
       "episode                                  \n",
       "(0, 100]    628.19  334.065671   100  100\n",
       "(100, 200]  535.49  335.635760   100  200\n",
       "(200, 300]  698.19  364.414757   100  300\n",
       "(300, 400]  703.19  384.563473   100  400\n",
       "(400, 500]  664.14  470.320888   100  500"
      ],
      "text/html": [
       "<div>\n",
       "<style scoped>\n",
       "    .dataframe tbody tr th:only-of-type {\n",
       "        vertical-align: middle;\n",
       "    }\n",
       "\n",
       "    .dataframe tbody tr th {\n",
       "        vertical-align: top;\n",
       "    }\n",
       "\n",
       "    .dataframe thead th {\n",
       "        text-align: right;\n",
       "    }\n",
       "</style>\n",
       "<table border=\"1\" class=\"dataframe\">\n",
       "  <thead>\n",
       "    <tr style=\"text-align: right;\">\n",
       "      <th></th>\n",
       "      <th>mean</th>\n",
       "      <th>std</th>\n",
       "      <th>size</th>\n",
       "      <th>bin</th>\n",
       "    </tr>\n",
       "    <tr>\n",
       "      <th>episode</th>\n",
       "      <th></th>\n",
       "      <th></th>\n",
       "      <th></th>\n",
       "      <th></th>\n",
       "    </tr>\n",
       "  </thead>\n",
       "  <tbody>\n",
       "    <tr>\n",
       "      <th>(0, 100]</th>\n",
       "      <td>628.19</td>\n",
       "      <td>334.065671</td>\n",
       "      <td>100</td>\n",
       "      <td>100</td>\n",
       "    </tr>\n",
       "    <tr>\n",
       "      <th>(100, 200]</th>\n",
       "      <td>535.49</td>\n",
       "      <td>335.635760</td>\n",
       "      <td>100</td>\n",
       "      <td>200</td>\n",
       "    </tr>\n",
       "    <tr>\n",
       "      <th>(200, 300]</th>\n",
       "      <td>698.19</td>\n",
       "      <td>364.414757</td>\n",
       "      <td>100</td>\n",
       "      <td>300</td>\n",
       "    </tr>\n",
       "    <tr>\n",
       "      <th>(300, 400]</th>\n",
       "      <td>703.19</td>\n",
       "      <td>384.563473</td>\n",
       "      <td>100</td>\n",
       "      <td>400</td>\n",
       "    </tr>\n",
       "    <tr>\n",
       "      <th>(400, 500]</th>\n",
       "      <td>664.14</td>\n",
       "      <td>470.320888</td>\n",
       "      <td>100</td>\n",
       "      <td>500</td>\n",
       "    </tr>\n",
       "  </tbody>\n",
       "</table>\n",
       "</div>"
      ]
     },
     "execution_count": 11,
     "metadata": {},
     "output_type": "execute_result"
    }
   ],
   "execution_count": 11
  },
  {
   "metadata": {
    "ExecuteTime": {
     "end_time": "2024-05-05T06:48:16.604480Z",
     "start_time": "2024-05-05T06:48:16.593839Z"
    }
   },
   "cell_type": "code",
   "source": [
    "bins_rewards2 = range(0, 5000, 100)\n",
    "df_agg_rewards2 = df_episodes2.groupby(pd.cut(df_episodes2['episode'], bins=bins_rewards2), observed=True)['reward'].agg(['mean', 'std', 'size'])\n",
    "bins_rewards2 = [*bins_rewards2]\n",
    "bins_rewards2.pop(0)\n",
    "df_agg_rewards2[\"bin\"] = bins_rewards2\n",
    "df_agg_rewards2.head(5)"
   ],
   "id": "b5e065ccb60029b9",
   "outputs": [
    {
     "data": {
      "text/plain": [
       "              mean         std  size  bin\n",
       "episode                                  \n",
       "(0, 100]    613.97  361.228444   100  100\n",
       "(100, 200]  681.79  312.162652   100  200\n",
       "(200, 300]  656.44  365.164065   100  300\n",
       "(300, 400]  643.32  284.788097   100  400\n",
       "(400, 500]  700.81  335.731064   100  500"
      ],
      "text/html": [
       "<div>\n",
       "<style scoped>\n",
       "    .dataframe tbody tr th:only-of-type {\n",
       "        vertical-align: middle;\n",
       "    }\n",
       "\n",
       "    .dataframe tbody tr th {\n",
       "        vertical-align: top;\n",
       "    }\n",
       "\n",
       "    .dataframe thead th {\n",
       "        text-align: right;\n",
       "    }\n",
       "</style>\n",
       "<table border=\"1\" class=\"dataframe\">\n",
       "  <thead>\n",
       "    <tr style=\"text-align: right;\">\n",
       "      <th></th>\n",
       "      <th>mean</th>\n",
       "      <th>std</th>\n",
       "      <th>size</th>\n",
       "      <th>bin</th>\n",
       "    </tr>\n",
       "    <tr>\n",
       "      <th>episode</th>\n",
       "      <th></th>\n",
       "      <th></th>\n",
       "      <th></th>\n",
       "      <th></th>\n",
       "    </tr>\n",
       "  </thead>\n",
       "  <tbody>\n",
       "    <tr>\n",
       "      <th>(0, 100]</th>\n",
       "      <td>613.97</td>\n",
       "      <td>361.228444</td>\n",
       "      <td>100</td>\n",
       "      <td>100</td>\n",
       "    </tr>\n",
       "    <tr>\n",
       "      <th>(100, 200]</th>\n",
       "      <td>681.79</td>\n",
       "      <td>312.162652</td>\n",
       "      <td>100</td>\n",
       "      <td>200</td>\n",
       "    </tr>\n",
       "    <tr>\n",
       "      <th>(200, 300]</th>\n",
       "      <td>656.44</td>\n",
       "      <td>365.164065</td>\n",
       "      <td>100</td>\n",
       "      <td>300</td>\n",
       "    </tr>\n",
       "    <tr>\n",
       "      <th>(300, 400]</th>\n",
       "      <td>643.32</td>\n",
       "      <td>284.788097</td>\n",
       "      <td>100</td>\n",
       "      <td>400</td>\n",
       "    </tr>\n",
       "    <tr>\n",
       "      <th>(400, 500]</th>\n",
       "      <td>700.81</td>\n",
       "      <td>335.731064</td>\n",
       "      <td>100</td>\n",
       "      <td>500</td>\n",
       "    </tr>\n",
       "  </tbody>\n",
       "</table>\n",
       "</div>"
      ]
     },
     "execution_count": 12,
     "metadata": {},
     "output_type": "execute_result"
    }
   ],
   "execution_count": 12
  },
  {
   "metadata": {
    "ExecuteTime": {
     "end_time": "2024-05-05T06:48:17.534502Z",
     "start_time": "2024-05-05T06:48:17.524284Z"
    }
   },
   "cell_type": "code",
   "source": [
    "bins_rewards3 = range(0, 5000, 100)\n",
    "df_agg_rewards3 = df_episodes3.groupby(pd.cut(df_episodes3['episode'], bins=bins_rewards3), observed=True)['reward'].agg(['mean', 'std', 'size'])\n",
    "bins_rewards3 = [*bins_rewards3]\n",
    "bins_rewards3.pop(0)\n",
    "df_agg_rewards3[\"bin\"] = bins_rewards3\n",
    "df_agg_rewards3.head(5)"
   ],
   "id": "23f96dabaeb04be9",
   "outputs": [
    {
     "data": {
      "text/plain": [
       "              mean         std  size  bin\n",
       "episode                                  \n",
       "(0, 100]    658.73  352.564081   100  100\n",
       "(100, 200]  633.42  329.959354   100  200\n",
       "(200, 300]  669.68  357.098319   100  300\n",
       "(300, 400]  648.46  348.195302   100  400\n",
       "(400, 500]  763.23  384.731517   100  500"
      ],
      "text/html": [
       "<div>\n",
       "<style scoped>\n",
       "    .dataframe tbody tr th:only-of-type {\n",
       "        vertical-align: middle;\n",
       "    }\n",
       "\n",
       "    .dataframe tbody tr th {\n",
       "        vertical-align: top;\n",
       "    }\n",
       "\n",
       "    .dataframe thead th {\n",
       "        text-align: right;\n",
       "    }\n",
       "</style>\n",
       "<table border=\"1\" class=\"dataframe\">\n",
       "  <thead>\n",
       "    <tr style=\"text-align: right;\">\n",
       "      <th></th>\n",
       "      <th>mean</th>\n",
       "      <th>std</th>\n",
       "      <th>size</th>\n",
       "      <th>bin</th>\n",
       "    </tr>\n",
       "    <tr>\n",
       "      <th>episode</th>\n",
       "      <th></th>\n",
       "      <th></th>\n",
       "      <th></th>\n",
       "      <th></th>\n",
       "    </tr>\n",
       "  </thead>\n",
       "  <tbody>\n",
       "    <tr>\n",
       "      <th>(0, 100]</th>\n",
       "      <td>658.73</td>\n",
       "      <td>352.564081</td>\n",
       "      <td>100</td>\n",
       "      <td>100</td>\n",
       "    </tr>\n",
       "    <tr>\n",
       "      <th>(100, 200]</th>\n",
       "      <td>633.42</td>\n",
       "      <td>329.959354</td>\n",
       "      <td>100</td>\n",
       "      <td>200</td>\n",
       "    </tr>\n",
       "    <tr>\n",
       "      <th>(200, 300]</th>\n",
       "      <td>669.68</td>\n",
       "      <td>357.098319</td>\n",
       "      <td>100</td>\n",
       "      <td>300</td>\n",
       "    </tr>\n",
       "    <tr>\n",
       "      <th>(300, 400]</th>\n",
       "      <td>648.46</td>\n",
       "      <td>348.195302</td>\n",
       "      <td>100</td>\n",
       "      <td>400</td>\n",
       "    </tr>\n",
       "    <tr>\n",
       "      <th>(400, 500]</th>\n",
       "      <td>763.23</td>\n",
       "      <td>384.731517</td>\n",
       "      <td>100</td>\n",
       "      <td>500</td>\n",
       "    </tr>\n",
       "  </tbody>\n",
       "</table>\n",
       "</div>"
      ]
     },
     "execution_count": 13,
     "metadata": {},
     "output_type": "execute_result"
    }
   ],
   "execution_count": 13
  },
  {
   "metadata": {
    "ExecuteTime": {
     "end_time": "2024-05-05T06:48:18.423197Z",
     "start_time": "2024-05-05T06:48:18.413902Z"
    }
   },
   "cell_type": "code",
   "source": [
    "bins_rewards4 = range(0, 5000, 100)\n",
    "df_agg_rewards4 = df_episodes4.groupby(pd.cut(df_episodes4['episode'], bins=bins_rewards4), observed=True)['reward'].agg(['mean', 'std', 'size'])\n",
    "bins_rewards4 = [*bins_rewards4]\n",
    "bins_rewards4.pop(0)\n",
    "df_agg_rewards4[\"bin\"] = bins_rewards4\n",
    "df_agg_rewards4.head(5)"
   ],
   "id": "75270444cd059cd6",
   "outputs": [
    {
     "data": {
      "text/plain": [
       "              mean         std  size  bin\n",
       "episode                                  \n",
       "(0, 100]    722.29  363.008231   100  100\n",
       "(100, 200]  703.29  394.349645   100  200\n",
       "(200, 300]  678.74  455.458313   100  300\n",
       "(300, 400]  604.68  350.578076   100  400\n",
       "(400, 500]  733.88  387.128206   100  500"
      ],
      "text/html": [
       "<div>\n",
       "<style scoped>\n",
       "    .dataframe tbody tr th:only-of-type {\n",
       "        vertical-align: middle;\n",
       "    }\n",
       "\n",
       "    .dataframe tbody tr th {\n",
       "        vertical-align: top;\n",
       "    }\n",
       "\n",
       "    .dataframe thead th {\n",
       "        text-align: right;\n",
       "    }\n",
       "</style>\n",
       "<table border=\"1\" class=\"dataframe\">\n",
       "  <thead>\n",
       "    <tr style=\"text-align: right;\">\n",
       "      <th></th>\n",
       "      <th>mean</th>\n",
       "      <th>std</th>\n",
       "      <th>size</th>\n",
       "      <th>bin</th>\n",
       "    </tr>\n",
       "    <tr>\n",
       "      <th>episode</th>\n",
       "      <th></th>\n",
       "      <th></th>\n",
       "      <th></th>\n",
       "      <th></th>\n",
       "    </tr>\n",
       "  </thead>\n",
       "  <tbody>\n",
       "    <tr>\n",
       "      <th>(0, 100]</th>\n",
       "      <td>722.29</td>\n",
       "      <td>363.008231</td>\n",
       "      <td>100</td>\n",
       "      <td>100</td>\n",
       "    </tr>\n",
       "    <tr>\n",
       "      <th>(100, 200]</th>\n",
       "      <td>703.29</td>\n",
       "      <td>394.349645</td>\n",
       "      <td>100</td>\n",
       "      <td>200</td>\n",
       "    </tr>\n",
       "    <tr>\n",
       "      <th>(200, 300]</th>\n",
       "      <td>678.74</td>\n",
       "      <td>455.458313</td>\n",
       "      <td>100</td>\n",
       "      <td>300</td>\n",
       "    </tr>\n",
       "    <tr>\n",
       "      <th>(300, 400]</th>\n",
       "      <td>604.68</td>\n",
       "      <td>350.578076</td>\n",
       "      <td>100</td>\n",
       "      <td>400</td>\n",
       "    </tr>\n",
       "    <tr>\n",
       "      <th>(400, 500]</th>\n",
       "      <td>733.88</td>\n",
       "      <td>387.128206</td>\n",
       "      <td>100</td>\n",
       "      <td>500</td>\n",
       "    </tr>\n",
       "  </tbody>\n",
       "</table>\n",
       "</div>"
      ]
     },
     "execution_count": 14,
     "metadata": {},
     "output_type": "execute_result"
    }
   ],
   "execution_count": 14
  },
  {
   "metadata": {
    "ExecuteTime": {
     "end_time": "2024-05-05T06:48:19.200429Z",
     "start_time": "2024-05-05T06:48:19.188982Z"
    }
   },
   "cell_type": "code",
   "source": [
    "bins_rewards5 = range(0, 5000, 100)\n",
    "df_agg_rewards5 = df_episodes5.groupby(pd.cut(df_episodes5['episode'], bins=bins_rewards5), observed=True)['reward'].agg(['mean', 'std', 'size'])\n",
    "bins_rewards5 = [*bins_rewards5]\n",
    "bins_rewards5.pop(0)\n",
    "df_agg_rewards5[\"bin\"] = bins_rewards5\n",
    "df_agg_rewards5.head(5)"
   ],
   "id": "8dc5d2b1ad6a3bb2",
   "outputs": [
    {
     "data": {
      "text/plain": [
       "              mean         std  size  bin\n",
       "episode                                  \n",
       "(0, 100]    689.17  370.921785   100  100\n",
       "(100, 200]  599.90  305.883998   100  200\n",
       "(200, 300]  675.01  308.449904   100  300\n",
       "(300, 400]  729.92  390.386358   100  400\n",
       "(400, 500]  658.96  353.849735   100  500"
      ],
      "text/html": [
       "<div>\n",
       "<style scoped>\n",
       "    .dataframe tbody tr th:only-of-type {\n",
       "        vertical-align: middle;\n",
       "    }\n",
       "\n",
       "    .dataframe tbody tr th {\n",
       "        vertical-align: top;\n",
       "    }\n",
       "\n",
       "    .dataframe thead th {\n",
       "        text-align: right;\n",
       "    }\n",
       "</style>\n",
       "<table border=\"1\" class=\"dataframe\">\n",
       "  <thead>\n",
       "    <tr style=\"text-align: right;\">\n",
       "      <th></th>\n",
       "      <th>mean</th>\n",
       "      <th>std</th>\n",
       "      <th>size</th>\n",
       "      <th>bin</th>\n",
       "    </tr>\n",
       "    <tr>\n",
       "      <th>episode</th>\n",
       "      <th></th>\n",
       "      <th></th>\n",
       "      <th></th>\n",
       "      <th></th>\n",
       "    </tr>\n",
       "  </thead>\n",
       "  <tbody>\n",
       "    <tr>\n",
       "      <th>(0, 100]</th>\n",
       "      <td>689.17</td>\n",
       "      <td>370.921785</td>\n",
       "      <td>100</td>\n",
       "      <td>100</td>\n",
       "    </tr>\n",
       "    <tr>\n",
       "      <th>(100, 200]</th>\n",
       "      <td>599.90</td>\n",
       "      <td>305.883998</td>\n",
       "      <td>100</td>\n",
       "      <td>200</td>\n",
       "    </tr>\n",
       "    <tr>\n",
       "      <th>(200, 300]</th>\n",
       "      <td>675.01</td>\n",
       "      <td>308.449904</td>\n",
       "      <td>100</td>\n",
       "      <td>300</td>\n",
       "    </tr>\n",
       "    <tr>\n",
       "      <th>(300, 400]</th>\n",
       "      <td>729.92</td>\n",
       "      <td>390.386358</td>\n",
       "      <td>100</td>\n",
       "      <td>400</td>\n",
       "    </tr>\n",
       "    <tr>\n",
       "      <th>(400, 500]</th>\n",
       "      <td>658.96</td>\n",
       "      <td>353.849735</td>\n",
       "      <td>100</td>\n",
       "      <td>500</td>\n",
       "    </tr>\n",
       "  </tbody>\n",
       "</table>\n",
       "</div>"
      ]
     },
     "execution_count": 15,
     "metadata": {},
     "output_type": "execute_result"
    }
   ],
   "execution_count": 15
  },
  {
   "metadata": {
    "ExecuteTime": {
     "end_time": "2024-05-05T06:48:19.980023Z",
     "start_time": "2024-05-05T06:48:19.969831Z"
    }
   },
   "cell_type": "code",
   "source": [
    "bins_rewards6 = range(0, 5000, 100)\n",
    "df_agg_rewards6 = df_episodes6.groupby(pd.cut(df_episodes6['episode'], bins=bins_rewards6), observed=True)['reward'].agg(['mean', 'std', 'size'])\n",
    "bins_rewards6 = [*bins_rewards6]\n",
    "bins_rewards6.pop(0)\n",
    "df_agg_rewards6[\"bin\"] = bins_rewards6\n",
    "df_agg_rewards6.head(5)"
   ],
   "id": "3e2f5270a1ac6df5",
   "outputs": [
    {
     "data": {
      "text/plain": [
       "              mean         std  size  bin\n",
       "episode                                  \n",
       "(0, 100]    752.00  394.014459   100  100\n",
       "(100, 200]  718.89  425.863968   100  200\n",
       "(200, 300]  627.05  418.017287   100  300\n",
       "(300, 400]  715.34  422.149340   100  400\n",
       "(400, 500]  769.18  433.721117   100  500"
      ],
      "text/html": [
       "<div>\n",
       "<style scoped>\n",
       "    .dataframe tbody tr th:only-of-type {\n",
       "        vertical-align: middle;\n",
       "    }\n",
       "\n",
       "    .dataframe tbody tr th {\n",
       "        vertical-align: top;\n",
       "    }\n",
       "\n",
       "    .dataframe thead th {\n",
       "        text-align: right;\n",
       "    }\n",
       "</style>\n",
       "<table border=\"1\" class=\"dataframe\">\n",
       "  <thead>\n",
       "    <tr style=\"text-align: right;\">\n",
       "      <th></th>\n",
       "      <th>mean</th>\n",
       "      <th>std</th>\n",
       "      <th>size</th>\n",
       "      <th>bin</th>\n",
       "    </tr>\n",
       "    <tr>\n",
       "      <th>episode</th>\n",
       "      <th></th>\n",
       "      <th></th>\n",
       "      <th></th>\n",
       "      <th></th>\n",
       "    </tr>\n",
       "  </thead>\n",
       "  <tbody>\n",
       "    <tr>\n",
       "      <th>(0, 100]</th>\n",
       "      <td>752.00</td>\n",
       "      <td>394.014459</td>\n",
       "      <td>100</td>\n",
       "      <td>100</td>\n",
       "    </tr>\n",
       "    <tr>\n",
       "      <th>(100, 200]</th>\n",
       "      <td>718.89</td>\n",
       "      <td>425.863968</td>\n",
       "      <td>100</td>\n",
       "      <td>200</td>\n",
       "    </tr>\n",
       "    <tr>\n",
       "      <th>(200, 300]</th>\n",
       "      <td>627.05</td>\n",
       "      <td>418.017287</td>\n",
       "      <td>100</td>\n",
       "      <td>300</td>\n",
       "    </tr>\n",
       "    <tr>\n",
       "      <th>(300, 400]</th>\n",
       "      <td>715.34</td>\n",
       "      <td>422.149340</td>\n",
       "      <td>100</td>\n",
       "      <td>400</td>\n",
       "    </tr>\n",
       "    <tr>\n",
       "      <th>(400, 500]</th>\n",
       "      <td>769.18</td>\n",
       "      <td>433.721117</td>\n",
       "      <td>100</td>\n",
       "      <td>500</td>\n",
       "    </tr>\n",
       "  </tbody>\n",
       "</table>\n",
       "</div>"
      ]
     },
     "execution_count": 16,
     "metadata": {},
     "output_type": "execute_result"
    }
   ],
   "execution_count": 16
  },
  {
   "metadata": {
    "ExecuteTime": {
     "end_time": "2024-05-05T06:48:20.907128Z",
     "start_time": "2024-05-05T06:48:20.897709Z"
    }
   },
   "cell_type": "code",
   "source": [
    "bins_rewards7 = range(0, 5000, 100)\n",
    "df_agg_rewards7 = df_episodes7.groupby(pd.cut(df_episodes7['episode'], bins=bins_rewards7), observed=True)['reward'].agg(['mean', 'std', 'size'])\n",
    "bins_rewards7 = [*bins_rewards7]\n",
    "bins_rewards7.pop(0)\n",
    "df_agg_rewards7[\"bin\"] = bins_rewards7\n",
    "df_agg_rewards7.head(5)"
   ],
   "id": "d7d7e66895aaa722",
   "outputs": [
    {
     "data": {
      "text/plain": [
       "              mean         std  size  bin\n",
       "episode                                  \n",
       "(0, 100]    437.08  298.686981   100  100\n",
       "(100, 200]  495.63  338.531071   100  200\n",
       "(200, 300]  546.75  359.824659   100  300\n",
       "(300, 400]  538.08  350.036555   100  400\n",
       "(400, 500]  530.88  310.975957   100  500"
      ],
      "text/html": [
       "<div>\n",
       "<style scoped>\n",
       "    .dataframe tbody tr th:only-of-type {\n",
       "        vertical-align: middle;\n",
       "    }\n",
       "\n",
       "    .dataframe tbody tr th {\n",
       "        vertical-align: top;\n",
       "    }\n",
       "\n",
       "    .dataframe thead th {\n",
       "        text-align: right;\n",
       "    }\n",
       "</style>\n",
       "<table border=\"1\" class=\"dataframe\">\n",
       "  <thead>\n",
       "    <tr style=\"text-align: right;\">\n",
       "      <th></th>\n",
       "      <th>mean</th>\n",
       "      <th>std</th>\n",
       "      <th>size</th>\n",
       "      <th>bin</th>\n",
       "    </tr>\n",
       "    <tr>\n",
       "      <th>episode</th>\n",
       "      <th></th>\n",
       "      <th></th>\n",
       "      <th></th>\n",
       "      <th></th>\n",
       "    </tr>\n",
       "  </thead>\n",
       "  <tbody>\n",
       "    <tr>\n",
       "      <th>(0, 100]</th>\n",
       "      <td>437.08</td>\n",
       "      <td>298.686981</td>\n",
       "      <td>100</td>\n",
       "      <td>100</td>\n",
       "    </tr>\n",
       "    <tr>\n",
       "      <th>(100, 200]</th>\n",
       "      <td>495.63</td>\n",
       "      <td>338.531071</td>\n",
       "      <td>100</td>\n",
       "      <td>200</td>\n",
       "    </tr>\n",
       "    <tr>\n",
       "      <th>(200, 300]</th>\n",
       "      <td>546.75</td>\n",
       "      <td>359.824659</td>\n",
       "      <td>100</td>\n",
       "      <td>300</td>\n",
       "    </tr>\n",
       "    <tr>\n",
       "      <th>(300, 400]</th>\n",
       "      <td>538.08</td>\n",
       "      <td>350.036555</td>\n",
       "      <td>100</td>\n",
       "      <td>400</td>\n",
       "    </tr>\n",
       "    <tr>\n",
       "      <th>(400, 500]</th>\n",
       "      <td>530.88</td>\n",
       "      <td>310.975957</td>\n",
       "      <td>100</td>\n",
       "      <td>500</td>\n",
       "    </tr>\n",
       "  </tbody>\n",
       "</table>\n",
       "</div>"
      ]
     },
     "execution_count": 17,
     "metadata": {},
     "output_type": "execute_result"
    }
   ],
   "execution_count": 17
  },
  {
   "metadata": {
    "ExecuteTime": {
     "end_time": "2024-05-05T06:48:22.317561Z",
     "start_time": "2024-05-05T06:48:21.993080Z"
    }
   },
   "cell_type": "code",
   "source": [
    "fig_reward, ax_reward = plt.subplots(figsize=(6, 6))\n",
    "sns.regplot(x='bin', y='mean', data=df_agg_rewards1, fit_reg=True, ci=None, ax=ax_reward, label='original')\n",
    "sns.regplot(x='bin', y='mean', data=df_agg_rewards2, fit_reg=True, ci=None, ax=ax_reward, label='baseline slow decay')\n",
    "sns.regplot(x='bin', y='mean', data=df_agg_rewards3, fit_reg=True, ci=None, ax=ax_reward, label='T1')\n",
    "sns.regplot(x='bin', y='mean', data=df_agg_rewards4, fit_reg=True, ci=None, ax=ax_reward, label='T2')\n",
    "sns.regplot(x='bin', y='mean', data=df_agg_rewards5, fit_reg=True, ci=None, ax=ax_reward, label='C1')\n",
    "sns.regplot(x='bin', y='mean', data=df_agg_rewards5, fit_reg=True, ci=None, ax=ax_reward, label='P1')\n",
    "sns.regplot(x='bin', y='mean', data=df_agg_rewards5, fit_reg=True, ci=None, ax=ax_reward, label='P1 compact')\n",
    "ax_reward.set(ylabel='mean rewards', xlabel='episode')\n",
    "ax_reward.legend()"
   ],
   "id": "b60de33365872d37",
   "outputs": [
    {
     "data": {
      "text/plain": [
       "<matplotlib.legend.Legend at 0x7fe23ab199f0>"
      ]
     },
     "execution_count": 18,
     "metadata": {},
     "output_type": "execute_result"
    },
    {
     "data": {
      "text/plain": [
       "<Figure size 600x600 with 1 Axes>"
      ],
      "image/png": "[encoded data removed]"
     },
     "metadata": {},
     "output_type": "display_data"
    }
   ],
   "execution_count": 18
  },
  {
   "metadata": {},
   "cell_type": "markdown",
   "source": "And plot the average number of flags per 1000 episodes",
   "id": "3fb548fee4f11edc"
  },
  {
   "metadata": {
    "ExecuteTime": {
     "end_time": "2024-05-05T06:49:02.686352Z",
     "start_time": "2024-05-05T06:49:02.676669Z"
    }
   },
   "cell_type": "code",
   "source": [
    "bins_flags1 = range(0, 5000, 100)\n",
    "df_agg_flags1 = df_episodes1.groupby(pd.cut(df_episodes1['episode'], bins=bins_flags1), observed=True)['flag'].agg(['mean', 'std', 'size'])\n",
    "bins_flags1 = [*bins_flags1]\n",
    "bins_flags1.pop(0)\n",
    "df_agg_flags1[\"bin\"] = bins_flags1\n",
    "df_agg_flags1.head(5)"
   ],
   "id": "64646b2e460672d6",
   "outputs": [
    {
     "data": {
      "text/plain": [
       "            mean  std  size  bin\n",
       "episode                         \n",
       "(0, 100]     0.0  0.0   100  100\n",
       "(100, 200]   0.0  0.0   100  200\n",
       "(200, 300]   0.0  0.0   100  300\n",
       "(300, 400]   0.0  0.0   100  400\n",
       "(400, 500]   0.0  0.0   100  500"
      ],
      "text/html": [
       "<div>\n",
       "<style scoped>\n",
       "    .dataframe tbody tr th:only-of-type {\n",
       "        vertical-align: middle;\n",
       "    }\n",
       "\n",
       "    .dataframe tbody tr th {\n",
       "        vertical-align: top;\n",
       "    }\n",
       "\n",
       "    .dataframe thead th {\n",
       "        text-align: right;\n",
       "    }\n",
       "</style>\n",
       "<table border=\"1\" class=\"dataframe\">\n",
       "  <thead>\n",
       "    <tr style=\"text-align: right;\">\n",
       "      <th></th>\n",
       "      <th>mean</th>\n",
       "      <th>std</th>\n",
       "      <th>size</th>\n",
       "      <th>bin</th>\n",
       "    </tr>\n",
       "    <tr>\n",
       "      <th>episode</th>\n",
       "      <th></th>\n",
       "      <th></th>\n",
       "      <th></th>\n",
       "      <th></th>\n",
       "    </tr>\n",
       "  </thead>\n",
       "  <tbody>\n",
       "    <tr>\n",
       "      <th>(0, 100]</th>\n",
       "      <td>0.0</td>\n",
       "      <td>0.0</td>\n",
       "      <td>100</td>\n",
       "      <td>100</td>\n",
       "    </tr>\n",
       "    <tr>\n",
       "      <th>(100, 200]</th>\n",
       "      <td>0.0</td>\n",
       "      <td>0.0</td>\n",
       "      <td>100</td>\n",
       "      <td>200</td>\n",
       "    </tr>\n",
       "    <tr>\n",
       "      <th>(200, 300]</th>\n",
       "      <td>0.0</td>\n",
       "      <td>0.0</td>\n",
       "      <td>100</td>\n",
       "      <td>300</td>\n",
       "    </tr>\n",
       "    <tr>\n",
       "      <th>(300, 400]</th>\n",
       "      <td>0.0</td>\n",
       "      <td>0.0</td>\n",
       "      <td>100</td>\n",
       "      <td>400</td>\n",
       "    </tr>\n",
       "    <tr>\n",
       "      <th>(400, 500]</th>\n",
       "      <td>0.0</td>\n",
       "      <td>0.0</td>\n",
       "      <td>100</td>\n",
       "      <td>500</td>\n",
       "    </tr>\n",
       "  </tbody>\n",
       "</table>\n",
       "</div>"
      ]
     },
     "execution_count": 19,
     "metadata": {},
     "output_type": "execute_result"
    }
   ],
   "execution_count": 19
  },
  {
   "metadata": {
    "ExecuteTime": {
     "end_time": "2024-05-05T06:49:03.494984Z",
     "start_time": "2024-05-05T06:49:03.485168Z"
    }
   },
   "cell_type": "code",
   "source": [
    "bins_flags2 = range(0, 5000, 100)\n",
    "df_agg_flags2 = df_episodes2.groupby(pd.cut(df_episodes2['episode'], bins=bins_flags2), observed=True)['flag'].agg(['mean', 'std', 'size'])\n",
    "bins_flags2 = [*bins_flags2]\n",
    "bins_flags2.pop(0)\n",
    "df_agg_flags2[\"bin\"] = bins_flags2\n",
    "df_agg_flags2.head(5)"
   ],
   "id": "84f645657018236c",
   "outputs": [
    {
     "data": {
      "text/plain": [
       "            mean  std  size  bin\n",
       "episode                         \n",
       "(0, 100]     0.0  0.0   100  100\n",
       "(100, 200]   0.0  0.0   100  200\n",
       "(200, 300]   0.0  0.0   100  300\n",
       "(300, 400]   0.0  0.0   100  400\n",
       "(400, 500]   0.0  0.0   100  500"
      ],
      "text/html": [
       "<div>\n",
       "<style scoped>\n",
       "    .dataframe tbody tr th:only-of-type {\n",
       "        vertical-align: middle;\n",
       "    }\n",
       "\n",
       "    .dataframe tbody tr th {\n",
       "        vertical-align: top;\n",
       "    }\n",
       "\n",
       "    .dataframe thead th {\n",
       "        text-align: right;\n",
       "    }\n",
       "</style>\n",
       "<table border=\"1\" class=\"dataframe\">\n",
       "  <thead>\n",
       "    <tr style=\"text-align: right;\">\n",
       "      <th></th>\n",
       "      <th>mean</th>\n",
       "      <th>std</th>\n",
       "      <th>size</th>\n",
       "      <th>bin</th>\n",
       "    </tr>\n",
       "    <tr>\n",
       "      <th>episode</th>\n",
       "      <th></th>\n",
       "      <th></th>\n",
       "      <th></th>\n",
       "      <th></th>\n",
       "    </tr>\n",
       "  </thead>\n",
       "  <tbody>\n",
       "    <tr>\n",
       "      <th>(0, 100]</th>\n",
       "      <td>0.0</td>\n",
       "      <td>0.0</td>\n",
       "      <td>100</td>\n",
       "      <td>100</td>\n",
       "    </tr>\n",
       "    <tr>\n",
       "      <th>(100, 200]</th>\n",
       "      <td>0.0</td>\n",
       "      <td>0.0</td>\n",
       "      <td>100</td>\n",
       "      <td>200</td>\n",
       "    </tr>\n",
       "    <tr>\n",
       "      <th>(200, 300]</th>\n",
       "      <td>0.0</td>\n",
       "      <td>0.0</td>\n",
       "      <td>100</td>\n",
       "      <td>300</td>\n",
       "    </tr>\n",
       "    <tr>\n",
       "      <th>(300, 400]</th>\n",
       "      <td>0.0</td>\n",
       "      <td>0.0</td>\n",
       "      <td>100</td>\n",
       "      <td>400</td>\n",
       "    </tr>\n",
       "    <tr>\n",
       "      <th>(400, 500]</th>\n",
       "      <td>0.0</td>\n",
       "      <td>0.0</td>\n",
       "      <td>100</td>\n",
       "      <td>500</td>\n",
       "    </tr>\n",
       "  </tbody>\n",
       "</table>\n",
       "</div>"
      ]
     },
     "execution_count": 20,
     "metadata": {},
     "output_type": "execute_result"
    }
   ],
   "execution_count": 20
  },
  {
   "metadata": {
    "ExecuteTime": {
     "end_time": "2024-05-05T06:49:04.295403Z",
     "start_time": "2024-05-05T06:49:04.284611Z"
    }
   },
   "cell_type": "code",
   "source": [
    "bins_flags3 = range(0, 5000, 100)\n",
    "df_agg_flags3 = df_episodes3.groupby(pd.cut(df_episodes3['episode'], bins=bins_flags3), observed=True)['flag'].agg(['mean', 'std', 'size'])\n",
    "bins_flags3 = [*bins_flags3]\n",
    "bins_flags3.pop(0)\n",
    "df_agg_flags3[\"bin\"] = bins_flags3\n",
    "df_agg_flags3.head(5)"
   ],
   "id": "9b7d10d10eb599d6",
   "outputs": [
    {
     "data": {
      "text/plain": [
       "            mean  std  size  bin\n",
       "episode                         \n",
       "(0, 100]     0.0  0.0   100  100\n",
       "(100, 200]   0.0  0.0   100  200\n",
       "(200, 300]   0.0  0.0   100  300\n",
       "(300, 400]   0.0  0.0   100  400\n",
       "(400, 500]   0.0  0.0   100  500"
      ],
      "text/html": [
       "<div>\n",
       "<style scoped>\n",
       "    .dataframe tbody tr th:only-of-type {\n",
       "        vertical-align: middle;\n",
       "    }\n",
       "\n",
       "    .dataframe tbody tr th {\n",
       "        vertical-align: top;\n",
       "    }\n",
       "\n",
       "    .dataframe thead th {\n",
       "        text-align: right;\n",
       "    }\n",
       "</style>\n",
       "<table border=\"1\" class=\"dataframe\">\n",
       "  <thead>\n",
       "    <tr style=\"text-align: right;\">\n",
       "      <th></th>\n",
       "      <th>mean</th>\n",
       "      <th>std</th>\n",
       "      <th>size</th>\n",
       "      <th>bin</th>\n",
       "    </tr>\n",
       "    <tr>\n",
       "      <th>episode</th>\n",
       "      <th></th>\n",
       "      <th></th>\n",
       "      <th></th>\n",
       "      <th></th>\n",
       "    </tr>\n",
       "  </thead>\n",
       "  <tbody>\n",
       "    <tr>\n",
       "      <th>(0, 100]</th>\n",
       "      <td>0.0</td>\n",
       "      <td>0.0</td>\n",
       "      <td>100</td>\n",
       "      <td>100</td>\n",
       "    </tr>\n",
       "    <tr>\n",
       "      <th>(100, 200]</th>\n",
       "      <td>0.0</td>\n",
       "      <td>0.0</td>\n",
       "      <td>100</td>\n",
       "      <td>200</td>\n",
       "    </tr>\n",
       "    <tr>\n",
       "      <th>(200, 300]</th>\n",
       "      <td>0.0</td>\n",
       "      <td>0.0</td>\n",
       "      <td>100</td>\n",
       "      <td>300</td>\n",
       "    </tr>\n",
       "    <tr>\n",
       "      <th>(300, 400]</th>\n",
       "      <td>0.0</td>\n",
       "      <td>0.0</td>\n",
       "      <td>100</td>\n",
       "      <td>400</td>\n",
       "    </tr>\n",
       "    <tr>\n",
       "      <th>(400, 500]</th>\n",
       "      <td>0.0</td>\n",
       "      <td>0.0</td>\n",
       "      <td>100</td>\n",
       "      <td>500</td>\n",
       "    </tr>\n",
       "  </tbody>\n",
       "</table>\n",
       "</div>"
      ]
     },
     "execution_count": 21,
     "metadata": {},
     "output_type": "execute_result"
    }
   ],
   "execution_count": 21
  },
  {
   "metadata": {
    "ExecuteTime": {
     "end_time": "2024-05-05T06:49:05.235031Z",
     "start_time": "2024-05-05T06:49:05.224747Z"
    }
   },
   "cell_type": "code",
   "source": [
    "bins_flags4 = range(0, 5000, 100)\n",
    "df_agg_flags4 = df_episodes4.groupby(pd.cut(df_episodes4['episode'], bins=bins_flags4), observed=True)['flag'].agg(['mean', 'std', 'size'])\n",
    "bins_flags4 = [*bins_flags4]\n",
    "bins_flags4.pop(0)\n",
    "df_agg_flags4[\"bin\"] = bins_flags4\n",
    "df_agg_flags4.head(5)"
   ],
   "id": "f9e1ee7a4eafa683",
   "outputs": [
    {
     "data": {
      "text/plain": [
       "            mean  std  size  bin\n",
       "episode                         \n",
       "(0, 100]    0.00  0.0   100  100\n",
       "(100, 200]  0.00  0.0   100  200\n",
       "(200, 300]  0.01  0.1   100  300\n",
       "(300, 400]  0.00  0.0   100  400\n",
       "(400, 500]  0.00  0.0   100  500"
      ],
      "text/html": [
       "<div>\n",
       "<style scoped>\n",
       "    .dataframe tbody tr th:only-of-type {\n",
       "        vertical-align: middle;\n",
       "    }\n",
       "\n",
       "    .dataframe tbody tr th {\n",
       "        vertical-align: top;\n",
       "    }\n",
       "\n",
       "    .dataframe thead th {\n",
       "        text-align: right;\n",
       "    }\n",
       "</style>\n",
       "<table border=\"1\" class=\"dataframe\">\n",
       "  <thead>\n",
       "    <tr style=\"text-align: right;\">\n",
       "      <th></th>\n",
       "      <th>mean</th>\n",
       "      <th>std</th>\n",
       "      <th>size</th>\n",
       "      <th>bin</th>\n",
       "    </tr>\n",
       "    <tr>\n",
       "      <th>episode</th>\n",
       "      <th></th>\n",
       "      <th></th>\n",
       "      <th></th>\n",
       "      <th></th>\n",
       "    </tr>\n",
       "  </thead>\n",
       "  <tbody>\n",
       "    <tr>\n",
       "      <th>(0, 100]</th>\n",
       "      <td>0.00</td>\n",
       "      <td>0.0</td>\n",
       "      <td>100</td>\n",
       "      <td>100</td>\n",
       "    </tr>\n",
       "    <tr>\n",
       "      <th>(100, 200]</th>\n",
       "      <td>0.00</td>\n",
       "      <td>0.0</td>\n",
       "      <td>100</td>\n",
       "      <td>200</td>\n",
       "    </tr>\n",
       "    <tr>\n",
       "      <th>(200, 300]</th>\n",
       "      <td>0.01</td>\n",
       "      <td>0.1</td>\n",
       "      <td>100</td>\n",
       "      <td>300</td>\n",
       "    </tr>\n",
       "    <tr>\n",
       "      <th>(300, 400]</th>\n",
       "      <td>0.00</td>\n",
       "      <td>0.0</td>\n",
       "      <td>100</td>\n",
       "      <td>400</td>\n",
       "    </tr>\n",
       "    <tr>\n",
       "      <th>(400, 500]</th>\n",
       "      <td>0.00</td>\n",
       "      <td>0.0</td>\n",
       "      <td>100</td>\n",
       "      <td>500</td>\n",
       "    </tr>\n",
       "  </tbody>\n",
       "</table>\n",
       "</div>"
      ]
     },
     "execution_count": 22,
     "metadata": {},
     "output_type": "execute_result"
    }
   ],
   "execution_count": 22
  },
  {
   "metadata": {
    "ExecuteTime": {
     "end_time": "2024-05-05T06:49:05.945953Z",
     "start_time": "2024-05-05T06:49:05.935779Z"
    }
   },
   "cell_type": "code",
   "source": [
    "bins_flags5 = range(0, 5000, 100)\n",
    "df_agg_flags5 = df_episodes5.groupby(pd.cut(df_episodes5['episode'], bins=bins_flags5), observed=True)['flag'].agg(['mean', 'std', 'size'])\n",
    "bins_flags5 = [*bins_flags5]\n",
    "bins_flags5.pop(0)\n",
    "df_agg_flags5[\"bin\"] = bins_flags5\n",
    "df_agg_flags5.head(5)"
   ],
   "id": "cc35aad51151b363",
   "outputs": [
    {
     "data": {
      "text/plain": [
       "            mean  std  size  bin\n",
       "episode                         \n",
       "(0, 100]     0.0  0.0   100  100\n",
       "(100, 200]   0.0  0.0   100  200\n",
       "(200, 300]   0.0  0.0   100  300\n",
       "(300, 400]   0.0  0.0   100  400\n",
       "(400, 500]   0.0  0.0   100  500"
      ],
      "text/html": [
       "<div>\n",
       "<style scoped>\n",
       "    .dataframe tbody tr th:only-of-type {\n",
       "        vertical-align: middle;\n",
       "    }\n",
       "\n",
       "    .dataframe tbody tr th {\n",
       "        vertical-align: top;\n",
       "    }\n",
       "\n",
       "    .dataframe thead th {\n",
       "        text-align: right;\n",
       "    }\n",
       "</style>\n",
       "<table border=\"1\" class=\"dataframe\">\n",
       "  <thead>\n",
       "    <tr style=\"text-align: right;\">\n",
       "      <th></th>\n",
       "      <th>mean</th>\n",
       "      <th>std</th>\n",
       "      <th>size</th>\n",
       "      <th>bin</th>\n",
       "    </tr>\n",
       "    <tr>\n",
       "      <th>episode</th>\n",
       "      <th></th>\n",
       "      <th></th>\n",
       "      <th></th>\n",
       "      <th></th>\n",
       "    </tr>\n",
       "  </thead>\n",
       "  <tbody>\n",
       "    <tr>\n",
       "      <th>(0, 100]</th>\n",
       "      <td>0.0</td>\n",
       "      <td>0.0</td>\n",
       "      <td>100</td>\n",
       "      <td>100</td>\n",
       "    </tr>\n",
       "    <tr>\n",
       "      <th>(100, 200]</th>\n",
       "      <td>0.0</td>\n",
       "      <td>0.0</td>\n",
       "      <td>100</td>\n",
       "      <td>200</td>\n",
       "    </tr>\n",
       "    <tr>\n",
       "      <th>(200, 300]</th>\n",
       "      <td>0.0</td>\n",
       "      <td>0.0</td>\n",
       "      <td>100</td>\n",
       "      <td>300</td>\n",
       "    </tr>\n",
       "    <tr>\n",
       "      <th>(300, 400]</th>\n",
       "      <td>0.0</td>\n",
       "      <td>0.0</td>\n",
       "      <td>100</td>\n",
       "      <td>400</td>\n",
       "    </tr>\n",
       "    <tr>\n",
       "      <th>(400, 500]</th>\n",
       "      <td>0.0</td>\n",
       "      <td>0.0</td>\n",
       "      <td>100</td>\n",
       "      <td>500</td>\n",
       "    </tr>\n",
       "  </tbody>\n",
       "</table>\n",
       "</div>"
      ]
     },
     "execution_count": 23,
     "metadata": {},
     "output_type": "execute_result"
    }
   ],
   "execution_count": 23
  },
  {
   "metadata": {
    "ExecuteTime": {
     "end_time": "2024-05-05T06:49:06.622781Z",
     "start_time": "2024-05-05T06:49:06.612486Z"
    }
   },
   "cell_type": "code",
   "source": [
    "bins_flags6 = range(0, 5000, 100)\n",
    "df_agg_flags6 = df_episodes6.groupby(pd.cut(df_episodes6['episode'], bins=bins_flags6), observed=True)['flag'].agg(['mean', 'std', 'size'])\n",
    "bins_flags6 = [*bins_flags6]\n",
    "bins_flags6.pop(0)\n",
    "df_agg_flags6[\"bin\"] = bins_flags6\n",
    "df_agg_flags6.head(5)"
   ],
   "id": "c88641f6184e98db",
   "outputs": [
    {
     "data": {
      "text/plain": [
       "            mean  std  size  bin\n",
       "episode                         \n",
       "(0, 100]     0.0  0.0   100  100\n",
       "(100, 200]   0.0  0.0   100  200\n",
       "(200, 300]   0.0  0.0   100  300\n",
       "(300, 400]   0.0  0.0   100  400\n",
       "(400, 500]   0.0  0.0   100  500"
      ],
      "text/html": [
       "<div>\n",
       "<style scoped>\n",
       "    .dataframe tbody tr th:only-of-type {\n",
       "        vertical-align: middle;\n",
       "    }\n",
       "\n",
       "    .dataframe tbody tr th {\n",
       "        vertical-align: top;\n",
       "    }\n",
       "\n",
       "    .dataframe thead th {\n",
       "        text-align: right;\n",
       "    }\n",
       "</style>\n",
       "<table border=\"1\" class=\"dataframe\">\n",
       "  <thead>\n",
       "    <tr style=\"text-align: right;\">\n",
       "      <th></th>\n",
       "      <th>mean</th>\n",
       "      <th>std</th>\n",
       "      <th>size</th>\n",
       "      <th>bin</th>\n",
       "    </tr>\n",
       "    <tr>\n",
       "      <th>episode</th>\n",
       "      <th></th>\n",
       "      <th></th>\n",
       "      <th></th>\n",
       "      <th></th>\n",
       "    </tr>\n",
       "  </thead>\n",
       "  <tbody>\n",
       "    <tr>\n",
       "      <th>(0, 100]</th>\n",
       "      <td>0.0</td>\n",
       "      <td>0.0</td>\n",
       "      <td>100</td>\n",
       "      <td>100</td>\n",
       "    </tr>\n",
       "    <tr>\n",
       "      <th>(100, 200]</th>\n",
       "      <td>0.0</td>\n",
       "      <td>0.0</td>\n",
       "      <td>100</td>\n",
       "      <td>200</td>\n",
       "    </tr>\n",
       "    <tr>\n",
       "      <th>(200, 300]</th>\n",
       "      <td>0.0</td>\n",
       "      <td>0.0</td>\n",
       "      <td>100</td>\n",
       "      <td>300</td>\n",
       "    </tr>\n",
       "    <tr>\n",
       "      <th>(300, 400]</th>\n",
       "      <td>0.0</td>\n",
       "      <td>0.0</td>\n",
       "      <td>100</td>\n",
       "      <td>400</td>\n",
       "    </tr>\n",
       "    <tr>\n",
       "      <th>(400, 500]</th>\n",
       "      <td>0.0</td>\n",
       "      <td>0.0</td>\n",
       "      <td>100</td>\n",
       "      <td>500</td>\n",
       "    </tr>\n",
       "  </tbody>\n",
       "</table>\n",
       "</div>"
      ]
     },
     "execution_count": 24,
     "metadata": {},
     "output_type": "execute_result"
    }
   ],
   "execution_count": 24
  },
  {
   "metadata": {
    "ExecuteTime": {
     "end_time": "2024-05-05T06:49:17.959548Z",
     "start_time": "2024-05-05T06:49:17.949198Z"
    }
   },
   "cell_type": "code",
   "source": [
    "bins_flags7 = range(0, 5000, 100)\n",
    "df_agg_flags7 = df_episodes7.groupby(pd.cut(df_episodes7['episode'], bins=bins_flags7), observed=True)['flag'].agg(['mean', 'std', 'size'])\n",
    "bins_flags7= [*bins_flags7]\n",
    "bins_flags7.pop(0)\n",
    "df_agg_flags7[\"bin\"] = bins_flags7\n",
    "df_agg_flags7.head(5)"
   ],
   "id": "5f1ceee2d291439a",
   "outputs": [
    {
     "data": {
      "text/plain": [
       "            mean  std  size  bin\n",
       "episode                         \n",
       "(0, 100]     0.0  0.0   100  100\n",
       "(100, 200]   0.0  0.0   100  200\n",
       "(200, 300]   0.0  0.0   100  300\n",
       "(300, 400]   0.0  0.0   100  400\n",
       "(400, 500]   0.0  0.0   100  500"
      ],
      "text/html": [
       "<div>\n",
       "<style scoped>\n",
       "    .dataframe tbody tr th:only-of-type {\n",
       "        vertical-align: middle;\n",
       "    }\n",
       "\n",
       "    .dataframe tbody tr th {\n",
       "        vertical-align: top;\n",
       "    }\n",
       "\n",
       "    .dataframe thead th {\n",
       "        text-align: right;\n",
       "    }\n",
       "</style>\n",
       "<table border=\"1\" class=\"dataframe\">\n",
       "  <thead>\n",
       "    <tr style=\"text-align: right;\">\n",
       "      <th></th>\n",
       "      <th>mean</th>\n",
       "      <th>std</th>\n",
       "      <th>size</th>\n",
       "      <th>bin</th>\n",
       "    </tr>\n",
       "    <tr>\n",
       "      <th>episode</th>\n",
       "      <th></th>\n",
       "      <th></th>\n",
       "      <th></th>\n",
       "      <th></th>\n",
       "    </tr>\n",
       "  </thead>\n",
       "  <tbody>\n",
       "    <tr>\n",
       "      <th>(0, 100]</th>\n",
       "      <td>0.0</td>\n",
       "      <td>0.0</td>\n",
       "      <td>100</td>\n",
       "      <td>100</td>\n",
       "    </tr>\n",
       "    <tr>\n",
       "      <th>(100, 200]</th>\n",
       "      <td>0.0</td>\n",
       "      <td>0.0</td>\n",
       "      <td>100</td>\n",
       "      <td>200</td>\n",
       "    </tr>\n",
       "    <tr>\n",
       "      <th>(200, 300]</th>\n",
       "      <td>0.0</td>\n",
       "      <td>0.0</td>\n",
       "      <td>100</td>\n",
       "      <td>300</td>\n",
       "    </tr>\n",
       "    <tr>\n",
       "      <th>(300, 400]</th>\n",
       "      <td>0.0</td>\n",
       "      <td>0.0</td>\n",
       "      <td>100</td>\n",
       "      <td>400</td>\n",
       "    </tr>\n",
       "    <tr>\n",
       "      <th>(400, 500]</th>\n",
       "      <td>0.0</td>\n",
       "      <td>0.0</td>\n",
       "      <td>100</td>\n",
       "      <td>500</td>\n",
       "    </tr>\n",
       "  </tbody>\n",
       "</table>\n",
       "</div>"
      ]
     },
     "execution_count": 26,
     "metadata": {},
     "output_type": "execute_result"
    }
   ],
   "execution_count": 26
  },
  {
   "metadata": {
    "ExecuteTime": {
     "end_time": "2024-05-05T06:50:16.429689Z",
     "start_time": "2024-05-05T06:50:16.424248Z"
    }
   },
   "cell_type": "code",
   "source": "concatenated_flags = pd.concat([df_agg_flags1.assign(dataset='original'), df_agg_flags2.assign(dataset='baseline slow decay'), df_agg_flags3.assign(dataset='T1'), df_agg_flags4.assign(dataset='T2'), df_agg_flags5.assign(dataset='C1'), df_agg_flags6.assign(dataset='P1'), df_agg_flags7.assign(dataset='P1 compact')])",
   "id": "c7e06010daf741af",
   "outputs": [],
   "execution_count": 31
  },
  {
   "metadata": {
    "ExecuteTime": {
     "end_time": "2024-05-05T06:50:17.570756Z",
     "start_time": "2024-05-05T06:50:17.369051Z"
    }
   },
   "cell_type": "code",
   "source": "sns.lineplot(x='bin', y='mean', data=concatenated_flags, hue='dataset').set(title='Mean number of wins per 100 episodes', xlabel=\"episode\", ylabel=\"mean number of wins\")",
   "id": "c67e0d55be7d465e",
   "outputs": [
    {
     "data": {
      "text/plain": [
       "[Text(0.5, 1.0, 'Mean number of wins per 100 episodes'),\n",
       " Text(0.5, 0, 'episode'),\n",
       " Text(0, 0.5, 'mean number of wins')]"
      ]
     },
     "execution_count": 32,
     "metadata": {},
     "output_type": "execute_result"
    },
    {
     "data": {
      "text/plain": [
       "<Figure size 640x480 with 1 Axes>"
      ],
      "image/png": "[encoded data removed]"
     },
     "metadata": {},
     "output_type": "display_data"
    }
   ],
   "execution_count": 32
  },
  {
   "metadata": {},
   "cell_type": "markdown",
   "source": "Show epsilon decay over time for both versions to determine if the high-epsilon interval is big enough",
   "id": "aa530d4db5b42264"
  },
  {
   "metadata": {
    "ExecuteTime": {
     "end_time": "2024-05-05T06:50:35.792919Z",
     "start_time": "2024-05-05T06:50:35.586704Z"
    }
   },
   "cell_type": "code",
   "source": "sns.lineplot(x='episode', y='epsilon', data=concatenated, hue='dataset')",
   "id": "6d7601e441a3ac",
   "outputs": [
    {
     "data": {
      "text/plain": [
       "<Axes: xlabel='episode', ylabel='epsilon'>"
      ]
     },
     "execution_count": 33,
     "metadata": {},
     "output_type": "execute_result"
    },
    {
     "data": {
      "text/plain": [
       "<Figure size 640x480 with 1 Axes>"
      ],
      "image/png": "[encoded data removed]"
     },
     "metadata": {},
     "output_type": "display_data"
    }
   ],
   "execution_count": 33
  },
  {
   "metadata": {},
   "cell_type": "code",
   "outputs": [],
   "execution_count": null,
   "source": "",
   "id": "4dee5c8bf9a88aa3"
  }
 ],
 "metadata": {
  "kernelspec": {
   "display_name": "Python 3",
   "language": "python",
   "name": "python3"
  },
  "language_info": {
   "codemirror_mode": {
    "name": "ipython",
    "version": 2
   },
   "file_extension": ".py",
   "mimetype": "text/x-python",
   "name": "python",
   "nbconvert_exporter": "python",
   "pygments_lexer": "ipython2",
   "version": "2.7.6"
  }
 },
 "nbformat": 4,
 "nbformat_minor": 5
}
