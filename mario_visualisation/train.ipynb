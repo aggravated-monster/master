{
 "cells": [
  {
   "cell_type": "markdown",
   "id": "63c06e7edf035e4f",
   "metadata": {},
   "source": [
    "# Data preparation"
   ]
  },
  {
   "cell_type": "code",
   "id": "a5bc4cf6fc9e96f4",
   "metadata": {
    "ExecuteTime": {
     "end_time": "2024-06-03T06:47:09.660049Z",
     "start_time": "2024-06-03T06:47:09.658014Z"
    }
   },
   "source": [
    "import pandas as pd\n",
    "import numpy as np  \n",
    "import matplotlib.pyplot as plt \n",
    "import seaborn as sns\n",
    "\n",
    "sns.set_style(\"white\")"
   ],
   "outputs": [],
   "execution_count": 1
  },
  {
   "cell_type": "markdown",
   "id": "af02d51b781b7a8c",
   "metadata": {},
   "source": [
    "#### Load the data"
   ]
  },
  {
   "cell_type": "code",
   "id": "409249c5b86e834a",
   "metadata": {
    "ExecuteTime": {
     "end_time": "2024-06-03T06:47:12.051789Z",
     "start_time": "2024-06-03T06:47:11.439909Z"
    }
   },
   "source": [
    "df_episodes1 = pd.read_csv(\"../results/20240428-17.08.30_baseline_original/logs/explain/20240428-17.08.30_baseline_original_episodes.csv\", header=None)\n",
    "# add column names\n",
    "df_episodes1.columns =['timestamp', 'name', 'seed', 'total_steps', 'episode', 'episode_steps', 'reward', 'distance', 'velocity', 'game_time', 'game_score', 'flag', 'loss', 'epsilon', 'dataset']\n",
    "df_episodes1['ewm_reward'] = df_episodes1['reward'].ewm(alpha=0.0001).mean()\n",
    "df_episodes1['ewm_wins'] = df_episodes1['flag'].ewm(alpha=0.0001).mean()"
   ],
   "outputs": [
    {
     "ename": "FileNotFoundError",
     "evalue": "[Errno 2] No such file or directory: '../results/20240428-17.08.30_baseline_original/logs/explain/20240428-17.08.30_baseline_original_episodes.csv'",
     "output_type": "error",
     "traceback": [
      "\u001B[0;31m---------------------------------------------------------------------------\u001B[0m",
      "\u001B[0;31mFileNotFoundError\u001B[0m                         Traceback (most recent call last)",
      "Cell \u001B[0;32mIn[2], line 1\u001B[0m\n\u001B[0;32m----> 1\u001B[0m df_episodes1 \u001B[38;5;241m=\u001B[39m \u001B[43mpd\u001B[49m\u001B[38;5;241;43m.\u001B[39;49m\u001B[43mread_csv\u001B[49m\u001B[43m(\u001B[49m\u001B[38;5;124;43m\"\u001B[39;49m\u001B[38;5;124;43m../results/20240428-17.08.30_baseline_original/logs/explain/20240428-17.08.30_baseline_original_episodes.csv\u001B[39;49m\u001B[38;5;124;43m\"\u001B[39;49m\u001B[43m,\u001B[49m\u001B[43m \u001B[49m\u001B[43mheader\u001B[49m\u001B[38;5;241;43m=\u001B[39;49m\u001B[38;5;28;43;01mNone\u001B[39;49;00m\u001B[43m)\u001B[49m\n\u001B[1;32m      2\u001B[0m \u001B[38;5;66;03m# add column names\u001B[39;00m\n\u001B[1;32m      3\u001B[0m df_episodes1\u001B[38;5;241m.\u001B[39mcolumns \u001B[38;5;241m=\u001B[39m[\u001B[38;5;124m'\u001B[39m\u001B[38;5;124mtimestamp\u001B[39m\u001B[38;5;124m'\u001B[39m, \u001B[38;5;124m'\u001B[39m\u001B[38;5;124mname\u001B[39m\u001B[38;5;124m'\u001B[39m, \u001B[38;5;124m'\u001B[39m\u001B[38;5;124mseed\u001B[39m\u001B[38;5;124m'\u001B[39m, \u001B[38;5;124m'\u001B[39m\u001B[38;5;124mtotal_steps\u001B[39m\u001B[38;5;124m'\u001B[39m, \u001B[38;5;124m'\u001B[39m\u001B[38;5;124mepisode\u001B[39m\u001B[38;5;124m'\u001B[39m, \u001B[38;5;124m'\u001B[39m\u001B[38;5;124mepisode_steps\u001B[39m\u001B[38;5;124m'\u001B[39m, \u001B[38;5;124m'\u001B[39m\u001B[38;5;124mreward\u001B[39m\u001B[38;5;124m'\u001B[39m, \u001B[38;5;124m'\u001B[39m\u001B[38;5;124mdistance\u001B[39m\u001B[38;5;124m'\u001B[39m, \u001B[38;5;124m'\u001B[39m\u001B[38;5;124mvelocity\u001B[39m\u001B[38;5;124m'\u001B[39m, \u001B[38;5;124m'\u001B[39m\u001B[38;5;124mgame_time\u001B[39m\u001B[38;5;124m'\u001B[39m, \u001B[38;5;124m'\u001B[39m\u001B[38;5;124mgame_score\u001B[39m\u001B[38;5;124m'\u001B[39m, \u001B[38;5;124m'\u001B[39m\u001B[38;5;124mflag\u001B[39m\u001B[38;5;124m'\u001B[39m, \u001B[38;5;124m'\u001B[39m\u001B[38;5;124mloss\u001B[39m\u001B[38;5;124m'\u001B[39m, \u001B[38;5;124m'\u001B[39m\u001B[38;5;124mepsilon\u001B[39m\u001B[38;5;124m'\u001B[39m, \u001B[38;5;124m'\u001B[39m\u001B[38;5;124mdataset\u001B[39m\u001B[38;5;124m'\u001B[39m]\n",
      "File \u001B[0;32m~/miniconda3/envs/masterai/lib/python3.10/site-packages/pandas/io/parsers/readers.py:1026\u001B[0m, in \u001B[0;36mread_csv\u001B[0;34m(filepath_or_buffer, sep, delimiter, header, names, index_col, usecols, dtype, engine, converters, true_values, false_values, skipinitialspace, skiprows, skipfooter, nrows, na_values, keep_default_na, na_filter, verbose, skip_blank_lines, parse_dates, infer_datetime_format, keep_date_col, date_parser, date_format, dayfirst, cache_dates, iterator, chunksize, compression, thousands, decimal, lineterminator, quotechar, quoting, doublequote, escapechar, comment, encoding, encoding_errors, dialect, on_bad_lines, delim_whitespace, low_memory, memory_map, float_precision, storage_options, dtype_backend)\u001B[0m\n\u001B[1;32m   1013\u001B[0m kwds_defaults \u001B[38;5;241m=\u001B[39m _refine_defaults_read(\n\u001B[1;32m   1014\u001B[0m     dialect,\n\u001B[1;32m   1015\u001B[0m     delimiter,\n\u001B[0;32m   (...)\u001B[0m\n\u001B[1;32m   1022\u001B[0m     dtype_backend\u001B[38;5;241m=\u001B[39mdtype_backend,\n\u001B[1;32m   1023\u001B[0m )\n\u001B[1;32m   1024\u001B[0m kwds\u001B[38;5;241m.\u001B[39mupdate(kwds_defaults)\n\u001B[0;32m-> 1026\u001B[0m \u001B[38;5;28;01mreturn\u001B[39;00m \u001B[43m_read\u001B[49m\u001B[43m(\u001B[49m\u001B[43mfilepath_or_buffer\u001B[49m\u001B[43m,\u001B[49m\u001B[43m \u001B[49m\u001B[43mkwds\u001B[49m\u001B[43m)\u001B[49m\n",
      "File \u001B[0;32m~/miniconda3/envs/masterai/lib/python3.10/site-packages/pandas/io/parsers/readers.py:620\u001B[0m, in \u001B[0;36m_read\u001B[0;34m(filepath_or_buffer, kwds)\u001B[0m\n\u001B[1;32m    617\u001B[0m _validate_names(kwds\u001B[38;5;241m.\u001B[39mget(\u001B[38;5;124m\"\u001B[39m\u001B[38;5;124mnames\u001B[39m\u001B[38;5;124m\"\u001B[39m, \u001B[38;5;28;01mNone\u001B[39;00m))\n\u001B[1;32m    619\u001B[0m \u001B[38;5;66;03m# Create the parser.\u001B[39;00m\n\u001B[0;32m--> 620\u001B[0m parser \u001B[38;5;241m=\u001B[39m \u001B[43mTextFileReader\u001B[49m\u001B[43m(\u001B[49m\u001B[43mfilepath_or_buffer\u001B[49m\u001B[43m,\u001B[49m\u001B[43m \u001B[49m\u001B[38;5;241;43m*\u001B[39;49m\u001B[38;5;241;43m*\u001B[39;49m\u001B[43mkwds\u001B[49m\u001B[43m)\u001B[49m\n\u001B[1;32m    622\u001B[0m \u001B[38;5;28;01mif\u001B[39;00m chunksize \u001B[38;5;129;01mor\u001B[39;00m iterator:\n\u001B[1;32m    623\u001B[0m     \u001B[38;5;28;01mreturn\u001B[39;00m parser\n",
      "File \u001B[0;32m~/miniconda3/envs/masterai/lib/python3.10/site-packages/pandas/io/parsers/readers.py:1620\u001B[0m, in \u001B[0;36mTextFileReader.__init__\u001B[0;34m(self, f, engine, **kwds)\u001B[0m\n\u001B[1;32m   1617\u001B[0m     \u001B[38;5;28mself\u001B[39m\u001B[38;5;241m.\u001B[39moptions[\u001B[38;5;124m\"\u001B[39m\u001B[38;5;124mhas_index_names\u001B[39m\u001B[38;5;124m\"\u001B[39m] \u001B[38;5;241m=\u001B[39m kwds[\u001B[38;5;124m\"\u001B[39m\u001B[38;5;124mhas_index_names\u001B[39m\u001B[38;5;124m\"\u001B[39m]\n\u001B[1;32m   1619\u001B[0m \u001B[38;5;28mself\u001B[39m\u001B[38;5;241m.\u001B[39mhandles: IOHandles \u001B[38;5;241m|\u001B[39m \u001B[38;5;28;01mNone\u001B[39;00m \u001B[38;5;241m=\u001B[39m \u001B[38;5;28;01mNone\u001B[39;00m\n\u001B[0;32m-> 1620\u001B[0m \u001B[38;5;28mself\u001B[39m\u001B[38;5;241m.\u001B[39m_engine \u001B[38;5;241m=\u001B[39m \u001B[38;5;28;43mself\u001B[39;49m\u001B[38;5;241;43m.\u001B[39;49m\u001B[43m_make_engine\u001B[49m\u001B[43m(\u001B[49m\u001B[43mf\u001B[49m\u001B[43m,\u001B[49m\u001B[43m \u001B[49m\u001B[38;5;28;43mself\u001B[39;49m\u001B[38;5;241;43m.\u001B[39;49m\u001B[43mengine\u001B[49m\u001B[43m)\u001B[49m\n",
      "File \u001B[0;32m~/miniconda3/envs/masterai/lib/python3.10/site-packages/pandas/io/parsers/readers.py:1880\u001B[0m, in \u001B[0;36mTextFileReader._make_engine\u001B[0;34m(self, f, engine)\u001B[0m\n\u001B[1;32m   1878\u001B[0m     \u001B[38;5;28;01mif\u001B[39;00m \u001B[38;5;124m\"\u001B[39m\u001B[38;5;124mb\u001B[39m\u001B[38;5;124m\"\u001B[39m \u001B[38;5;129;01mnot\u001B[39;00m \u001B[38;5;129;01min\u001B[39;00m mode:\n\u001B[1;32m   1879\u001B[0m         mode \u001B[38;5;241m+\u001B[39m\u001B[38;5;241m=\u001B[39m \u001B[38;5;124m\"\u001B[39m\u001B[38;5;124mb\u001B[39m\u001B[38;5;124m\"\u001B[39m\n\u001B[0;32m-> 1880\u001B[0m \u001B[38;5;28mself\u001B[39m\u001B[38;5;241m.\u001B[39mhandles \u001B[38;5;241m=\u001B[39m \u001B[43mget_handle\u001B[49m\u001B[43m(\u001B[49m\n\u001B[1;32m   1881\u001B[0m \u001B[43m    \u001B[49m\u001B[43mf\u001B[49m\u001B[43m,\u001B[49m\n\u001B[1;32m   1882\u001B[0m \u001B[43m    \u001B[49m\u001B[43mmode\u001B[49m\u001B[43m,\u001B[49m\n\u001B[1;32m   1883\u001B[0m \u001B[43m    \u001B[49m\u001B[43mencoding\u001B[49m\u001B[38;5;241;43m=\u001B[39;49m\u001B[38;5;28;43mself\u001B[39;49m\u001B[38;5;241;43m.\u001B[39;49m\u001B[43moptions\u001B[49m\u001B[38;5;241;43m.\u001B[39;49m\u001B[43mget\u001B[49m\u001B[43m(\u001B[49m\u001B[38;5;124;43m\"\u001B[39;49m\u001B[38;5;124;43mencoding\u001B[39;49m\u001B[38;5;124;43m\"\u001B[39;49m\u001B[43m,\u001B[49m\u001B[43m \u001B[49m\u001B[38;5;28;43;01mNone\u001B[39;49;00m\u001B[43m)\u001B[49m\u001B[43m,\u001B[49m\n\u001B[1;32m   1884\u001B[0m \u001B[43m    \u001B[49m\u001B[43mcompression\u001B[49m\u001B[38;5;241;43m=\u001B[39;49m\u001B[38;5;28;43mself\u001B[39;49m\u001B[38;5;241;43m.\u001B[39;49m\u001B[43moptions\u001B[49m\u001B[38;5;241;43m.\u001B[39;49m\u001B[43mget\u001B[49m\u001B[43m(\u001B[49m\u001B[38;5;124;43m\"\u001B[39;49m\u001B[38;5;124;43mcompression\u001B[39;49m\u001B[38;5;124;43m\"\u001B[39;49m\u001B[43m,\u001B[49m\u001B[43m \u001B[49m\u001B[38;5;28;43;01mNone\u001B[39;49;00m\u001B[43m)\u001B[49m\u001B[43m,\u001B[49m\n\u001B[1;32m   1885\u001B[0m \u001B[43m    \u001B[49m\u001B[43mmemory_map\u001B[49m\u001B[38;5;241;43m=\u001B[39;49m\u001B[38;5;28;43mself\u001B[39;49m\u001B[38;5;241;43m.\u001B[39;49m\u001B[43moptions\u001B[49m\u001B[38;5;241;43m.\u001B[39;49m\u001B[43mget\u001B[49m\u001B[43m(\u001B[49m\u001B[38;5;124;43m\"\u001B[39;49m\u001B[38;5;124;43mmemory_map\u001B[39;49m\u001B[38;5;124;43m\"\u001B[39;49m\u001B[43m,\u001B[49m\u001B[43m \u001B[49m\u001B[38;5;28;43;01mFalse\u001B[39;49;00m\u001B[43m)\u001B[49m\u001B[43m,\u001B[49m\n\u001B[1;32m   1886\u001B[0m \u001B[43m    \u001B[49m\u001B[43mis_text\u001B[49m\u001B[38;5;241;43m=\u001B[39;49m\u001B[43mis_text\u001B[49m\u001B[43m,\u001B[49m\n\u001B[1;32m   1887\u001B[0m \u001B[43m    \u001B[49m\u001B[43merrors\u001B[49m\u001B[38;5;241;43m=\u001B[39;49m\u001B[38;5;28;43mself\u001B[39;49m\u001B[38;5;241;43m.\u001B[39;49m\u001B[43moptions\u001B[49m\u001B[38;5;241;43m.\u001B[39;49m\u001B[43mget\u001B[49m\u001B[43m(\u001B[49m\u001B[38;5;124;43m\"\u001B[39;49m\u001B[38;5;124;43mencoding_errors\u001B[39;49m\u001B[38;5;124;43m\"\u001B[39;49m\u001B[43m,\u001B[49m\u001B[43m \u001B[49m\u001B[38;5;124;43m\"\u001B[39;49m\u001B[38;5;124;43mstrict\u001B[39;49m\u001B[38;5;124;43m\"\u001B[39;49m\u001B[43m)\u001B[49m\u001B[43m,\u001B[49m\n\u001B[1;32m   1888\u001B[0m \u001B[43m    \u001B[49m\u001B[43mstorage_options\u001B[49m\u001B[38;5;241;43m=\u001B[39;49m\u001B[38;5;28;43mself\u001B[39;49m\u001B[38;5;241;43m.\u001B[39;49m\u001B[43moptions\u001B[49m\u001B[38;5;241;43m.\u001B[39;49m\u001B[43mget\u001B[49m\u001B[43m(\u001B[49m\u001B[38;5;124;43m\"\u001B[39;49m\u001B[38;5;124;43mstorage_options\u001B[39;49m\u001B[38;5;124;43m\"\u001B[39;49m\u001B[43m,\u001B[49m\u001B[43m \u001B[49m\u001B[38;5;28;43;01mNone\u001B[39;49;00m\u001B[43m)\u001B[49m\u001B[43m,\u001B[49m\n\u001B[1;32m   1889\u001B[0m \u001B[43m\u001B[49m\u001B[43m)\u001B[49m\n\u001B[1;32m   1890\u001B[0m \u001B[38;5;28;01massert\u001B[39;00m \u001B[38;5;28mself\u001B[39m\u001B[38;5;241m.\u001B[39mhandles \u001B[38;5;129;01mis\u001B[39;00m \u001B[38;5;129;01mnot\u001B[39;00m \u001B[38;5;28;01mNone\u001B[39;00m\n\u001B[1;32m   1891\u001B[0m f \u001B[38;5;241m=\u001B[39m \u001B[38;5;28mself\u001B[39m\u001B[38;5;241m.\u001B[39mhandles\u001B[38;5;241m.\u001B[39mhandle\n",
      "File \u001B[0;32m~/miniconda3/envs/masterai/lib/python3.10/site-packages/pandas/io/common.py:873\u001B[0m, in \u001B[0;36mget_handle\u001B[0;34m(path_or_buf, mode, encoding, compression, memory_map, is_text, errors, storage_options)\u001B[0m\n\u001B[1;32m    868\u001B[0m \u001B[38;5;28;01melif\u001B[39;00m \u001B[38;5;28misinstance\u001B[39m(handle, \u001B[38;5;28mstr\u001B[39m):\n\u001B[1;32m    869\u001B[0m     \u001B[38;5;66;03m# Check whether the filename is to be opened in binary mode.\u001B[39;00m\n\u001B[1;32m    870\u001B[0m     \u001B[38;5;66;03m# Binary mode does not support 'encoding' and 'newline'.\u001B[39;00m\n\u001B[1;32m    871\u001B[0m     \u001B[38;5;28;01mif\u001B[39;00m ioargs\u001B[38;5;241m.\u001B[39mencoding \u001B[38;5;129;01mand\u001B[39;00m \u001B[38;5;124m\"\u001B[39m\u001B[38;5;124mb\u001B[39m\u001B[38;5;124m\"\u001B[39m \u001B[38;5;129;01mnot\u001B[39;00m \u001B[38;5;129;01min\u001B[39;00m ioargs\u001B[38;5;241m.\u001B[39mmode:\n\u001B[1;32m    872\u001B[0m         \u001B[38;5;66;03m# Encoding\u001B[39;00m\n\u001B[0;32m--> 873\u001B[0m         handle \u001B[38;5;241m=\u001B[39m \u001B[38;5;28;43mopen\u001B[39;49m\u001B[43m(\u001B[49m\n\u001B[1;32m    874\u001B[0m \u001B[43m            \u001B[49m\u001B[43mhandle\u001B[49m\u001B[43m,\u001B[49m\n\u001B[1;32m    875\u001B[0m \u001B[43m            \u001B[49m\u001B[43mioargs\u001B[49m\u001B[38;5;241;43m.\u001B[39;49m\u001B[43mmode\u001B[49m\u001B[43m,\u001B[49m\n\u001B[1;32m    876\u001B[0m \u001B[43m            \u001B[49m\u001B[43mencoding\u001B[49m\u001B[38;5;241;43m=\u001B[39;49m\u001B[43mioargs\u001B[49m\u001B[38;5;241;43m.\u001B[39;49m\u001B[43mencoding\u001B[49m\u001B[43m,\u001B[49m\n\u001B[1;32m    877\u001B[0m \u001B[43m            \u001B[49m\u001B[43merrors\u001B[49m\u001B[38;5;241;43m=\u001B[39;49m\u001B[43merrors\u001B[49m\u001B[43m,\u001B[49m\n\u001B[1;32m    878\u001B[0m \u001B[43m            \u001B[49m\u001B[43mnewline\u001B[49m\u001B[38;5;241;43m=\u001B[39;49m\u001B[38;5;124;43m\"\u001B[39;49m\u001B[38;5;124;43m\"\u001B[39;49m\u001B[43m,\u001B[49m\n\u001B[1;32m    879\u001B[0m \u001B[43m        \u001B[49m\u001B[43m)\u001B[49m\n\u001B[1;32m    880\u001B[0m     \u001B[38;5;28;01melse\u001B[39;00m:\n\u001B[1;32m    881\u001B[0m         \u001B[38;5;66;03m# Binary mode\u001B[39;00m\n\u001B[1;32m    882\u001B[0m         handle \u001B[38;5;241m=\u001B[39m \u001B[38;5;28mopen\u001B[39m(handle, ioargs\u001B[38;5;241m.\u001B[39mmode)\n",
      "\u001B[0;31mFileNotFoundError\u001B[0m: [Errno 2] No such file or directory: '../results/20240428-17.08.30_baseline_original/logs/explain/20240428-17.08.30_baseline_original_episodes.csv'"
     ]
    }
   ],
   "execution_count": 2
  },
  {
   "cell_type": "code",
   "id": "e4b8a7a361a22c82",
   "metadata": {},
   "source": [
    "df_episodes2 = pd.read_csv(\"../results/20240428-20.22.58_baseline_B2/logs/explain/20240428-20.22.58_baseline_B2_episodes.csv\", header=None)\n",
    "# add column names\n",
    "df_episodes2.columns =['timestamp', 'name', 'seed', 'total_steps', 'episode', 'episode_steps', 'reward', 'distance', 'velocity', 'game_time', 'game_score', 'flag', 'loss', 'epsilon', 'dataset']\n",
    "df_episodes2['ewm_reward'] = df_episodes2['reward'].ewm(alpha=0.0001).mean()\n",
    "df_episodes2['ewm_wins'] = df_episodes2['flag'].ewm(alpha=0.0001).mean()"
   ],
   "execution_count": null,
   "outputs": []
  },
  {
   "cell_type": "code",
   "id": "3ec2f5c10ffa62a1",
   "metadata": {},
   "source": [
    "df_episodes3 = pd.read_csv(\"../results/20240501-13.15.31_target_T1/logs/explain/20240501-13.15.31_target_T1_episodes.csv\", header=None)\n",
    "# add column names\n",
    "df_episodes3.columns =['timestamp', 'name', 'seed', 'total_steps', 'episode', 'episode_steps', 'reward', 'distance', 'velocity', 'game_time', 'game_score', 'flag', 'loss', 'epsilon', 'dataset']\n",
    "df_episodes3['ewm_reward'] = df_episodes3['reward'].ewm(alpha=0.0001).mean()\n",
    "df_episodes3['ewm_wins'] = df_episodes3['flag'].ewm(alpha=0.0001).mean()"
   ],
   "execution_count": null,
   "outputs": []
  },
  {
   "cell_type": "code",
   "id": "23398b03f0b1c245",
   "metadata": {
    "ExecuteTime": {
     "end_time": "2024-05-27T17:19:43.097364Z",
     "start_time": "2024-05-27T17:19:43.038697Z"
    }
   },
   "source": [
    "df_episodes4 = pd.read_csv(\"../results/20240428-23.29.56_target_T2/logs/explain/20240428-23.29.56_target_T2_episodes.csv\", header=None)\n",
    "# add column names\n",
    "df_episodes4.columns =['timestamp', 'name', 'seed', 'total_steps', 'episode', 'episode_steps', 'reward', 'distance', 'velocity', 'game_time', 'game_score', 'flag', 'loss', 'epsilon', 'dataset']\n",
    "df_episodes4['ewm_reward'] = df_episodes4['reward'].ewm(alpha=0.0001).mean()\n",
    "df_episodes4['ewm_wins'] = df_episodes4['flag'].ewm(alpha=0.0001).mean()"
   ],
   "execution_count": 3,
   "outputs": []
  },
  {
   "cell_type": "code",
   "id": "15fd90231205592c",
   "metadata": {
    "ExecuteTime": {
     "end_time": "2024-05-27T17:19:43.341849Z",
     "start_time": "2024-05-27T17:19:43.271627Z"
    }
   },
   "source": [
    "df_episodes5 = pd.read_csv(\"../results/20240430-12.00.19_C1/logs/explain/20240430-12.00.19_C1_episodes.csv\", header=None)\n",
    "# add column names\n",
    "df_episodes5.columns =['timestamp', 'name', 'seed', 'total_steps', 'episode', 'episode_steps', 'reward', 'distance', 'velocity', 'game_time', 'game_score', 'flag', 'loss', 'epsilon', 'dataset']\n",
    "df_episodes5['ewm_reward'] = df_episodes5['reward'].ewm(alpha=0.0001).mean()\n",
    "df_episodes5['ewm_wins'] = df_episodes5['flag'].ewm(alpha=0.0001).mean()"
   ],
   "execution_count": 4,
   "outputs": []
  },
  {
   "cell_type": "code",
   "id": "f306ed8792bafba2",
   "metadata": {
    "ExecuteTime": {
     "end_time": "2024-05-27T17:19:43.601126Z",
     "start_time": "2024-05-27T17:19:43.532475Z"
    }
   },
   "source": [
    "df_episodes6 = pd.read_csv(\"../results/20240502-16.09.35_P1/logs/explain/20240502-16.09.35_P1_episodes.csv\", header=None)\n",
    "# add column names\n",
    "df_episodes6.columns =['timestamp', 'name', 'seed', 'total_steps', 'episode', 'episode_steps', 'reward', 'distance', 'velocity', 'game_time', 'game_score', 'flag', 'loss', 'epsilon', 'dataset']\n",
    "df_episodes6['ewm_reward'] = df_episodes6['reward'].ewm(alpha=0.0001).mean()\n",
    "df_episodes6['ewm_wins'] = df_episodes6['flag'].ewm(alpha=0.0001).mean()"
   ],
   "execution_count": 5,
   "outputs": []
  },
  {
   "cell_type": "code",
   "id": "1cf92d848ac069f7",
   "metadata": {
    "ExecuteTime": {
     "end_time": "2024-05-27T17:19:43.842560Z",
     "start_time": "2024-05-27T17:19:43.792355Z"
    }
   },
   "source": [
    "df_episodes7 = pd.read_csv(\"../results/20240504-16.04.37_P1_compact/logs/explain/20240504-16.04.37_P1_compact_episodes.csv\", header=None)\n",
    "# add column names\n",
    "df_episodes7.columns =['timestamp', 'name', 'seed', 'total_steps', 'episode', 'episode_steps', 'reward', 'distance', 'velocity', 'game_time', 'game_score', 'flag', 'loss', 'epsilon', 'dataset']\n",
    "df_episodes7['ewm_reward'] = df_episodes7['reward'].ewm(alpha=0.0001).mean()\n",
    "df_episodes7['ewm_wins'] = df_episodes7['flag'].ewm(alpha=0.0001).mean()"
   ],
   "execution_count": 6,
   "outputs": []
  },
  {
   "metadata": {
    "ExecuteTime": {
     "end_time": "2024-05-27T17:19:44.188805Z",
     "start_time": "2024-05-27T17:19:44.137673Z"
    }
   },
   "cell_type": "code",
   "source": "",
   "id": "1c4c43232f7af285",
   "execution_count": 7,
   "outputs": []
  },
  {
   "metadata": {
    "ExecuteTime": {
     "end_time": "2024-05-27T17:19:45.632938Z",
     "start_time": "2024-05-27T17:19:45.582933Z"
    }
   },
   "cell_type": "code",
   "source": "\n",
   "id": "3049b6d18758223",
   "execution_count": 8,
   "outputs": []
  },
  {
   "metadata": {
    "ExecuteTime": {
     "end_time": "2024-05-27T17:19:46.090609Z",
     "start_time": "2024-05-27T17:19:46.039684Z"
    }
   },
   "cell_type": "code",
   "source": [
    "df_episodes10 = pd.read_csv(\"../results/20240506-19.13.18_P1/logs/explain/20240506-19.13.18_P1_episodes.csv\", header=None)\n",
    "# add column names\n",
    "df_episodes10.columns =['timestamp', 'name', 'seed', 'total_steps', 'episode', 'episode_steps', 'reward', 'distance', 'velocity', 'game_time', 'game_score', 'flag', 'loss', 'epsilon', 'dataset']\n",
    "df_episodes10['ewm_reward'] = df_episodes10['reward'].ewm(alpha=0.0001).mean()\n",
    "df_episodes10['ewm_wins'] = df_episodes10['flag'].ewm(alpha=0.0001).mean()"
   ],
   "id": "aa202593fc9e6cad",
   "execution_count": 9,
   "outputs": []
  },
  {
   "metadata": {
    "ExecuteTime": {
     "end_time": "2024-05-27T17:19:46.445718Z",
     "start_time": "2024-05-27T17:19:46.389658Z"
    }
   },
   "cell_type": "code",
   "source": [
    "df_episodes11 = pd.read_csv(\"../results/20240508-08.24.38_C1/logs/explain/20240508-08.24.38_C1_episodes.csv\", header=None)\n",
    "# add column names\n",
    "df_episodes11.columns =['timestamp', 'name', 'seed', 'total_steps', 'episode', 'episode_steps', 'reward', 'distance', 'velocity', 'game_time', 'game_score', 'flag', 'loss', 'epsilon', 'dataset']\n",
    "df_episodes11['ewm_reward'] = df_episodes11['reward'].ewm(alpha=0.0001).mean()\n",
    "df_episodes11['ewm_wins'] = df_episodes11['flag'].ewm(alpha=0.0001).mean()"
   ],
   "id": "553de67cc81b95d7",
   "execution_count": 10,
   "outputs": []
  },
  {
   "metadata": {
    "ExecuteTime": {
     "end_time": "2024-05-27T17:19:46.879004Z",
     "start_time": "2024-05-27T17:19:46.829073Z"
    }
   },
   "cell_type": "code",
   "source": [
    "df_episodes12 = pd.read_csv(\"../results/20240509-09.28.21_T2_ext_ni/logs/explain/20240509-09.28.21_T2_ext_ni_episodes.csv\", header=None)\n",
    "# add column names\n",
    "df_episodes12.columns =['timestamp', 'name', 'seed', 'total_steps', 'episode', 'episode_steps', 'reward', 'distance', 'velocity', 'game_time', 'game_score', 'flag', 'loss', 'epsilon', 'dataset']\n",
    "df_episodes12['ewm_reward'] = df_episodes12['reward'].ewm(alpha=0.0001).mean()\n",
    "df_episodes12['ewm_wins'] = df_episodes12['flag'].ewm(alpha=0.0001).mean()"
   ],
   "id": "8adfa51183b3843a",
   "execution_count": 11,
   "outputs": []
  },
  {
   "metadata": {
    "ExecuteTime": {
     "end_time": "2024-05-17T06:33:30.414892Z",
     "start_time": "2024-05-17T06:33:30.390750Z"
    }
   },
   "cell_type": "code",
   "source": "",
   "id": "bc2709b2486fedf6",
   "execution_count": 14,
   "outputs": []
  },
  {
   "metadata": {
    "ExecuteTime": {
     "end_time": "2024-05-17T06:33:30.608307Z",
     "start_time": "2024-05-17T06:33:30.588329Z"
    }
   },
   "cell_type": "code",
   "source": [
    "df_episodes14 = pd.read_csv(\"../results/20240511-11.23.06_T1_ext_ni/logs/explain/20240511-11.23.06_T1_ext_ni_episodes.csv\", header=None)\n",
    "# add column names\n",
    "df_episodes14.columns =['timestamp', 'name', 'seed', 'total_steps', 'episode', 'episode_steps', 'reward', 'distance', 'velocity', 'game_time', 'game_score', 'flag', 'loss', 'epsilon', 'dataset']\n",
    "df_episodes14['ewm_reward'] = df_episodes14['reward'].ewm(alpha=0.0001).mean()\n",
    "df_episodes14['ewm_wins'] = df_episodes14['flag'].ewm(alpha=0.0001).mean()"
   ],
   "id": "200c1c18d5cffdb9",
   "execution_count": 15,
   "outputs": []
  },
  {
   "metadata": {
    "ExecuteTime": {
     "end_time": "2024-05-17T06:33:30.787160Z",
     "start_time": "2024-05-17T06:33:30.770407Z"
    }
   },
   "cell_type": "code",
   "source": [
    "df_episodes15 = pd.read_csv(\"../results/20240512-10.23.55_P1_ext_ni/logs/explain/20240512-10.23.55_P1_ext_ni_episodes.csv\", header=None)\n",
    "# add column names\n",
    "df_episodes15.columns =['timestamp', 'name', 'seed', 'total_steps', 'episode', 'episode_steps', 'reward', 'distance', 'velocity', 'game_time', 'game_score', 'flag', 'loss', 'epsilon', 'dataset']\n",
    "df_episodes15['ewm_reward'] = df_episodes15['reward'].ewm(alpha=0.0001).mean()\n",
    "df_episodes15['ewm_wins'] = df_episodes15['flag'].ewm(alpha=0.0001).mean()"
   ],
   "id": "f065547ae600f7a2",
   "execution_count": 16,
   "outputs": []
  },
  {
   "metadata": {
    "ExecuteTime": {
     "end_time": "2024-05-17T06:33:31.002551Z",
     "start_time": "2024-05-17T06:33:30.984670Z"
    }
   },
   "cell_type": "code",
   "source": [
    "df_episodes16 = pd.read_csv(\"../results/20240513-18.01.40_T2-ni/logs/explain/20240513-18.01.40_T2-ni_episodes.csv\", header=None)\n",
    "# add column names\n",
    "df_episodes16.columns =['timestamp', 'name', 'seed', 'total_steps', 'episode', 'episode_steps', 'reward', 'distance', 'velocity', 'game_time', 'game_score', 'flag', 'loss', 'epsilon', 'dataset']\n",
    "df_episodes16['ewm_reward'] = df_episodes16['reward'].ewm(alpha=0.0001).mean()\n",
    "df_episodes16['ewm_wins'] = df_episodes16['flag'].ewm(alpha=0.0001).mean()"
   ],
   "id": "65b02b85deae600c",
   "execution_count": 17,
   "outputs": []
  },
  {
   "metadata": {
    "ExecuteTime": {
     "end_time": "2024-05-17T06:33:31.206682Z",
     "start_time": "2024-05-17T06:33:31.183556Z"
    }
   },
   "cell_type": "code",
   "source": [
    "df_episodes17 = pd.read_csv(\"../results/20240514-18.06.25_T1-ni/logs/explain/20240514-18.06.25_T1-ni_episodes.csv\", header=None)\n",
    "# add column names\n",
    "df_episodes17.columns =['timestamp', 'name', 'seed', 'total_steps', 'episode', 'episode_steps', 'reward', 'distance', 'velocity', 'game_time', 'game_score', 'flag', 'loss', 'epsilon', 'dataset']\n",
    "df_episodes17['ewm_reward'] = df_episodes17['reward'].ewm(alpha=0.0001).mean()\n",
    "df_episodes17['ewm_wins'] = df_episodes17['flag'].ewm(alpha=0.0001).mean()\n",
    "df_episodes17.head(5)"
   ],
   "id": "a510cf1de53e0c38",
   "execution_count": 18,
   "outputs": []
  },
  {
   "metadata": {
    "ExecuteTime": {
     "end_time": "2024-05-17T06:33:31.805049Z",
     "start_time": "2024-05-17T06:33:31.773417Z"
    }
   },
   "cell_type": "code",
   "source": [
    "df_episodes18 = pd.read_csv(\"../results/20240516-08.32.50_B1-long/logs/explain/20240516-08.32.50_B1-long_episodes.csv\", header=None)\n",
    "# add column names\n",
    "df_episodes18.columns =['timestamp', 'name', 'seed', 'total_steps', 'episode', 'episode_steps', 'reward', 'distance', 'velocity', 'game_time', 'game_score', 'flag', 'loss', 'epsilon', 'dataset']\n",
    "df_episodes18['ewm_reward'] = df_episodes18['reward'].ewm(alpha=0.0001).mean()\n",
    "df_episodes18['ewm_wins'] = df_episodes18['flag'].ewm(alpha=0.0001).mean()\n",
    "df_episodes18.head(5)"
   ],
   "id": "2ba8360d246a6dd",
   "execution_count": 19,
   "outputs": []
  },
  {
   "metadata": {
    "ExecuteTime": {
     "end_time": "2024-05-17T06:33:33.001250Z",
     "start_time": "2024-05-17T06:33:32.975425Z"
    }
   },
   "cell_type": "code",
   "source": [
    "df_episodes19 = pd.read_csv(\"../results/20240516-19.46.28_B2-long/logs/explain/20240516-19.46.28_B2-long_episodes.csv\", header=None)\n",
    "# add column names\n",
    "df_episodes19.columns =['timestamp', 'name', 'seed', 'total_steps', 'episode', 'episode_steps', 'reward', 'distance', 'velocity', 'game_time', 'game_score', 'flag', 'loss', 'epsilon', 'dataset']\n",
    "df_episodes19['ewm_reward'] = df_episodes19['reward'].ewm(alpha=0.0001).mean()\n",
    "df_episodes19['ewm_wins'] = df_episodes19['flag'].ewm(alpha=0.0001).mean()\n",
    "df_episodes19.head(5)"
   ],
   "id": "4964f78efa0a0202",
   "execution_count": 20,
   "outputs": []
  },
  {
   "cell_type": "code",
   "id": "d29dc5c221b0ffcd",
   "metadata": {
    "ExecuteTime": {
     "end_time": "2024-05-16T17:01:06.945920Z",
     "start_time": "2024-05-16T17:01:06.936671Z"
    }
   },
   "source": "concatenated_5000 = pd.concat([df_episodes1, df_episodes2, df_episodes3, df_episodes4, df_episodes5, df_episodes6, df_episodes7])",
   "execution_count": 70,
   "outputs": []
  },
  {
   "metadata": {
    "ExecuteTime": {
     "end_time": "2024-05-17T06:34:25.442754Z",
     "start_time": "2024-05-17T06:34:25.429573Z"
    }
   },
   "cell_type": "code",
   "source": "concatenated_10000 = pd.concat([df_episodes8,  df_episodes18, df_episodes19, df_episodes9, df_episodes10, df_episodes11, df_episodes16, df_episodes17])",
   "id": "559366036ac71ca9",
   "execution_count": 22,
   "outputs": []
  },
  {
   "metadata": {
    "ExecuteTime": {
     "end_time": "2024-05-17T06:34:26.273303Z",
     "start_time": "2024-05-17T06:34:26.265632Z"
    }
   },
   "cell_type": "code",
   "source": "concatenated_10000_ext = pd.concat([df_episodes8,  df_episodes18, df_episodes19, df_episodes9, df_episodes12, df_episodes13, df_episodes14, df_episodes15])",
   "id": "383e4e140fc795d5",
   "execution_count": 23,
   "outputs": []
  },
  {
   "cell_type": "markdown",
   "id": "8437034b0e1fed47",
   "metadata": {},
   "source": [
    "- total_steps: the total of steps executed during the run\n",
    "- episode: the episode over which the data is aggregated\n",
    "- episode_steps: the number of steps in the episode\n",
    "- reward: the total reward accumulated during the episode\n",
    "- distance: the distance to the right achieved during the episode\n",
    "- velocity: distance / (400 - game_time). This is an indication of how long it took to reach the distance\n",
    "- game_time: the number of ticks on the game clock (countdown from 400)\n",
    "- game_score: the score achieved in the game\n",
    "- flag: indication whether Mario reached the flag during the episode\n",
    "- loss: the loss \n",
    "- epsilon: the epsilon applied to the episode\n"
   ]
  },
  {
   "cell_type": "markdown",
   "id": "f8fc40a9bdc1da80",
   "metadata": {},
   "source": [
    "#### plot the reward, distance and velocity per episode"
   ]
  },
  {
   "cell_type": "code",
   "id": "df01fa84f12ad09e",
   "metadata": {
    "ExecuteTime": {
     "end_time": "2024-05-16T17:01:11.336882Z",
     "start_time": "2024-05-16T17:01:09.953918Z"
    }
   },
   "source": "sns.lineplot(x='episode', y='reward', data=concatenated_5000, hue='dataset')",
   "execution_count": 73,
   "outputs": []
  },
  {
   "cell_type": "code",
   "id": "52755d1a-4186-461d-bb53-ffc179e3adee",
   "metadata": {
    "ExecuteTime": {
     "end_time": "2024-05-16T17:01:11.800448Z",
     "start_time": "2024-05-16T17:01:11.339052Z"
    }
   },
   "source": "sns.lineplot(x='episode', y='ewm_reward', data=concatenated_5000, hue='dataset')",
   "execution_count": 74,
   "outputs": []
  },
  {
   "metadata": {
    "ExecuteTime": {
     "end_time": "2024-05-17T06:34:33.554345Z",
     "start_time": "2024-05-17T06:34:33.146414Z"
    }
   },
   "cell_type": "code",
   "source": "sns.lineplot(x='episode', y='ewm_reward', data=concatenated_10000, hue='dataset')",
   "id": "4389065f7ce1faf5",
   "execution_count": 24,
   "outputs": []
  },
  {
   "cell_type": "code",
   "id": "56bfc732-8f43-4ce1-8ae0-41ffe884b35f",
   "metadata": {
    "ExecuteTime": {
     "end_time": "2024-05-17T06:34:50.852565Z",
     "start_time": "2024-05-17T06:34:50.495088Z"
    }
   },
   "source": "sns.lineplot(x='episode', y='ewm_reward', data=concatenated_10000_ext, hue='dataset')",
   "execution_count": 25,
   "outputs": []
  },
  {
   "cell_type": "markdown",
   "id": "ed28f2d80ddee8c0",
   "metadata": {},
   "source": [
    "Because of the epsilon during the reinforcement learning process, Mario can still die early late in the process, causing the rewards go all over the place.\n",
    "Group the data in bins of 1000 and calculate the aggregates"
   ]
  },
  {
   "cell_type": "code",
   "id": "ab024dbc-7624-40d1-8b5e-1a47fdebb75a",
   "metadata": {
    "ExecuteTime": {
     "end_time": "2024-05-17T06:35:00.142484Z",
     "start_time": "2024-05-17T06:34:59.780548Z"
    }
   },
   "source": [
    "sns.lineplot(x='episode', y='ewm_wins', data=concatenated_5000, hue='dataset').set(title='Mean number of wins per 1000 episodes', xlabel=\"episode\", ylabel=\"mean number of wins\")\n",
    "plt.legend(bbox_to_anchor=(1.05, 1), loc='upper left', borderaxespad=0)"
   ],
   "execution_count": 26,
   "outputs": []
  },
  {
   "metadata": {
    "ExecuteTime": {
     "end_time": "2024-05-17T06:35:06.297281Z",
     "start_time": "2024-05-17T06:35:06.007898Z"
    }
   },
   "cell_type": "code",
   "source": [
    "sns.lineplot(x='episode', y='ewm_wins', data=concatenated_10000, hue='dataset').set(title='Mean number of wins per 1000 episodes', xlabel=\"episode\", ylabel=\"mean number of wins\")\n",
    "plt.legend(bbox_to_anchor=(1.05, 1), loc='upper left', borderaxespad=0)"
   ],
   "id": "203ee24d781edbf9",
   "execution_count": 27,
   "outputs": []
  },
  {
   "metadata": {
    "ExecuteTime": {
     "end_time": "2024-05-17T06:35:16.488052Z",
     "start_time": "2024-05-17T06:35:16.178211Z"
    }
   },
   "cell_type": "code",
   "source": [
    "sns.lineplot(x='episode', y='ewm_wins', data=concatenated_10000_ext, hue='dataset').set(title='Mean number of wins per 1000 episodes', xlabel=\"episode\", ylabel=\"mean number of wins\")\n",
    "plt.legend(bbox_to_anchor=(1.05, 1), loc='upper left', borderaxespad=0)"
   ],
   "id": "88511847bbbe87f4",
   "execution_count": 28,
   "outputs": []
  },
  {
   "cell_type": "markdown",
   "id": "aa530d4db5b42264",
   "metadata": {},
   "source": [
    "Show epsilon decay over time for both versions to determine if the high-epsilon interval is big enough"
   ]
  },
  {
   "cell_type": "code",
   "id": "6d7601e441a3ac",
   "metadata": {
    "ExecuteTime": {
     "end_time": "2024-05-17T06:35:24.858046Z",
     "start_time": "2024-05-17T06:35:24.847310Z"
    }
   },
   "source": "sns.lineplot(x='episode', y='epsilon', data=concatenated_5000, hue='dataset')",
   "execution_count": 29,
   "outputs": []
  },
  {
   "metadata": {
    "ExecuteTime": {
     "end_time": "2024-05-16T17:01:23.077149Z",
     "start_time": "2024-05-16T17:01:22.549317Z"
    }
   },
   "cell_type": "code",
   "source": "sns.lineplot(x='episode', y='epsilon', data=concatenated_10000, hue='dataset')",
   "id": "b22b453c20c90679",
   "execution_count": 81,
   "outputs": []
  },
  {
   "cell_type": "code",
   "execution_count": null,
   "id": "4dee5c8bf9a88aa3",
   "metadata": {},
   "source": [],
   "outputs": []
  }
 ],
 "metadata": {
  "kernelspec": {
   "display_name": "Python 3 (ipykernel)",
   "language": "python",
   "name": "python3"
  },
  "language_info": {
   "codemirror_mode": {
    "name": "ipython",
    "version": 3
   },
   "file_extension": ".py",
   "mimetype": "text/x-python",
   "name": "python",
   "nbconvert_exporter": "python",
   "pygments_lexer": "ipython3",
   "version": "3.10.13"
  }
 },
 "nbformat": 4,
 "nbformat_minor": 5
}
