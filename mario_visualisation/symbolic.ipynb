{
 "cells": [
  {
   "cell_type": "code",
   "execution_count": 34,
   "id": "490b101f-81c2-4180-ad12-b2fb06360687",
   "metadata": {},
   "outputs": [],
   "source": [
    "import pandas as pd\n",
    "import numpy as np  \n",
    "import matplotlib.pyplot as plt \n",
    "import seaborn as sns\n",
    "from scipy import stats\n",
    "\n",
    "sns.set_style(\"white\")"
   ]
  },
  {
   "cell_type": "code",
   "execution_count": 2,
   "id": "a12fbda3-25bd-47bf-aa1c-8944357c4a74",
   "metadata": {},
   "outputs": [
    {
     "data": {
      "text/html": [
       "<div>\n",
       "<style scoped>\n",
       "    .dataframe tbody tr th:only-of-type {\n",
       "        vertical-align: middle;\n",
       "    }\n",
       "\n",
       "    .dataframe tbody tr th {\n",
       "        vertical-align: top;\n",
       "    }\n",
       "\n",
       "    .dataframe thead th {\n",
       "        text-align: right;\n",
       "    }\n",
       "</style>\n",
       "<table border=\"1\" class=\"dataframe\">\n",
       "  <thead>\n",
       "    <tr style=\"text-align: right;\">\n",
       "      <th></th>\n",
       "      <th>timestamp</th>\n",
       "      <th>task</th>\n",
       "      <th>name</th>\n",
       "      <th>seed</th>\n",
       "      <th>duration</th>\n",
       "    </tr>\n",
       "  </thead>\n",
       "  <tbody>\n",
       "    <tr>\n",
       "      <th>0</th>\n",
       "      <td>2024-05-20 11:58:05.453</td>\n",
       "      <td>train</td>\n",
       "      <td>baseline</td>\n",
       "      <td>43</td>\n",
       "      <td>184.128798</td>\n",
       "    </tr>\n",
       "    <tr>\n",
       "      <th>1</th>\n",
       "      <td>2024-05-20 11:46:18.206</td>\n",
       "      <td>train</td>\n",
       "      <td>integrated</td>\n",
       "      <td>43</td>\n",
       "      <td>835.209234</td>\n",
       "    </tr>\n",
       "  </tbody>\n",
       "</table>\n",
       "</div>"
      ],
      "text/plain": [
       "                 timestamp   task        name  seed    duration\n",
       "0  2024-05-20 11:58:05.453  train    baseline    43  184.128798\n",
       "1  2024-05-20 11:46:18.206  train  integrated    43  835.209234"
      ]
     },
     "execution_count": 2,
     "metadata": {},
     "output_type": "execute_result"
    }
   ],
   "source": [
    "df_train = pd.read_csv(\"./timing_train.csv\")\n",
    "df_train.head(5)"
   ]
  },
  {
   "cell_type": "code",
   "execution_count": 3,
   "id": "7216a1f6-657b-4782-8b05-f77926355eeb",
   "metadata": {},
   "outputs": [
    {
     "data": {
      "text/plain": [
       "<seaborn.axisgrid.FacetGrid at 0x7312fad82020>"
      ]
     },
     "execution_count": 3,
     "metadata": {},
     "output_type": "execute_result"
    },
    {
     "data": {
      "image/png": "[encoded data removed]",
      "text/plain": [
       "<Figure size 600x600 with 1 Axes>"
      ]
     },
     "metadata": {},
     "output_type": "display_data"
    }
   ],
   "source": [
    "sns.set_style(\"white\")\n",
    "sns.catplot(data=df_train, kind=\"bar\", x=\"name\", y=\"duration\", errorbar=None, alpha=.6, hue='name', palette='PuBuGn', height=6).set(title=\"Training duration of first 10K steps (n=10)\", xlabel=\"Agent\", ylabel=\"Training duration (in seconds)\")"
   ]
  },
  {
   "cell_type": "code",
   "execution_count": 4,
   "id": "875b60df-738e-4b26-bbfc-1976a1d9588b",
   "metadata": {},
   "outputs": [
    {
     "data": {
      "text/html": [
       "<div>\n",
       "<style scoped>\n",
       "    .dataframe tbody tr th:only-of-type {\n",
       "        vertical-align: middle;\n",
       "    }\n",
       "\n",
       "    .dataframe tbody tr th {\n",
       "        vertical-align: top;\n",
       "    }\n",
       "\n",
       "    .dataframe thead th {\n",
       "        text-align: right;\n",
       "    }\n",
       "</style>\n",
       "<table border=\"1\" class=\"dataframe\">\n",
       "  <thead>\n",
       "    <tr style=\"text-align: right;\">\n",
       "      <th></th>\n",
       "      <th>timestamp</th>\n",
       "      <th>task</th>\n",
       "      <th>name</th>\n",
       "      <th>seed</th>\n",
       "      <th>duration</th>\n",
       "    </tr>\n",
       "  </thead>\n",
       "  <tbody>\n",
       "    <tr>\n",
       "      <th>0</th>\n",
       "      <td>2024-05-20 11:55:01.335</td>\n",
       "      <td>steps</td>\n",
       "      <td>baseline</td>\n",
       "      <td>43</td>\n",
       "      <td>0.009771</td>\n",
       "    </tr>\n",
       "    <tr>\n",
       "      <th>1</th>\n",
       "      <td>2024-05-20 11:55:01.343</td>\n",
       "      <td>steps</td>\n",
       "      <td>baseline</td>\n",
       "      <td>43</td>\n",
       "      <td>0.008574</td>\n",
       "    </tr>\n",
       "    <tr>\n",
       "      <th>2</th>\n",
       "      <td>2024-05-20 11:55:01.352</td>\n",
       "      <td>steps</td>\n",
       "      <td>baseline</td>\n",
       "      <td>43</td>\n",
       "      <td>0.008574</td>\n",
       "    </tr>\n",
       "    <tr>\n",
       "      <th>3</th>\n",
       "      <td>2024-05-20 11:55:01.361</td>\n",
       "      <td>steps</td>\n",
       "      <td>baseline</td>\n",
       "      <td>43</td>\n",
       "      <td>0.008555</td>\n",
       "    </tr>\n",
       "    <tr>\n",
       "      <th>4</th>\n",
       "      <td>2024-05-20 11:55:01.369</td>\n",
       "      <td>steps</td>\n",
       "      <td>baseline</td>\n",
       "      <td>43</td>\n",
       "      <td>0.008588</td>\n",
       "    </tr>\n",
       "  </tbody>\n",
       "</table>\n",
       "</div>"
      ],
      "text/plain": [
       "                 timestamp   task      name  seed  duration\n",
       "0  2024-05-20 11:55:01.335  steps  baseline    43  0.009771\n",
       "1  2024-05-20 11:55:01.343  steps  baseline    43  0.008574\n",
       "2  2024-05-20 11:55:01.352  steps  baseline    43  0.008574\n",
       "3  2024-05-20 11:55:01.361  steps  baseline    43  0.008555\n",
       "4  2024-05-20 11:55:01.369  steps  baseline    43  0.008588"
      ]
     },
     "execution_count": 4,
     "metadata": {},
     "output_type": "execute_result"
    }
   ],
   "source": [
    "df_steps = pd.read_csv(\"./timing_step.csv\")\n",
    "df_steps.head(5)"
   ]
  },
  {
   "cell_type": "code",
   "execution_count": 5,
   "id": "678ba2a5-d78f-429f-a9b1-d589fbf9e69b",
   "metadata": {
    "scrolled": true
   },
   "outputs": [
    {
     "data": {
      "text/plain": [
       "[Text(0.5, 1.0, 'Duration of a single step per, per agent'),\n",
       " Text(0.5, 0, 'Agent'),\n",
       " Text(0, 0.5, 'Duration (in milliseconds)')]"
      ]
     },
     "execution_count": 5,
     "metadata": {},
     "output_type": "execute_result"
    },
    {
     "data": {
      "image/png": "[encoded data removed]",
      "text/plain": [
       "<Figure size 1400x1000 with 1 Axes>"
      ]
     },
     "metadata": {},
     "output_type": "display_data"
    }
   ],
   "source": [
    "df_steps[\"duration_millis\"] = df_steps[\"duration\"] * 1000\n",
    "plt.figure(figsize=(14, 10))\n",
    "sns.set_style(\"white\")\n",
    "sns.set_palette(palette='PuBuGn', desat=0.9, n_colors=23)\n",
    "sns.boxplot(x =\"name\", y=\"duration_millis\", data = df_steps, hue=\"name\", legend=False).set(title='Duration of a single step per, per agent', xlabel=\"Agent\", ylabel=\"Duration (in milliseconds)\")"
   ]
  },
  {
   "cell_type": "markdown",
   "id": "68e16fea-e61f-491f-8eee-9e0862f51379",
   "metadata": {},
   "source": [
    "Compare the agents with a one-sided t-test, in incremental order.\n",
    "As the environment always finishes an episode, the datasets are of unequal length. Sample 10.000 datapoints from each before applying the t-test"
   ]
  },
  {
   "cell_type": "code",
   "execution_count": 38,
   "id": "6fdfa27c-58e6-4145-a094-846896e13339",
   "metadata": {},
   "outputs": [
    {
     "data": {
      "text/html": [
       "<div>\n",
       "<style scoped>\n",
       "    .dataframe tbody tr th:only-of-type {\n",
       "        vertical-align: middle;\n",
       "    }\n",
       "\n",
       "    .dataframe tbody tr th {\n",
       "        vertical-align: top;\n",
       "    }\n",
       "\n",
       "    .dataframe thead th {\n",
       "        text-align: right;\n",
       "    }\n",
       "</style>\n",
       "<table border=\"1\" class=\"dataframe\">\n",
       "  <thead>\n",
       "    <tr style=\"text-align: right;\">\n",
       "      <th></th>\n",
       "      <th>seed</th>\n",
       "      <th>duration</th>\n",
       "      <th>duration_millis</th>\n",
       "    </tr>\n",
       "  </thead>\n",
       "  <tbody>\n",
       "    <tr>\n",
       "      <th>count</th>\n",
       "      <td>10000.0</td>\n",
       "      <td>10000.000000</td>\n",
       "      <td>10000.000000</td>\n",
       "    </tr>\n",
       "    <tr>\n",
       "      <th>mean</th>\n",
       "      <td>43.0</td>\n",
       "      <td>0.018227</td>\n",
       "      <td>18.227235</td>\n",
       "    </tr>\n",
       "    <tr>\n",
       "      <th>std</th>\n",
       "      <td>0.0</td>\n",
       "      <td>0.003314</td>\n",
       "      <td>3.313790</td>\n",
       "    </tr>\n",
       "    <tr>\n",
       "      <th>min</th>\n",
       "      <td>43.0</td>\n",
       "      <td>0.008555</td>\n",
       "      <td>8.555150</td>\n",
       "    </tr>\n",
       "    <tr>\n",
       "      <th>25%</th>\n",
       "      <td>43.0</td>\n",
       "      <td>0.017116</td>\n",
       "      <td>17.115655</td>\n",
       "    </tr>\n",
       "    <tr>\n",
       "      <th>50%</th>\n",
       "      <td>43.0</td>\n",
       "      <td>0.017674</td>\n",
       "      <td>17.673645</td>\n",
       "    </tr>\n",
       "    <tr>\n",
       "      <th>75%</th>\n",
       "      <td>43.0</td>\n",
       "      <td>0.019119</td>\n",
       "      <td>19.118615</td>\n",
       "    </tr>\n",
       "    <tr>\n",
       "      <th>max</th>\n",
       "      <td>43.0</td>\n",
       "      <td>0.237658</td>\n",
       "      <td>237.658360</td>\n",
       "    </tr>\n",
       "  </tbody>\n",
       "</table>\n",
       "</div>"
      ],
      "text/plain": [
       "          seed      duration  duration_millis\n",
       "count  10000.0  10000.000000     10000.000000\n",
       "mean      43.0      0.018227        18.227235\n",
       "std        0.0      0.003314         3.313790\n",
       "min       43.0      0.008555         8.555150\n",
       "25%       43.0      0.017116        17.115655\n",
       "50%       43.0      0.017674        17.673645\n",
       "75%       43.0      0.019119        19.118615\n",
       "max       43.0      0.237658       237.658360"
      ]
     },
     "execution_count": 38,
     "metadata": {},
     "output_type": "execute_result"
    }
   ],
   "source": [
    "df_steps_baseline = df_steps[df_steps[\"name\"] == \"baseline\"].sample(10000, random_state=1)\n",
    "df_steps_integrated = df_steps[df_steps[\"name\"] == \"integrated\"].sample(10000, random_state=1)\n",
    "df_steps_baseline.describe()"
   ]
  },
  {
   "cell_type": "code",
   "execution_count": 39,
   "id": "ef61e7be-ba10-4327-81c5-ec380a4ecd73",
   "metadata": {},
   "outputs": [
    {
     "data": {
      "text/html": [
       "<div>\n",
       "<style scoped>\n",
       "    .dataframe tbody tr th:only-of-type {\n",
       "        vertical-align: middle;\n",
       "    }\n",
       "\n",
       "    .dataframe tbody tr th {\n",
       "        vertical-align: top;\n",
       "    }\n",
       "\n",
       "    .dataframe thead th {\n",
       "        text-align: right;\n",
       "    }\n",
       "</style>\n",
       "<table border=\"1\" class=\"dataframe\">\n",
       "  <thead>\n",
       "    <tr style=\"text-align: right;\">\n",
       "      <th></th>\n",
       "      <th>seed</th>\n",
       "      <th>duration</th>\n",
       "      <th>duration_millis</th>\n",
       "    </tr>\n",
       "  </thead>\n",
       "  <tbody>\n",
       "    <tr>\n",
       "      <th>count</th>\n",
       "      <td>10000.0</td>\n",
       "      <td>10000.000000</td>\n",
       "      <td>10000.000000</td>\n",
       "    </tr>\n",
       "    <tr>\n",
       "      <th>mean</th>\n",
       "      <td>43.0</td>\n",
       "      <td>0.081505</td>\n",
       "      <td>81.505096</td>\n",
       "    </tr>\n",
       "    <tr>\n",
       "      <th>std</th>\n",
       "      <td>0.0</td>\n",
       "      <td>0.012083</td>\n",
       "      <td>12.083140</td>\n",
       "    </tr>\n",
       "    <tr>\n",
       "      <th>min</th>\n",
       "      <td>43.0</td>\n",
       "      <td>0.062995</td>\n",
       "      <td>62.995160</td>\n",
       "    </tr>\n",
       "    <tr>\n",
       "      <th>25%</th>\n",
       "      <td>43.0</td>\n",
       "      <td>0.077434</td>\n",
       "      <td>77.434337</td>\n",
       "    </tr>\n",
       "    <tr>\n",
       "      <th>50%</th>\n",
       "      <td>43.0</td>\n",
       "      <td>0.082005</td>\n",
       "      <td>82.005010</td>\n",
       "    </tr>\n",
       "    <tr>\n",
       "      <th>75%</th>\n",
       "      <td>43.0</td>\n",
       "      <td>0.085375</td>\n",
       "      <td>85.375208</td>\n",
       "    </tr>\n",
       "    <tr>\n",
       "      <th>max</th>\n",
       "      <td>43.0</td>\n",
       "      <td>0.405410</td>\n",
       "      <td>405.410100</td>\n",
       "    </tr>\n",
       "  </tbody>\n",
       "</table>\n",
       "</div>"
      ],
      "text/plain": [
       "          seed      duration  duration_millis\n",
       "count  10000.0  10000.000000     10000.000000\n",
       "mean      43.0      0.081505        81.505096\n",
       "std        0.0      0.012083        12.083140\n",
       "min       43.0      0.062995        62.995160\n",
       "25%       43.0      0.077434        77.434337\n",
       "50%       43.0      0.082005        82.005010\n",
       "75%       43.0      0.085375        85.375208\n",
       "max       43.0      0.405410       405.410100"
      ]
     },
     "execution_count": 39,
     "metadata": {},
     "output_type": "execute_result"
    }
   ],
   "source": [
    "df_steps_integrated.describe()"
   ]
  },
  {
   "cell_type": "markdown",
   "id": "e9bc657c-2b5b-408f-b8c6-25ed3ae34fc1",
   "metadata": {},
   "source": [
    "Perform a one-sided t-test using the following hypotheses:\n",
    "\n",
    "Null: the mean step duration of the integrated agent is not larger than the mean step duration of the baseline.\n",
    "Alternative: the mean step duration of the integrated agent is larger than the mean step duration of the baseline."
   ]
  },
  {
   "cell_type": "code",
   "execution_count": 42,
   "id": "8cfbe42c-0d7c-4643-b42a-075ad70dc2e4",
   "metadata": {},
   "outputs": [
    {
     "data": {
      "text/plain": [
       "TtestResult(statistic=505.0388902660388, pvalue=0.0, df=19998.0)"
      ]
     },
     "execution_count": 42,
     "metadata": {},
     "output_type": "execute_result"
    }
   ],
   "source": [
    "stats.ttest_ind(df_steps_integrated[\"duration_millis\"], df_steps_baseline[\"duration_millis\"], alternative='greater')"
   ]
  },
  {
   "cell_type": "markdown",
   "id": "e4cd3409-96b3-4d62-926f-de3c309f2a4a",
   "metadata": {},
   "source": [
    "With a p-value < 0.05, we can reject the null-hypothesis and conclude that the mean step duration of the integrated agent is larger than the mean step duration of the baseline. This seems somewhat trivial in this case, but this may not be true in the subsequent comparisons."
   ]
  },
  {
   "cell_type": "code",
   "execution_count": 6,
   "id": "b8272e85-5f0c-4124-a035-6e00f1de5eda",
   "metadata": {},
   "outputs": [
    {
     "data": {
      "text/html": [
       "<div>\n",
       "<style scoped>\n",
       "    .dataframe tbody tr th:only-of-type {\n",
       "        vertical-align: middle;\n",
       "    }\n",
       "\n",
       "    .dataframe tbody tr th {\n",
       "        vertical-align: top;\n",
       "    }\n",
       "\n",
       "    .dataframe thead th {\n",
       "        text-align: right;\n",
       "    }\n",
       "</style>\n",
       "<table border=\"1\" class=\"dataframe\">\n",
       "  <thead>\n",
       "    <tr style=\"text-align: right;\">\n",
       "      <th></th>\n",
       "      <th>timestamp</th>\n",
       "      <th>task</th>\n",
       "      <th>name</th>\n",
       "      <th>seed</th>\n",
       "      <th>duration</th>\n",
       "    </tr>\n",
       "  </thead>\n",
       "  <tbody>\n",
       "    <tr>\n",
       "      <th>0</th>\n",
       "      <td>2024-05-20 11:32:23.065</td>\n",
       "      <td>track_action</td>\n",
       "      <td>integrated</td>\n",
       "      <td>43</td>\n",
       "      <td>0.000019</td>\n",
       "    </tr>\n",
       "    <tr>\n",
       "      <th>1</th>\n",
       "      <td>2024-05-20 11:32:23.138</td>\n",
       "      <td>track_action</td>\n",
       "      <td>integrated</td>\n",
       "      <td>43</td>\n",
       "      <td>0.000018</td>\n",
       "    </tr>\n",
       "    <tr>\n",
       "      <th>2</th>\n",
       "      <td>2024-05-20 11:32:23.205</td>\n",
       "      <td>track_action</td>\n",
       "      <td>integrated</td>\n",
       "      <td>43</td>\n",
       "      <td>0.000018</td>\n",
       "    </tr>\n",
       "    <tr>\n",
       "      <th>3</th>\n",
       "      <td>2024-05-20 11:32:23.274</td>\n",
       "      <td>track_action</td>\n",
       "      <td>integrated</td>\n",
       "      <td>43</td>\n",
       "      <td>0.000037</td>\n",
       "    </tr>\n",
       "    <tr>\n",
       "      <th>4</th>\n",
       "      <td>2024-05-20 11:32:23.346</td>\n",
       "      <td>track_action</td>\n",
       "      <td>integrated</td>\n",
       "      <td>43</td>\n",
       "      <td>0.000020</td>\n",
       "    </tr>\n",
       "  </tbody>\n",
       "</table>\n",
       "</div>"
      ],
      "text/plain": [
       "                 timestamp          task        name  seed  duration\n",
       "0  2024-05-20 11:32:23.065  track_action  integrated    43  0.000019\n",
       "1  2024-05-20 11:32:23.138  track_action  integrated    43  0.000018\n",
       "2  2024-05-20 11:32:23.205  track_action  integrated    43  0.000018\n",
       "3  2024-05-20 11:32:23.274  track_action  integrated    43  0.000037\n",
       "4  2024-05-20 11:32:23.346  track_action  integrated    43  0.000020"
      ]
     },
     "execution_count": 6,
     "metadata": {},
     "output_type": "execute_result"
    }
   ],
   "source": [
    "df_symbolic = pd.read_csv(\"./timing_symbolic.csv\")\n",
    "df_symbolic.head(5)"
   ]
  },
  {
   "cell_type": "code",
   "execution_count": 7,
   "id": "cb8dc949-4b01-4ace-b9dc-a29bc68ff783",
   "metadata": {},
   "outputs": [
    {
     "data": {
      "text/html": [
       "<div>\n",
       "<style scoped>\n",
       "    .dataframe tbody tr th:only-of-type {\n",
       "        vertical-align: middle;\n",
       "    }\n",
       "\n",
       "    .dataframe tbody tr th {\n",
       "        vertical-align: top;\n",
       "    }\n",
       "\n",
       "    .dataframe thead th {\n",
       "        text-align: right;\n",
       "    }\n",
       "</style>\n",
       "<table border=\"1\" class=\"dataframe\">\n",
       "  <thead>\n",
       "    <tr style=\"text-align: right;\">\n",
       "      <th></th>\n",
       "      <th>timestamp</th>\n",
       "      <th>task</th>\n",
       "      <th>name</th>\n",
       "      <th>seed</th>\n",
       "      <th>duration</th>\n",
       "    </tr>\n",
       "  </thead>\n",
       "  <tbody>\n",
       "    <tr>\n",
       "      <th>10193</th>\n",
       "      <td>2024-05-20 11:33:34.590</td>\n",
       "      <td>try_induction</td>\n",
       "      <td>integrated</td>\n",
       "      <td>43</td>\n",
       "      <td>0.006414</td>\n",
       "    </tr>\n",
       "    <tr>\n",
       "      <th>10194</th>\n",
       "      <td>2024-05-20 11:34:51.254</td>\n",
       "      <td>try_induction</td>\n",
       "      <td>integrated</td>\n",
       "      <td>43</td>\n",
       "      <td>0.003992</td>\n",
       "    </tr>\n",
       "    <tr>\n",
       "      <th>10195</th>\n",
       "      <td>2024-05-20 11:36:08.848</td>\n",
       "      <td>try_induction</td>\n",
       "      <td>integrated</td>\n",
       "      <td>43</td>\n",
       "      <td>0.005736</td>\n",
       "    </tr>\n",
       "    <tr>\n",
       "      <th>10196</th>\n",
       "      <td>2024-05-20 11:37:30.043</td>\n",
       "      <td>try_induction</td>\n",
       "      <td>integrated</td>\n",
       "      <td>43</td>\n",
       "      <td>0.005932</td>\n",
       "    </tr>\n",
       "    <tr>\n",
       "      <th>10197</th>\n",
       "      <td>2024-05-20 11:38:52.689</td>\n",
       "      <td>try_induction</td>\n",
       "      <td>integrated</td>\n",
       "      <td>43</td>\n",
       "      <td>0.005833</td>\n",
       "    </tr>\n",
       "  </tbody>\n",
       "</table>\n",
       "</div>"
      ],
      "text/plain": [
       "                     timestamp           task        name  seed  duration\n",
       "10193  2024-05-20 11:33:34.590  try_induction  integrated    43  0.006414\n",
       "10194  2024-05-20 11:34:51.254  try_induction  integrated    43  0.003992\n",
       "10195  2024-05-20 11:36:08.848  try_induction  integrated    43  0.005736\n",
       "10196  2024-05-20 11:37:30.043  try_induction  integrated    43  0.005932\n",
       "10197  2024-05-20 11:38:52.689  try_induction  integrated    43  0.005833"
      ]
     },
     "execution_count": 7,
     "metadata": {},
     "output_type": "execute_result"
    }
   ],
   "source": [
    "# track_action is trivial. It isn't symbolic in the first place. Delete.\n",
    "df_symbolic.drop(df_symbolic[df_symbolic.task == \"track_action\"].index, inplace=True)\n",
    "df_symbolic.head(5)"
   ]
  },
  {
   "cell_type": "code",
   "execution_count": null,
   "id": "daac4d36-1bee-42ad-a517-2279729f814d",
   "metadata": {},
   "outputs": [],
   "source": []
  },
  {
   "cell_type": "code",
   "execution_count": 8,
   "id": "e519e4ac-0ba8-492f-a28f-c8be7dd152b1",
   "metadata": {},
   "outputs": [],
   "source": [
    "df_object_detection_P1 = pd.read_csv(\"../results/20240502-16.09.35_P1/logs/timing/symbolic/20240502-16.09.35_P1_detect_objects.csv\", header=None)\n",
    "# add column names\n",
    "df_object_detection_P1.columns =['timestamp', 'task', 'name', 'seed', 'duration']\n",
    "df_object_detection_P1[\"name\"] = \"P1\""
   ]
  },
  {
   "cell_type": "code",
   "execution_count": 9,
   "id": "e59528e4-4cb5-4b16-97a4-ed08f1a1890e",
   "metadata": {},
   "outputs": [],
   "source": [
    "df_object_detection_C1 = pd.read_csv(\"../results/20240430-12.00.19_C1/logs/timing/symbolic/20240430-12.00.19_C1_detect_objects.csv\", header=None)\n",
    "# add column names\n",
    "df_object_detection_C1.columns =['timestamp', 'task', 'name', 'seed', 'duration']\n",
    "df_object_detection_C1[\"name\"] = \"C1\""
   ]
  },
  {
   "cell_type": "code",
   "execution_count": 10,
   "id": "d0c27d03-5601-4dc5-9d83-6646f9cca2c8",
   "metadata": {},
   "outputs": [],
   "source": [
    "df_positioning_P1 = pd.read_csv(\"../results/20240502-16.09.35_P1/logs/timing/symbolic/20240502-16.09.35_P1_position_objects.csv\", header=None)\n",
    "# add column names\n",
    "df_positioning_P1.columns =['timestamp', 'task', 'name', 'seed', 'duration']\n",
    "df_positioning_P1[\"name\"] = \"P1\""
   ]
  },
  {
   "cell_type": "code",
   "execution_count": 11,
   "id": "e4a768dd-8071-4cf2-9710-b683726c2711",
   "metadata": {},
   "outputs": [],
   "source": [
    "df_positioning_C1 = pd.read_csv(\"../results/20240430-12.00.19_C1/logs/timing/symbolic/20240430-12.00.19_C1_position_objects.csv\", header=None)\n",
    "# add column names\n",
    "df_positioning_C1.columns =['timestamp', 'task', 'name', 'seed', 'duration']\n",
    "df_positioning_C1[\"name\"] = \"C1\""
   ]
  },
  {
   "cell_type": "code",
   "execution_count": 12,
   "id": "1eec4478-b10a-4aac-a5af-99cd0bb7a837",
   "metadata": {},
   "outputs": [],
   "source": [
    "df_induction_P1 = pd.read_csv(\"../results/20240502-16.09.35_P1/logs/timing/symbolic/20240502-16.09.35_P1_try_induction.csv\", header=None)\n",
    "# add column names\n",
    "df_induction_P1.columns =['timestamp', 'task', 'name', 'seed', 'episode','step', 'duration']\n",
    "df_induction_P1[\"name\"] = \"P1\""
   ]
  },
  {
   "cell_type": "code",
   "execution_count": 13,
   "id": "08a870dd-a9d1-4ccd-ba63-f8ab037e1840",
   "metadata": {},
   "outputs": [],
   "source": [
    "df_induction_C1 = pd.read_csv(\"../results/20240430-12.00.19_C1/logs/timing/symbolic/20240430-12.00.19_C1_try_induction.csv\", header=None)\n",
    "# add column names\n",
    "df_induction_C1.columns =['timestamp', 'task', 'name', 'seed', 'episode','step','duration']\n",
    "df_induction_C1[\"name\"] = \"C1\""
   ]
  },
  {
   "cell_type": "code",
   "execution_count": 14,
   "id": "c80ec824-3d44-4326-866c-b7b363d09119",
   "metadata": {},
   "outputs": [],
   "source": [
    "df_choose_action_P1 = pd.read_csv(\"../results/20240502-16.09.35_P1/logs/timing/symbolic/20240502-16.09.35_P1_choose_action_ddqn.csv\", header=None)\n",
    "# add column names\n",
    "df_choose_action_P1.columns =['timestamp', 'task', 'name', 'seed', 'duration']\n",
    "df_choose_action_P1[\"name\"] = \"P1\""
   ]
  },
  {
   "cell_type": "code",
   "execution_count": 15,
   "id": "0f23656d-0a09-4cab-8751-127fa65de6eb",
   "metadata": {},
   "outputs": [
    {
     "data": {
      "text/html": [
       "<div>\n",
       "<style scoped>\n",
       "    .dataframe tbody tr th:only-of-type {\n",
       "        vertical-align: middle;\n",
       "    }\n",
       "\n",
       "    .dataframe tbody tr th {\n",
       "        vertical-align: top;\n",
       "    }\n",
       "\n",
       "    .dataframe thead th {\n",
       "        text-align: right;\n",
       "    }\n",
       "</style>\n",
       "<table border=\"1\" class=\"dataframe\">\n",
       "  <thead>\n",
       "    <tr style=\"text-align: right;\">\n",
       "      <th></th>\n",
       "      <th>timestamp</th>\n",
       "      <th>task</th>\n",
       "      <th>seed</th>\n",
       "      <th>duration</th>\n",
       "      <th>name</th>\n",
       "    </tr>\n",
       "  </thead>\n",
       "  <tbody>\n",
       "    <tr>\n",
       "      <th>0</th>\n",
       "      <td>2024-04-30 12:00:21.014</td>\n",
       "      <td>choose_action_ddqn</td>\n",
       "      <td>1</td>\n",
       "      <td>0.000356</td>\n",
       "      <td>C1</td>\n",
       "    </tr>\n",
       "    <tr>\n",
       "      <th>1</th>\n",
       "      <td>2024-04-30 12:00:21.045</td>\n",
       "      <td>choose_action_ddqn</td>\n",
       "      <td>1</td>\n",
       "      <td>0.000425</td>\n",
       "      <td>C1</td>\n",
       "    </tr>\n",
       "    <tr>\n",
       "      <th>2</th>\n",
       "      <td>2024-04-30 12:00:21.075</td>\n",
       "      <td>choose_action_ddqn</td>\n",
       "      <td>1</td>\n",
       "      <td>0.000402</td>\n",
       "      <td>C1</td>\n",
       "    </tr>\n",
       "    <tr>\n",
       "      <th>3</th>\n",
       "      <td>2024-04-30 12:00:21.101</td>\n",
       "      <td>choose_action_ddqn</td>\n",
       "      <td>1</td>\n",
       "      <td>0.000349</td>\n",
       "      <td>C1</td>\n",
       "    </tr>\n",
       "    <tr>\n",
       "      <th>4</th>\n",
       "      <td>2024-04-30 12:00:21.126</td>\n",
       "      <td>choose_action_ddqn</td>\n",
       "      <td>1</td>\n",
       "      <td>0.000353</td>\n",
       "      <td>C1</td>\n",
       "    </tr>\n",
       "  </tbody>\n",
       "</table>\n",
       "</div>"
      ],
      "text/plain": [
       "                 timestamp                task  seed  duration name\n",
       "0  2024-04-30 12:00:21.014  choose_action_ddqn     1  0.000356   C1\n",
       "1  2024-04-30 12:00:21.045  choose_action_ddqn     1  0.000425   C1\n",
       "2  2024-04-30 12:00:21.075  choose_action_ddqn     1  0.000402   C1\n",
       "3  2024-04-30 12:00:21.101  choose_action_ddqn     1  0.000349   C1\n",
       "4  2024-04-30 12:00:21.126  choose_action_ddqn     1  0.000353   C1"
      ]
     },
     "execution_count": 15,
     "metadata": {},
     "output_type": "execute_result"
    }
   ],
   "source": [
    "df_choose_action_C1 = pd.read_csv(\"../results/20240430-12.00.19_C1/logs/timing/symbolic/20240430-12.00.19_C1_choose_action_ddqn.csv\", header=None)\n",
    "# add column names\n",
    "df_choose_action_C1.columns =['timestamp', 'task', 'seed', 'duration']\n",
    "df_choose_action_C1[\"name\"] = \"C1\"\n",
    "df_choose_action_C1.head(5)"
   ]
  },
  {
   "cell_type": "code",
   "execution_count": 16,
   "id": "59db3678-1a61-45f4-9ee7-15b9b8feecf6",
   "metadata": {},
   "outputs": [],
   "source": [
    "df_baseline_step = pd.read_csv(\"../results/20240428-20.22.58_baseline_B2/logs/timing/20240428-20.22.58_baseline_B2_steps.csv\", header=None)\n",
    "df_baseline_step.columns =['timestamp', 'task', 'name', 'seed', 'duration']\n",
    "df_baseline_step[\"name\"] = \"Baseline\""
   ]
  },
  {
   "cell_type": "code",
   "execution_count": 19,
   "id": "8a23302f-09d1-4eae-9ea9-71f8b216c669",
   "metadata": {},
   "outputs": [],
   "source": [
    "df_P1_step = pd.read_csv(\"../results/20240502-16.09.35_P1/logs/timing/20240502-16.09.35_P1_steps.csv\", header=None)\n",
    "df_P1_step.columns =['timestamp', 'task', 'name', 'seed', 'duration']\n",
    "df_P1_step[\"name\"] = \"P1\""
   ]
  },
  {
   "cell_type": "code",
   "execution_count": 20,
   "id": "b60dc66d-0029-4bb5-a63a-bc41228f03d3",
   "metadata": {},
   "outputs": [],
   "source": [
    "df_C1_step = pd.read_csv(\"../results/20240430-12.00.19_C1/logs/timing/20240430-12.00.19_C1_steps.csv\", header=None)\n",
    "df_C1_step.columns =['timestamp', 'task', 'name', 'seed', 'duration']\n",
    "df_C1_step[\"name\"] = \"C1\""
   ]
  },
  {
   "cell_type": "markdown",
   "id": "124b574c-d0ab-4145-8587-8ca7e38ad544",
   "metadata": {},
   "source": [
    "The core implementation portion of a P1 and C1 step is the total mean step duration minus all the symbolic mean durations.\n",
    "For readability, calculate them first. The unit of measurement is in seconds, so multiply by 1000 to obtain milliseconds;\n",
    "Note that the induction is only applied every 1OOO steps, meaning its proportion is 1/1000, canceling out the milliseconds conversion."
   ]
  },
  {
   "cell_type": "code",
   "execution_count": 24,
   "id": "ec54270a-6d77-4490-9e8e-38d104a7c23d",
   "metadata": {},
   "outputs": [],
   "source": [
    "object_detection_P1 = df_object_detection_P1[\"duration\"].mean() * 1000\n",
    "positioning_P1 = df_positioning_P1[\"duration\"].mean() * 1000\n",
    "induction_P1 = df_induction_P1[\"duration\"].mean()\n",
    "choose_action_P1 = df_choose_action_P1[\"duration\"].mean() * 1000\n",
    "step_duration_P1 = df_P1_step[\"duration\"].mean() * 1000\n",
    "baseline_P1 = step_duration_P1 - (object_detection_P1 + positioning_P1 + induction_P1 + choose_action_P1)\n",
    "\n",
    "object_detection_C1 = df_object_detection_C1[\"duration\"].mean() * 1000\n",
    "positioning_C1 = df_positioning_C1[\"duration\"].mean() * 1000\n",
    "induction_C1 = df_induction_C1[\"duration\"].mean()\n",
    "choose_action_C1 = df_choose_action_C1[\"duration\"].mean() * 1000\n",
    "step_duration_C1 = df_C1_step[\"duration\"].mean() * 1000\n",
    "baseline_C1 = step_duration_C1 - (object_detection_C1 + positioning_C1 + induction_C1 + choose_action_C1)"
   ]
  },
  {
   "cell_type": "code",
   "execution_count": 33,
   "id": "84c69285-8488-4bb0-b707-4f200208ffd9",
   "metadata": {},
   "outputs": [
    {
     "data": {
      "text/plain": [
       "Text(0.5, 1.0, 'Anatomy of a single step by task')"
      ]
     },
     "execution_count": 33,
     "metadata": {},
     "output_type": "execute_result"
    },
    {
     "data": {
      "image/png": "[encoded data removed]",
      "text/plain": [
       "<Figure size 640x480 with 1 Axes>"
      ]
     },
     "metadata": {},
     "output_type": "display_data"
    }
   ],
   "source": [
    "df = pd.DataFrame({'Core implementation': [df_baseline_step[\"duration\"].mean() * 1000, baseline_P1, baseline_C1],\n",
    "                   'Detect objects': [0, object_detection_P1, object_detection_C1],\n",
    "                   'Position objects': [0, positioning_P1, positioning_C1],\n",
    "                   'Try induction': [0, induction_P1, induction_C1],\n",
    "                   'Choose action': [0, choose_action_P1, choose_action_C1]\n",
    "                   },\n",
    "                  index=['Baseline', 'P1', 'C1'])\n",
    "\n",
    "# use the Tableau matte colours for high contrast and ease on the eyes\n",
    "df.plot(kind='bar', stacked=True, color=['tab:gray', 'tab:olive', 'tab:pink', 'tab:cyan', 'tab:brown'])\n",
    " \n",
    "# labels for x & y axis\n",
    "plt.xlabel('Agent')\n",
    "plt.ylabel('Average duration in milliseconds')\n",
    " \n",
    "# title of plot\n",
    "plt.title('Anatomy of a single step by task')"
   ]
  },
  {
   "cell_type": "code",
   "execution_count": null,
   "id": "f4b6ad95-f169-48a4-a6ca-0105275cb374",
   "metadata": {},
   "outputs": [],
   "source": []
  }
 ],
 "metadata": {
  "kernelspec": {
   "display_name": "Python 3 (ipykernel)",
   "language": "python",
   "name": "python3"
  },
  "language_info": {
   "codemirror_mode": {
    "name": "ipython",
    "version": 3
   },
   "file_extension": ".py",
   "mimetype": "text/x-python",
   "name": "python",
   "nbconvert_exporter": "python",
   "pygments_lexer": "ipython3",
   "version": "3.10.13"
  }
 },
 "nbformat": 4,
 "nbformat_minor": 5
}
