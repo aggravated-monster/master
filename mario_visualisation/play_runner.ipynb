{
 "cells": [
  {
   "metadata": {},
   "cell_type": "markdown",
   "source": "# Data preparation",
   "id": "63c06e7edf035e4f"
  },
  {
   "metadata": {
    "ExecuteTime": {
     "end_time": "2024-05-28T14:15:12.347707Z",
     "start_time": "2024-05-28T14:15:12.344492Z"
    }
   },
   "cell_type": "code",
   "source": [
    "import pandas as pd\n",
    "import numpy as np  \n",
    "import matplotlib.pyplot as plt \n",
    "import seaborn as sns\n",
    "\n",
    "sns.set_style(\"white\")"
   ],
   "id": "a5bc4cf6fc9e96f4",
   "execution_count": 51,
   "outputs": []
  },
  {
   "metadata": {},
   "cell_type": "markdown",
   "source": "#### Load the data",
   "id": "af02d51b781b7a8c"
  },
  {
   "metadata": {
    "ExecuteTime": {
     "end_time": "2024-05-28T14:15:13.667538Z",
     "start_time": "2024-05-28T14:15:13.660133Z"
    }
   },
   "cell_type": "code",
   "source": [
    "df_episodes1 = pd.read_csv(\"../results/play/logs/explain/20240505-10.55.35_play_baseline_original_1000000_13_target_net_episodes.csv\", header=None)\n",
    "# add column names\n",
    "df_episodes1.columns =['timestamp', 'name', 'seed', 'total_steps', 'episode', 'episode_steps', 'reward', 'distance', 'velocity', 'game_time', 'game_score', 'flag', 'loss', 'epsilon', 'model_id']\n",
    "#df_episodes1['steps'] = df_episodes1['model_id'].apply(lambda x: int(x.split('_')[-4])/1000 )"
   ],
   "id": "409249c5b86e834a",
   "execution_count": 52,
   "outputs": []
  },
  {
   "metadata": {
    "ExecuteTime": {
     "end_time": "2024-05-28T14:15:14.119002Z",
     "start_time": "2024-05-28T14:15:14.113078Z"
    }
   },
   "cell_type": "code",
   "source": [
    "df_episodes2 = pd.read_csv(\"../results/play/logs/explain/20240517-19.10.31_play_B2_2100000_13_target_net_episodes.csv\", header=None)\n",
    "# add column names\n",
    "df_episodes2.columns =['timestamp', 'name', 'seed', 'total_steps', 'episode', 'episode_steps', 'reward', 'distance', 'velocity', 'game_time', 'game_score', 'flag', 'loss', 'epsilon', 'model_id']\n",
    "#df_episodes2['steps'] = df_episodes2['model_id'].apply(lambda x: int(x.split('_')[-4])/1000 )"
   ],
   "id": "e4b8a7a361a22c82",
   "execution_count": 53,
   "outputs": []
  },
  {
   "metadata": {
    "ExecuteTime": {
     "end_time": "2024-05-28T14:15:14.488803Z",
     "start_time": "2024-05-28T14:15:14.483100Z"
    }
   },
   "cell_type": "code",
   "source": [
    "df_episodes3 = pd.read_csv(\"../results/play/logs/explain/20240505-09.35.45_play_T1_900000_1_target_net_episodes.csv\", header=None)\n",
    "# add column names\n",
    "df_episodes3.columns =['timestamp', 'name', 'seed', 'total_steps', 'episode', 'episode_steps', 'reward', 'distance', 'velocity', 'game_time', 'game_score', 'flag', 'loss', 'epsilon', 'model_id']\n",
    "#df_episodes3['steps'] = df_episodes3['model_id'].apply(lambda x: int(x.split('_')[-4])/1000 )"
   ],
   "id": "2fefd66cba81f4d",
   "execution_count": 54,
   "outputs": []
  },
  {
   "metadata": {
    "ExecuteTime": {
     "end_time": "2024-05-28T14:15:14.727266Z",
     "start_time": "2024-05-28T14:15:14.721677Z"
    }
   },
   "cell_type": "code",
   "source": [
    "df_episodes4 = pd.read_csv(\"../results/play/logs/explain/20240505-10.33.18_play_target_T2_800000_1_target_net_episodes.csv\", header=None)\n",
    "# add column names\n",
    "df_episodes4.columns =['timestamp', 'name', 'seed', 'total_steps', 'episode', 'episode_steps', 'reward', 'distance', 'velocity', 'game_time', 'game_score', 'flag', 'loss', 'epsilon', 'model_id']\n",
    "#df_episodes4['steps'] = df_episodes4['model_id'].apply(lambda x: int(x.split('_')[-4])/1000 )"
   ],
   "id": "242faf8db380b801",
   "execution_count": 55,
   "outputs": []
  },
  {
   "metadata": {
    "ExecuteTime": {
     "end_time": "2024-05-28T14:15:15.109537Z",
     "start_time": "2024-05-28T14:15:15.104244Z"
    }
   },
   "cell_type": "code",
   "source": [
    "df_episodes5 = pd.read_csv(\"../results/play/logs/explain/20240505-09.20.02_play_C1_1100000_1_target_net_episodes.csv\", header=None)\n",
    "# add column names\n",
    "df_episodes5.columns =['timestamp', 'name', 'seed', 'total_steps', 'episode', 'episode_steps', 'reward', 'distance', 'velocity', 'game_time', 'game_score', 'flag', 'loss', 'epsilon', 'model_id']\n",
    "#df_episodes5['steps'] = df_episodes5['model_id'].apply(lambda x: int(x.split('_')[-4])/1000 )"
   ],
   "id": "6c8f6ca1ad6b5819",
   "execution_count": 56,
   "outputs": []
  },
  {
   "metadata": {
    "ExecuteTime": {
     "end_time": "2024-05-28T14:15:15.360232Z",
     "start_time": "2024-05-28T14:15:15.355810Z"
    }
   },
   "cell_type": "code",
   "source": [
    "df_episodes6 = pd.read_csv(\"../results/play/logs/explain/20240505-09.47.49_play_P1_900000_1_target_net_episodes.csv\", header=None)\n",
    "# add column names\n",
    "df_episodes6.columns =['timestamp', 'name', 'seed', 'total_steps', 'episode', 'episode_steps', 'reward', 'distance', 'velocity', 'game_time', 'game_score', 'flag', 'loss', 'epsilon', 'model_id']\n",
    "#df_episodes6['steps'] = df_episodes6['model_id'].apply(lambda x: int(x.split('_')[-4])/1000 )"
   ],
   "id": "19c8011d824c02d5",
   "execution_count": 57,
   "outputs": []
  },
  {
   "metadata": {
    "ExecuteTime": {
     "end_time": "2024-05-28T14:15:15.557608Z",
     "start_time": "2024-05-28T14:15:15.552823Z"
    }
   },
   "cell_type": "code",
   "source": [
    "df_episodes7 = pd.read_csv(\"../results/play/logs/explain/20240505-10.14.57_play_P1_compact_1200000_1_target_net_episodes.csv\", header=None)\n",
    "# add column names\n",
    "df_episodes7.columns =['timestamp', 'name', 'seed', 'total_steps', 'episode', 'episode_steps', 'reward', 'distance', 'velocity', 'game_time', 'game_score', 'flag', 'loss', 'epsilon', 'model_id']\n",
    "#df_episodes7['steps'] = df_episodes7['model_id'].apply(lambda x: int(x.split('_')[-4])/1000 )"
   ],
   "id": "dbfafcd4f1bbbe1f",
   "execution_count": 58,
   "outputs": []
  },
  {
   "metadata": {
    "ExecuteTime": {
     "end_time": "2024-05-28T14:15:15.765709Z",
     "start_time": "2024-05-28T14:15:15.760992Z"
    }
   },
   "cell_type": "code",
   "source": [
    "df_episodes8 = pd.read_csv(\"../results/play/logs/explain/20240506-18.32.34_play_B1_2300000_13_target_net_episodes.csv\", header=None)\n",
    "# add column names\n",
    "df_episodes8.columns =['timestamp', 'name', 'seed', 'total_steps', 'episode', 'episode_steps', 'reward', 'distance', 'velocity', 'game_time', 'game_score', 'flag', 'loss', 'epsilon', 'model_id']"
   ],
   "id": "e5481078e68eaf00",
   "execution_count": 59,
   "outputs": []
  },
  {
   "metadata": {
    "ExecuteTime": {
     "end_time": "2024-05-28T14:15:16.009121Z",
     "start_time": "2024-05-28T14:15:16.004493Z"
    }
   },
   "cell_type": "code",
   "source": [
    "df_episodes9 = pd.read_csv(\"../results/play/logs/explain/20240506-18.43.16_play_P1_2500000_13_target_net_episodes.csv\", header=None)\n",
    "# add column names\n",
    "df_episodes9.columns =['timestamp', 'name', 'seed', 'total_steps', 'episode', 'episode_steps', 'reward', 'distance', 'velocity', 'game_time', 'game_score', 'flag', 'loss', 'epsilon', 'model_id']"
   ],
   "id": "f49e6c102cb46491",
   "execution_count": 60,
   "outputs": []
  },
  {
   "metadata": {
    "ExecuteTime": {
     "end_time": "2024-05-28T14:15:16.285468Z",
     "start_time": "2024-05-28T14:15:16.280910Z"
    }
   },
   "cell_type": "code",
   "source": [
    "df_episodes10 = pd.read_csv(\"../results/play/logs/explain/20240507-18.19.20_play_P1_2300000_13_target_net_episodes.csv\", header=None)\n",
    "# add column names\n",
    "df_episodes10.columns =['timestamp', 'name', 'seed', 'total_steps', 'episode', 'episode_steps', 'reward', 'distance', 'velocity', 'game_time', 'game_score', 'flag', 'loss', 'epsilon', 'model_id']"
   ],
   "id": "d6ea1189b28b2850",
   "execution_count": 61,
   "outputs": []
  },
  {
   "metadata": {
    "ExecuteTime": {
     "end_time": "2024-05-28T14:15:16.480225Z",
     "start_time": "2024-05-28T14:15:16.475063Z"
    }
   },
   "cell_type": "code",
   "source": [
    "df_episodes11 = pd.read_csv(\"../results/play/logs/explain/20240507-18.31.09_play_P1_2700000_13_target_net_episodes.csv\", header=None)\n",
    "# add column names\n",
    "df_episodes11.columns =['timestamp', 'name', 'seed', 'total_steps', 'episode', 'episode_steps', 'reward', 'distance', 'velocity', 'game_time', 'game_score', 'flag', 'loss', 'epsilon', 'model_id']"
   ],
   "id": "fb8332f0db4535e7",
   "execution_count": 62,
   "outputs": []
  },
  {
   "metadata": {
    "ExecuteTime": {
     "end_time": "2024-05-28T14:15:16.714009Z",
     "start_time": "2024-05-28T14:15:16.708952Z"
    }
   },
   "cell_type": "code",
   "source": [
    "df_episodes12 = pd.read_csv(\"../results/play/logs/explain/20240511-08.38.34_play_T2_ext_ni_2300000_13_target_net_episodes.csv\", header=None)\n",
    "# add column names\n",
    "df_episodes12.columns =['timestamp', 'name', 'seed', 'total_steps', 'episode', 'episode_steps', 'reward', 'distance', 'velocity', 'game_time', 'game_score', 'flag', 'loss', 'epsilon', 'model_id']"
   ],
   "id": "c38d480d34e32bc7",
   "execution_count": 63,
   "outputs": []
  },
  {
   "metadata": {
    "ExecuteTime": {
     "end_time": "2024-05-28T14:15:16.969086Z",
     "start_time": "2024-05-28T14:15:16.964416Z"
    }
   },
   "cell_type": "code",
   "source": [
    "df_episodes13 = pd.read_csv(\"../results/play/logs/explain/20240511-08.25.54_play_T2_ext_i_2200000_13_target_net_episodes.csv\", header=None)\n",
    "# add column names\n",
    "df_episodes13.columns =['timestamp', 'name', 'seed', 'total_steps', 'episode', 'episode_steps', 'reward', 'distance', 'velocity', 'game_time', 'game_score', 'flag', 'loss', 'epsilon', 'model_id']"
   ],
   "id": "bc4a30cc4a83104a",
   "execution_count": 64,
   "outputs": []
  },
  {
   "metadata": {
    "ExecuteTime": {
     "end_time": "2024-05-28T14:15:17.347894Z",
     "start_time": "2024-05-28T14:15:17.342634Z"
    }
   },
   "cell_type": "code",
   "source": [
    "df_episodes14 = pd.read_csv(\"../results/play/logs/explain/20240512-09.59.31_play_T1_ext_ni_2300000_13_target_net_episodes.csv\", header=None)\n",
    "# add column names\n",
    "df_episodes14.columns =['timestamp', 'name', 'seed', 'total_steps', 'episode', 'episode_steps', 'reward', 'distance', 'velocity', 'game_time', 'game_score', 'flag', 'loss', 'epsilon', 'model_id']"
   ],
   "id": "77f9f09edebc6821",
   "execution_count": 65,
   "outputs": []
  },
  {
   "metadata": {
    "ExecuteTime": {
     "end_time": "2024-05-28T14:15:17.568766Z",
     "start_time": "2024-05-28T14:15:17.563778Z"
    }
   },
   "cell_type": "code",
   "source": [
    "df_episodes15 = pd.read_csv(\"../results/play/logs/explain/20240513-15.26.21_play_P1_ext_ni_3100000_13_target_net_episodes.csv\", header=None)\n",
    "# add column names\n",
    "df_episodes15.columns =['timestamp', 'name', 'seed', 'total_steps', 'episode', 'episode_steps', 'reward', 'distance', 'velocity', 'game_time', 'game_score', 'flag', 'loss', 'epsilon', 'model_id']"
   ],
   "id": "7d6697be4948d877",
   "execution_count": 66,
   "outputs": []
  },
  {
   "metadata": {
    "ExecuteTime": {
     "end_time": "2024-05-28T14:15:17.793996Z",
     "start_time": "2024-05-28T14:15:17.788496Z"
    }
   },
   "cell_type": "code",
   "source": [
    "df_episodes16 = pd.read_csv(\"../results/play/logs/explain/20240514-17.03.09_play_T2_ni_2500000_13_target_net_episodes.csv\", header=None)\n",
    "# add column names\n",
    "df_episodes16.columns =['timestamp', 'name', 'seed', 'total_steps', 'episode', 'episode_steps', 'reward', 'distance', 'velocity', 'game_time', 'game_score', 'flag', 'loss', 'epsilon', 'model_id']"
   ],
   "id": "d5ff2b01c3d66f10",
   "execution_count": 67,
   "outputs": []
  },
  {
   "metadata": {
    "ExecuteTime": {
     "end_time": "2024-05-28T14:15:18.131807Z",
     "start_time": "2024-05-28T14:15:18.126734Z"
    }
   },
   "cell_type": "code",
   "source": [
    "df_episodes17 = pd.read_csv(\"../results/play/logs/explain/20240516-08.01.08_play_T1-ni_3400000_13_target_net_episodes.csv\", header=None)\n",
    "# add column names\n",
    "df_episodes17.columns =['timestamp', 'name', 'seed', 'total_steps', 'episode', 'episode_steps', 'reward', 'distance', 'velocity', 'game_time', 'game_score', 'flag', 'loss', 'epsilon', 'model_id']"
   ],
   "id": "5a25a6169fddb603",
   "execution_count": 68,
   "outputs": []
  },
  {
   "metadata": {
    "ExecuteTime": {
     "end_time": "2024-05-28T14:15:18.460030Z",
     "start_time": "2024-05-28T14:15:18.454729Z"
    }
   },
   "cell_type": "code",
   "source": [
    "df_episodes18 = pd.read_csv(\"../results/play/logs/explain/20240516-19.06.28_play_B1-long_3400000_13_target_net_episodes.csv\", header=None)\n",
    "# add column names\n",
    "df_episodes18.columns =['timestamp', 'name', 'seed', 'total_steps', 'episode', 'episode_steps', 'reward', 'distance', 'velocity', 'game_time', 'game_score', 'flag', 'loss', 'epsilon', 'model_id']"
   ],
   "id": "dc85e857cce352a3",
   "execution_count": 69,
   "outputs": []
  },
  {
   "metadata": {
    "ExecuteTime": {
     "end_time": "2024-05-28T14:15:18.705989Z",
     "start_time": "2024-05-28T14:15:18.700778Z"
    }
   },
   "cell_type": "code",
   "source": [
    "df_episodes19 = pd.read_csv(\"../results/play/logs/explain/20240517-08.38.44_play_B2-long_3400000_13_target_net_episodes.csv\", header=None)\n",
    "# add column names\n",
    "df_episodes19.columns =['timestamp', 'name', 'seed', 'total_steps', 'episode', 'episode_steps', 'reward', 'distance', 'velocity', 'game_time', 'game_score', 'flag', 'loss', 'epsilon', 'model_id']"
   ],
   "id": "f313750688bd14c4",
   "execution_count": 70,
   "outputs": []
  },
  {
   "metadata": {
    "ExecuteTime": {
     "end_time": "2024-05-28T14:15:18.947034Z",
     "start_time": "2024-05-28T14:15:18.941488Z"
    }
   },
   "cell_type": "code",
   "source": [
    "df_episodes20 = pd.read_csv(\"../results/play/logs/explain/20240517-09.02.57_play_T2_ext_ni_2300000_13_target_net_rep_episodes.csv\", header=None)\n",
    "# add column names\n",
    "df_episodes20.columns =['timestamp', 'name', 'seed', 'total_steps', 'episode', 'episode_steps', 'reward', 'distance', 'velocity', 'game_time', 'game_score', 'flag', 'loss', 'epsilon', 'model_id']"
   ],
   "id": "b8d4e148d0be8a61",
   "execution_count": 71,
   "outputs": []
  },
  {
   "metadata": {
    "ExecuteTime": {
     "end_time": "2024-05-28T14:15:19.349688Z",
     "start_time": "2024-05-28T14:15:19.344717Z"
    }
   },
   "cell_type": "code",
   "source": [
    "df_episodes21 = pd.read_csv(\"../results/play/logs/explain/20240517-09.21.10_play_T2_ext_ni_2300000_13_target_net_rep2_episodes.csv\", header=None)\n",
    "# add column names\n",
    "df_episodes21.columns =['timestamp', 'name', 'seed', 'total_steps', 'episode', 'episode_steps', 'reward', 'distance', 'velocity', 'game_time', 'game_score', 'flag', 'loss', 'epsilon', 'model_id']"
   ],
   "id": "3d41ec7738c62c89",
   "execution_count": 72,
   "outputs": []
  },
  {
   "metadata": {
    "ExecuteTime": {
     "end_time": "2024-05-28T14:15:19.577731Z",
     "start_time": "2024-05-28T14:15:19.573139Z"
    }
   },
   "cell_type": "code",
   "source": [
    "df_episodes22 = pd.read_csv(\"../results/play/logs/explain/20240517-11.23.10_play_T1_ext_ni_2300000_13_target_net_rep_episodes.csv\", header=None)\n",
    "# add column names\n",
    "df_episodes22.columns =['timestamp', 'name', 'seed', 'total_steps', 'episode', 'episode_steps', 'reward', 'distance', 'velocity', 'game_time', 'game_score', 'flag', 'loss', 'epsilon', 'model_id']"
   ],
   "id": "9217413240a5ac02",
   "execution_count": 73,
   "outputs": []
  },
  {
   "metadata": {
    "ExecuteTime": {
     "end_time": "2024-05-28T14:15:19.831465Z",
     "start_time": "2024-05-28T14:15:19.826120Z"
    }
   },
   "cell_type": "code",
   "source": [
    "df_episodes23 = pd.read_csv(\"../results/play/logs/explain/20240528-16.00.51_play_C1-ext_2200000_13_target_net_episodes.csv\", header=None)\n",
    "# add column names\n",
    "df_episodes23.columns =['timestamp', 'name', 'seed', 'total_steps', 'episode', 'episode_steps', 'reward', 'distance', 'velocity', 'game_time', 'game_score', 'flag', 'loss', 'epsilon', 'model_id']"
   ],
   "id": "c4f8abdd4a2a9161",
   "execution_count": 74,
   "outputs": []
  },
  {
   "metadata": {
    "ExecuteTime": {
     "end_time": "2024-05-28T14:15:20.770830Z",
     "start_time": "2024-05-28T14:15:20.764992Z"
    }
   },
   "cell_type": "code",
   "source": "concatenated = pd.concat([df_episodes8, df_episodes2, df_episodes10, df_episodes11, df_episodes12, df_episodes13, df_episodes14, df_episodes15, df_episodes16, df_episodes17, df_episodes18, df_episodes19, df_episodes20, df_episodes21, df_episodes22, df_episodes23])",
   "id": "65310fc25f4f455c",
   "execution_count": 75,
   "outputs": []
  },
  {
   "metadata": {
    "ExecuteTime": {
     "end_time": "2024-05-28T14:15:21.716535Z",
     "start_time": "2024-05-28T14:15:21.513340Z"
    }
   },
   "cell_type": "code",
   "source": "sns.boxplot(x =\"reward\", y=\"model_id\", data = concatenated)",
   "id": "6751e1d6c348392f",
   "execution_count": 76,
   "outputs": []
  },
  {
   "metadata": {
    "ExecuteTime": {
     "end_time": "2024-05-06T16:21:03.760318Z",
     "start_time": "2024-05-06T16:21:03.363539Z"
    }
   },
   "cell_type": "code",
   "source": [
    "ax = sns.lineplot(x='steps', y='mean', data=concatenated, hue='dataset').set(title='Mean number of wins per model', xlabel=\"x100K steps\", ylabel=\"mean number of wins\")\n",
    "plt.legend(bbox_to_anchor=(1.05, 1), loc=2, borderaxespad=0.)"
   ],
   "id": "681e92091a5cd211",
   "execution_count": 13,
   "outputs": []
  },
  {
   "metadata": {},
   "cell_type": "code",
   "execution_count": 47,
   "source": [
    "ax = sns.boxplot(x='episodes', y='mean', data=concatenated, hue='dataset')\n",
    "#plt.legend(bbox_to_anchor=(1.05, 1), loc=2, borderaxespad=0.)"
   ],
   "id": "3945924e3093a4ad",
   "outputs": []
  },
  {
   "metadata": {
    "ExecuteTime": {
     "end_time": "2024-04-28T08:41:50.009361Z",
     "start_time": "2024-04-28T08:41:49.870128Z"
    }
   },
   "cell_type": "code",
   "source": [
    "fig_reward, ax_flag = plt.subplots(figsize=(6, 6))\n",
    "sns.regplot(x='seed', y='mean', data=df_episodes1_agg, fit_reg=True, ci=None, ax=ax_flag, label='fast decay')\n",
    "sns.regplot(x='seed', y='mean', data=df_episodes2_agg, fit_reg=True, ci=None, ax=ax_flag, label='constrainst-forget')\n",
    "ax_flag.set(ylabel='mean wins', xlabel='seed')\n",
    "ax_flag.legend()"
   ],
   "id": "46bd3da893a912d4",
   "execution_count": 31,
   "outputs": []
  },
  {
   "metadata": {},
   "cell_type": "markdown",
   "source": "And plot the average number of flags per 1000 episodes",
   "id": "3fb548fee4f11edc"
  },
  {
   "metadata": {
    "ExecuteTime": {
     "end_time": "2024-04-28T08:32:39.134994Z",
     "start_time": "2024-04-28T08:32:38.503100Z"
    }
   },
   "cell_type": "code",
   "source": [
    "bins_flags1 = range(0, 100, 10)\n",
    "df_agg_flags1 = df_episodes1.groupby(pd.cut(df_episodes1['episode'], bins=bins_flags1), observed=True)['flag'].agg(['mean', 'std', 'size'])\n",
    "bins_flags1 = [*bins_flags1]\n",
    "bins_flags1.pop(-1)\n",
    "df_agg_flags1[\"bin\"] = bins_flags1\n",
    "df_agg_flags1.head(5)"
   ],
   "id": "64646b2e460672d6",
   "execution_count": 23,
   "outputs": []
  },
  {
   "metadata": {},
   "cell_type": "code",
   "source": [
    "bins_flags2 = range(0, 100, 10)\n",
    "df_agg_flags2 = df_episodes2.groupby(pd.cut(df_episodes2['episode'], bins=bins_flags2), observed=True)['flag'].agg(['mean', 'std', 'size'])\n",
    "bins_flags2 = [*bins_flags2]\n",
    "bins_flags2.pop(-1)\n",
    "df_agg_flags2[\"bin\"] = bins_flags2\n",
    "df_agg_flags2.head(5)"
   ],
   "id": "84f645657018236c",
   "execution_count": null,
   "outputs": []
  },
  {
   "metadata": {},
   "cell_type": "code",
   "source": [
    "bins_flags3 = range(0, 100, 10)\n",
    "df_agg_flags3 = df_episodes3.groupby(pd.cut(df_episodes3['episode'], bins=bins_flags3), observed=True)['flag'].agg(['mean', 'std', 'size'])\n",
    "bins_flags3 = [*bins_flags3]\n",
    "bins_flags3.pop(-1)\n",
    "df_agg_flags3[\"bin\"] = bins_flags3\n",
    "df_agg_flags3.head(5)"
   ],
   "id": "9b7d10d10eb599d6",
   "execution_count": null,
   "outputs": []
  },
  {
   "metadata": {},
   "cell_type": "code",
   "source": [
    "bins_flags4 = range(0, 100, 10)\n",
    "df_agg_flags4 = df_episodes4.groupby(pd.cut(df_episodes4['episode'], bins=bins_flags4), observed=True)['flag'].agg(['mean', 'std', 'size'])\n",
    "bins_flags4 = [*bins_flags4]\n",
    "bins_flags4.pop(-1)\n",
    "df_agg_flags4[\"bin\"] = bins_flags4\n",
    "df_agg_flags4.head(5)"
   ],
   "id": "f9e1ee7a4eafa683",
   "execution_count": null,
   "outputs": []
  },
  {
   "metadata": {},
   "cell_type": "code",
   "source": "concatenated_flags = pd.concat([df_agg_flags1.assign(dataset='baseline fast decay'), df_agg_flags2.assign(dataset='constraints-forget'), df_agg_flags3.assign(dataset='target-active'), df_agg_flags4.assign(dataset='target-reactive')])",
   "id": "c7e06010daf741af",
   "execution_count": null,
   "outputs": []
  },
  {
   "metadata": {},
   "cell_type": "code",
   "source": [
    "ax = sns.lineplot(x='bin', y='mean', data=concatenated_flags, hue='dataset').set(title='Mean number of wins per 10 episodes', xlabel=\"episode\", ylabel=\"mean number of wins\")\n",
    "plt.legend(bbox_to_anchor=(1.05, 1), loc=2, borderaxespad=0.)"
   ],
   "id": "c67e0d55be7d465e",
   "execution_count": null,
   "outputs": []
  },
  {
   "metadata": {},
   "cell_type": "markdown",
   "source": "Show epsilon decay over time for both versions to determine if the high-epsilon interval is big enough",
   "id": "aa530d4db5b42264"
  },
  {
   "metadata": {},
   "cell_type": "code",
   "source": "sns.lineplot(x='episode', y='epsilon', data=concatenated, hue='dataset')",
   "id": "6d7601e441a3ac",
   "execution_count": null,
   "outputs": []
  },
  {
   "metadata": {},
   "cell_type": "code",
   "source": "",
   "id": "4dee5c8bf9a88aa3",
   "execution_count": null,
   "outputs": []
  }
 ],
 "metadata": {
  "kernelspec": {
   "display_name": "Python 3",
   "language": "python",
   "name": "python3"
  },
  "language_info": {
   "codemirror_mode": {
    "name": "ipython",
    "version": 2
   },
   "file_extension": ".py",
   "mimetype": "text/x-python",
   "name": "python",
   "nbconvert_exporter": "python",
   "pygments_lexer": "ipython2",
   "version": "2.7.6"
  }
 },
 "nbformat": 4,
 "nbformat_minor": 5
}
