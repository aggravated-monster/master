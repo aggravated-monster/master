{
 "cells": [
  {
   "metadata": {},
   "cell_type": "markdown",
   "source": "# Data preparation",
   "id": "63c06e7edf035e4f"
  },
  {
   "metadata": {
    "ExecuteTime": {
     "end_time": "2024-05-17T17:47:15.383789Z",
     "start_time": "2024-05-17T17:47:15.379133Z"
    }
   },
   "cell_type": "code",
   "source": [
    "import pandas as pd\n",
    "import numpy as np  \n",
    "import matplotlib.pyplot as plt \n",
    "import seaborn as sns\n",
    "\n",
    "sns.set_style(\"white\")"
   ],
   "id": "a5bc4cf6fc9e96f4",
   "outputs": [],
   "execution_count": 35
  },
  {
   "metadata": {},
   "cell_type": "markdown",
   "source": "#### Load the data",
   "id": "af02d51b781b7a8c"
  },
  {
   "metadata": {
    "ExecuteTime": {
     "end_time": "2024-05-17T17:47:16.225569Z",
     "start_time": "2024-05-17T17:47:16.215956Z"
    }
   },
   "cell_type": "code",
   "source": [
    "df_episodes1 = pd.read_csv(\"../results/play/logs/explain/20240505-10.55.35_play_baseline_original_1000000_13_target_net_episodes.csv\", header=None)\n",
    "# add column names\n",
    "df_episodes1.columns =['timestamp', 'name', 'seed', 'total_steps', 'episode', 'episode_steps', 'reward', 'distance', 'velocity', 'game_time', 'game_score', 'flag', 'loss', 'epsilon', 'model_id']\n",
    "#df_episodes1['steps'] = df_episodes1['model_id'].apply(lambda x: int(x.split('_')[-4])/1000 )"
   ],
   "id": "409249c5b86e834a",
   "outputs": [],
   "execution_count": 36
  },
  {
   "metadata": {
    "ExecuteTime": {
     "end_time": "2024-05-17T17:47:16.643490Z",
     "start_time": "2024-05-17T17:47:16.634651Z"
    }
   },
   "cell_type": "code",
   "source": [
    "df_episodes2 = pd.read_csv(\"../results/play/logs/explain/20240517-19.10.31_play_B2_2100000_13_target_net_episodes.csv\", header=None)\n",
    "# add column names\n",
    "df_episodes2.columns =['timestamp', 'name', 'seed', 'total_steps', 'episode', 'episode_steps', 'reward', 'distance', 'velocity', 'game_time', 'game_score', 'flag', 'loss', 'epsilon', 'model_id']\n",
    "#df_episodes2['steps'] = df_episodes2['model_id'].apply(lambda x: int(x.split('_')[-4])/1000 )"
   ],
   "id": "e4b8a7a361a22c82",
   "outputs": [],
   "execution_count": 37
  },
  {
   "metadata": {
    "ExecuteTime": {
     "end_time": "2024-05-17T17:47:17.036467Z",
     "start_time": "2024-05-17T17:47:17.027253Z"
    }
   },
   "cell_type": "code",
   "source": [
    "df_episodes3 = pd.read_csv(\"../results/play/logs/explain/20240505-09.35.45_play_T1_900000_1_target_net_episodes.csv\", header=None)\n",
    "# add column names\n",
    "df_episodes3.columns =['timestamp', 'name', 'seed', 'total_steps', 'episode', 'episode_steps', 'reward', 'distance', 'velocity', 'game_time', 'game_score', 'flag', 'loss', 'epsilon', 'model_id']\n",
    "#df_episodes3['steps'] = df_episodes3['model_id'].apply(lambda x: int(x.split('_')[-4])/1000 )"
   ],
   "id": "2fefd66cba81f4d",
   "outputs": [],
   "execution_count": 38
  },
  {
   "metadata": {
    "ExecuteTime": {
     "end_time": "2024-05-17T17:47:17.432874Z",
     "start_time": "2024-05-17T17:47:17.421883Z"
    }
   },
   "cell_type": "code",
   "source": [
    "df_episodes4 = pd.read_csv(\"../results/play/logs/explain/20240505-10.33.18_play_target_T2_800000_1_target_net_episodes.csv\", header=None)\n",
    "# add column names\n",
    "df_episodes4.columns =['timestamp', 'name', 'seed', 'total_steps', 'episode', 'episode_steps', 'reward', 'distance', 'velocity', 'game_time', 'game_score', 'flag', 'loss', 'epsilon', 'model_id']\n",
    "#df_episodes4['steps'] = df_episodes4['model_id'].apply(lambda x: int(x.split('_')[-4])/1000 )"
   ],
   "id": "242faf8db380b801",
   "outputs": [],
   "execution_count": 39
  },
  {
   "metadata": {
    "ExecuteTime": {
     "end_time": "2024-05-17T17:47:17.949058Z",
     "start_time": "2024-05-17T17:47:17.939860Z"
    }
   },
   "cell_type": "code",
   "source": [
    "df_episodes5 = pd.read_csv(\"../results/play/logs/explain/20240505-09.20.02_play_C1_1100000_1_target_net_episodes.csv\", header=None)\n",
    "# add column names\n",
    "df_episodes5.columns =['timestamp', 'name', 'seed', 'total_steps', 'episode', 'episode_steps', 'reward', 'distance', 'velocity', 'game_time', 'game_score', 'flag', 'loss', 'epsilon', 'model_id']\n",
    "#df_episodes5['steps'] = df_episodes5['model_id'].apply(lambda x: int(x.split('_')[-4])/1000 )"
   ],
   "id": "6c8f6ca1ad6b5819",
   "outputs": [],
   "execution_count": 40
  },
  {
   "metadata": {
    "ExecuteTime": {
     "end_time": "2024-05-17T17:47:18.370242Z",
     "start_time": "2024-05-17T17:47:18.360972Z"
    }
   },
   "cell_type": "code",
   "source": [
    "df_episodes6 = pd.read_csv(\"../results/play/logs/explain/20240505-09.47.49_play_P1_900000_1_target_net_episodes.csv\", header=None)\n",
    "# add column names\n",
    "df_episodes6.columns =['timestamp', 'name', 'seed', 'total_steps', 'episode', 'episode_steps', 'reward', 'distance', 'velocity', 'game_time', 'game_score', 'flag', 'loss', 'epsilon', 'model_id']\n",
    "#df_episodes6['steps'] = df_episodes6['model_id'].apply(lambda x: int(x.split('_')[-4])/1000 )"
   ],
   "id": "19c8011d824c02d5",
   "outputs": [],
   "execution_count": 41
  },
  {
   "metadata": {
    "ExecuteTime": {
     "end_time": "2024-05-17T17:47:18.776590Z",
     "start_time": "2024-05-17T17:47:18.767362Z"
    }
   },
   "cell_type": "code",
   "source": [
    "df_episodes7 = pd.read_csv(\"../results/play/logs/explain/20240505-10.14.57_play_P1_compact_1200000_1_target_net_episodes.csv\", header=None)\n",
    "# add column names\n",
    "df_episodes7.columns =['timestamp', 'name', 'seed', 'total_steps', 'episode', 'episode_steps', 'reward', 'distance', 'velocity', 'game_time', 'game_score', 'flag', 'loss', 'epsilon', 'model_id']\n",
    "#df_episodes7['steps'] = df_episodes7['model_id'].apply(lambda x: int(x.split('_')[-4])/1000 )"
   ],
   "id": "dbfafcd4f1bbbe1f",
   "outputs": [],
   "execution_count": 42
  },
  {
   "metadata": {
    "ExecuteTime": {
     "end_time": "2024-05-17T17:47:19.119118Z",
     "start_time": "2024-05-17T17:47:19.110127Z"
    }
   },
   "cell_type": "code",
   "source": [
    "df_episodes8 = pd.read_csv(\"../results/play/logs/explain/20240506-18.32.34_play_B1_2300000_13_target_net_episodes.csv\", header=None)\n",
    "# add column names\n",
    "df_episodes8.columns =['timestamp', 'name', 'seed', 'total_steps', 'episode', 'episode_steps', 'reward', 'distance', 'velocity', 'game_time', 'game_score', 'flag', 'loss', 'epsilon', 'model_id']"
   ],
   "id": "e5481078e68eaf00",
   "outputs": [],
   "execution_count": 43
  },
  {
   "metadata": {
    "ExecuteTime": {
     "end_time": "2024-05-17T17:47:19.469591Z",
     "start_time": "2024-05-17T17:47:19.459551Z"
    }
   },
   "cell_type": "code",
   "source": [
    "df_episodes9 = pd.read_csv(\"../results/play/logs/explain/20240506-18.43.16_play_P1_2500000_13_target_net_episodes.csv\", header=None)\n",
    "# add column names\n",
    "df_episodes9.columns =['timestamp', 'name', 'seed', 'total_steps', 'episode', 'episode_steps', 'reward', 'distance', 'velocity', 'game_time', 'game_score', 'flag', 'loss', 'epsilon', 'model_id']"
   ],
   "id": "f49e6c102cb46491",
   "outputs": [],
   "execution_count": 44
  },
  {
   "metadata": {
    "ExecuteTime": {
     "end_time": "2024-05-17T17:47:19.831572Z",
     "start_time": "2024-05-17T17:47:19.823596Z"
    }
   },
   "cell_type": "code",
   "source": [
    "df_episodes10 = pd.read_csv(\"../results/play/logs/explain/20240507-18.19.20_play_P1_2300000_13_target_net_episodes.csv\", header=None)\n",
    "# add column names\n",
    "df_episodes10.columns =['timestamp', 'name', 'seed', 'total_steps', 'episode', 'episode_steps', 'reward', 'distance', 'velocity', 'game_time', 'game_score', 'flag', 'loss', 'epsilon', 'model_id']"
   ],
   "id": "d6ea1189b28b2850",
   "outputs": [],
   "execution_count": 45
  },
  {
   "metadata": {
    "ExecuteTime": {
     "end_time": "2024-05-17T17:47:20.207943Z",
     "start_time": "2024-05-17T17:47:20.199082Z"
    }
   },
   "cell_type": "code",
   "source": [
    "df_episodes11 = pd.read_csv(\"../results/play/logs/explain/20240507-18.31.09_play_P1_2700000_13_target_net_episodes.csv\", header=None)\n",
    "# add column names\n",
    "df_episodes11.columns =['timestamp', 'name', 'seed', 'total_steps', 'episode', 'episode_steps', 'reward', 'distance', 'velocity', 'game_time', 'game_score', 'flag', 'loss', 'epsilon', 'model_id']"
   ],
   "id": "fb8332f0db4535e7",
   "outputs": [],
   "execution_count": 46
  },
  {
   "metadata": {
    "ExecuteTime": {
     "end_time": "2024-05-17T17:47:20.565799Z",
     "start_time": "2024-05-17T17:47:20.557133Z"
    }
   },
   "cell_type": "code",
   "source": [
    "df_episodes12 = pd.read_csv(\"../results/play/logs/explain/20240511-08.38.34_play_T2_ext_ni_2300000_13_target_net_episodes.csv\", header=None)\n",
    "# add column names\n",
    "df_episodes12.columns =['timestamp', 'name', 'seed', 'total_steps', 'episode', 'episode_steps', 'reward', 'distance', 'velocity', 'game_time', 'game_score', 'flag', 'loss', 'epsilon', 'model_id']"
   ],
   "id": "c38d480d34e32bc7",
   "outputs": [],
   "execution_count": 47
  },
  {
   "metadata": {
    "ExecuteTime": {
     "end_time": "2024-05-17T17:47:20.963892Z",
     "start_time": "2024-05-17T17:47:20.954620Z"
    }
   },
   "cell_type": "code",
   "source": [
    "df_episodes13 = pd.read_csv(\"../results/play/logs/explain/20240511-08.25.54_play_T2_ext_i_2200000_13_target_net_episodes.csv\", header=None)\n",
    "# add column names\n",
    "df_episodes13.columns =['timestamp', 'name', 'seed', 'total_steps', 'episode', 'episode_steps', 'reward', 'distance', 'velocity', 'game_time', 'game_score', 'flag', 'loss', 'epsilon', 'model_id']"
   ],
   "id": "bc4a30cc4a83104a",
   "outputs": [],
   "execution_count": 48
  },
  {
   "metadata": {
    "ExecuteTime": {
     "end_time": "2024-05-17T17:47:21.339016Z",
     "start_time": "2024-05-17T17:47:21.326606Z"
    }
   },
   "cell_type": "code",
   "source": [
    "df_episodes14 = pd.read_csv(\"../results/play/logs/explain/20240512-09.59.31_play_T1_ext_ni_2300000_13_target_net_episodes.csv\", header=None)\n",
    "# add column names\n",
    "df_episodes14.columns =['timestamp', 'name', 'seed', 'total_steps', 'episode', 'episode_steps', 'reward', 'distance', 'velocity', 'game_time', 'game_score', 'flag', 'loss', 'epsilon', 'model_id']"
   ],
   "id": "77f9f09edebc6821",
   "outputs": [],
   "execution_count": 49
  },
  {
   "metadata": {
    "ExecuteTime": {
     "end_time": "2024-05-17T17:47:21.732411Z",
     "start_time": "2024-05-17T17:47:21.723397Z"
    }
   },
   "cell_type": "code",
   "source": [
    "df_episodes15 = pd.read_csv(\"../results/play/logs/explain/20240513-15.26.21_play_P1_ext_ni_3100000_13_target_net_episodes.csv\", header=None)\n",
    "# add column names\n",
    "df_episodes15.columns =['timestamp', 'name', 'seed', 'total_steps', 'episode', 'episode_steps', 'reward', 'distance', 'velocity', 'game_time', 'game_score', 'flag', 'loss', 'epsilon', 'model_id']"
   ],
   "id": "7d6697be4948d877",
   "outputs": [],
   "execution_count": 50
  },
  {
   "metadata": {
    "ExecuteTime": {
     "end_time": "2024-05-17T17:47:22.128687Z",
     "start_time": "2024-05-17T17:47:22.119822Z"
    }
   },
   "cell_type": "code",
   "source": [
    "df_episodes16 = pd.read_csv(\"../results/play/logs/explain/20240514-17.03.09_play_T2_ni_2500000_13_target_net_episodes.csv\", header=None)\n",
    "# add column names\n",
    "df_episodes16.columns =['timestamp', 'name', 'seed', 'total_steps', 'episode', 'episode_steps', 'reward', 'distance', 'velocity', 'game_time', 'game_score', 'flag', 'loss', 'epsilon', 'model_id']"
   ],
   "id": "d5ff2b01c3d66f10",
   "outputs": [],
   "execution_count": 51
  },
  {
   "metadata": {
    "ExecuteTime": {
     "end_time": "2024-05-17T17:47:22.504549Z",
     "start_time": "2024-05-17T17:47:22.494153Z"
    }
   },
   "cell_type": "code",
   "source": [
    "df_episodes17 = pd.read_csv(\"../results/play/logs/explain/20240516-08.01.08_play_T1-ni_3400000_13_target_net_episodes.csv\", header=None)\n",
    "# add column names\n",
    "df_episodes17.columns =['timestamp', 'name', 'seed', 'total_steps', 'episode', 'episode_steps', 'reward', 'distance', 'velocity', 'game_time', 'game_score', 'flag', 'loss', 'epsilon', 'model_id']"
   ],
   "id": "5a25a6169fddb603",
   "outputs": [],
   "execution_count": 52
  },
  {
   "metadata": {
    "ExecuteTime": {
     "end_time": "2024-05-17T17:47:22.885309Z",
     "start_time": "2024-05-17T17:47:22.876122Z"
    }
   },
   "cell_type": "code",
   "source": [
    "df_episodes18 = pd.read_csv(\"../results/play/logs/explain/20240516-19.06.28_play_B1-long_3400000_13_target_net_episodes.csv\", header=None)\n",
    "# add column names\n",
    "df_episodes18.columns =['timestamp', 'name', 'seed', 'total_steps', 'episode', 'episode_steps', 'reward', 'distance', 'velocity', 'game_time', 'game_score', 'flag', 'loss', 'epsilon', 'model_id']"
   ],
   "id": "dc85e857cce352a3",
   "outputs": [],
   "execution_count": 53
  },
  {
   "metadata": {
    "ExecuteTime": {
     "end_time": "2024-05-17T17:47:23.260608Z",
     "start_time": "2024-05-17T17:47:23.251743Z"
    }
   },
   "cell_type": "code",
   "source": [
    "df_episodes19 = pd.read_csv(\"../results/play/logs/explain/20240517-08.38.44_play_B2-long_3400000_13_target_net_episodes.csv\", header=None)\n",
    "# add column names\n",
    "df_episodes19.columns =['timestamp', 'name', 'seed', 'total_steps', 'episode', 'episode_steps', 'reward', 'distance', 'velocity', 'game_time', 'game_score', 'flag', 'loss', 'epsilon', 'model_id']"
   ],
   "id": "f313750688bd14c4",
   "outputs": [],
   "execution_count": 54
  },
  {
   "metadata": {
    "ExecuteTime": {
     "end_time": "2024-05-17T17:47:23.691088Z",
     "start_time": "2024-05-17T17:47:23.682371Z"
    }
   },
   "cell_type": "code",
   "source": [
    "df_episodes20 = pd.read_csv(\"../results/play/logs/explain/20240517-09.02.57_play_T2_ext_ni_2300000_13_target_net_rep_episodes.csv\", header=None)\n",
    "# add column names\n",
    "df_episodes20.columns =['timestamp', 'name', 'seed', 'total_steps', 'episode', 'episode_steps', 'reward', 'distance', 'velocity', 'game_time', 'game_score', 'flag', 'loss', 'epsilon', 'model_id']"
   ],
   "id": "b8d4e148d0be8a61",
   "outputs": [],
   "execution_count": 55
  },
  {
   "metadata": {
    "ExecuteTime": {
     "end_time": "2024-05-17T17:47:24.830944Z",
     "start_time": "2024-05-17T17:47:24.822811Z"
    }
   },
   "cell_type": "code",
   "source": [
    "df_episodes21 = pd.read_csv(\"../results/play/logs/explain/20240517-09.21.10_play_T2_ext_ni_2300000_13_target_net_rep2_episodes.csv\", header=None)\n",
    "# add column names\n",
    "df_episodes21.columns =['timestamp', 'name', 'seed', 'total_steps', 'episode', 'episode_steps', 'reward', 'distance', 'velocity', 'game_time', 'game_score', 'flag', 'loss', 'epsilon', 'model_id']"
   ],
   "id": "3d41ec7738c62c89",
   "outputs": [],
   "execution_count": 56
  },
  {
   "metadata": {
    "ExecuteTime": {
     "end_time": "2024-05-17T10:01:03.944374Z",
     "start_time": "2024-05-17T10:01:03.940211Z"
    }
   },
   "cell_type": "code",
   "source": [
    "df_episodes22 = pd.read_csv(\"../results/play/logs/explain/20240517-11.23.10_play_T1_ext_ni_2300000_13_target_net_rep_episodes.csv\", header=None)\n",
    "# add column names\n",
    "df_episodes22.columns =['timestamp', 'name', 'seed', 'total_steps', 'episode', 'episode_steps', 'reward', 'distance', 'velocity', 'game_time', 'game_score', 'flag', 'loss', 'epsilon', 'model_id']"
   ],
   "id": "9217413240a5ac02",
   "outputs": [],
   "execution_count": 32
  },
  {
   "metadata": {
    "ExecuteTime": {
     "end_time": "2024-05-17T17:47:41.505849Z",
     "start_time": "2024-05-17T17:47:41.496974Z"
    }
   },
   "cell_type": "code",
   "source": "concatenated = pd.concat([df_episodes8, df_episodes2, df_episodes10, df_episodes11, df_episodes12, df_episodes13, df_episodes14, df_episodes15, df_episodes16, df_episodes17, df_episodes18, df_episodes19, df_episodes20, df_episodes21, df_episodes22])",
   "id": "65310fc25f4f455c",
   "outputs": [],
   "execution_count": 57
  },
  {
   "metadata": {
    "ExecuteTime": {
     "end_time": "2024-05-17T17:47:42.815672Z",
     "start_time": "2024-05-17T17:47:42.413399Z"
    }
   },
   "cell_type": "code",
   "source": "sns.boxplot(x =\"reward\", y=\"model_id\", data = concatenated)",
   "id": "6751e1d6c348392f",
   "outputs": [
    {
     "data": {
      "text/plain": [
       "<Axes: xlabel='reward', ylabel='model_id'>"
      ]
     },
     "execution_count": 58,
     "metadata": {},
     "output_type": "execute_result"
    },
    {
     "data": {
      "text/plain": [
       "<Figure size 640x480 with 1 Axes>"
      ],
      "image/png": "[encoded data removed]"
     },
     "metadata": {},
     "output_type": "display_data"
    }
   ],
   "execution_count": 58
  },
  {
   "metadata": {
    "ExecuteTime": {
     "end_time": "2024-05-06T16:21:03.760318Z",
     "start_time": "2024-05-06T16:21:03.363539Z"
    }
   },
   "cell_type": "code",
   "source": [
    "ax = sns.lineplot(x='steps', y='mean', data=concatenated, hue='dataset').set(title='Mean number of wins per model', xlabel=\"x100K steps\", ylabel=\"mean number of wins\")\n",
    "plt.legend(bbox_to_anchor=(1.05, 1), loc=2, borderaxespad=0.)"
   ],
   "id": "681e92091a5cd211",
   "execution_count": 13,
   "outputs": []
  },
  {
   "metadata": {},
   "cell_type": "code",
   "execution_count": 47,
   "source": [
    "ax = sns.boxplot(x='episodes', y='mean', data=concatenated, hue='dataset')\n",
    "#plt.legend(bbox_to_anchor=(1.05, 1), loc=2, borderaxespad=0.)"
   ],
   "id": "3945924e3093a4ad",
   "outputs": []
  },
  {
   "metadata": {
    "ExecuteTime": {
     "end_time": "2024-04-28T08:41:50.009361Z",
     "start_time": "2024-04-28T08:41:49.870128Z"
    }
   },
   "cell_type": "code",
   "source": [
    "fig_reward, ax_flag = plt.subplots(figsize=(6, 6))\n",
    "sns.regplot(x='seed', y='mean', data=df_episodes1_agg, fit_reg=True, ci=None, ax=ax_flag, label='fast decay')\n",
    "sns.regplot(x='seed', y='mean', data=df_episodes2_agg, fit_reg=True, ci=None, ax=ax_flag, label='constrainst-forget')\n",
    "ax_flag.set(ylabel='mean wins', xlabel='seed')\n",
    "ax_flag.legend()"
   ],
   "id": "46bd3da893a912d4",
   "execution_count": 31,
   "outputs": []
  },
  {
   "metadata": {},
   "cell_type": "markdown",
   "source": "And plot the average number of flags per 1000 episodes",
   "id": "3fb548fee4f11edc"
  },
  {
   "metadata": {
    "ExecuteTime": {
     "end_time": "2024-04-28T08:32:39.134994Z",
     "start_time": "2024-04-28T08:32:38.503100Z"
    }
   },
   "cell_type": "code",
   "source": [
    "bins_flags1 = range(0, 100, 10)\n",
    "df_agg_flags1 = df_episodes1.groupby(pd.cut(df_episodes1['episode'], bins=bins_flags1), observed=True)['flag'].agg(['mean', 'std', 'size'])\n",
    "bins_flags1 = [*bins_flags1]\n",
    "bins_flags1.pop(-1)\n",
    "df_agg_flags1[\"bin\"] = bins_flags1\n",
    "df_agg_flags1.head(5)"
   ],
   "id": "64646b2e460672d6",
   "execution_count": 23,
   "outputs": []
  },
  {
   "metadata": {},
   "cell_type": "code",
   "source": [
    "bins_flags2 = range(0, 100, 10)\n",
    "df_agg_flags2 = df_episodes2.groupby(pd.cut(df_episodes2['episode'], bins=bins_flags2), observed=True)['flag'].agg(['mean', 'std', 'size'])\n",
    "bins_flags2 = [*bins_flags2]\n",
    "bins_flags2.pop(-1)\n",
    "df_agg_flags2[\"bin\"] = bins_flags2\n",
    "df_agg_flags2.head(5)"
   ],
   "id": "84f645657018236c",
   "execution_count": null,
   "outputs": []
  },
  {
   "metadata": {},
   "cell_type": "code",
   "source": [
    "bins_flags3 = range(0, 100, 10)\n",
    "df_agg_flags3 = df_episodes3.groupby(pd.cut(df_episodes3['episode'], bins=bins_flags3), observed=True)['flag'].agg(['mean', 'std', 'size'])\n",
    "bins_flags3 = [*bins_flags3]\n",
    "bins_flags3.pop(-1)\n",
    "df_agg_flags3[\"bin\"] = bins_flags3\n",
    "df_agg_flags3.head(5)"
   ],
   "id": "9b7d10d10eb599d6",
   "execution_count": null,
   "outputs": []
  },
  {
   "metadata": {},
   "cell_type": "code",
   "source": [
    "bins_flags4 = range(0, 100, 10)\n",
    "df_agg_flags4 = df_episodes4.groupby(pd.cut(df_episodes4['episode'], bins=bins_flags4), observed=True)['flag'].agg(['mean', 'std', 'size'])\n",
    "bins_flags4 = [*bins_flags4]\n",
    "bins_flags4.pop(-1)\n",
    "df_agg_flags4[\"bin\"] = bins_flags4\n",
    "df_agg_flags4.head(5)"
   ],
   "id": "f9e1ee7a4eafa683",
   "execution_count": null,
   "outputs": []
  },
  {
   "metadata": {},
   "cell_type": "code",
   "source": "concatenated_flags = pd.concat([df_agg_flags1.assign(dataset='baseline fast decay'), df_agg_flags2.assign(dataset='constraints-forget'), df_agg_flags3.assign(dataset='target-active'), df_agg_flags4.assign(dataset='target-reactive')])",
   "id": "c7e06010daf741af",
   "execution_count": null,
   "outputs": []
  },
  {
   "metadata": {},
   "cell_type": "code",
   "source": [
    "ax = sns.lineplot(x='bin', y='mean', data=concatenated_flags, hue='dataset').set(title='Mean number of wins per 10 episodes', xlabel=\"episode\", ylabel=\"mean number of wins\")\n",
    "plt.legend(bbox_to_anchor=(1.05, 1), loc=2, borderaxespad=0.)"
   ],
   "id": "c67e0d55be7d465e",
   "execution_count": null,
   "outputs": []
  },
  {
   "metadata": {},
   "cell_type": "markdown",
   "source": "Show epsilon decay over time for both versions to determine if the high-epsilon interval is big enough",
   "id": "aa530d4db5b42264"
  },
  {
   "metadata": {},
   "cell_type": "code",
   "source": "sns.lineplot(x='episode', y='epsilon', data=concatenated, hue='dataset')",
   "id": "6d7601e441a3ac",
   "execution_count": null,
   "outputs": []
  },
  {
   "metadata": {},
   "cell_type": "code",
   "source": "",
   "id": "4dee5c8bf9a88aa3",
   "execution_count": null,
   "outputs": []
  }
 ],
 "metadata": {
  "kernelspec": {
   "display_name": "Python 3",
   "language": "python",
   "name": "python3"
  },
  "language_info": {
   "codemirror_mode": {
    "name": "ipython",
    "version": 2
   },
   "file_extension": ".py",
   "mimetype": "text/x-python",
   "name": "python",
   "nbconvert_exporter": "python",
   "pygments_lexer": "ipython2",
   "version": "2.7.6"
  }
 },
 "nbformat": 4,
 "nbformat_minor": 5
}
